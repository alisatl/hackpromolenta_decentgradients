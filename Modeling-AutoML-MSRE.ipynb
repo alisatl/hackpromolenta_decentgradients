{
 "cells": [
  {
   "cell_type": "code",
   "execution_count": null,
   "id": "bf13315d",
   "metadata": {},
   "outputs": [],
   "source": [
    "! ls"
   ]
  },
  {
   "cell_type": "code",
   "execution_count": 1,
   "id": "790a8c98",
   "metadata": {},
   "outputs": [],
   "source": [
    "import json\n",
    "import numpy as np"
   ]
  },
  {
   "cell_type": "code",
   "execution_count": null,
   "id": "f78da66a",
   "metadata": {},
   "outputs": [],
   "source": [
    "import os\n",
    "\n",
    "import joblib\n",
    "import pandas as pd\n",
    "from sklearn.compose import ColumnTransformer\n",
    "from sklearn.metrics import accuracy_score, mean_absolute_error\n",
    "from sklearn.model_selection import train_test_split\n",
    "from sklearn.model_selection import GridSearchCV\n",
    "from sklearn.pipeline import Pipeline\n",
    "from sklearn.preprocessing import OneHotEncoder\n",
    "\n",
    "# regression models\n",
    "from sklearn.linear_model import LinearRegression\n",
    "from lightgbm import LGBMRegressor\n",
    "from sklearn.linear_model import Lasso\n",
    "from sklearn.linear_model import Ridge\n",
    "from sklearn.linear_model import ElasticNet\n",
    "from sklearn.neighbors import KNeighborsRegressor\n",
    "from sklearn.svm import SVR\n",
    "from sklearn.ensemble import RandomForestRegressor\n",
    "from sklearn.ensemble import GradientBoostingRegressor\n",
    "from sklearn.ensemble import AdaBoostRegressor\n",
    "from sklearn.tree import DecisionTreeRegressor\n",
    "from xgboost import XGBRegressor\n"
   ]
  },
  {
   "cell_type": "code",
   "execution_count": null,
   "id": "b0423ee0",
   "metadata": {},
   "outputs": [],
   "source": [
    "from catboost import Pool, CatBoostRegressor"
   ]
  },
  {
   "cell_type": "code",
   "execution_count": null,
   "id": "fcadd289",
   "metadata": {},
   "outputs": [],
   "source": [
    "def load_dataset(path, is_test=False, y_col='UpLift'):\n",
    "    df = pd.read_csv(path)\n",
    "    if is_test: \n",
    "        return df\n",
    "    return df[df.columns[:-1]], df[y_col]\n",
    "\n",
    "\n",
    "def build_model(mdl):\n",
    "    model = Pipeline([('onehot', OneHotEncoder(handle_unknown='ignore')), \n",
    "                      (\"model\", mdl)])\n",
    "    return model\n",
    "\n",
    "\n",
    "def tune_model():\n",
    "    X_train, y_train = load_dataset(X_TRAIN, Y_TRAIN)\n",
    "    model = build_model()\n",
    "\n",
    "    gs = GridSearchCV(model, GRID_PARAMS, scoring=\"accuracy\", n_jobs=-1, cv=5)\n",
    "    gs.fit(X_train, y_train)\n",
    "\n",
    "    print(\"Best Hyperparameters: {}\".format(gs.best_params_))\n",
    "    print(\"Best score: {:.2f}%\".format(100 * gs.best_score_))\n",
    "\n",
    "\n",
    "def train_model(print_params=False):\n",
    "    X_train, y_train = load_dataset(PATH)\n",
    "\n",
    "    model = build_model()\n",
    "    model.set_params(**PARAMS)\n",
    "\n",
    "    if print_params:\n",
    "        print(model.get_params())\n",
    "\n",
    "    model.fit(X_train, y_train)\n",
    "\n",
    "    joblib.dump(model, MODEL_NAME)\n",
    "\n",
    "\n",
    "def test_model():\n",
    "    X_test, y_test = load_dataset(X_TEST, Y_TEST)\n",
    "    model = joblib.load(MODEL_NAME)\n",
    "\n",
    "    y_pred = model.predict(X_test)\n",
    "\n",
    "    print(\"MAE on the test set: {:.2f}%\".format(\n",
    "        100 * mean_absolute_error(y_test, y_pred)))"
   ]
  },
  {
   "cell_type": "code",
   "execution_count": 2,
   "id": "64916441",
   "metadata": {},
   "outputs": [],
   "source": [
    "# submission prep \n",
    "\n",
    "def submission_prep(y_pred, offer_id_map_path, output_id):\n",
    "    output_path = f'./data/submission{np.random.randint(1000, 2000)}.csv'   \n",
    "    if  output_id: \n",
    "        output_path = f'./data/submission{output_id}.csv'\n",
    "    Offer_IDs_test = json.load(open(offer_id_map_path, 'r'))\n",
    "    sample_submission = pd.read_csv('./lentahack/20210521_sample_submission.csv')\n",
    "    subm_offer_id_order = list(sample_submission['Offer_ID'])\n",
    "\n",
    "    # check that we have correct Offer ID\n",
    "    #set(subm_offer_id_order).difference(Offer_IDs_test)\n",
    "\n",
    "    order_map = {k: v for v, k in enumerate(subm_offer_id_order)}\n",
    "\n",
    "    submission = [None]*len(order_map)\n",
    "    for offer_id, pred in zip(Offer_IDs_test, y_pred): \n",
    "        submission[order_map[offer_id]] = [offer_id, pred]\n",
    "\n",
    "    print('Printing to', output_path)     \n",
    "    with open(output_path, 'w') as fout: \n",
    "        print('Offer_ID,UpLift', file=fout)\n",
    "        for o_id, y in submission: \n",
    "            print(f'{o_id},{y}', file=fout)"
   ]
  },
  {
   "cell_type": "code",
   "execution_count": null,
   "id": "e44beccc",
   "metadata": {},
   "outputs": [],
   "source": [
    "PATH = 'train_as_is.csv'\n",
    "PATH_TEST = 'test_as_is.csv'\n",
    "X_TRAIN, Y_TRAIN = load_dataset(PATH)\n",
    "MODEL = LGBMRegressor()\n",
    "GRID_PARAMS = _\n",
    "PARAMS = _\n",
    "MODEL_NAME = 'model_1'"
   ]
  },
  {
   "cell_type": "code",
   "execution_count": null,
   "id": "fdadc157",
   "metadata": {},
   "outputs": [],
   "source": [
    "X_tr, y_tr = load_dataset(PATH)"
   ]
  },
  {
   "cell_type": "code",
   "execution_count": null,
   "id": "8e993fd4",
   "metadata": {},
   "outputs": [],
   "source": [
    "X_test = pd.read_csv('test_as_is.csv')"
   ]
  },
  {
   "cell_type": "code",
   "execution_count": null,
   "id": "b249afb0",
   "metadata": {},
   "outputs": [],
   "source": [
    "model = Pipeline([('onehot', OneHotEncoder(handle_unknown='ignore')), \n",
    "                  (\"model\", MODEL) \n",
    "                  ])"
   ]
  },
  {
   "cell_type": "code",
   "execution_count": null,
   "id": "c773eb1e",
   "metadata": {},
   "outputs": [],
   "source": [
    "model.fit(X_tr, y_tr)"
   ]
  },
  {
   "cell_type": "code",
   "execution_count": null,
   "id": "54cf0e13",
   "metadata": {},
   "outputs": [],
   "source": [
    "# checking right on the Training set \n",
    "y_pred =  model.predict(X_tr)\n",
    "mean_absolute_error(y_tr, y_pred)"
   ]
  },
  {
   "cell_type": "code",
   "execution_count": null,
   "id": "a78c1fb4",
   "metadata": {},
   "outputs": [],
   "source": [
    "y_pred = model.predict(X_test)"
   ]
  },
  {
   "cell_type": "code",
   "execution_count": null,
   "id": "a47e0b33",
   "metadata": {},
   "outputs": [],
   "source": [
    "len(y_pred), y_pred[:10]"
   ]
  },
  {
   "cell_type": "markdown",
   "id": "1ebf021f",
   "metadata": {},
   "source": [
    "## 1. Feat Set: Category Counts"
   ]
  },
  {
   "cell_type": "code",
   "execution_count": null,
   "id": "0170e38f",
   "metadata": {},
   "outputs": [],
   "source": [
    "!ls data"
   ]
  },
  {
   "cell_type": "code",
   "execution_count": null,
   "id": "973ca3ab",
   "metadata": {},
   "outputs": [],
   "source": [
    "PATH_TR = './data/train_category_ct.csv'\n",
    "PATH_TEST = './data/test_category_ct.csv'\n",
    "X_all = pd.read_csv(PATH_TR)\n",
    "X_tr_orig, y_tr_orig = load_dataset(PATH_TR)\n",
    "X_test = load_dataset(PATH_TEST, True)\n",
    "\n",
    "X_train, X_val, y_train, y_val = train_test_split(X_tr_orig, y_tr_orig, test_size=0.2)\n",
    "\n",
    "MODEL = LGBMRegressor()\n",
    "GRID_PARAMS = _\n",
    "PARAMS = _\n",
    "MODEL_NAME = 'model_LGBMRegressor'"
   ]
  },
  {
   "cell_type": "markdown",
   "id": "679ab761",
   "metadata": {},
   "source": [
    "#### LGBMRegressor"
   ]
  },
  {
   "cell_type": "code",
   "execution_count": null,
   "id": "57014b0e",
   "metadata": {},
   "outputs": [],
   "source": [
    "model = build_model(LGBMRegressor())"
   ]
  },
  {
   "cell_type": "code",
   "execution_count": null,
   "id": "10ef8a6c",
   "metadata": {},
   "outputs": [],
   "source": [
    "model.fit(X_train, y_train)\n",
    "y_pred_val = model.predict(X_val)\n",
    "y_pred_tr = model.predict(X_train)\n",
    "mean_absolute_error(y_val, y_pred_val), mean_absolute_error(y_train, y_pred_tr) "
   ]
  },
  {
   "cell_type": "code",
   "execution_count": null,
   "id": "c2f21131",
   "metadata": {},
   "outputs": [],
   "source": [
    "model.fit(X_tr_orig, y_tr_orig)\n",
    "y_pred = model.predict(X_test)\n",
    "\n",
    "submission_prep(y_pred, './data/test_Offer_ID_map_category_ct.json', 1)"
   ]
  },
  {
   "cell_type": "code",
   "execution_count": null,
   "id": "b125f95e",
   "metadata": {},
   "outputs": [],
   "source": [
    "model1 = build_model(GradientBoostingRegressor()) \n",
    "model2 = build_model(AdaBoostRegressor()) \n",
    "model3 = build_model(XGBRegressor()) \n",
    "model4 = build_model(Lasso()) "
   ]
  },
  {
   "cell_type": "code",
   "execution_count": null,
   "id": "7d3ee2dd",
   "metadata": {},
   "outputs": [],
   "source": [
    "models = [model1, model2, model3, model4]"
   ]
  },
  {
   "cell_type": "code",
   "execution_count": null,
   "id": "92b1a174",
   "metadata": {},
   "outputs": [],
   "source": [
    "model1['model']"
   ]
  },
  {
   "cell_type": "code",
   "execution_count": null,
   "id": "6e541fe4",
   "metadata": {},
   "outputs": [],
   "source": [
    "# validation \n",
    "for m in models: \n",
    "    m.fit(X_train, y_train)\n",
    "    y_pred_val = m.predict(X_val)\n",
    "    y_pred_tr = m.predict(X_train)\n",
    "    print(m[\"model\"])\n",
    "    print(mean_absolute_error(y_val, y_pred_val), mean_absolute_error(y_train, y_pred_tr)) "
   ]
  },
  {
   "cell_type": "code",
   "execution_count": null,
   "id": "85e63848",
   "metadata": {},
   "outputs": [],
   "source": []
  },
  {
   "cell_type": "code",
   "execution_count": null,
   "id": "78d6ee37",
   "metadata": {},
   "outputs": [],
   "source": [
    "CatBoostRegressor?"
   ]
  },
  {
   "cell_type": "code",
   "execution_count": null,
   "id": "866efeac",
   "metadata": {},
   "outputs": [],
   "source": [
    "model5 = build_model(CatBoostRegressor())"
   ]
  },
  {
   "cell_type": "code",
   "execution_count": null,
   "id": "6e760216",
   "metadata": {},
   "outputs": [],
   "source": [
    "# 3.811659175054392 2.3031921382709273\n",
    "for m in [model5]:\n",
    "    m.fit(X_train, y_train)\n",
    "    y_pred_val = m.predict(X_val)\n",
    "    y_pred_tr = m.predict(X_train)\n",
    "    print(m[\"model\"])\n",
    "    print(mean_absolute_error(y_val, y_pred_val), mean_absolute_error(y_train, y_pred_tr)) "
   ]
  },
  {
   "cell_type": "code",
   "execution_count": null,
   "id": "1c3a3231",
   "metadata": {},
   "outputs": [],
   "source": [
    "model5.fit(X_tr_orig, y_tr_orig)\n",
    "y_pred = model5.predict(X_test)\n",
    "\n",
    "submission_prep(y_pred, './data/test_Offer_ID_map_category_ct.json', 2)"
   ]
  },
  {
   "cell_type": "markdown",
   "id": "a601593f",
   "metadata": {},
   "source": [
    "## AzureML"
   ]
  },
  {
   "cell_type": "code",
   "execution_count": null,
   "id": "edfe2bde",
   "metadata": {},
   "outputs": [],
   "source": [
    "!pip install --upgrade azureml-core azureml-sdk azureml-train-automl azureml-accel-models azureml-widgets azureml-opendatasets azureml-cli-common azureml-mlflow azureml-contrib-services\n",
    "!pip install --upgrade nimbusml"
   ]
  },
  {
   "cell_type": "code",
   "execution_count": 3,
   "id": "963d8d4d",
   "metadata": {},
   "outputs": [],
   "source": [
    "from azureml.core.workspace import Workspace"
   ]
  },
  {
   "cell_type": "code",
   "execution_count": 2,
   "id": "4f479fe3",
   "metadata": {},
   "outputs": [
    {
     "name": "stdout",
     "output_type": "stream",
     "text": [
      "./AzureML/configuration.yml\r\n"
     ]
    }
   ],
   "source": [
    "!ls ./AzureML/configuration.yml"
   ]
  },
  {
   "cell_type": "code",
   "execution_count": 4,
   "id": "7212cf2b",
   "metadata": {},
   "outputs": [
    {
     "name": "stdout",
     "output_type": "stream",
     "text": [
      "Deploying StorageAccount with name hackpromstoragee88382939.\n",
      "Deploying KeyVault with name hackpromkeyvault6e86ad35.\n",
      "Deploying AppInsights with name hackprominsightse478de9f.\n",
      "Deployed AppInsights with name hackprominsightse478de9f. Took 10.55 seconds.\n",
      "Deployed KeyVault with name hackpromkeyvault6e86ad35. Took 22.88 seconds.\n",
      "Deployed StorageAccount with name hackpromstoragee88382939. Took 29.68 seconds.\n",
      "Deploying Workspace with name hackpromoworkspace8.\n",
      "Deployed Workspace with name hackpromoworkspace8. Took 72.52 seconds.\n"
     ]
    }
   ],
   "source": [
    "ws = Workspace.create(name='hackpromoworkspace8',\n",
    "               subscription_id='<SUBSCRIPTION-ID>',\n",
    "               resource_group='HackPromoLenta',\n",
    "               create_resource_group=False,\n",
    "               location='eastus2'\n",
    "               )"
   ]
  },
  {
   "cell_type": "code",
   "execution_count": 16,
   "id": "6731a658",
   "metadata": {},
   "outputs": [],
   "source": [
    "import logging\n",
    "\n",
    "automl_settings = {\n",
    "    \"iteration_timeout_minutes\": 10,\n",
    "    \"experiment_timeout_hours\": 1,\n",
    "    \"enable_early_stopping\": True,\n",
    "    \"primary_metric\": 'normalized_root_mean_squared_error',\n",
    "    \"featurization\": 'auto',\n",
    "    \"verbosity\": logging.INFO,\n",
    "    \"n_cross_validations\": 5\n",
    "}"
   ]
  },
  {
   "cell_type": "code",
   "execution_count": 20,
   "id": "63377bb3",
   "metadata": {},
   "outputs": [
    {
     "name": "stdout",
     "output_type": "stream",
     "text": [
      "offers_df_agg.csv  submission4.csv\t\t       train_category_ct.csv\r\n",
      "submission1.csv    test_Offer_ID_map_category_ct.json  train_other_ofrs.csv\r\n",
      "submission2.csv    test_category_ct.csv\r\n",
      "submission3.csv    test_other_ofrs.csv\r\n"
     ]
    }
   ],
   "source": [
    "!ls data"
   ]
  },
  {
   "cell_type": "code",
   "execution_count": 6,
   "id": "705f8e14",
   "metadata": {},
   "outputs": [],
   "source": [
    "import pandas as pd\n",
    "PATH_TR = './data/train_category_ct.csv'\n",
    "PATH_TEST = './data/test_category_ct.csv'\n",
    "X_all = pd.read_csv(PATH_TR)\n",
    "X_test = pd.read_csv(PATH_TEST)"
   ]
  },
  {
   "cell_type": "code",
   "execution_count": 21,
   "id": "5d6e6577",
   "metadata": {},
   "outputs": [],
   "source": [
    "PATH_TR = './data/train_other_ofrs.csv'\n",
    "PATH_TEST = './data/test_other_ofrs.csv'\n",
    "X_all = pd.read_csv(PATH_TR)\n",
    "X_test = pd.read_csv(PATH_TEST)"
   ]
  },
  {
   "cell_type": "code",
   "execution_count": 17,
   "id": "65f6bfc3",
   "metadata": {},
   "outputs": [],
   "source": [
    "from azureml.train.automl import AutoMLConfig\n",
    "from azureml.core.experiment import Experiment\n",
    "\n",
    "automl_config = AutoMLConfig(task='regression',\n",
    "                             debug_log='automated_ml_errors.log',\n",
    "                             training_data=X_all,\n",
    "                             label_column_name=\"UpLift\",\n",
    "                             **automl_settings)"
   ]
  },
  {
   "cell_type": "code",
   "execution_count": 18,
   "id": "5b5fbab0",
   "metadata": {
    "scrolled": true
   },
   "outputs": [
    {
     "name": "stdout",
     "output_type": "stream",
     "text": [
      "No run_configuration provided, running on local with default configuration\n",
      "Running in the active local environment.\n"
     ]
    },
    {
     "data": {
      "text/html": [
       "<table style=\"width:100%\"><tr><th>Experiment</th><th>Id</th><th>Type</th><th>Status</th><th>Details Page</th><th>Docs Page</th></tr><tr><td>uplift-cat-feats-MSRE-automl-1hr</td><td>AutoML_1ec40eca-7359-42e2-9ed2-bda3a6463a97</td><td>automl</td><td>Preparing</td><td><a href=\"https://ml.azure.com/runs/AutoML_1ec40eca-7359-42e2-9ed2-bda3a6463a97?wsid=/subscriptions/5e81e9b4-742a-4c1e-bf1a-93f66c614eaa/resourcegroups/HackPromoLenta/workspaces/hackpromoworkspace8&amp;tid=2121099d-dc99-451b-bca7-f5da52f6f119\" target=\"_blank\" rel=\"noopener\">Link to Azure Machine Learning studio</a></td><td><a href=\"https://docs.microsoft.com/en-us/python/api/overview/azure/ml/intro?view=azure-ml-py\" target=\"_blank\" rel=\"noopener\">Link to Documentation</a></td></tr></table>"
      ],
      "text/plain": [
       "<IPython.core.display.HTML object>"
      ]
     },
     "metadata": {},
     "output_type": "display_data"
    },
    {
     "name": "stdout",
     "output_type": "stream",
     "text": [
      "Current status: DatasetEvaluation. Gathering dataset statistics.\n",
      "Current status: FeaturesGeneration. Generating features for the dataset.\n",
      "Current status: DatasetFeaturization. Beginning to fit featurizers and featurize the dataset.\n",
      "Current status: DatasetFeaturizationCompleted. Completed fit featurizers and featurizing the dataset.\n",
      "Current status: DatasetCrossValidationSplit. Generating individually featurized CV splits.\n",
      "\n",
      "****************************************************************************************************\n",
      "DATA GUARDRAILS: \n",
      "\n",
      "TYPE:         Missing feature values imputation\n",
      "STATUS:       PASSED\n",
      "DESCRIPTION:  No feature missing values were detected in the training data.\n",
      "              Learn more about missing value imputation: https://aka.ms/AutomatedMLFeaturization\n",
      "\n",
      "****************************************************************************************************\n",
      "\n",
      "TYPE:         High cardinality feature detection\n",
      "STATUS:       PASSED\n",
      "DESCRIPTION:  Your inputs were analyzed, and no high cardinality features were detected.\n",
      "              Learn more about high cardinality feature handling: https://aka.ms/AutomatedMLFeaturization\n",
      "\n",
      "****************************************************************************************************\n",
      "Current status: ModelSelection. Beginning model selection.\n",
      "\n",
      "****************************************************************************************************\n",
      "ITERATION: The iteration being evaluated.\n",
      "PIPELINE: A summary description of the pipeline being evaluated.\n",
      "DURATION: Time taken for the current iteration.\n",
      "METRIC: The result of computing score on the fitted pipeline.\n",
      "BEST: The best observed score thus far.\n",
      "****************************************************************************************************\n",
      "\n",
      " ITERATION   PIPELINE                                       DURATION      METRIC      BEST\n",
      "         0   MaxAbsScaler LightGBM                          0:00:20       0.1715    0.1715\n",
      "         1   MaxAbsScaler XGBoostRegressor                  0:00:20       0.1654    0.1654\n",
      "         2   MaxAbsScaler ElasticNet                        0:00:25       0.2292    0.1654\n",
      "         3   StandardScalerWrapper ElasticNet               0:00:31       0.3143    0.1654\n",
      "         4   MaxAbsScaler ElasticNet                        0:00:24       0.2334    0.1654\n",
      "         5   MaxAbsScaler ElasticNet                        0:00:24       0.2813    0.1654\n",
      "         6   MaxAbsScaler ExtremeRandomTrees                0:00:20       0.1795    0.1654\n",
      "         7   StandardScalerWrapper ElasticNet               0:00:21       0.2302    0.1654\n",
      "         8   StandardScalerWrapper ElasticNet               0:00:25       0.2915    0.1654\n",
      "         9   StandardScalerWrapper ElasticNet               0:00:24       0.1744    0.1654\n",
      "        10   MaxAbsScaler RandomForest                      0:00:19       0.1774    0.1654\n",
      "        11   StandardScalerWrapper ElasticNet               0:00:24       0.1786    0.1654\n",
      "        12   StandardScalerWrapper ElasticNet               0:00:22       0.1824    0.1654\n",
      "        13   StandardScalerWrapper ElasticNet               0:00:21       0.2302    0.1654\n",
      "        14   StandardScalerWrapper ElasticNet               0:00:20       0.2151    0.1654\n",
      "        15   StandardScalerWrapper ElasticNet               0:00:21       0.2290    0.1654\n",
      "        16   StandardScalerWrapper DecisionTree             0:00:18       0.1787    0.1654\n",
      "        17   StandardScalerWrapper ElasticNet               0:00:21       0.2304    0.1654\n",
      "        18   MaxAbsScaler DecisionTree                      0:00:19       0.1829    0.1654\n",
      "        19   StandardScalerWrapper ExtremeRandomTrees       0:00:19       0.1703    0.1654\n",
      "        20   MaxAbsScaler GradientBoosting                  0:00:27       0.1675    0.1654\n",
      "        21   StandardScalerWrapper LightGBM                 0:00:20       0.1734    0.1654\n",
      "        22   StandardScalerWrapper ExtremeRandomTrees       0:00:30       0.1780    0.1654\n",
      "        23   MaxAbsScaler ExtremeRandomTrees                0:00:25       0.1711    0.1654\n",
      "        24   MaxAbsScaler ExtremeRandomTrees                0:00:25       0.1657    0.1654\n",
      "        25   StandardScalerWrapper XGBoostRegressor         0:00:21       0.1720    0.1654\n",
      "        26   MaxAbsScaler ExtremeRandomTrees                0:00:20       0.1753    0.1654\n",
      "        27   MaxAbsScaler ExtremeRandomTrees                0:00:23       0.1826    0.1654\n",
      "        28   MaxAbsScaler ExtremeRandomTrees                0:00:32       0.1666    0.1654\n",
      "        29   StandardScalerWrapper ExtremeRandomTrees       0:00:21       0.1795    0.1654\n",
      "        30   VotingEnsemble                                 0:01:12       0.1607    0.1607\n",
      "        31   StackEnsemble                                  0:01:05       0.1628    0.1607\n",
      "Stopping criteria reached at iteration 32. Ending experiment.\n",
      "****************************************************************************************************\n",
      "Current status: BestRunExplainModel. Best run model explanations started\n",
      "Current status: ModelExplanationDataSetSetup. Model explanations data setup completed\n",
      "Current status: PickSurrogateModel. Choosing LightGBM as the surrogate model for explanations\n",
      "Current status: EngineeredFeatureExplanations. Computation of engineered features started\n"
     ]
    },
    {
     "name": "stderr",
     "output_type": "stream",
     "text": [
      "INFO:interpret_community.common.explanation_utils:Using default datastore for uploads\n"
     ]
    },
    {
     "name": "stdout",
     "output_type": "stream",
     "text": [
      "\r",
      "Current status: EngineeredFeatureExplanations. Computation of engineered features completed\n",
      "\r",
      "Current status: RawFeaturesExplanations. Computation of raw features started\n"
     ]
    },
    {
     "name": "stderr",
     "output_type": "stream",
     "text": [
      "WARNING:azureml.ArtifactUploader:Cannot serialize JSON possibly due to timestamp, retrying\n",
      "WARNING:azureml.ArtifactUploader:Cannot serialize JSON possibly due to timestamp, retrying\n"
     ]
    },
    {
     "name": "stdout",
     "output_type": "stream",
     "text": [
      "Current status: RawFeaturesExplanations. Computation of raw features completed\n",
      "Current status: BestRunExplainModel. Best run model explanations completed\n",
      "****************************************************************************************************\n"
     ]
    }
   ],
   "source": [
    "experiment = Experiment(ws, \"uplift-cat-feats-MSRE-automl-1hr\")\n",
    "local_run = experiment.submit(automl_config, show_output=True)"
   ]
  },
  {
   "cell_type": "code",
   "execution_count": 10,
   "id": "c04fdb7c",
   "metadata": {},
   "outputs": [
    {
     "name": "stdout",
     "output_type": "stream",
     "text": [
      "AutoMLConfig\t Experiment\t PATH_TEST\t PATH_TR\t Workspace\t X_all\t automl_config\t automl_settings\t experiment\t \n",
      "local_run\t logging\t nimbusml\t os\t pd\t ws\t \n"
     ]
    }
   ],
   "source": [
    "%who"
   ]
  },
  {
   "cell_type": "code",
   "execution_count": 11,
   "id": "0522d689",
   "metadata": {},
   "outputs": [
    {
     "data": {
      "application/vnd.jupyter.widget-view+json": {
       "model_id": "396a4d85a64e45daa6361b08a237e7ea",
       "version_major": 2,
       "version_minor": 0
      },
      "text/plain": [
       "_AutoMLWidget(widget_settings={'childWidgetDisplay': 'popup', 'send_telemetry': False, 'log_level': 'INFO', 's…"
      ]
     },
     "metadata": {},
     "output_type": "display_data"
    },
    {
     "data": {
      "application/aml.mini.widget.v1": "{\"status\": \"Completed\", \"workbench_run_details_uri\": \"https://ml.azure.com/runs/AutoML_e49b850c-8443-43a5-91fc-87cbd9e30a71?wsid=/subscriptions/5e81e9b4-742a-4c1e-bf1a-93f66c614eaa/resourcegroups/HackPromoLenta/workspaces/hackpromoworkspace7&tid=2121099d-dc99-451b-bca7-f5da52f6f119\", \"run_id\": \"AutoML_e49b850c-8443-43a5-91fc-87cbd9e30a71\", \"run_properties\": {\"run_id\": \"AutoML_e49b850c-8443-43a5-91fc-87cbd9e30a71\", \"created_utc\": \"2021-06-06T02:09:53.755587Z\", \"properties\": {\"num_iterations\": \"1000\", \"training_type\": \"TrainFull\", \"acquisition_function\": \"EI\", \"primary_metric\": \"normalized_mean_absolute_error\", \"train_split\": \"0\", \"acquisition_parameter\": \"0\", \"num_cross_validation\": \"5\", \"target\": \"local\", \"AMLSettingsJsonString\": \"{\\\"path\\\":null,\\\"name\\\":\\\"uplift-cat-feats-automl\\\",\\\"subscription_id\\\":\\\"5e81e9b4-742a-4c1e-bf1a-93f66c614eaa\\\",\\\"resource_group\\\":\\\"HackPromoLenta\\\",\\\"workspace_name\\\":\\\"hackpromoworkspace7\\\",\\\"region\\\":\\\"eastus2\\\",\\\"compute_target\\\":\\\"local\\\",\\\"spark_service\\\":null,\\\"azure_service\\\":\\\"remote\\\",\\\"many_models\\\":false,\\\"pipeline_fetch_max_batch_size\\\":1,\\\"enable_batch_run\\\":false,\\\"enable_run_restructure\\\":false,\\\"start_auxiliary_runs_before_parent_complete\\\":false,\\\"enable_code_generation\\\":false,\\\"iterations\\\":1000,\\\"primary_metric\\\":\\\"normalized_mean_absolute_error\\\",\\\"task_type\\\":\\\"regression\\\",\\\"data_script\\\":null,\\\"test_size\\\":0.0,\\\"validation_size\\\":0.0,\\\"n_cross_validations\\\":5,\\\"y_min\\\":null,\\\"y_max\\\":null,\\\"num_classes\\\":null,\\\"featurization\\\":\\\"auto\\\",\\\"_ignore_package_version_incompatibilities\\\":false,\\\"is_timeseries\\\":false,\\\"max_cores_per_iteration\\\":1,\\\"max_concurrent_iterations\\\":1,\\\"iteration_timeout_minutes\\\":10,\\\"mem_in_mb\\\":null,\\\"enforce_time_on_windows\\\":false,\\\"experiment_timeout_minutes\\\":18,\\\"experiment_exit_score\\\":null,\\\"whitelist_models\\\":null,\\\"blacklist_algos\\\":[\\\"TensorFlowDNN\\\",\\\"TensorFlowLinearRegressor\\\"],\\\"supported_models\\\":[\\\"DecisionTree\\\",\\\"ElasticNet\\\",\\\"FastLinearRegressor\\\",\\\"RandomForest\\\",\\\"LassoLars\\\",\\\"XGBoostRegressor\\\",\\\"GradientBoosting\\\",\\\"LightGBM\\\",\\\"TensorFlowLinearRegressor\\\",\\\"OnlineGradientDescentRegressor\\\",\\\"SGD\\\",\\\"ExtremeRandomTrees\\\",\\\"KNN\\\",\\\"TensorFlowDNN\\\"],\\\"private_models\\\":[],\\\"auto_blacklist\\\":true,\\\"blacklist_samples_reached\\\":false,\\\"exclude_nan_labels\\\":true,\\\"verbosity\\\":20,\\\"_debug_log\\\":\\\"automated_ml_errors.log\\\",\\\"show_warnings\\\":false,\\\"model_explainability\\\":true,\\\"service_url\\\":null,\\\"sdk_url\\\":null,\\\"sdk_packages\\\":null,\\\"enable_onnx_compatible_models\\\":false,\\\"enable_split_onnx_featurizer_estimator_models\\\":false,\\\"vm_type\\\":null,\\\"telemetry_verbosity\\\":20,\\\"send_telemetry\\\":true,\\\"enable_dnn\\\":false,\\\"scenario\\\":\\\"SDK-1.13.0\\\",\\\"environment_label\\\":null,\\\"save_mlflow\\\":false,\\\"force_text_dnn\\\":false,\\\"enable_feature_sweeping\\\":true,\\\"enable_early_stopping\\\":true,\\\"early_stopping_n_iters\\\":10,\\\"metrics\\\":null,\\\"enable_metric_confidence\\\":false,\\\"enable_ensembling\\\":true,\\\"enable_stack_ensembling\\\":true,\\\"ensemble_iterations\\\":15,\\\"enable_tf\\\":false,\\\"enable_subsampling\\\":null,\\\"subsample_seed\\\":null,\\\"enable_nimbusml\\\":false,\\\"enable_streaming\\\":false,\\\"force_streaming\\\":false,\\\"track_child_runs\\\":true,\\\"allowed_private_models\\\":[],\\\"label_column_name\\\":\\\"UpLift\\\",\\\"weight_column_name\\\":null,\\\"cv_split_column_names\\\":null,\\\"enable_local_managed\\\":false,\\\"_local_managed_run_id\\\":null,\\\"cost_mode\\\":1,\\\"lag_length\\\":0,\\\"metric_operation\\\":\\\"minimize\\\",\\\"preprocess\\\":true}\", \"DataPrepJsonString\": null, \"EnableSubsampling\": null, \"runTemplate\": \"AutoML\", \"azureml.runsource\": \"automl\", \"display_task_type\": \"regression\", \"dependencies_versions\": \"{\\\"azureml-widgets\\\": \\\"1.29.0.post1\\\", \\\"azureml-train\\\": \\\"1.29.0\\\", \\\"azureml-train-restclients-hyperdrive\\\": \\\"1.29.0\\\", \\\"azureml-train-core\\\": \\\"1.29.0\\\", \\\"azureml-train-automl\\\": \\\"1.29.0\\\", \\\"azureml-train-automl-runtime\\\": \\\"1.29.0.post1\\\", \\\"azureml-train-automl-client\\\": \\\"1.29.0\\\", \\\"azureml-tensorboard\\\": \\\"1.28.0\\\", \\\"azureml-telemetry\\\": \\\"1.29.0\\\", \\\"azureml-sdk\\\": \\\"1.29.0\\\", \\\"azureml-pipeline\\\": \\\"1.29.0\\\", \\\"azureml-pipeline-steps\\\": \\\"1.29.0\\\", \\\"azureml-pipeline-core\\\": \\\"1.29.0\\\", \\\"azureml-opendatasets\\\": \\\"1.29.0\\\", \\\"azureml-model-management-sdk\\\": \\\"1.0.1b6.post1\\\", \\\"azureml-mlflow\\\": \\\"1.29.0\\\", \\\"azureml-interpret\\\": \\\"1.29.0\\\", \\\"azureml-explain-model\\\": \\\"1.28.0\\\", \\\"azureml-defaults\\\": \\\"1.29.0\\\", \\\"azureml-dataset-runtime\\\": \\\"1.29.0\\\", \\\"azureml-dataprep\\\": \\\"2.15.0\\\", \\\"azureml-dataprep-rslex\\\": \\\"1.13.0\\\", \\\"azureml-dataprep-native\\\": \\\"33.0.0\\\", \\\"azureml-datadrift\\\": \\\"1.28.0\\\", \\\"azureml-core\\\": \\\"1.29.0.post1\\\", \\\"azureml-contrib-services\\\": \\\"1.29.0\\\", \\\"azureml-contrib-server\\\": \\\"1.28.0\\\", \\\"azureml-contrib-reinforcementlearning\\\": \\\"1.28.0\\\", \\\"azureml-contrib-pipeline-steps\\\": \\\"1.28.0\\\", \\\"azureml-contrib-notebook\\\": \\\"1.28.0\\\", \\\"azureml-contrib-gbdt\\\": \\\"1.28.0\\\", \\\"azureml-contrib-fairness\\\": \\\"1.28.0\\\", \\\"azureml-contrib-dataset\\\": \\\"1.28.0\\\", \\\"azureml-cli-common\\\": \\\"1.29.0\\\", \\\"azureml-automl-runtime\\\": \\\"1.29.0\\\", \\\"azureml-automl-dnn-nlp\\\": \\\"1.28.0\\\", \\\"azureml-automl-core\\\": \\\"1.29.0\\\", \\\"azureml-accel-models\\\": \\\"1.29.0\\\"}\", \"_aml_system_scenario_identification\": \"Local.Parent\", \"ClientSdkVersion\": \"1.29.0\", \"ClientType\": \"SDK\", \"environment_cpu_name\": \"AzureML-AutoML\", \"environment_cpu_label\": \"prod\", \"environment_gpu_name\": \"AzureML-AutoML-GPU\", \"environment_gpu_label\": \"prod\", \"root_attribution\": \"automl\", \"attribution\": \"AutoML\", \"Orchestrator\": \"AutoML\", \"_azureml.ComputeTargetType\": \"local\", \"ProblemInfoJsonString\": \"{\\\"dataset_num_categorical\\\": 0, \\\"is_sparse\\\": true, \\\"subsampling\\\": false, \\\"has_extra_col\\\": true, \\\"dataset_classes\\\": 733, \\\"dataset_features\\\": 709, \\\"dataset_samples\\\": 740, \\\"single_frequency_class_detected\\\": false}\"}, \"tags\": {\"model_explain_run\": \"best_run\", \"best_score\": \"0.10950156187937381\", \"best_pipeline\": \"VotingEnsemble\", \"automl_best_child_run_id\": \"AutoML_e49b850c-8443-43a5-91fc-87cbd9e30a71_35\", \"model_explain_best_run_child_id\": \"AutoML_e49b850c-8443-43a5-91fc-87cbd9e30a71_35\"}, \"end_time_utc\": \"2021-06-06T02:28:40.264553Z\", \"status\": \"Completed\", \"log_files\": {}, \"log_groups\": [], \"run_duration\": \"0:18:46\", \"run_number\": \"1\", \"run_queued_details\": {\"status\": \"Completed\", \"details\": null}}, \"child_runs\": [{\"run_id\": \"AutoML_e49b850c-8443-43a5-91fc-87cbd9e30a71_0\", \"run_number\": 2, \"metric\": null, \"status\": \"Completed\", \"run_type\": null, \"training_percent\": \"100\", \"start_time\": \"2021-06-06T02:10:36.084232Z\", \"end_time\": \"2021-06-06T02:10:57.146863Z\", \"created_time\": \"2021-06-06T02:10:35.580443Z\", \"created_time_dt\": \"2021-06-06T02:10:35.580443Z\", \"duration\": \"0:00:21\", \"iteration\": \"0\", \"goal\": \"normalized_mean_absolute_error_min\", \"run_name\": \"MaxAbsScaler, LightGBM\", \"run_properties\": \"copy=True\", \"primary_metric\": 0.12107036, \"best_metric\": 0.12107036}, {\"run_id\": \"AutoML_e49b850c-8443-43a5-91fc-87cbd9e30a71_1\", \"run_number\": 3, \"metric\": null, \"status\": \"Completed\", \"run_type\": null, \"training_percent\": \"100\", \"start_time\": \"2021-06-06T02:10:58.56394Z\", \"end_time\": \"2021-06-06T02:11:23.293206Z\", \"created_time\": \"2021-06-06T02:10:58.044304Z\", \"created_time_dt\": \"2021-06-06T02:10:58.044304Z\", \"duration\": \"0:00:25\", \"iteration\": \"1\", \"goal\": \"normalized_mean_absolute_error_min\", \"run_name\": \"MaxAbsScaler, XGBoostRegressor\", \"run_properties\": \"copy=True\", \"primary_metric\": 0.11494668, \"best_metric\": 0.11494668}, {\"run_id\": \"AutoML_e49b850c-8443-43a5-91fc-87cbd9e30a71_2\", \"run_number\": 4, \"metric\": null, \"status\": \"Completed\", \"run_type\": null, \"training_percent\": \"100\", \"start_time\": \"2021-06-06T02:11:25.233078Z\", \"end_time\": \"2021-06-06T02:11:49.932273Z\", \"created_time\": \"2021-06-06T02:11:24.71127Z\", \"created_time_dt\": \"2021-06-06T02:11:24.71127Z\", \"duration\": \"0:00:25\", \"iteration\": \"2\", \"goal\": \"normalized_mean_absolute_error_min\", \"run_name\": \"MaxAbsScaler, ElasticNet\", \"run_properties\": \"copy=True\", \"primary_metric\": 0.14321959, \"best_metric\": 0.11494668}, {\"run_id\": \"AutoML_e49b850c-8443-43a5-91fc-87cbd9e30a71_3\", \"run_number\": 5, \"metric\": null, \"status\": \"Completed\", \"run_type\": null, \"training_percent\": \"100\", \"start_time\": \"2021-06-06T02:11:52.379574Z\", \"end_time\": \"2021-06-06T02:12:20.538438Z\", \"created_time\": \"2021-06-06T02:11:51.864607Z\", \"created_time_dt\": \"2021-06-06T02:11:51.864607Z\", \"duration\": \"0:00:28\", \"iteration\": \"3\", \"goal\": \"normalized_mean_absolute_error_min\", \"run_name\": \"StandardScalerWrapper, ElasticNet\", \"run_properties\": \"\\n    copy=True,\\n    with_mean=False,\\n    with_std=True\\n\", \"primary_metric\": 0.18152637, \"best_metric\": 0.11494668}, {\"run_id\": \"AutoML_e49b850c-8443-43a5-91fc-87cbd9e30a71_4\", \"run_number\": 6, \"metric\": null, \"status\": \"Completed\", \"run_type\": null, \"training_percent\": \"100\", \"start_time\": \"2021-06-06T02:12:22.852318Z\", \"end_time\": \"2021-06-06T02:12:41.425022Z\", \"created_time\": \"2021-06-06T02:12:22.35211Z\", \"created_time_dt\": \"2021-06-06T02:12:22.35211Z\", \"duration\": \"0:00:19\", \"iteration\": \"4\", \"goal\": \"normalized_mean_absolute_error_min\", \"run_name\": \"MaxAbsScaler, DecisionTree\", \"run_properties\": \"copy=True\", \"primary_metric\": 0.12345997, \"best_metric\": 0.11494668}, {\"run_id\": \"AutoML_e49b850c-8443-43a5-91fc-87cbd9e30a71_5\", \"run_number\": 7, \"metric\": null, \"status\": \"Completed\", \"run_type\": null, \"training_percent\": \"100\", \"start_time\": \"2021-06-06T02:12:43.934979Z\", \"end_time\": \"2021-06-06T02:13:03.494825Z\", \"created_time\": \"2021-06-06T02:12:43.428236Z\", \"created_time_dt\": \"2021-06-06T02:12:43.428236Z\", \"duration\": \"0:00:20\", \"iteration\": \"5\", \"goal\": \"normalized_mean_absolute_error_min\", \"run_name\": \"MaxAbsScaler, ExtremeRandomTrees\", \"run_properties\": \"copy=True\", \"primary_metric\": 0.11630415, \"best_metric\": 0.11494668}, {\"run_id\": \"AutoML_e49b850c-8443-43a5-91fc-87cbd9e30a71_6\", \"run_number\": 8, \"metric\": null, \"status\": \"Completed\", \"run_type\": null, \"training_percent\": \"100\", \"start_time\": \"2021-06-06T02:13:05.884812Z\", \"end_time\": \"2021-06-06T02:13:32.107346Z\", \"created_time\": \"2021-06-06T02:13:05.386702Z\", \"created_time_dt\": \"2021-06-06T02:13:05.386702Z\", \"duration\": \"0:00:26\", \"iteration\": \"6\", \"goal\": \"normalized_mean_absolute_error_min\", \"run_name\": \"MaxAbsScaler, ElasticNet\", \"run_properties\": \"copy=True\", \"primary_metric\": 0.14527226, \"best_metric\": 0.11494668}, {\"run_id\": \"AutoML_e49b850c-8443-43a5-91fc-87cbd9e30a71_7\", \"run_number\": 9, \"metric\": null, \"status\": \"Completed\", \"run_type\": null, \"training_percent\": \"100\", \"start_time\": \"2021-06-06T02:13:34.562634Z\", \"end_time\": \"2021-06-06T02:13:53.02705Z\", \"created_time\": \"2021-06-06T02:13:34.051546Z\", \"created_time_dt\": \"2021-06-06T02:13:34.051546Z\", \"duration\": \"0:00:18\", \"iteration\": \"7\", \"goal\": \"normalized_mean_absolute_error_min\", \"run_name\": \"StandardScalerWrapper, DecisionTree\", \"run_properties\": \"\\n    copy=True,\\n    with_mean=False,\\n    with_std=False\\n\", \"primary_metric\": 0.12553009, \"best_metric\": 0.11494668}, {\"run_id\": \"AutoML_e49b850c-8443-43a5-91fc-87cbd9e30a71_8\", \"run_number\": 10, \"metric\": null, \"status\": \"Completed\", \"run_type\": null, \"training_percent\": \"100\", \"start_time\": \"2021-06-06T02:13:55.584777Z\", \"end_time\": \"2021-06-06T02:14:19.671737Z\", \"created_time\": \"2021-06-06T02:13:55.069667Z\", \"created_time_dt\": \"2021-06-06T02:13:55.069667Z\", \"duration\": \"0:00:24\", \"iteration\": \"8\", \"goal\": \"normalized_mean_absolute_error_min\", \"run_name\": \"MaxAbsScaler, ElasticNet\", \"run_properties\": \"copy=True\", \"primary_metric\": 0.15854464, \"best_metric\": 0.11494668}, {\"run_id\": \"AutoML_e49b850c-8443-43a5-91fc-87cbd9e30a71_9\", \"run_number\": 11, \"metric\": null, \"status\": \"Completed\", \"run_type\": null, \"training_percent\": \"100\", \"start_time\": \"2021-06-06T02:14:22.139215Z\", \"end_time\": \"2021-06-06T02:14:46.315881Z\", \"created_time\": \"2021-06-06T02:14:21.617798Z\", \"created_time_dt\": \"2021-06-06T02:14:21.617798Z\", \"duration\": \"0:00:24\", \"iteration\": \"9\", \"goal\": \"normalized_mean_absolute_error_min\", \"run_name\": \"StandardScalerWrapper, DecisionTree\", \"run_properties\": \"\\n    copy=True,\\n    with_mean=False,\\n    with_std=False\\n\", \"primary_metric\": 0.12628741, \"best_metric\": 0.11494668}, {\"run_id\": \"AutoML_e49b850c-8443-43a5-91fc-87cbd9e30a71_10\", \"run_number\": 12, \"metric\": null, \"status\": \"Completed\", \"run_type\": null, \"training_percent\": \"100\", \"start_time\": \"2021-06-06T02:14:48.903876Z\", \"end_time\": \"2021-06-06T02:15:13.59617Z\", \"created_time\": \"2021-06-06T02:14:48.395656Z\", \"created_time_dt\": \"2021-06-06T02:14:48.395656Z\", \"duration\": \"0:00:25\", \"iteration\": \"10\", \"goal\": \"normalized_mean_absolute_error_min\", \"run_name\": \"StandardScalerWrapper, ElasticNet\", \"run_properties\": \"\\n    copy=True,\\n    with_mean=False,\\n    with_std=True\\n\", \"primary_metric\": 0.18287267, \"best_metric\": 0.11494668}, {\"run_id\": \"AutoML_e49b850c-8443-43a5-91fc-87cbd9e30a71_11\", \"run_number\": 13, \"metric\": null, \"status\": \"Completed\", \"run_type\": null, \"training_percent\": \"100\", \"start_time\": \"2021-06-06T02:15:16.086992Z\", \"end_time\": \"2021-06-06T02:15:41.194726Z\", \"created_time\": \"2021-06-06T02:15:15.560042Z\", \"created_time_dt\": \"2021-06-06T02:15:15.560042Z\", \"duration\": \"0:00:25\", \"iteration\": \"11\", \"goal\": \"normalized_mean_absolute_error_min\", \"run_name\": \"StandardScalerWrapper, ElasticNet\", \"run_properties\": \"\\n    copy=True,\\n    with_mean=False,\\n    with_std=False\\n\", \"primary_metric\": 0.15357925, \"best_metric\": 0.11494668}, {\"run_id\": \"AutoML_e49b850c-8443-43a5-91fc-87cbd9e30a71_12\", \"run_number\": 14, \"metric\": null, \"status\": \"Completed\", \"run_type\": null, \"training_percent\": \"100\", \"start_time\": \"2021-06-06T02:15:43.683372Z\", \"end_time\": \"2021-06-06T02:16:11.657262Z\", \"created_time\": \"2021-06-06T02:15:43.183706Z\", \"created_time_dt\": \"2021-06-06T02:15:43.183706Z\", \"duration\": \"0:00:28\", \"iteration\": \"12\", \"goal\": \"normalized_mean_absolute_error_min\", \"run_name\": \"StandardScalerWrapper, ElasticNet\", \"run_properties\": \"\\n    copy=True,\\n    with_mean=False,\\n    with_std=True\\n\", \"primary_metric\": 0.14596153, \"best_metric\": 0.11494668}, {\"run_id\": \"AutoML_e49b850c-8443-43a5-91fc-87cbd9e30a71_13\", \"run_number\": 15, \"metric\": null, \"status\": \"Completed\", \"run_type\": null, \"training_percent\": \"100\", \"start_time\": \"2021-06-06T02:16:14.472747Z\", \"end_time\": \"2021-06-06T02:16:32.888927Z\", \"created_time\": \"2021-06-06T02:16:13.966537Z\", \"created_time_dt\": \"2021-06-06T02:16:13.966537Z\", \"duration\": \"0:00:18\", \"iteration\": \"13\", \"goal\": \"normalized_mean_absolute_error_min\", \"run_name\": \"StandardScalerWrapper, DecisionTree\", \"run_properties\": \"\\n    copy=True,\\n    with_mean=False,\\n    with_std=False\\n\", \"primary_metric\": 0.13557083, \"best_metric\": 0.11494668}, {\"run_id\": \"AutoML_e49b850c-8443-43a5-91fc-87cbd9e30a71_14\", \"run_number\": 16, \"metric\": null, \"status\": \"Completed\", \"run_type\": null, \"training_percent\": \"100\", \"start_time\": \"2021-06-06T02:16:35.464264Z\", \"end_time\": \"2021-06-06T02:17:00.64068Z\", \"created_time\": \"2021-06-06T02:16:34.884131Z\", \"created_time_dt\": \"2021-06-06T02:16:34.884131Z\", \"duration\": \"0:00:25\", \"iteration\": \"14\", \"goal\": \"normalized_mean_absolute_error_min\", \"run_name\": \"StandardScalerWrapper, ElasticNet\", \"run_properties\": \"\\n    copy=True,\\n    with_mean=False,\\n    with_std=False\\n\", \"primary_metric\": 0.12553745, \"best_metric\": 0.11494668}, {\"run_id\": \"AutoML_e49b850c-8443-43a5-91fc-87cbd9e30a71_15\", \"run_number\": 17, \"metric\": null, \"status\": \"Completed\", \"run_type\": null, \"training_percent\": \"100\", \"start_time\": \"2021-06-06T02:17:03.027364Z\", \"end_time\": \"2021-06-06T02:17:28.807472Z\", \"created_time\": \"2021-06-06T02:17:02.524548Z\", \"created_time_dt\": \"2021-06-06T02:17:02.524548Z\", \"duration\": \"0:00:26\", \"iteration\": \"15\", \"goal\": \"normalized_mean_absolute_error_min\", \"run_name\": \"StandardScalerWrapper, ElasticNet\", \"run_properties\": \"\\n    copy=True,\\n    with_mean=False,\\n    with_std=False\\n\", \"primary_metric\": 0.12334405, \"best_metric\": 0.11494668}, {\"run_id\": \"AutoML_e49b850c-8443-43a5-91fc-87cbd9e30a71_16\", \"run_number\": 18, \"metric\": null, \"status\": \"Completed\", \"run_type\": null, \"training_percent\": \"100\", \"start_time\": \"2021-06-06T02:17:31.289238Z\", \"end_time\": \"2021-06-06T02:17:54.618567Z\", \"created_time\": \"2021-06-06T02:17:30.736753Z\", \"created_time_dt\": \"2021-06-06T02:17:30.736753Z\", \"duration\": \"0:00:23\", \"iteration\": \"16\", \"goal\": \"normalized_mean_absolute_error_min\", \"run_name\": \"StandardScalerWrapper, ElasticNet\", \"run_properties\": \"\\n    copy=True,\\n    with_mean=False,\\n    with_std=False\\n\", \"primary_metric\": 0.12422467, \"best_metric\": 0.11494668}, {\"run_id\": \"AutoML_e49b850c-8443-43a5-91fc-87cbd9e30a71_17\", \"run_number\": 19, \"metric\": null, \"status\": \"Completed\", \"run_type\": null, \"training_percent\": \"100\", \"start_time\": \"2021-06-06T02:17:57.096854Z\", \"end_time\": \"2021-06-06T02:18:18.653342Z\", \"created_time\": \"2021-06-06T02:17:56.556207Z\", \"created_time_dt\": \"2021-06-06T02:17:56.556207Z\", \"duration\": \"0:00:22\", \"iteration\": \"17\", \"goal\": \"normalized_mean_absolute_error_min\", \"run_name\": \"StandardScalerWrapper, ElasticNet\", \"run_properties\": \"\\n    copy=True,\\n    with_mean=False,\\n    with_std=True\\n\", \"primary_metric\": 0.13797028, \"best_metric\": 0.11494668}, {\"run_id\": \"AutoML_e49b850c-8443-43a5-91fc-87cbd9e30a71_18\", \"run_number\": 20, \"metric\": null, \"status\": \"Completed\", \"run_type\": null, \"training_percent\": \"100\", \"start_time\": \"2021-06-06T02:18:21.170118Z\", \"end_time\": \"2021-06-06T02:18:44.115071Z\", \"created_time\": \"2021-06-06T02:18:20.665988Z\", \"created_time_dt\": \"2021-06-06T02:18:20.665988Z\", \"duration\": \"0:00:23\", \"iteration\": \"18\", \"goal\": \"normalized_mean_absolute_error_min\", \"run_name\": \"StandardScalerWrapper, ElasticNet\", \"run_properties\": \"\\n    copy=True,\\n    with_mean=False,\\n    with_std=True\\n\", \"primary_metric\": 0.1366464, \"best_metric\": 0.11494668}, {\"run_id\": \"AutoML_e49b850c-8443-43a5-91fc-87cbd9e30a71_19\", \"run_number\": 21, \"metric\": null, \"status\": \"Completed\", \"run_type\": null, \"training_percent\": \"100\", \"start_time\": \"2021-06-06T02:18:46.542045Z\", \"end_time\": \"2021-06-06T02:19:06.654061Z\", \"created_time\": \"2021-06-06T02:18:46.034393Z\", \"created_time_dt\": \"2021-06-06T02:18:46.034393Z\", \"duration\": \"0:00:20\", \"iteration\": \"19\", \"goal\": \"normalized_mean_absolute_error_min\", \"run_name\": \"MaxAbsScaler, DecisionTree\", \"run_properties\": \"copy=True\", \"primary_metric\": 0.13105983, \"best_metric\": 0.11494668}, {\"run_id\": \"AutoML_e49b850c-8443-43a5-91fc-87cbd9e30a71_20\", \"run_number\": 22, \"metric\": null, \"status\": \"Completed\", \"run_type\": null, \"training_percent\": \"100\", \"start_time\": \"2021-06-06T02:19:09.238931Z\", \"end_time\": \"2021-06-06T02:19:28.683062Z\", \"created_time\": \"2021-06-06T02:19:08.690525Z\", \"created_time_dt\": \"2021-06-06T02:19:08.690525Z\", \"duration\": \"0:00:19\", \"iteration\": \"20\", \"goal\": \"normalized_mean_absolute_error_min\", \"run_name\": \"MaxAbsScaler, DecisionTree\", \"run_properties\": \"copy=True\", \"primary_metric\": 0.13060497, \"best_metric\": 0.11494668}, {\"run_id\": \"AutoML_e49b850c-8443-43a5-91fc-87cbd9e30a71_21\", \"run_number\": 23, \"metric\": null, \"status\": \"Completed\", \"run_type\": null, \"training_percent\": \"100\", \"start_time\": \"2021-06-06T02:19:31.234653Z\", \"end_time\": \"2021-06-06T02:19:57.171083Z\", \"created_time\": \"2021-06-06T02:19:30.708966Z\", \"created_time_dt\": \"2021-06-06T02:19:30.708966Z\", \"duration\": \"0:00:26\", \"iteration\": \"21\", \"goal\": \"normalized_mean_absolute_error_min\", \"run_name\": \"MaxAbsScaler, DecisionTree\", \"run_properties\": \"copy=True\", \"primary_metric\": 0.13238989, \"best_metric\": 0.11494668}, {\"run_id\": \"AutoML_e49b850c-8443-43a5-91fc-87cbd9e30a71_22\", \"run_number\": 24, \"metric\": null, \"status\": \"Completed\", \"run_type\": null, \"training_percent\": \"100\", \"start_time\": \"2021-06-06T02:19:59.639982Z\", \"end_time\": \"2021-06-06T02:20:27.67616Z\", \"created_time\": \"2021-06-06T02:19:59.132419Z\", \"created_time_dt\": \"2021-06-06T02:19:59.132419Z\", \"duration\": \"0:00:28\", \"iteration\": \"22\", \"goal\": \"normalized_mean_absolute_error_min\", \"run_name\": \"StandardScalerWrapper, RandomForest\", \"run_properties\": \"\\n    copy=True,\\n    with_mean=False,\\n    with_std=True\\n\", \"primary_metric\": 0.11438152, \"best_metric\": 0.11438152}, {\"run_id\": \"AutoML_e49b850c-8443-43a5-91fc-87cbd9e30a71_23\", \"run_number\": 25, \"metric\": null, \"status\": \"Completed\", \"run_type\": null, \"training_percent\": \"100\", \"start_time\": \"2021-06-06T02:20:30.118217Z\", \"end_time\": \"2021-06-06T02:20:50.083408Z\", \"created_time\": \"2021-06-06T02:20:29.592407Z\", \"created_time_dt\": \"2021-06-06T02:20:29.592407Z\", \"duration\": \"0:00:20\", \"iteration\": \"23\", \"goal\": \"normalized_mean_absolute_error_min\", \"run_name\": \"StandardScalerWrapper, RandomForest\", \"run_properties\": \"\\n    copy=True,\\n    with_mean=False,\\n    with_std=False\\n\", \"primary_metric\": 0.11415058, \"best_metric\": 0.11415058}, {\"run_id\": \"AutoML_e49b850c-8443-43a5-91fc-87cbd9e30a71_24\", \"run_number\": 26, \"metric\": null, \"status\": \"Completed\", \"run_type\": null, \"training_percent\": \"100\", \"start_time\": \"2021-06-06T02:20:52.648431Z\", \"end_time\": \"2021-06-06T02:21:23.140312Z\", \"created_time\": \"2021-06-06T02:20:52.0754Z\", \"created_time_dt\": \"2021-06-06T02:20:52.0754Z\", \"duration\": \"0:00:31\", \"iteration\": \"24\", \"goal\": \"normalized_mean_absolute_error_min\", \"run_name\": \"MaxAbsScaler, ExtremeRandomTrees\", \"run_properties\": \"copy=True\", \"primary_metric\": 0.11174448, \"best_metric\": 0.11174448}, {\"run_id\": \"AutoML_e49b850c-8443-43a5-91fc-87cbd9e30a71_25\", \"run_number\": 27, \"metric\": null, \"status\": \"Completed\", \"run_type\": null, \"training_percent\": \"100\", \"start_time\": \"2021-06-06T02:21:26.604417Z\", \"end_time\": \"2021-06-06T02:22:17.710654Z\", \"created_time\": \"2021-06-06T02:21:26.096315Z\", \"created_time_dt\": \"2021-06-06T02:21:26.096315Z\", \"duration\": \"0:00:51\", \"iteration\": \"25\", \"goal\": \"normalized_mean_absolute_error_min\", \"run_name\": \"SparseNormalizer, ExtremeRandomTrees\", \"run_properties\": \"copy=True, norm='max'\", \"primary_metric\": 0.11384131, \"best_metric\": 0.11174448}, {\"run_id\": \"AutoML_e49b850c-8443-43a5-91fc-87cbd9e30a71_26\", \"run_number\": 28, \"metric\": null, \"status\": \"Completed\", \"run_type\": null, \"training_percent\": \"100\", \"start_time\": \"2021-06-06T02:22:20.223748Z\", \"end_time\": \"2021-06-06T02:22:39.921377Z\", \"created_time\": \"2021-06-06T02:22:19.711142Z\", \"created_time_dt\": \"2021-06-06T02:22:19.711142Z\", \"duration\": \"0:00:20\", \"iteration\": \"26\", \"goal\": \"normalized_mean_absolute_error_min\", \"run_name\": \"SparseNormalizer, XGBoostRegressor\", \"run_properties\": \"copy=True, norm='l2'\", \"primary_metric\": 0.11791457, \"best_metric\": 0.11174448}, {\"run_id\": \"AutoML_e49b850c-8443-43a5-91fc-87cbd9e30a71_27\", \"run_number\": 29, \"metric\": null, \"status\": \"Completed\", \"run_type\": null, \"training_percent\": \"100\", \"start_time\": \"2021-06-06T02:22:42.168837Z\", \"end_time\": \"2021-06-06T02:23:01.970096Z\", \"created_time\": \"2021-06-06T02:22:41.665708Z\", \"created_time_dt\": \"2021-06-06T02:22:41.665708Z\", \"duration\": \"0:00:20\", \"iteration\": \"27\", \"goal\": \"normalized_mean_absolute_error_min\", \"run_name\": \"SparseNormalizer, XGBoostRegressor\", \"run_properties\": \"copy=True, norm='l2'\", \"primary_metric\": 0.11363112, \"best_metric\": 0.11174448}, {\"run_id\": \"AutoML_e49b850c-8443-43a5-91fc-87cbd9e30a71_28\", \"run_number\": 30, \"metric\": null, \"status\": \"Completed\", \"run_type\": null, \"training_percent\": \"100\", \"start_time\": \"2021-06-06T02:23:04.441518Z\", \"end_time\": \"2021-06-06T02:23:23.909767Z\", \"created_time\": \"2021-06-06T02:23:03.936411Z\", \"created_time_dt\": \"2021-06-06T02:23:03.936411Z\", \"duration\": \"0:00:19\", \"iteration\": \"28\", \"goal\": \"normalized_mean_absolute_error_min\", \"run_name\": \"SparseNormalizer, XGBoostRegressor\", \"run_properties\": \"copy=True, norm='l2'\", \"primary_metric\": 0.11368759, \"best_metric\": 0.11174448}, {\"run_id\": \"AutoML_e49b850c-8443-43a5-91fc-87cbd9e30a71_29\", \"run_number\": 31, \"metric\": null, \"status\": \"Completed\", \"run_type\": null, \"training_percent\": \"100\", \"start_time\": \"2021-06-06T02:23:26.403364Z\", \"end_time\": \"2021-06-06T02:23:46.462442Z\", \"created_time\": \"2021-06-06T02:23:25.908222Z\", \"created_time_dt\": \"2021-06-06T02:23:25.908222Z\", \"duration\": \"0:00:20\", \"iteration\": \"29\", \"goal\": \"normalized_mean_absolute_error_min\", \"run_name\": \"SparseNormalizer, XGBoostRegressor\", \"run_properties\": \"copy=True, norm='l2'\", \"primary_metric\": 0.11364358, \"best_metric\": 0.11174448}, {\"run_id\": \"AutoML_e49b850c-8443-43a5-91fc-87cbd9e30a71_30\", \"run_number\": 32, \"metric\": null, \"status\": \"Completed\", \"run_type\": null, \"training_percent\": \"100\", \"start_time\": \"2021-06-06T02:23:49.885023Z\", \"end_time\": \"2021-06-06T02:24:21.070677Z\", \"created_time\": \"2021-06-06T02:23:49.383239Z\", \"created_time_dt\": \"2021-06-06T02:23:49.383239Z\", \"duration\": \"0:00:31\", \"iteration\": \"30\", \"goal\": \"normalized_mean_absolute_error_min\", \"run_name\": \"MaxAbsScaler, ExtremeRandomTrees\", \"run_properties\": \"copy=True\", \"primary_metric\": 0.12249229, \"best_metric\": 0.11174448}, {\"run_id\": \"AutoML_e49b850c-8443-43a5-91fc-87cbd9e30a71_31\", \"run_number\": 33, \"metric\": null, \"status\": \"Completed\", \"run_type\": null, \"training_percent\": \"100\", \"start_time\": \"2021-06-06T02:24:23.643975Z\", \"end_time\": \"2021-06-06T02:24:46.483809Z\", \"created_time\": \"2021-06-06T02:24:23.138141Z\", \"created_time_dt\": \"2021-06-06T02:24:23.138141Z\", \"duration\": \"0:00:23\", \"iteration\": \"31\", \"goal\": \"normalized_mean_absolute_error_min\", \"run_name\": \"MaxAbsScaler, RandomForest\", \"run_properties\": \"copy=True\", \"primary_metric\": 0.11755246, \"best_metric\": 0.11174448}, {\"run_id\": \"AutoML_e49b850c-8443-43a5-91fc-87cbd9e30a71_32\", \"run_number\": 34, \"metric\": null, \"status\": \"Completed\", \"run_type\": null, \"training_percent\": \"100\", \"start_time\": \"2021-06-06T02:24:49.033153Z\", \"end_time\": \"2021-06-06T02:25:09.956797Z\", \"created_time\": \"2021-06-06T02:24:48.482892Z\", \"created_time_dt\": \"2021-06-06T02:24:48.482892Z\", \"duration\": \"0:00:21\", \"iteration\": \"32\", \"goal\": \"normalized_mean_absolute_error_min\", \"run_name\": \"StandardScalerWrapper, GradientBoosting\", \"run_properties\": \"\\n    copy=True,\\n    with_mean=False,\\n    with_std=False\\n\", \"primary_metric\": 0.13037848, \"best_metric\": 0.11174448}, {\"run_id\": \"AutoML_e49b850c-8443-43a5-91fc-87cbd9e30a71_33\", \"run_number\": 35, \"metric\": null, \"status\": \"Completed\", \"run_type\": null, \"training_percent\": \"100\", \"start_time\": \"2021-06-06T02:25:13.161355Z\", \"end_time\": \"2021-06-06T02:25:38.011895Z\", \"created_time\": \"2021-06-06T02:25:12.64369Z\", \"created_time_dt\": \"2021-06-06T02:25:12.64369Z\", \"duration\": \"0:00:25\", \"iteration\": \"33\", \"goal\": \"normalized_mean_absolute_error_min\", \"run_name\": \"StandardScalerWrapper, XGBoostRegressor\", \"run_properties\": \"\\n    copy=True,\\n    with_mean=False,\\n    with_std=False\\n\", \"primary_metric\": 0.11341777, \"best_metric\": 0.11174448}, {\"run_id\": \"AutoML_e49b850c-8443-43a5-91fc-87cbd9e30a71_34\", \"run_number\": 36, \"metric\": null, \"status\": \"Completed\", \"run_type\": null, \"training_percent\": \"100\", \"start_time\": \"2021-06-06T02:25:40.485654Z\", \"end_time\": \"2021-06-06T02:26:00.068249Z\", \"created_time\": \"2021-06-06T02:25:39.971918Z\", \"created_time_dt\": \"2021-06-06T02:25:39.971918Z\", \"duration\": \"0:00:20\", \"iteration\": \"34\", \"goal\": \"normalized_mean_absolute_error_min\", \"run_name\": \"SparseNormalizer, LightGBM\", \"run_properties\": \"copy=True, norm='max'\", \"primary_metric\": 0.14311838, \"best_metric\": 0.11174448}, {\"run_id\": \"AutoML_e49b850c-8443-43a5-91fc-87cbd9e30a71_35\", \"run_number\": 37, \"metric\": null, \"status\": \"Completed\", \"run_type\": null, \"training_percent\": \"100\", \"start_time\": \"2021-06-06T02:26:01.59436Z\", \"end_time\": \"2021-06-06T02:27:15.21784Z\", \"created_time\": \"2021-06-06T02:26:01.078454Z\", \"created_time_dt\": \"2021-06-06T02:26:01.078454Z\", \"duration\": \"0:01:14\", \"iteration\": \"35\", \"goal\": \"normalized_mean_absolute_error_min\", \"run_name\": \"VotingEnsemble\", \"run_properties\": \"\\n    estimators=[('24', Pipeline(memory=None,\\n             steps=[('maxabsscaler', MaxAbsScaler(copy=True\", \"primary_metric\": 0.10950156, \"best_metric\": 0.10950156}, {\"run_id\": \"AutoML_e49b850c-8443-43a5-91fc-87cbd9e30a71_36\", \"run_number\": 38, \"metric\": null, \"status\": \"Completed\", \"run_type\": null, \"training_percent\": \"100\", \"start_time\": \"2021-06-06T02:27:16.703768Z\", \"end_time\": \"2021-06-06T02:28:38.42728Z\", \"created_time\": \"2021-06-06T02:27:16.190382Z\", \"created_time_dt\": \"2021-06-06T02:27:16.190382Z\", \"duration\": \"0:01:22\", \"iteration\": \"36\", \"goal\": \"normalized_mean_absolute_error_min\", \"run_name\": \"StackEnsemble\", \"run_properties\": \"\\n    base_learners=[('24', Pipeline(memory=None,\\n             steps=[('maxabsscaler', MaxAbsScaler(copy=True\", \"primary_metric\": 0.11296166, \"best_metric\": 0.10950156}], \"children_metrics\": {\"categories\": [0], \"series\": {\"mean_absolute_error\": [{\"categories\": [\"0\", \"1\", \"2\", \"3\", \"4\", \"5\", \"6\", \"7\", \"8\", \"9\", \"10\", \"11\", \"12\", \"13\", \"14\", \"15\", \"16\", \"17\", \"18\", \"19\", \"20\", \"21\", \"22\", \"23\", \"24\", \"25\", \"26\", \"27\", \"28\", \"29\", \"30\", \"31\", \"32\", \"33\", \"34\", \"35\", \"36\"], \"mode\": \"markers\", \"name\": \"mean_absolute_error\", \"stepped\": false, \"type\": \"scatter\", \"data\": [3.973666226002667, 3.7726801080206585, 4.70062910376428, 5.957901057250085, 4.052095937522246, 3.8172337166861112, 4.767999960660693, 4.120039596861704, 5.203614515368502, 4.1448958652412795, 6.0020880339047, 5.040644936373695, 4.790622580060282, 4.44958813776834, 4.120281065836307, 4.0482913450928475, 4.077194439475899, 4.528340636812729, 4.484889673025728, 4.3015319620420005, 4.286602850957688, 4.345186114262214, 3.754130965567468, 3.7465513675181965, 3.6675801816068834, 3.7364007621063577, 3.8700895441184118, 3.7295020331941138, 3.7313554695068385, 3.72991105356504, 4.020335495859387, 3.8582049450358418, 4.279169193841639, 3.722499756594658, 4.697307368196052, 3.5939652098928496, 3.707529513026755]}, {\"categories\": [\"0\", \"1\", \"2\", \"3\", \"4\", \"5\", \"6\", \"7\", \"8\", \"9\", \"10\", \"11\", \"12\", \"13\", \"14\", \"15\", \"16\", \"17\", \"18\", \"19\", \"20\", \"21\", \"22\", \"23\", \"24\", \"25\", \"26\", \"27\", \"28\", \"29\", \"30\", \"31\", \"32\", \"33\", \"34\", \"35\", \"36\"], \"mode\": \"lines\", \"name\": \"mean_absolute_error_min\", \"stepped\": true, \"type\": \"scatter\", \"data\": [3.973666226002667, 3.7726801080206585, 3.7726801080206585, 3.7726801080206585, 3.7726801080206585, 3.7726801080206585, 3.7726801080206585, 3.7726801080206585, 3.7726801080206585, 3.7726801080206585, 3.7726801080206585, 3.7726801080206585, 3.7726801080206585, 3.7726801080206585, 3.7726801080206585, 3.7726801080206585, 3.7726801080206585, 3.7726801080206585, 3.7726801080206585, 3.7726801080206585, 3.7726801080206585, 3.7726801080206585, 3.754130965567468, 3.7465513675181965, 3.6675801816068834, 3.6675801816068834, 3.6675801816068834, 3.6675801816068834, 3.6675801816068834, 3.6675801816068834, 3.6675801816068834, 3.6675801816068834, 3.6675801816068834, 3.6675801816068834, 3.6675801816068834, 3.5939652098928496, 3.5939652098928496]}], \"median_absolute_error\": [{\"categories\": [\"0\", \"1\", \"2\", \"3\", \"4\", \"5\", \"6\", \"7\", \"8\", \"9\", \"10\", \"11\", \"12\", \"13\", \"14\", \"15\", \"16\", \"17\", \"18\", \"19\", \"20\", \"21\", \"22\", \"23\", \"24\", \"25\", \"26\", \"27\", \"28\", \"29\", \"30\", \"31\", \"32\", \"33\", \"34\", \"35\", \"36\"], \"mode\": \"markers\", \"name\": \"median_absolute_error\", \"stepped\": false, \"type\": \"scatter\", \"data\": [2.685747059951523, 2.5965117714133816, 3.108022328987661, 4.030909785472399, 2.7376271013627216, 2.2462746020286657, 3.2445842371762397, 2.910271060022134, 3.346474100567619, 2.794314918258901, 4.033079200800454, 3.21915467174216, 3.1727624268615764, 2.7596374547600004, 3.142473507915308, 2.9376847877412104, 2.8300084194221404, 2.8386598173676476, 2.9124839587050855, 2.7018107500265476, 2.6418180514708696, 2.995502328973166, 2.6460760750663903, 2.7058725391493645, 2.5347812427886773, 2.3474784708745124, 2.7172842501938206, 2.4441616305584075, 2.451604269881572, 2.45336320422469, 3.0162318429956736, 2.7899490207707776, 3.4071052043475136, 2.6277354503334793, 3.585181678181884, 2.36452873685919, 2.595592787270831]}, {\"categories\": [\"0\", \"1\", \"2\", \"3\", \"4\", \"5\", \"6\", \"7\", \"8\", \"9\", \"10\", \"11\", \"12\", \"13\", \"14\", \"15\", \"16\", \"17\", \"18\", \"19\", \"20\", \"21\", \"22\", \"23\", \"24\", \"25\", \"26\", \"27\", \"28\", \"29\", \"30\", \"31\", \"32\", \"33\", \"34\", \"35\", \"36\"], \"mode\": \"lines\", \"name\": \"median_absolute_error_min\", \"stepped\": true, \"type\": \"scatter\", \"data\": [2.685747059951523, 2.5965117714133816, 2.5965117714133816, 2.5965117714133816, 2.5965117714133816, 2.2462746020286657, 2.2462746020286657, 2.2462746020286657, 2.2462746020286657, 2.2462746020286657, 2.2462746020286657, 2.2462746020286657, 2.2462746020286657, 2.2462746020286657, 2.2462746020286657, 2.2462746020286657, 2.2462746020286657, 2.2462746020286657, 2.2462746020286657, 2.2462746020286657, 2.2462746020286657, 2.2462746020286657, 2.2462746020286657, 2.2462746020286657, 2.2462746020286657, 2.2462746020286657, 2.2462746020286657, 2.2462746020286657, 2.2462746020286657, 2.2462746020286657, 2.2462746020286657, 2.2462746020286657, 2.2462746020286657, 2.2462746020286657, 2.2462746020286657, 2.2462746020286657, 2.2462746020286657]}], \"normalized_mean_absolute_error\": [{\"categories\": [\"0\", \"1\", \"2\", \"3\", \"4\", \"5\", \"6\", \"7\", \"8\", \"9\", \"10\", \"11\", \"12\", \"13\", \"14\", \"15\", \"16\", \"17\", \"18\", \"19\", \"20\", \"21\", \"22\", \"23\", \"24\", \"25\", \"26\", \"27\", \"28\", \"29\", \"30\", \"31\", \"32\", \"33\", \"34\", \"35\", \"36\"], \"mode\": \"markers\", \"name\": \"normalized_mean_absolute_error\", \"stepped\": false, \"type\": \"scatter\", \"data\": [0.12107035898313037, 0.11494667871640958, 0.1432195913474565, 0.18152637357085255, 0.123459969178995, 0.11630414587352067, 0.14527225842253066, 0.12553008849929095, 0.15854463901948007, 0.12628741364049273, 0.18287267011960295, 0.15357925332525202, 0.14596152835514964, 0.13557083119902935, 0.12553744561832808, 0.12334405019007802, 0.12422467473518466, 0.13797027614177032, 0.13664640456206115, 0.13105982968924995, 0.1306049669163152, 0.13238989204975232, 0.11438152019329524, 0.11415058367155917, 0.11174447573903053, 0.11384131324691564, 0.11791456648703466, 0.113631121565373, 0.11368759238777515, 0.11364358366971772, 0.12249228647619959, 0.11755246443933834, 0.13037847694850963, 0.11341777497474906, 0.1431183841260093, 0.10950156187937381, 0.11296165897009554]}, {\"categories\": [\"0\", \"1\", \"2\", \"3\", \"4\", \"5\", \"6\", \"7\", \"8\", \"9\", \"10\", \"11\", \"12\", \"13\", \"14\", \"15\", \"16\", \"17\", \"18\", \"19\", \"20\", \"21\", \"22\", \"23\", \"24\", \"25\", \"26\", \"27\", \"28\", \"29\", \"30\", \"31\", \"32\", \"33\", \"34\", \"35\", \"36\"], \"mode\": \"lines\", \"name\": \"normalized_mean_absolute_error_min\", \"stepped\": true, \"type\": \"scatter\", \"data\": [0.12107035898313037, 0.11494667871640958, 0.11494667871640958, 0.11494667871640958, 0.11494667871640958, 0.11494667871640958, 0.11494667871640958, 0.11494667871640958, 0.11494667871640958, 0.11494667871640958, 0.11494667871640958, 0.11494667871640958, 0.11494667871640958, 0.11494667871640958, 0.11494667871640958, 0.11494667871640958, 0.11494667871640958, 0.11494667871640958, 0.11494667871640958, 0.11494667871640958, 0.11494667871640958, 0.11494667871640958, 0.11438152019329524, 0.11415058367155917, 0.11174447573903053, 0.11174447573903053, 0.11174447573903053, 0.11174447573903053, 0.11174447573903053, 0.11174447573903053, 0.11174447573903053, 0.11174447573903053, 0.11174447573903053, 0.11174447573903053, 0.11174447573903053, 0.10950156187937381, 0.10950156187937381]}], \"r2_score\": [{\"categories\": [\"0\", \"1\", \"2\", \"3\", \"4\", \"5\", \"6\", \"7\", \"8\", \"9\", \"10\", \"11\", \"12\", \"13\", \"14\", \"15\", \"16\", \"17\", \"18\", \"19\", \"20\", \"21\", \"22\", \"23\", \"24\", \"25\", \"26\", \"27\", \"28\", \"29\", \"30\", \"31\", \"32\", \"33\", \"34\", \"35\", \"36\"], \"mode\": \"markers\", \"name\": \"r2_score\", \"stepped\": false, \"type\": \"scatter\", \"data\": [0.16978874484999099, 0.2350195659209322, -0.33800583493208725, -0.8390216633538692, 0.07404963664969458, 0.15933829228334254, -0.36843078858577477, 0.10137457148308641, -0.5727769988584426, 0.05745278542818766, -0.844798636103038, -0.4907981400049158, -0.4236286965254882, -0.06992521901474451, 0.14852075786768387, 0.13072224835347607, 0.06336447310624098, -0.3529609287260774, -0.3388989869344527, -0.010558946223112953, -0.026870507295962808, 0.022170451107144308, 0.2414388416003029, 0.25409839956777575, 0.26161411735684337, 0.20896154442743323, 0.21320260994176038, 0.2195499348963758, 0.21219139261593573, 0.23254691779142492, 0.17236102427160604, 0.22434248674332782, 0.13558941150804862, 0.25811000488711705, -0.06657573488652338, 0.2712534383291161, 0.26766953365082335]}, {\"categories\": [\"0\", \"1\", \"2\", \"3\", \"4\", \"5\", \"6\", \"7\", \"8\", \"9\", \"10\", \"11\", \"12\", \"13\", \"14\", \"15\", \"16\", \"17\", \"18\", \"19\", \"20\", \"21\", \"22\", \"23\", \"24\", \"25\", \"26\", \"27\", \"28\", \"29\", \"30\", \"31\", \"32\", \"33\", \"34\", \"35\", \"36\"], \"mode\": \"lines\", \"name\": \"r2_score_max\", \"stepped\": true, \"type\": \"scatter\", \"data\": [0.16978874484999099, 0.2350195659209322, 0.2350195659209322, 0.2350195659209322, 0.2350195659209322, 0.2350195659209322, 0.2350195659209322, 0.2350195659209322, 0.2350195659209322, 0.2350195659209322, 0.2350195659209322, 0.2350195659209322, 0.2350195659209322, 0.2350195659209322, 0.2350195659209322, 0.2350195659209322, 0.2350195659209322, 0.2350195659209322, 0.2350195659209322, 0.2350195659209322, 0.2350195659209322, 0.2350195659209322, 0.2414388416003029, 0.25409839956777575, 0.26161411735684337, 0.26161411735684337, 0.26161411735684337, 0.26161411735684337, 0.26161411735684337, 0.26161411735684337, 0.26161411735684337, 0.26161411735684337, 0.26161411735684337, 0.26161411735684337, 0.26161411735684337, 0.2712534383291161, 0.2712534383291161]}], \"normalized_median_absolute_error\": [{\"categories\": [\"0\", \"1\", \"2\", \"3\", \"4\", \"5\", \"6\", \"7\", \"8\", \"9\", \"10\", \"11\", \"12\", \"13\", \"14\", \"15\", \"16\", \"17\", \"18\", \"19\", \"20\", \"21\", \"22\", \"23\", \"24\", \"25\", \"26\", \"27\", \"28\", \"29\", \"30\", \"31\", \"32\", \"33\", \"34\", \"35\", \"36\"], \"mode\": \"markers\", \"name\": \"normalized_median_absolute_error\", \"stepped\": false, \"type\": \"scatter\", \"data\": [0.08182981211618243, 0.07911097570597288, 0.09469576901949603, 0.12281446578533772, 0.08341050231019301, 0.06843988824795584, 0.0988565611714943, 0.08867064869953642, 0.10196095938612386, 0.08513767665027204, 0.12288056391175617, 0.09808176871516208, 0.09666828166761615, 0.08408111761495018, 0.09574543357684315, 0.08950589496010448, 0.08622519249921774, 0.08648878480803177, 0.0887380716844326, 0.08231924344064807, 0.08049137538696675, 0.09126748993923703, 0.08062110959611975, 0.08244299874349544, 0.07723015914118313, 0.07152338546054736, 0.08279069275556998, 0.07446914491411066, 0.07469590855337682, 0.07474950007320694, 0.09189908040544874, 0.08500465572045365, 0.10380827848206105, 0.08006230422745089, 0.10923394369583653, 0.07204287595273179, 0.07908297593606008]}, {\"categories\": [\"0\", \"1\", \"2\", \"3\", \"4\", \"5\", \"6\", \"7\", \"8\", \"9\", \"10\", \"11\", \"12\", \"13\", \"14\", \"15\", \"16\", \"17\", \"18\", \"19\", \"20\", \"21\", \"22\", \"23\", \"24\", \"25\", \"26\", \"27\", \"28\", \"29\", \"30\", \"31\", \"32\", \"33\", \"34\", \"35\", \"36\"], \"mode\": \"lines\", \"name\": \"normalized_median_absolute_error_min\", \"stepped\": true, \"type\": \"scatter\", \"data\": [0.08182981211618243, 0.07911097570597288, 0.07911097570597288, 0.07911097570597288, 0.07911097570597288, 0.06843988824795584, 0.06843988824795584, 0.06843988824795584, 0.06843988824795584, 0.06843988824795584, 0.06843988824795584, 0.06843988824795584, 0.06843988824795584, 0.06843988824795584, 0.06843988824795584, 0.06843988824795584, 0.06843988824795584, 0.06843988824795584, 0.06843988824795584, 0.06843988824795584, 0.06843988824795584, 0.06843988824795584, 0.06843988824795584, 0.06843988824795584, 0.06843988824795584, 0.06843988824795584, 0.06843988824795584, 0.06843988824795584, 0.06843988824795584, 0.06843988824795584, 0.06843988824795584, 0.06843988824795584, 0.06843988824795584, 0.06843988824795584, 0.06843988824795584, 0.06843988824795584, 0.06843988824795584]}], \"mean_absolute_percentage_error\": [{\"categories\": [\"0\", \"1\", \"2\", \"3\", \"4\", \"5\", \"6\", \"7\", \"8\", \"9\", \"10\", \"11\", \"12\", \"13\", \"14\", \"15\", \"16\", \"17\", \"18\", \"19\", \"20\", \"21\", \"22\", \"23\", \"24\", \"25\", \"26\", \"27\", \"28\", \"29\", \"30\", \"31\", \"32\", \"33\", \"34\", \"35\", \"36\"], \"mode\": \"markers\", \"name\": \"mean_absolute_percentage_error\", \"stepped\": false, \"type\": \"scatter\", \"data\": [455.09763226865726, 492.9651795971844, 585.0089633208804, 838.7128137069334, 478.58550546631466, 341.09577919104004, 596.8583463409276, 516.020378401844, 700.8386248852896, 501.5822051568406, 851.0051515490865, 709.1839228759093, 625.500714677051, 532.0206443113254, 603.2786030504988, 570.2601618426256, 565.5061674679802, 553.1794931737434, 542.6788466112368, 514.6033218061, 439.6437214220417, 407.2339725594423, 455.61072835176776, 477.17563408884627, 400.77631169694325, 374.2977040257815, 492.4541937956641, 453.800378063352, 450.5995422945736, 466.7872957226993, 503.1697813934161, 491.53749905365186, 530.7281804501706, 487.57924595233027, 520.685536077315, 421.8280134823568, 465.6782780065017]}, {\"categories\": [\"0\", \"1\", \"2\", \"3\", \"4\", \"5\", \"6\", \"7\", \"8\", \"9\", \"10\", \"11\", \"12\", \"13\", \"14\", \"15\", \"16\", \"17\", \"18\", \"19\", \"20\", \"21\", \"22\", \"23\", \"24\", \"25\", \"26\", \"27\", \"28\", \"29\", \"30\", \"31\", \"32\", \"33\", \"34\", \"35\", \"36\"], \"mode\": \"lines\", \"name\": \"mean_absolute_percentage_error_min\", \"stepped\": true, \"type\": \"scatter\", \"data\": [455.09763226865726, 455.09763226865726, 455.09763226865726, 455.09763226865726, 455.09763226865726, 341.09577919104004, 341.09577919104004, 341.09577919104004, 341.09577919104004, 341.09577919104004, 341.09577919104004, 341.09577919104004, 341.09577919104004, 341.09577919104004, 341.09577919104004, 341.09577919104004, 341.09577919104004, 341.09577919104004, 341.09577919104004, 341.09577919104004, 341.09577919104004, 341.09577919104004, 341.09577919104004, 341.09577919104004, 341.09577919104004, 341.09577919104004, 341.09577919104004, 341.09577919104004, 341.09577919104004, 341.09577919104004, 341.09577919104004, 341.09577919104004, 341.09577919104004, 341.09577919104004, 341.09577919104004, 341.09577919104004, 341.09577919104004]}], \"root_mean_squared_error\": [{\"categories\": [\"0\", \"1\", \"2\", \"3\", \"4\", \"5\", \"6\", \"7\", \"8\", \"9\", \"10\", \"11\", \"12\", \"13\", \"14\", \"15\", \"16\", \"17\", \"18\", \"19\", \"20\", \"21\", \"22\", \"23\", \"24\", \"25\", \"26\", \"27\", \"28\", \"29\", \"30\", \"31\", \"32\", \"33\", \"34\", \"35\", \"36\"], \"mode\": \"markers\", \"name\": \"root_mean_squared_error\", \"stepped\": false, \"type\": \"scatter\", \"data\": [5.629486477002688, 5.428142394598195, 7.522069383283579, 10.316438483091778, 5.938606196157229, 5.695496637113862, 7.661847296550486, 5.867181152310243, 9.234167362394187, 5.998516786170256, 10.571784513521857, 8.127334072745727, 7.676280779544733, 6.383838405264804, 5.724101519574938, 5.7789712155938195, 5.987540008061709, 7.562701735464752, 7.516475899243669, 6.207832586649773, 6.272357202683747, 6.116347101709087, 5.3965308832254815, 5.353787826125384, 5.334356986206825, 5.516680446044798, 5.49369617667326, 5.479433243614104, 5.502864178008609, 5.433531513780409, 5.64769431176633, 5.4603357565890125, 5.768398616334311, 5.343783716915309, 6.387808804115948, 5.29734283421976, 5.310115957652595]}, {\"categories\": [\"0\", \"1\", \"2\", \"3\", \"4\", \"5\", \"6\", \"7\", \"8\", \"9\", \"10\", \"11\", \"12\", \"13\", \"14\", \"15\", \"16\", \"17\", \"18\", \"19\", \"20\", \"21\", \"22\", \"23\", \"24\", \"25\", \"26\", \"27\", \"28\", \"29\", \"30\", \"31\", \"32\", \"33\", \"34\", \"35\", \"36\"], \"mode\": \"lines\", \"name\": \"root_mean_squared_error_min\", \"stepped\": true, \"type\": \"scatter\", \"data\": [5.629486477002688, 5.428142394598195, 5.428142394598195, 5.428142394598195, 5.428142394598195, 5.428142394598195, 5.428142394598195, 5.428142394598195, 5.428142394598195, 5.428142394598195, 5.428142394598195, 5.428142394598195, 5.428142394598195, 5.428142394598195, 5.428142394598195, 5.428142394598195, 5.428142394598195, 5.428142394598195, 5.428142394598195, 5.428142394598195, 5.428142394598195, 5.428142394598195, 5.3965308832254815, 5.353787826125384, 5.334356986206825, 5.334356986206825, 5.334356986206825, 5.334356986206825, 5.334356986206825, 5.334356986206825, 5.334356986206825, 5.334356986206825, 5.334356986206825, 5.334356986206825, 5.334356986206825, 5.29734283421976, 5.29734283421976]}], \"explained_variance\": [{\"categories\": [\"0\", \"1\", \"2\", \"3\", \"4\", \"5\", \"6\", \"7\", \"8\", \"9\", \"10\", \"11\", \"12\", \"13\", \"14\", \"15\", \"16\", \"17\", \"18\", \"19\", \"20\", \"21\", \"22\", \"23\", \"24\", \"25\", \"26\", \"27\", \"28\", \"29\", \"30\", \"31\", \"32\", \"33\", \"34\", \"35\", \"36\"], \"mode\": \"markers\", \"name\": \"explained_variance\", \"stepped\": false, \"type\": \"scatter\", \"data\": [0.17742717988480688, 0.2400258336659955, -0.5504446024092035, -1.8670436216509088, 0.07918638863939242, 0.16494032986945212, -0.61156696230648, 0.10900901526619591, -1.4175391301640823, 0.06609924103777236, -2.0374359076330633, -0.7940978962891055, -0.5981622997461733, -0.06072998076908387, 0.1497311307033665, 0.13252005768808756, 0.06620295179038933, -0.5734801429692554, -0.5538064900663224, -0.006603556678382838, -0.010277617070074619, 0.029142208214609444, 0.24600562134640236, 0.2571380253539727, 0.26620654867708665, 0.21529723448464838, 0.21687869455788605, 0.22929803339673552, 0.22218827256179985, 0.23747974010336695, 0.17592179992686657, 0.22881892742966653, 0.13942039982044777, 0.26119688692860243, -0.0562684317955086, 0.2766814284295295, 0.2735846498382999]}, {\"categories\": [\"0\", \"1\", \"2\", \"3\", \"4\", \"5\", \"6\", \"7\", \"8\", \"9\", \"10\", \"11\", \"12\", \"13\", \"14\", \"15\", \"16\", \"17\", \"18\", \"19\", \"20\", \"21\", \"22\", \"23\", \"24\", \"25\", \"26\", \"27\", \"28\", \"29\", \"30\", \"31\", \"32\", \"33\", \"34\", \"35\", \"36\"], \"mode\": \"lines\", \"name\": \"explained_variance_max\", \"stepped\": true, \"type\": \"scatter\", \"data\": [0.17742717988480688, 0.2400258336659955, 0.2400258336659955, 0.2400258336659955, 0.2400258336659955, 0.2400258336659955, 0.2400258336659955, 0.2400258336659955, 0.2400258336659955, 0.2400258336659955, 0.2400258336659955, 0.2400258336659955, 0.2400258336659955, 0.2400258336659955, 0.2400258336659955, 0.2400258336659955, 0.2400258336659955, 0.2400258336659955, 0.2400258336659955, 0.2400258336659955, 0.2400258336659955, 0.2400258336659955, 0.24600562134640236, 0.2571380253539727, 0.26620654867708665, 0.26620654867708665, 0.26620654867708665, 0.26620654867708665, 0.26620654867708665, 0.26620654867708665, 0.26620654867708665, 0.26620654867708665, 0.26620654867708665, 0.26620654867708665, 0.26620654867708665, 0.2766814284295295, 0.2766814284295295]}], \"spearman_correlation\": [{\"categories\": [\"0\", \"1\", \"2\", \"3\", \"4\", \"5\", \"6\", \"7\", \"8\", \"9\", \"10\", \"11\", \"12\", \"13\", \"14\", \"15\", \"16\", \"17\", \"18\", \"19\", \"20\", \"21\", \"22\", \"23\", \"24\", \"25\", \"26\", \"27\", \"28\", \"29\", \"30\", \"31\", \"32\", \"33\", \"34\", \"35\", \"36\"], \"mode\": \"markers\", \"name\": \"spearman_correlation\", \"stepped\": false, \"type\": \"scatter\", \"data\": [0.48229802310115116, 0.5192399368546962, 0.5014239229811986, 0.45523624165143917, 0.43064571158675385, 0.5223842356250953, 0.49766804937931725, 0.40398617948719673, 0.4791004935950557, 0.41121967904943296, 0.4539635537027625, 0.47627964024963454, 0.4980967220453062, 0.4185973582811796, 0.48432602818116377, 0.49867569235272197, 0.5077614602959022, 0.5069774950081672, 0.5055567330950324, 0.41301369545613803, 0.42481783812443197, 0.3773436976172766, 0.5209342071274137, 0.526428460170467, 0.5403192156066849, 0.5346117255872559, 0.5011598489122129, 0.492064370657017, 0.4992887900807701, 0.5158665021353157, 0.4407878628272015, 0.4959868456019018, 0.4237661314077055, 0.5236027295663198, 0.3081883620956737, 0.5603362710753635, 0.5477337777583803]}, {\"categories\": [\"0\", \"1\", \"2\", \"3\", \"4\", \"5\", \"6\", \"7\", \"8\", \"9\", \"10\", \"11\", \"12\", \"13\", \"14\", \"15\", \"16\", \"17\", \"18\", \"19\", \"20\", \"21\", \"22\", \"23\", \"24\", \"25\", \"26\", \"27\", \"28\", \"29\", \"30\", \"31\", \"32\", \"33\", \"34\", \"35\", \"36\"], \"mode\": \"lines\", \"name\": \"spearman_correlation_max\", \"stepped\": true, \"type\": \"scatter\", \"data\": [0.48229802310115116, 0.5192399368546962, 0.5192399368546962, 0.5192399368546962, 0.5192399368546962, 0.5223842356250953, 0.5223842356250953, 0.5223842356250953, 0.5223842356250953, 0.5223842356250953, 0.5223842356250953, 0.5223842356250953, 0.5223842356250953, 0.5223842356250953, 0.5223842356250953, 0.5223842356250953, 0.5223842356250953, 0.5223842356250953, 0.5223842356250953, 0.5223842356250953, 0.5223842356250953, 0.5223842356250953, 0.5223842356250953, 0.526428460170467, 0.5403192156066849, 0.5403192156066849, 0.5403192156066849, 0.5403192156066849, 0.5403192156066849, 0.5403192156066849, 0.5403192156066849, 0.5403192156066849, 0.5403192156066849, 0.5403192156066849, 0.5403192156066849, 0.5603362710753635, 0.5603362710753635]}], \"normalized_root_mean_squared_error\": [{\"categories\": [\"0\", \"1\", \"2\", \"3\", \"4\", \"5\", \"6\", \"7\", \"8\", \"9\", \"10\", \"11\", \"12\", \"13\", \"14\", \"15\", \"16\", \"17\", \"18\", \"19\", \"20\", \"21\", \"22\", \"23\", \"24\", \"25\", \"26\", \"27\", \"28\", \"29\", \"30\", \"31\", \"32\", \"33\", \"34\", \"35\", \"36\"], \"mode\": \"markers\", \"name\": \"normalized_root_mean_squared_error\", \"stepped\": false, \"type\": \"scatter\", \"data\": [0.17152018058321333, 0.16538559379373283, 0.2291837282584956, 0.31432305572170727, 0.1809384943615331, 0.1735313897101644, 0.23344250621684495, 0.17876230360792789, 0.28134822954166766, 0.18276386071774697, 0.3221029833278027, 0.24762503889336268, 0.23388226810626972, 0.1945039073382873, 0.1744029282821689, 0.1760747077967216, 0.1824294183185883, 0.23042172188581955, 0.2290133050064754, 0.1891413312106296, 0.1911072785202858, 0.18635393542206663, 0.16442244872511852, 0.16312014577041087, 0.1625281235343988, 0.16808318666204233, 0.16738289791469668, 0.16694833237058418, 0.16766223018613036, 0.1655497904214526, 0.17207494008382632, 0.16636646678895245, 0.17575257998957033, 0.16281533881771704, 0.19462487814632057, 0.1614003698647007, 0.16178954362802017]}, {\"categories\": [\"0\", \"1\", \"2\", \"3\", \"4\", \"5\", \"6\", \"7\", \"8\", \"9\", \"10\", \"11\", \"12\", \"13\", \"14\", \"15\", \"16\", \"17\", \"18\", \"19\", \"20\", \"21\", \"22\", \"23\", \"24\", \"25\", \"26\", \"27\", \"28\", \"29\", \"30\", \"31\", \"32\", \"33\", \"34\", \"35\", \"36\"], \"mode\": \"lines\", \"name\": \"normalized_root_mean_squared_error_min\", \"stepped\": true, \"type\": \"scatter\", \"data\": [0.17152018058321333, 0.16538559379373283, 0.16538559379373283, 0.16538559379373283, 0.16538559379373283, 0.16538559379373283, 0.16538559379373283, 0.16538559379373283, 0.16538559379373283, 0.16538559379373283, 0.16538559379373283, 0.16538559379373283, 0.16538559379373283, 0.16538559379373283, 0.16538559379373283, 0.16538559379373283, 0.16538559379373283, 0.16538559379373283, 0.16538559379373283, 0.16538559379373283, 0.16538559379373283, 0.16538559379373283, 0.16442244872511852, 0.16312014577041087, 0.1625281235343988, 0.1625281235343988, 0.1625281235343988, 0.1625281235343988, 0.1625281235343988, 0.1625281235343988, 0.1625281235343988, 0.1625281235343988, 0.1625281235343988, 0.1625281235343988, 0.1625281235343988, 0.1614003698647007, 0.1614003698647007]}], \"root_mean_squared_log_error\": [{\"categories\": [\"0\", \"1\", \"2\", \"3\", \"4\", \"5\", \"6\", \"7\", \"8\", \"9\", \"10\", \"11\", \"12\", \"13\", \"14\", \"15\", \"16\", \"17\", \"18\", \"19\", \"20\", \"21\", \"22\", \"23\", \"24\", \"25\", \"26\", \"27\", \"28\", \"29\", \"30\", \"31\", \"32\", \"33\", \"34\", \"35\", \"36\"], \"mode\": \"markers\", \"name\": \"root_mean_squared_log_error\", \"stepped\": false, \"type\": \"scatter\", \"data\": [NaN, NaN, NaN, NaN, NaN, NaN, NaN, NaN, NaN, NaN, NaN, NaN, NaN, NaN, NaN, NaN, NaN, NaN, NaN, NaN, NaN, NaN, NaN, NaN, NaN, NaN, NaN, NaN, NaN, NaN, NaN, NaN, NaN, NaN, NaN, NaN, NaN]}, {\"categories\": [\"0\", \"1\", \"2\", \"3\", \"4\", \"5\", \"6\", \"7\", \"8\", \"9\", \"10\", \"11\", \"12\", \"13\", \"14\", \"15\", \"16\", \"17\", \"18\", \"19\", \"20\", \"21\", \"22\", \"23\", \"24\", \"25\", \"26\", \"27\", \"28\", \"29\", \"30\", \"31\", \"32\", \"33\", \"34\", \"35\", \"36\"], \"mode\": \"lines\", \"name\": \"root_mean_squared_log_error_min\", \"stepped\": true, \"type\": \"scatter\", \"data\": [NaN, NaN, NaN, NaN, NaN, NaN, NaN, NaN, NaN, NaN, NaN, NaN, NaN, NaN, NaN, NaN, NaN, NaN, NaN, NaN, NaN, NaN, NaN, NaN, NaN, NaN, NaN, NaN, NaN, NaN, NaN, NaN, NaN, NaN, NaN, NaN, NaN]}], \"normalized_root_mean_squared_log_error\": [{\"categories\": [\"0\", \"1\", \"2\", \"3\", \"4\", \"5\", \"6\", \"7\", \"8\", \"9\", \"10\", \"11\", \"12\", \"13\", \"14\", \"15\", \"16\", \"17\", \"18\", \"19\", \"20\", \"21\", \"22\", \"23\", \"24\", \"25\", \"26\", \"27\", \"28\", \"29\", \"30\", \"31\", \"32\", \"33\", \"34\", \"35\", \"36\"], \"mode\": \"markers\", \"name\": \"normalized_root_mean_squared_log_error\", \"stepped\": false, \"type\": \"scatter\", \"data\": [NaN, NaN, NaN, NaN, NaN, NaN, NaN, NaN, NaN, NaN, NaN, NaN, NaN, NaN, NaN, NaN, NaN, NaN, NaN, NaN, NaN, NaN, NaN, NaN, NaN, NaN, NaN, NaN, NaN, NaN, NaN, NaN, NaN, NaN, NaN, NaN, NaN]}, {\"categories\": [\"0\", \"1\", \"2\", \"3\", \"4\", \"5\", \"6\", \"7\", \"8\", \"9\", \"10\", \"11\", \"12\", \"13\", \"14\", \"15\", \"16\", \"17\", \"18\", \"19\", \"20\", \"21\", \"22\", \"23\", \"24\", \"25\", \"26\", \"27\", \"28\", \"29\", \"30\", \"31\", \"32\", \"33\", \"34\", \"35\", \"36\"], \"mode\": \"lines\", \"name\": \"normalized_root_mean_squared_log_error_min\", \"stepped\": true, \"type\": \"scatter\", \"data\": [NaN, NaN, NaN, NaN, NaN, NaN, NaN, NaN, NaN, NaN, NaN, NaN, NaN, NaN, NaN, NaN, NaN, NaN, NaN, NaN, NaN, NaN, NaN, NaN, NaN, NaN, NaN, NaN, NaN, NaN, NaN, NaN, NaN, NaN, NaN, NaN, NaN]}]}, \"metricName\": null, \"primaryMetricName\": \"normalized_mean_absolute_error\", \"showLegend\": false}, \"run_metrics\": [{\"name\": \"root_mean_squared_log_error\", \"run_id\": \"AutoML_e49b850c-8443-43a5-91fc-87cbd9e30a71\", \"categories\": [0], \"series\": [{\"data\": [NaN]}]}, {\"name\": \"spearman_correlation\", \"run_id\": \"AutoML_e49b850c-8443-43a5-91fc-87cbd9e30a71\", \"categories\": [0], \"series\": [{\"data\": [0.5603362710753635]}]}, {\"name\": \"root_mean_squared_error\", \"run_id\": \"AutoML_e49b850c-8443-43a5-91fc-87cbd9e30a71\", \"categories\": [0], \"series\": [{\"data\": [5.29734283421976]}]}, {\"name\": \"mean_absolute_percentage_error\", \"run_id\": \"AutoML_e49b850c-8443-43a5-91fc-87cbd9e30a71\", \"categories\": [0], \"series\": [{\"data\": [421.8280134823568]}]}, {\"name\": \"r2_score\", \"run_id\": \"AutoML_e49b850c-8443-43a5-91fc-87cbd9e30a71\", \"categories\": [0], \"series\": [{\"data\": [0.2712534383291161]}]}, {\"name\": \"explained_variance\", \"run_id\": \"AutoML_e49b850c-8443-43a5-91fc-87cbd9e30a71\", \"categories\": [0], \"series\": [{\"data\": [0.2766814284295295]}]}, {\"name\": \"normalized_median_absolute_error\", \"run_id\": \"AutoML_e49b850c-8443-43a5-91fc-87cbd9e30a71\", \"categories\": [0], \"series\": [{\"data\": [0.07204287595273179]}]}, {\"name\": \"median_absolute_error\", \"run_id\": \"AutoML_e49b850c-8443-43a5-91fc-87cbd9e30a71\", \"categories\": [0], \"series\": [{\"data\": [2.36452873685919]}]}, {\"name\": \"normalized_mean_absolute_error\", \"run_id\": \"AutoML_e49b850c-8443-43a5-91fc-87cbd9e30a71\", \"categories\": [0], \"series\": [{\"data\": [0.10950156187937381]}]}, {\"name\": \"normalized_root_mean_squared_log_error\", \"run_id\": \"AutoML_e49b850c-8443-43a5-91fc-87cbd9e30a71\", \"categories\": [0], \"series\": [{\"data\": [NaN]}]}, {\"name\": \"normalized_root_mean_squared_error\", \"run_id\": \"AutoML_e49b850c-8443-43a5-91fc-87cbd9e30a71\", \"categories\": [0], \"series\": [{\"data\": [0.1614003698647007]}]}, {\"name\": \"mean_absolute_error\", \"run_id\": \"AutoML_e49b850c-8443-43a5-91fc-87cbd9e30a71\", \"categories\": [0], \"series\": [{\"data\": [3.5939652098928496]}]}], \"run_logs\": \"\\nRun is completed.\", \"graph\": {}, \"widget_settings\": {\"childWidgetDisplay\": \"popup\", \"send_telemetry\": false, \"log_level\": \"INFO\", \"sdk_version\": \"1.29.0\"}, \"loading\": false}"
     },
     "metadata": {},
     "output_type": "display_data"
    }
   ],
   "source": [
    "from azureml.widgets import RunDetails\n",
    "RunDetails(local_run).show()"
   ]
  },
  {
   "cell_type": "code",
   "execution_count": 15,
   "id": "b8c8e5b6",
   "metadata": {},
   "outputs": [],
   "source": [
    "best_run?"
   ]
  },
  {
   "cell_type": "code",
   "execution_count": 19,
   "id": "5e7ac7ce",
   "metadata": {},
   "outputs": [
    {
     "name": "stdout",
     "output_type": "stream",
     "text": [
      "Run(Experiment: uplift-cat-feats-MSRE-automl-1hr,\n",
      "Id: AutoML_1ec40eca-7359-42e2-9ed2-bda3a6463a97_30,\n",
      "Type: None,\n",
      "Status: Completed)\n",
      "RegressionPipeline(pipeline=Pipeline(memory=None,\n",
      "                                     steps=[('datatransformer',\n",
      "                                             DataTransformer(enable_dnn=False, enable_feature_sweeping=True, feature_sweeping_config={}, feature_sweeping_timeout=86400, featurization_config=None, force_text_dnn=False, is_cross_validation=True, is_onnx_compatible=False, observer=None, task='regression', working_dir='/home/azureus...\n",
      ")), ('elasticnet', ElasticNet(alpha=0.1061578947368421, copy_X=True, fit_intercept=True, l1_ratio=0.11421052631578947, max_iter=1000, normalize=False, positive=False, precompute=False, random_state=None, selection='cyclic', tol=0.0001, warm_start=False))], verbose=False)), ('18', Pipeline(memory=None, steps=[('maxabsscaler', MaxAbsScaler(copy=True)), ('decisiontreeregressor', DecisionTreeRegressor(ccp_alpha=0.0, criterion='mse', max_depth=None, max_features=None, max_leaf_nodes=None, min_impurity_decrease=0.0, min_impurity_split=None, min_samples_leaf=0.007594568292413517, min_samples_split=0.0018261584682702607, min_weight_fraction_leaf=0.0, presort='deprecated', random_state=None, splitter='best'))], verbose=False))], weights=[0.26666666666666666, 0.06666666666666667, 0.13333333333333333, 0.06666666666666667, 0.06666666666666667, 0.2, 0.06666666666666667, 0.06666666666666667, 0.06666666666666667]))],\n",
      "                                     verbose=False),\n",
      "                   stddev=[5.282853604231692])\n"
     ]
    }
   ],
   "source": [
    "best_run, fitted_model = local_run.get_output()\n",
    "print(best_run)\n",
    "print(fitted_model)"
   ]
  },
  {
   "cell_type": "code",
   "execution_count": 20,
   "id": "0bf0d8d3",
   "metadata": {},
   "outputs": [
    {
     "name": "stdout",
     "output_type": "stream",
     "text": [
      "Printing to ./data/submission1hr.csv\n"
     ]
    }
   ],
   "source": [
    "y_pred = fitted_model.predict(X_test)\n",
    "submission_prep(y_pred, './data/test_Offer_ID_map_category_ct.json', '1hr')"
   ]
  },
  {
   "cell_type": "code",
   "execution_count": null,
   "id": "7890b4c7",
   "metadata": {},
   "outputs": [],
   "source": []
  }
 ],
 "metadata": {
  "kernelspec": {
   "display_name": "azureml_py36_automl",
   "language": "python",
   "name": "conda-env-azureml_py36_automl-py"
  },
  "language_info": {
   "codemirror_mode": {
    "name": "ipython",
    "version": 3
   },
   "file_extension": ".py",
   "mimetype": "text/x-python",
   "name": "python",
   "nbconvert_exporter": "python",
   "pygments_lexer": "ipython3",
   "version": "3.6.9"
  }
 },
 "nbformat": 4,
 "nbformat_minor": 5
}
