{
 "cells": [
  {
   "cell_type": "code",
   "execution_count": 1,
   "metadata": {},
   "outputs": [
    {
     "name": "stdout",
     "output_type": "stream",
     "text": [
      "20210518_checks.csv                 20210521_offers.csv\r\n",
      "20210518_hierarchy.csv              20210521_sample_submission copy.csv\r\n",
      "20210518_uplift.csv                 20210521_sample_submission.csv\r\n"
     ]
    }
   ],
   "source": [
    "!ls data"
   ]
  },
  {
   "cell_type": "code",
   "execution_count": null,
   "metadata": {},
   "outputs": [],
   "source": [
    "!"
   ]
  },
  {
   "cell_type": "code",
   "execution_count": 7,
   "metadata": {
    "scrolled": false
   },
   "outputs": [
    {
     "name": "stdout",
     "output_type": "stream",
     "text": [
      "sku,hierarchy_level1,hierarchy_level2,hierarchy_level3,hierarchy_level4\r\n",
      "29285fb39582e5a63c14026198c6ad51,44a7b825383402ed937a15fb8a5bb12a,9a1158154dfa42caddbd0694a4e9bdc8,f50c7035e532c49a0f6993d988e2e843,e9f41ed96e63ca1be6aea099625afe6f\r\n",
      "f31d0af494b191ef2bc8395db9c8366f,44a7b825383402ed937a15fb8a5bb12a,ad61ab143223efbc24c7d2583be69251,84e8ce7870f0eecd843366582bb95a28,b7fa186535a75c869bfaece622c72689\r\n",
      "49edad6669ba09dffbf278b76c53cd9d,cc9284597026dcc021735c0970ca0c93,1c383cd30b7c298ab50293adfecb7b18,2a3d6d6cc4b5e77238c1fc1bb6cdd681,7e0e0c1fe174b2d2efbf5ae0e2bc3ee9\r\n",
      "c5c632eb0f93a233ef6db2620a464ea0,44a7b825383402ed937a15fb8a5bb12a,d82c8d1619ad8176d665453cfb2e55f0,b27d5296bede63b1493a5d321d4e8092,ec2acf8ebfdb679d5fc87caadd98fb58\r\n",
      "9d0c7880f16c7748e1e992b28655c67f,cc9284597026dcc021735c0970ca0c93,6ea9ab1baa0efb9e19094440c317e21b,379a7ba015d8bf1c70b8add2c287c6fa,5aec2478fac4d1ee912c794c343d036c\r\n",
      "d963d770bea22dc35c7eb760fccf1bb5,cc9284597026dcc021735c0970ca0c93,c51ce410c124a10e0db5e4b97fc2af39,996009f2374006606f4c0b0fda878af1,96502411d7aa94fd4f57aec30026242d\r\n",
      "2ebc61a054341ebaf886b7d19de4a5ac,44a7b825383402ed937a15fb8a5bb12a,f7177163c833dff4b38fc8d2872f1ec6,2120606d6a751a93e392b46d945bba9d,52cbb5dbb41a50faf776f1a19ba39402\r\n",
      "8d23a1dcc3bd4f80c5bfdd1c2968c32f,44a7b825383402ed937a15fb8a5bb12a,a5771bce93e200c36f7cd9dfd0e5deaa,e97399278d24e6bbf3a2d5e9c8d34262,32d4d8df25a4d20cc801336137732213\r\n",
      "b139209608aef030a343a4f178de818d,cc9284597026dcc021735c0970ca0c93,e369853df766fa44e1ed0ff613f563bd,be1bc7997695495f756312886f566110,e94926639774d1eafcbc629369c31831\r\n"
     ]
    }
   ],
   "source": [
    "!head ./data/20210518_hierarchy.csv"
   ]
  },
  {
   "cell_type": "code",
   "execution_count": 8,
   "metadata": {
    "scrolled": true
   },
   "outputs": [
    {
     "name": "stdout",
     "output_type": "stream",
     "text": [
      "Promo_type,Offer_ID,sku,start_date,end_date,train_test_group\r\n",
      "Facades,F26,71c770923102af052f64c6036c9dd590,20200213,20200219,train\r\n",
      "Facades,F2,e87788b585ead792a4d40f7de18f2f76,20200102,20200108,train\r\n",
      "Facades,F9,5ae92b5e465d630285677e80b43fe5f7,20200116,20200122,train\r\n",
      "Facades,F45,0790b472112a765339f0e5c3f66816ee,20200319,20200325,train\r\n",
      "Facades,F191,e87788b585ead792a4d40f7de18f2f76,20201112,20201118,test\r\n",
      "Biweekly,224,e87788b585ead792a4d40f7de18f2f76,20200514,20200527,train\r\n",
      "Billboards,B86,cdab3403355b7fda81a1329b2f05cdec,20201029,20201111,test\r\n",
      "Facades,F13,bfce8277f8dacd84c86bcec698f8288d,20200123,20200129,train\r\n",
      "Facades,F23,06b43c04dfadb2fca40fd5762c317d48,20200206,20200212,train\r\n"
     ]
    }
   ],
   "source": [
    "!head ./dфata/20210521_offers.csv"
   ]
  },
  {
   "cell_type": "code",
   "execution_count": 19,
   "metadata": {},
   "outputs": [
    {
     "name": "stdout",
     "output_type": "stream",
     "text": [
      "    9777 ./data/20210521_offers.csv\r\n"
     ]
    }
   ],
   "source": [
    "!wc -l ./data/20210521_offers.csv"
   ]
  },
  {
   "cell_type": "code",
   "execution_count": 4,
   "metadata": {
    "scrolled": true
   },
   "outputs": [
    {
     "name": "stdout",
     "output_type": "stream",
     "text": [
      "Offer_ID,UpLift\r\n",
      "386,0\r\n",
      "182,0\r\n",
      "173,0\r\n",
      "375,0\r\n",
      "379,0\r\n",
      "63,0\r\n",
      "377,0\r\n",
      "381,0\r\n",
      "387,0\r\n"
     ]
    }
   ],
   "source": [
    "!head ./data/20210521_sample_submission.csv"
   ]
  },
  {
   "cell_type": "code",
   "execution_count": 6,
   "metadata": {
    "scrolled": true
   },
   "outputs": [
    {
     "name": "stdout",
     "output_type": "stream",
     "text": [
      "Offer_ID,UpLift\r\n",
      "241,1.7434267078\r\n",
      "70,16.8709476376\r\n",
      "342,15.1856237951\r\n",
      "B33,0.921722211\r\n",
      "244,4.8627291451\r\n",
      "339,2.9434833332\r\n",
      "357,12.6769625354\r\n",
      "B30,12.9971072396\r\n",
      "F72,0.5118388634000001\r\n"
     ]
    }
   ],
   "source": [
    "!head ./data/20210518_uplift.csv"
   ]
  },
  {
   "cell_type": "code",
   "execution_count": 17,
   "metadata": {},
   "outputs": [
    {
     "name": "stdout",
     "output_type": "stream",
     "text": [
      "     741 ./data/20210518_uplift.csv\r\n"
     ]
    }
   ],
   "source": [
    "!wc -l ./data/20210518_uplift.csv"
   ]
  },
  {
   "cell_type": "code",
   "execution_count": 9,
   "metadata": {
    "scrolled": true
   },
   "outputs": [
    {
     "name": "stdout",
     "output_type": "stream",
     "text": [
      "client_id,day,shop_id,check_id,time,sku,promo_id,check_pos,num_sales,supplier_price,selling_price,region_name\r\n",
      "d9da50b77962ad6401d0527db5b65b04,20191230,25bbdcd06c32d477f7fa1c3e4a91b032,c0b3f9c2215f924e27a6039617999c60,07:28:39,b17c870027bb4a22e3aedb971bc00def,b3deb0286313f0b888c0eac49580cc23,1,5.0,133.4,249.45,152f1b77a32508570e2745daf9ce7aec\r\n",
      "d9da50b77962ad6401d0527db5b65b04,20191230,25bbdcd06c32d477f7fa1c3e4a91b032,c0b3f9c2215f924e27a6039617999c60,07:28:39,b9ef00e971d0fb459a765708efba70c0,680a96609351230ed00e1d1090371cbc,2,1.0,96.77,118.99,152f1b77a32508570e2745daf9ce7aec\r\n",
      "d9da50b77962ad6401d0527db5b65b04,20191230,25bbdcd06c32d477f7fa1c3e4a91b032,c0b3f9c2215f924e27a6039617999c60,07:28:39,b75147feae4cf8ec07fb5f2cef855def,7215ee9c7d9dc229d2921a40e899ec5f,5,2.0,2.34,7.58,152f1b77a32508570e2745daf9ce7aec\r\n",
      "d9da50b77962ad6401d0527db5b65b04,20191230,25bbdcd06c32d477f7fa1c3e4a91b032,c0b3f9c2215f924e27a6039617999c60,07:28:39,b25e0d42165d246d23cbf4d3efcdf583,7215ee9c7d9dc229d2921a40e899ec5f,4,1.0,23.59,39.99,152f1b77a32508570e2745daf9ce7aec\r\n",
      "d9da50b77962ad6401d0527db5b65b04,20191230,25bbdcd06c32d477f7fa1c3e4a91b032,c0b3f9c2215f924e27a6039617999c60,07:28:39,a537d2eef30d47f9b11d655421ca93fb,05c93d4fa9bdbe70b5d2204ce9548ca9,3,1.0,24.02,39.99,152f1b77a32508570e2745daf9ce7aec\r\n",
      "936445a0ef613a41958d09bc17e1bada,20191230,25bbdcd06c32d477f7fa1c3e4a91b032,e5a4efd425d990e3273773bb36c0910f,23:35:14,40e1372e6aebbf19d15dbf80150f96c5,314afc461f361ebf6d9bcc75eb1de65c,2,0.938,141.33,211.05,152f1b77a32508570e2745daf9ce7aec\r\n",
      "936445a0ef613a41958d09bc17e1bada,20191230,25bbdcd06c32d477f7fa1c3e4a91b032,e5a4efd425d990e3273773bb36c0910f,23:35:14,6278f48a43fb0a23036b3a11c92e726c,e381db1eb941cd3410da420d07f745ef,3,2.164,53.06,43.27,152f1b77a32508570e2745daf9ce7aec\r\n",
      "936445a0ef613a41958d09bc17e1bada,20191230,25bbdcd06c32d477f7fa1c3e4a91b032,e5a4efd425d990e3273773bb36c0910f,23:35:14,60a00033f132d3f517243bd507132c75,baa99df85f4cec0cd428a542206acdd8,1,1.0,25.46,38.68,152f1b77a32508570e2745daf9ce7aec\r\n",
      "e20ecdfa15df77d40e63805caa402e78,20191230,25bbdcd06c32d477f7fa1c3e4a91b032,249a37b279e82b50e3bbe712dfc2f04f,10:24:15,fd08cdca069262b8323fc383564afab7,7215ee9c7d9dc229d2921a40e899ec5f,1,1.0,62.2,139.98,152f1b77a32508570e2745daf9ce7aec\r\n"
     ]
    }
   ],
   "source": [
    "!head ./data/20210518_checks.csv "
   ]
  },
  {
   "cell_type": "code",
   "execution_count": 1,
   "metadata": {},
   "outputs": [],
   "source": [
    "import pandas as pd\n",
    "#import modin.pandas as pd\n",
    "import datetime as dt"
   ]
  },
  {
   "cell_type": "code",
   "execution_count": 2,
   "metadata": {},
   "outputs": [
    {
     "data": {
      "text/plain": [
       "((21479259, 12),\n",
       " Index(['client_id', 'day', 'shop_id', 'check_id', 'time', 'sku', 'promo_id',\n",
       "        'check_pos', 'num_sales', 'supplier_price', 'selling_price',\n",
       "        'region_name'],\n",
       "       dtype='object'))"
      ]
     },
     "execution_count": 2,
     "metadata": {},
     "output_type": "execute_result"
    }
   ],
   "source": [
    "checks_df = pd.read_csv('./data/20210518_checks.csv')\n",
    "checks_df.shape, checks_df.columns"
   ]
  },
  {
   "cell_type": "code",
   "execution_count": 74,
   "metadata": {},
   "outputs": [
    {
     "data": {
      "text/html": [
       "<div>\n",
       "<style scoped>\n",
       "    .dataframe tbody tr th:only-of-type {\n",
       "        vertical-align: middle;\n",
       "    }\n",
       "\n",
       "    .dataframe tbody tr th {\n",
       "        vertical-align: top;\n",
       "    }\n",
       "\n",
       "    .dataframe thead th {\n",
       "        text-align: right;\n",
       "    }\n",
       "</style>\n",
       "<table border=\"1\" class=\"dataframe\">\n",
       "  <thead>\n",
       "    <tr style=\"text-align: right;\">\n",
       "      <th></th>\n",
       "      <th>client_id</th>\n",
       "      <th>day</th>\n",
       "      <th>shop_id</th>\n",
       "      <th>check_id</th>\n",
       "      <th>time</th>\n",
       "      <th>sku</th>\n",
       "      <th>promo_id</th>\n",
       "      <th>check_pos</th>\n",
       "      <th>num_sales</th>\n",
       "      <th>supplier_price</th>\n",
       "      <th>selling_price</th>\n",
       "      <th>region_name</th>\n",
       "      <th>date</th>\n",
       "      <th>time_str</th>\n",
       "    </tr>\n",
       "  </thead>\n",
       "  <tbody>\n",
       "    <tr>\n",
       "      <th>0</th>\n",
       "      <td>d9da50b77962ad6401d0527db5b65b04</td>\n",
       "      <td>20191230</td>\n",
       "      <td>25bbdcd06c32d477f7fa1c3e4a91b032</td>\n",
       "      <td>c0b3f9c2215f924e27a6039617999c60</td>\n",
       "      <td>07:28:39</td>\n",
       "      <td>b17c870027bb4a22e3aedb971bc00def</td>\n",
       "      <td>b3deb0286313f0b888c0eac49580cc23</td>\n",
       "      <td>1</td>\n",
       "      <td>5.0</td>\n",
       "      <td>133.40</td>\n",
       "      <td>249.45</td>\n",
       "      <td>152f1b77a32508570e2745daf9ce7aec</td>\n",
       "      <td>2019-12-30</td>\n",
       "      <td>07:28:39</td>\n",
       "    </tr>\n",
       "    <tr>\n",
       "      <th>1</th>\n",
       "      <td>d9da50b77962ad6401d0527db5b65b04</td>\n",
       "      <td>20191230</td>\n",
       "      <td>25bbdcd06c32d477f7fa1c3e4a91b032</td>\n",
       "      <td>c0b3f9c2215f924e27a6039617999c60</td>\n",
       "      <td>07:28:39</td>\n",
       "      <td>b9ef00e971d0fb459a765708efba70c0</td>\n",
       "      <td>680a96609351230ed00e1d1090371cbc</td>\n",
       "      <td>2</td>\n",
       "      <td>1.0</td>\n",
       "      <td>96.77</td>\n",
       "      <td>118.99</td>\n",
       "      <td>152f1b77a32508570e2745daf9ce7aec</td>\n",
       "      <td>2019-12-30</td>\n",
       "      <td>07:28:39</td>\n",
       "    </tr>\n",
       "    <tr>\n",
       "      <th>2</th>\n",
       "      <td>d9da50b77962ad6401d0527db5b65b04</td>\n",
       "      <td>20191230</td>\n",
       "      <td>25bbdcd06c32d477f7fa1c3e4a91b032</td>\n",
       "      <td>c0b3f9c2215f924e27a6039617999c60</td>\n",
       "      <td>07:28:39</td>\n",
       "      <td>b75147feae4cf8ec07fb5f2cef855def</td>\n",
       "      <td>7215ee9c7d9dc229d2921a40e899ec5f</td>\n",
       "      <td>5</td>\n",
       "      <td>2.0</td>\n",
       "      <td>2.34</td>\n",
       "      <td>7.58</td>\n",
       "      <td>152f1b77a32508570e2745daf9ce7aec</td>\n",
       "      <td>2019-12-30</td>\n",
       "      <td>07:28:39</td>\n",
       "    </tr>\n",
       "    <tr>\n",
       "      <th>3</th>\n",
       "      <td>d9da50b77962ad6401d0527db5b65b04</td>\n",
       "      <td>20191230</td>\n",
       "      <td>25bbdcd06c32d477f7fa1c3e4a91b032</td>\n",
       "      <td>c0b3f9c2215f924e27a6039617999c60</td>\n",
       "      <td>07:28:39</td>\n",
       "      <td>b25e0d42165d246d23cbf4d3efcdf583</td>\n",
       "      <td>7215ee9c7d9dc229d2921a40e899ec5f</td>\n",
       "      <td>4</td>\n",
       "      <td>1.0</td>\n",
       "      <td>23.59</td>\n",
       "      <td>39.99</td>\n",
       "      <td>152f1b77a32508570e2745daf9ce7aec</td>\n",
       "      <td>2019-12-30</td>\n",
       "      <td>07:28:39</td>\n",
       "    </tr>\n",
       "    <tr>\n",
       "      <th>4</th>\n",
       "      <td>d9da50b77962ad6401d0527db5b65b04</td>\n",
       "      <td>20191230</td>\n",
       "      <td>25bbdcd06c32d477f7fa1c3e4a91b032</td>\n",
       "      <td>c0b3f9c2215f924e27a6039617999c60</td>\n",
       "      <td>07:28:39</td>\n",
       "      <td>a537d2eef30d47f9b11d655421ca93fb</td>\n",
       "      <td>05c93d4fa9bdbe70b5d2204ce9548ca9</td>\n",
       "      <td>3</td>\n",
       "      <td>1.0</td>\n",
       "      <td>24.02</td>\n",
       "      <td>39.99</td>\n",
       "      <td>152f1b77a32508570e2745daf9ce7aec</td>\n",
       "      <td>2019-12-30</td>\n",
       "      <td>07:28:39</td>\n",
       "    </tr>\n",
       "  </tbody>\n",
       "</table>\n",
       "</div>"
      ],
      "text/plain": [
       "                          client_id       day  \\\n",
       "0  d9da50b77962ad6401d0527db5b65b04  20191230   \n",
       "1  d9da50b77962ad6401d0527db5b65b04  20191230   \n",
       "2  d9da50b77962ad6401d0527db5b65b04  20191230   \n",
       "3  d9da50b77962ad6401d0527db5b65b04  20191230   \n",
       "4  d9da50b77962ad6401d0527db5b65b04  20191230   \n",
       "\n",
       "                            shop_id                          check_id  \\\n",
       "0  25bbdcd06c32d477f7fa1c3e4a91b032  c0b3f9c2215f924e27a6039617999c60   \n",
       "1  25bbdcd06c32d477f7fa1c3e4a91b032  c0b3f9c2215f924e27a6039617999c60   \n",
       "2  25bbdcd06c32d477f7fa1c3e4a91b032  c0b3f9c2215f924e27a6039617999c60   \n",
       "3  25bbdcd06c32d477f7fa1c3e4a91b032  c0b3f9c2215f924e27a6039617999c60   \n",
       "4  25bbdcd06c32d477f7fa1c3e4a91b032  c0b3f9c2215f924e27a6039617999c60   \n",
       "\n",
       "       time                               sku  \\\n",
       "0  07:28:39  b17c870027bb4a22e3aedb971bc00def   \n",
       "1  07:28:39  b9ef00e971d0fb459a765708efba70c0   \n",
       "2  07:28:39  b75147feae4cf8ec07fb5f2cef855def   \n",
       "3  07:28:39  b25e0d42165d246d23cbf4d3efcdf583   \n",
       "4  07:28:39  a537d2eef30d47f9b11d655421ca93fb   \n",
       "\n",
       "                           promo_id  check_pos  num_sales  supplier_price  \\\n",
       "0  b3deb0286313f0b888c0eac49580cc23          1        5.0          133.40   \n",
       "1  680a96609351230ed00e1d1090371cbc          2        1.0           96.77   \n",
       "2  7215ee9c7d9dc229d2921a40e899ec5f          5        2.0            2.34   \n",
       "3  7215ee9c7d9dc229d2921a40e899ec5f          4        1.0           23.59   \n",
       "4  05c93d4fa9bdbe70b5d2204ce9548ca9          3        1.0           24.02   \n",
       "\n",
       "   selling_price                       region_name       date  time_str  \n",
       "0         249.45  152f1b77a32508570e2745daf9ce7aec 2019-12-30  07:28:39  \n",
       "1         118.99  152f1b77a32508570e2745daf9ce7aec 2019-12-30  07:28:39  \n",
       "2           7.58  152f1b77a32508570e2745daf9ce7aec 2019-12-30  07:28:39  \n",
       "3          39.99  152f1b77a32508570e2745daf9ce7aec 2019-12-30  07:28:39  \n",
       "4          39.99  152f1b77a32508570e2745daf9ce7aec 2019-12-30  07:28:39  "
      ]
     },
     "execution_count": 74,
     "metadata": {},
     "output_type": "execute_result"
    }
   ],
   "source": [
    "checks_df.head()"
   ]
  },
  {
   "cell_type": "code",
   "execution_count": 75,
   "metadata": {
    "collapsed": true
   },
   "outputs": [
    {
     "data": {
      "text/plain": [
       "client_id                 object\n",
       "day                        int64\n",
       "shop_id                   object\n",
       "check_id                  object\n",
       "time                      object\n",
       "sku                       object\n",
       "promo_id                  object\n",
       "check_pos                  int64\n",
       "num_sales                float64\n",
       "supplier_price           float64\n",
       "selling_price            float64\n",
       "region_name               object\n",
       "date              datetime64[ns]\n",
       "time_str                  object\n",
       "dtype: object"
      ]
     },
     "execution_count": 75,
     "metadata": {},
     "output_type": "execute_result"
    }
   ],
   "source": [
    "checks_df.dtypes"
   ]
  },
  {
   "cell_type": "code",
   "execution_count": 3,
   "metadata": {},
   "outputs": [],
   "source": [
    "checks_df['date'] = pd.to_datetime(checks_df['day'], format=\"%Y%m%d\")"
   ]
  },
  {
   "cell_type": "code",
   "execution_count": 4,
   "metadata": {},
   "outputs": [],
   "source": [
    "%%time \n",
    "checks_df['time'] = pd.to_datetime(checks_df['time'], format='%H:%M:%S').dt.time"
   ]
  },
  {
   "cell_type": "code",
   "execution_count": 5,
   "metadata": {},
   "outputs": [
    {
     "data": {
      "text/plain": [
       "(1073963, 13)"
      ]
     },
     "execution_count": 5,
     "metadata": {},
     "output_type": "execute_result"
    }
   ],
   "source": [
    "# sampling a managebale size \n",
    "checks_df_sample = checks_df.sample(frac=0.05)\n",
    "checks_df_sample.shape"
   ]
  },
  {
   "cell_type": "code",
   "execution_count": 6,
   "metadata": {},
   "outputs": [
    {
     "data": {
      "text/plain": [
       "((9776, 6),\n",
       " Index(['Promo_type', 'Offer_ID', 'sku', 'start_date', 'end_date',\n",
       "        'train_test_group'],\n",
       "       dtype='object'))"
      ]
     },
     "execution_count": 6,
     "metadata": {},
     "output_type": "execute_result"
    }
   ],
   "source": [
    "offers_df = pd.read_csv('./data/20210521_offers.csv')\n",
    "offers_df.shape, offers_df.columns"
   ]
  },
  {
   "cell_type": "code",
   "execution_count": 51,
   "metadata": {},
   "outputs": [
    {
     "data": {
      "text/html": [
       "<div>\n",
       "<style scoped>\n",
       "    .dataframe tbody tr th:only-of-type {\n",
       "        vertical-align: middle;\n",
       "    }\n",
       "\n",
       "    .dataframe tbody tr th {\n",
       "        vertical-align: top;\n",
       "    }\n",
       "\n",
       "    .dataframe thead th {\n",
       "        text-align: right;\n",
       "    }\n",
       "</style>\n",
       "<table border=\"1\" class=\"dataframe\">\n",
       "  <thead>\n",
       "    <tr style=\"text-align: right;\">\n",
       "      <th></th>\n",
       "      <th>Promo_type</th>\n",
       "      <th>Offer_ID</th>\n",
       "      <th>sku</th>\n",
       "      <th>start_date</th>\n",
       "      <th>end_date</th>\n",
       "      <th>train_test_group</th>\n",
       "    </tr>\n",
       "  </thead>\n",
       "  <tbody>\n",
       "    <tr>\n",
       "      <th>1771</th>\n",
       "      <td>Billboards</td>\n",
       "      <td>B33</td>\n",
       "      <td>78c3671ea7eb1ad74cc1004cf91eef06</td>\n",
       "      <td>20200416</td>\n",
       "      <td>20200429</td>\n",
       "      <td>train</td>\n",
       "    </tr>\n",
       "    <tr>\n",
       "      <th>4076</th>\n",
       "      <td>Biweekly</td>\n",
       "      <td>11</td>\n",
       "      <td>19830b17d5e3b05de053be17fbb863f2</td>\n",
       "      <td>20200402</td>\n",
       "      <td>20200415</td>\n",
       "      <td>train</td>\n",
       "    </tr>\n",
       "    <tr>\n",
       "      <th>1270</th>\n",
       "      <td>Facades</td>\n",
       "      <td>F132</td>\n",
       "      <td>15d471c031afc51602c31be5286fd548</td>\n",
       "      <td>20200820</td>\n",
       "      <td>20200826</td>\n",
       "      <td>train</td>\n",
       "    </tr>\n",
       "    <tr>\n",
       "      <th>6655</th>\n",
       "      <td>Seasonal</td>\n",
       "      <td>35</td>\n",
       "      <td>742027a6231e0804c14af7423bf3ed2e</td>\n",
       "      <td>20200103</td>\n",
       "      <td>20200113</td>\n",
       "      <td>train</td>\n",
       "    </tr>\n",
       "    <tr>\n",
       "      <th>1557</th>\n",
       "      <td>Facades</td>\n",
       "      <td>F70</td>\n",
       "      <td>72bfab21de787a37d3508e27ab8595aa</td>\n",
       "      <td>20200430</td>\n",
       "      <td>20200506</td>\n",
       "      <td>train</td>\n",
       "    </tr>\n",
       "  </tbody>\n",
       "</table>\n",
       "</div>"
      ],
      "text/plain": [
       "      Promo_type Offer_ID                               sku  start_date  \\\n",
       "1771  Billboards      B33  78c3671ea7eb1ad74cc1004cf91eef06    20200416   \n",
       "4076    Biweekly       11  19830b17d5e3b05de053be17fbb863f2    20200402   \n",
       "1270     Facades     F132  15d471c031afc51602c31be5286fd548    20200820   \n",
       "6655    Seasonal       35  742027a6231e0804c14af7423bf3ed2e    20200103   \n",
       "1557     Facades      F70  72bfab21de787a37d3508e27ab8595aa    20200430   \n",
       "\n",
       "      end_date train_test_group  \n",
       "1771  20200429            train  \n",
       "4076  20200415            train  \n",
       "1270  20200826            train  \n",
       "6655  20200113            train  \n",
       "1557  20200506            train  "
      ]
     },
     "execution_count": 51,
     "metadata": {},
     "output_type": "execute_result"
    }
   ],
   "source": [
    "offers_df.sample(5)"
   ]
  },
  {
   "cell_type": "code",
   "execution_count": 7,
   "metadata": {},
   "outputs": [],
   "source": [
    "offers_df['start_date'] = pd.to_datetime(offers_df['start_date'], format=\"%Y%m%d\")\n",
    "offers_df['end_date'] = pd.to_datetime(offers_df['end_date'], format=\"%Y%m%d\")"
   ]
  },
  {
   "cell_type": "code",
   "execution_count": 34,
   "metadata": {},
   "outputs": [
    {
     "data": {
      "text/plain": [
       "Promo_type          object\n",
       "Offer_ID            object\n",
       "sku                 object\n",
       "start_date           int64\n",
       "end_date             int64\n",
       "train_test_group    object\n",
       "dtype: object"
      ]
     },
     "execution_count": 34,
     "metadata": {},
     "output_type": "execute_result"
    }
   ],
   "source": [
    "offers_df.dtypespes"
   ]
  },
  {
   "cell_type": "code",
   "execution_count": 11,
   "metadata": {},
   "outputs": [],
   "source": [
    "checks_df_sample = checks_df_sample.merge(offers_df, on=\"sku\", how=\"outer\")"
   ]
  },
  {
   "cell_type": "code",
   "execution_count": 12,
   "metadata": {
    "scrolled": false
   },
   "outputs": [
    {
     "data": {
      "text/html": [
       "<div>\n",
       "<style scoped>\n",
       "    .dataframe tbody tr th:only-of-type {\n",
       "        vertical-align: middle;\n",
       "    }\n",
       "\n",
       "    .dataframe tbody tr th {\n",
       "        vertical-align: top;\n",
       "    }\n",
       "\n",
       "    .dataframe thead th {\n",
       "        text-align: right;\n",
       "    }\n",
       "</style>\n",
       "<table border=\"1\" class=\"dataframe\">\n",
       "  <thead>\n",
       "    <tr style=\"text-align: right;\">\n",
       "      <th></th>\n",
       "      <th>client_id</th>\n",
       "      <th>day</th>\n",
       "      <th>shop_id</th>\n",
       "      <th>check_id</th>\n",
       "      <th>time</th>\n",
       "      <th>sku</th>\n",
       "      <th>promo_id</th>\n",
       "      <th>check_pos</th>\n",
       "      <th>num_sales</th>\n",
       "      <th>supplier_price</th>\n",
       "      <th>selling_price</th>\n",
       "      <th>region_name</th>\n",
       "      <th>date</th>\n",
       "      <th>Promo_type</th>\n",
       "      <th>Offer_ID</th>\n",
       "      <th>start_date</th>\n",
       "      <th>end_date</th>\n",
       "      <th>train_test_group</th>\n",
       "    </tr>\n",
       "  </thead>\n",
       "  <tbody>\n",
       "    <tr>\n",
       "      <th>0</th>\n",
       "      <td>bdc815d138d8104aa4b544deee30953f</td>\n",
       "      <td>20200801.0</td>\n",
       "      <td>b705667936f5d49b801c56aa43bed5ea</td>\n",
       "      <td>6c9d211d053f79cad0e2c81616356308</td>\n",
       "      <td>16:15:54</td>\n",
       "      <td>cdff3b5d2ae5d4bdefc4acca9e5fa564</td>\n",
       "      <td>7215ee9c7d9dc229d2921a40e899ec5f</td>\n",
       "      <td>2.0</td>\n",
       "      <td>1.0</td>\n",
       "      <td>38.49</td>\n",
       "      <td>65.89</td>\n",
       "      <td>152f1b77a32508570e2745daf9ce7aec</td>\n",
       "      <td>2020-08-01</td>\n",
       "      <td>NaN</td>\n",
       "      <td>NaN</td>\n",
       "      <td>NaT</td>\n",
       "      <td>NaT</td>\n",
       "      <td>NaN</td>\n",
       "    </tr>\n",
       "    <tr>\n",
       "      <th>1</th>\n",
       "      <td>eb29576cf64cdc6f9e48ca650714ddf8</td>\n",
       "      <td>20200908.0</td>\n",
       "      <td>89befd1102aeaead24cfe2b9fa9997f9</td>\n",
       "      <td>48fd219c27327709723e1be137fe2958</td>\n",
       "      <td>16:25:20</td>\n",
       "      <td>cdff3b5d2ae5d4bdefc4acca9e5fa564</td>\n",
       "      <td>7215ee9c7d9dc229d2921a40e899ec5f</td>\n",
       "      <td>27.0</td>\n",
       "      <td>1.0</td>\n",
       "      <td>30.92</td>\n",
       "      <td>76.89</td>\n",
       "      <td>152f1b77a32508570e2745daf9ce7aec</td>\n",
       "      <td>2020-09-08</td>\n",
       "      <td>NaN</td>\n",
       "      <td>NaN</td>\n",
       "      <td>NaT</td>\n",
       "      <td>NaT</td>\n",
       "      <td>NaN</td>\n",
       "    </tr>\n",
       "    <tr>\n",
       "      <th>2</th>\n",
       "      <td>cc0e4625752752d0d074f27bf4cfd192</td>\n",
       "      <td>20200307.0</td>\n",
       "      <td>29150bb2319c182c944841c74d2f8d75</td>\n",
       "      <td>9a9c22fd18c819c379a0b8e9a02a4a34</td>\n",
       "      <td>15:03:48</td>\n",
       "      <td>cdff3b5d2ae5d4bdefc4acca9e5fa564</td>\n",
       "      <td>7215ee9c7d9dc229d2921a40e899ec5f</td>\n",
       "      <td>7.0</td>\n",
       "      <td>1.0</td>\n",
       "      <td>28.21</td>\n",
       "      <td>59.89</td>\n",
       "      <td>152f1b77a32508570e2745daf9ce7aec</td>\n",
       "      <td>2020-03-07</td>\n",
       "      <td>NaN</td>\n",
       "      <td>NaN</td>\n",
       "      <td>NaT</td>\n",
       "      <td>NaT</td>\n",
       "      <td>NaN</td>\n",
       "    </tr>\n",
       "    <tr>\n",
       "      <th>3</th>\n",
       "      <td>e7ae6cc12f6002997f2544a240c80552</td>\n",
       "      <td>20200528.0</td>\n",
       "      <td>95b09698fda1f64af16708ffb859eab9</td>\n",
       "      <td>06879e9b1bb0dddf1adf816c9ef973e5</td>\n",
       "      <td>15:04:25</td>\n",
       "      <td>cdff3b5d2ae5d4bdefc4acca9e5fa564</td>\n",
       "      <td>7215ee9c7d9dc229d2921a40e899ec5f</td>\n",
       "      <td>10.0</td>\n",
       "      <td>1.0</td>\n",
       "      <td>36.53</td>\n",
       "      <td>67.79</td>\n",
       "      <td>152f1b77a32508570e2745daf9ce7aec</td>\n",
       "      <td>2020-05-28</td>\n",
       "      <td>NaN</td>\n",
       "      <td>NaN</td>\n",
       "      <td>NaT</td>\n",
       "      <td>NaT</td>\n",
       "      <td>NaN</td>\n",
       "    </tr>\n",
       "    <tr>\n",
       "      <th>4</th>\n",
       "      <td>47f6ae07b8f64263b807ef96693001f4</td>\n",
       "      <td>20200409.0</td>\n",
       "      <td>2ebe25dd3a566f36f80d55440d3c3834</td>\n",
       "      <td>5ef4d965bddabd99a437db5c2c207aae</td>\n",
       "      <td>13:40:20</td>\n",
       "      <td>cdff3b5d2ae5d4bdefc4acca9e5fa564</td>\n",
       "      <td>ecce0ae6393290b8a42783d86bdc1394</td>\n",
       "      <td>11.0</td>\n",
       "      <td>1.0</td>\n",
       "      <td>29.36</td>\n",
       "      <td>49.99</td>\n",
       "      <td>152f1b77a32508570e2745daf9ce7aec</td>\n",
       "      <td>2020-04-09</td>\n",
       "      <td>NaN</td>\n",
       "      <td>NaN</td>\n",
       "      <td>NaT</td>\n",
       "      <td>NaT</td>\n",
       "      <td>NaN</td>\n",
       "    </tr>\n",
       "  </tbody>\n",
       "</table>\n",
       "</div>"
      ],
      "text/plain": [
       "                          client_id         day  \\\n",
       "0  bdc815d138d8104aa4b544deee30953f  20200801.0   \n",
       "1  eb29576cf64cdc6f9e48ca650714ddf8  20200908.0   \n",
       "2  cc0e4625752752d0d074f27bf4cfd192  20200307.0   \n",
       "3  e7ae6cc12f6002997f2544a240c80552  20200528.0   \n",
       "4  47f6ae07b8f64263b807ef96693001f4  20200409.0   \n",
       "\n",
       "                            shop_id                          check_id  \\\n",
       "0  b705667936f5d49b801c56aa43bed5ea  6c9d211d053f79cad0e2c81616356308   \n",
       "1  89befd1102aeaead24cfe2b9fa9997f9  48fd219c27327709723e1be137fe2958   \n",
       "2  29150bb2319c182c944841c74d2f8d75  9a9c22fd18c819c379a0b8e9a02a4a34   \n",
       "3  95b09698fda1f64af16708ffb859eab9  06879e9b1bb0dddf1adf816c9ef973e5   \n",
       "4  2ebe25dd3a566f36f80d55440d3c3834  5ef4d965bddabd99a437db5c2c207aae   \n",
       "\n",
       "       time                               sku  \\\n",
       "0  16:15:54  cdff3b5d2ae5d4bdefc4acca9e5fa564   \n",
       "1  16:25:20  cdff3b5d2ae5d4bdefc4acca9e5fa564   \n",
       "2  15:03:48  cdff3b5d2ae5d4bdefc4acca9e5fa564   \n",
       "3  15:04:25  cdff3b5d2ae5d4bdefc4acca9e5fa564   \n",
       "4  13:40:20  cdff3b5d2ae5d4bdefc4acca9e5fa564   \n",
       "\n",
       "                           promo_id  check_pos  num_sales  supplier_price  \\\n",
       "0  7215ee9c7d9dc229d2921a40e899ec5f        2.0        1.0           38.49   \n",
       "1  7215ee9c7d9dc229d2921a40e899ec5f       27.0        1.0           30.92   \n",
       "2  7215ee9c7d9dc229d2921a40e899ec5f        7.0        1.0           28.21   \n",
       "3  7215ee9c7d9dc229d2921a40e899ec5f       10.0        1.0           36.53   \n",
       "4  ecce0ae6393290b8a42783d86bdc1394       11.0        1.0           29.36   \n",
       "\n",
       "   selling_price                       region_name       date Promo_type  \\\n",
       "0          65.89  152f1b77a32508570e2745daf9ce7aec 2020-08-01        NaN   \n",
       "1          76.89  152f1b77a32508570e2745daf9ce7aec 2020-09-08        NaN   \n",
       "2          59.89  152f1b77a32508570e2745daf9ce7aec 2020-03-07        NaN   \n",
       "3          67.79  152f1b77a32508570e2745daf9ce7aec 2020-05-28        NaN   \n",
       "4          49.99  152f1b77a32508570e2745daf9ce7aec 2020-04-09        NaN   \n",
       "\n",
       "  Offer_ID start_date end_date train_test_group  \n",
       "0      NaN        NaT      NaT              NaN  \n",
       "1      NaN        NaT      NaT              NaN  \n",
       "2      NaN        NaT      NaT              NaN  \n",
       "3      NaN        NaT      NaT              NaN  \n",
       "4      NaN        NaT      NaT              NaN  "
      ]
     },
     "execution_count": 12,
     "metadata": {},
     "output_type": "execute_result"
    }
   ],
   "source": [
    "checks_df_sample.head()"
   ]
  },
  {
   "cell_type": "code",
   "execution_count": 13,
   "metadata": {},
   "outputs": [
    {
     "data": {
      "text/plain": [
       "(1721180, 18)"
      ]
     },
     "execution_count": 13,
     "metadata": {},
     "output_type": "execute_result"
    }
   ],
   "source": [
    "checks_df_sample.shape"
   ]
  },
  {
   "cell_type": "code",
   "execution_count": 15,
   "metadata": {},
   "outputs": [
    {
     "data": {
      "text/plain": [
       "train_test_group    825828\n",
       "end_date            825828\n",
       "start_date          825828\n",
       "Offer_ID            825828\n",
       "Promo_type          825828\n",
       "day                    319\n",
       "date                   319\n",
       "region_name            319\n",
       "selling_price          319\n",
       "client_id              319\n",
       "num_sales              319\n",
       "check_pos              319\n",
       "promo_id               319\n",
       "time                   319\n",
       "check_id               319\n",
       "shop_id                319\n",
       "supplier_price         319\n",
       "sku                      0\n",
       "dtype: int64"
      ]
     },
     "execution_count": 15,
     "metadata": {},
     "output_type": "execute_result"
    }
   ],
   "source": [
    "checks_df_sample.isnull().sum().sort_values(ascending=False)"
   ]
  },
  {
   "cell_type": "code",
   "execution_count": 18,
   "metadata": {},
   "outputs": [
    {
     "data": {
      "text/plain": [
       "(1720861, 18)"
      ]
     },
     "execution_count": 18,
     "metadata": {},
     "output_type": "execute_result"
    }
   ],
   "source": [
    "checks_df_sample_clean = checks_df_sample.dropna(subset=['supplier_price'], axis=0, )\n",
    "checks_df_sample_clean.shape"
   ]
  },
  {
   "cell_type": "code",
   "execution_count": 21,
   "metadata": {},
   "outputs": [
    {
     "data": {
      "text/plain": [
       "train_test_group    825828\n",
       "end_date            825828\n",
       "start_date          825828\n",
       "Offer_ID            825828\n",
       "Promo_type          825828\n",
       "day                      0\n",
       "date                     0\n",
       "region_name              0\n",
       "selling_price            0\n",
       "client_id                0\n",
       "num_sales                0\n",
       "check_pos                0\n",
       "promo_id                 0\n",
       "sku                      0\n",
       "time                     0\n",
       "check_id                 0\n",
       "shop_id                  0\n",
       "supplier_price           0\n",
       "dtype: int64"
      ]
     },
     "execution_count": 21,
     "metadata": {},
     "output_type": "execute_result"
    }
   ],
   "source": [
    "checks_df_sample_clean.isnull().sum().sort_values(ascending=False)"
   ]
  },
  {
   "cell_type": "code",
   "execution_count": 22,
   "metadata": {},
   "outputs": [],
   "source": [
    "checks_df_sample = checks_df_sample_clean"
   ]
  },
  {
   "cell_type": "code",
   "execution_count": null,
   "metadata": {},
   "outputs": [],
   "source": [
    "checks_not_in_offers_df = checks_df_sample.where(checks_df_sample[''])"
   ]
  },
  {
   "cell_type": "code",
   "execution_count": 28,
   "metadata": {},
   "outputs": [
    {
     "ename": "TypeError",
     "evalue": "Index must be DatetimeIndex",
     "output_type": "error",
     "traceback": [
      "\u001b[0;31m---------------------------------------------------------------------------\u001b[0m",
      "\u001b[0;31mTypeError\u001b[0m                                 Traceback (most recent call last)",
      "\u001b[0;32m<ipython-input-28-fe208becbb21>\u001b[0m in \u001b[0;36m<module>\u001b[0;34m\u001b[0m\n\u001b[1;32m      1\u001b[0m checks_df_sample['date'].between_time(checks_df_sample['start_date'], \n\u001b[0;32m----> 2\u001b[0;31m                                             checks_df_sample['end_date'])\n\u001b[0m",
      "\u001b[0;32m~/.pyenv/versions/anaconda3-2019.10/envs/cs224n/lib/python3.7/site-packages/pandas/core/generic.py\u001b[0m in \u001b[0;36mbetween_time\u001b[0;34m(self, start_time, end_time, include_start, include_end, axis)\u001b[0m\n\u001b[1;32m   7974\u001b[0m         \u001b[0mindex\u001b[0m \u001b[0;34m=\u001b[0m \u001b[0mself\u001b[0m\u001b[0;34m.\u001b[0m\u001b[0m_get_axis\u001b[0m\u001b[0;34m(\u001b[0m\u001b[0maxis\u001b[0m\u001b[0;34m)\u001b[0m\u001b[0;34m\u001b[0m\u001b[0;34m\u001b[0m\u001b[0m\n\u001b[1;32m   7975\u001b[0m         \u001b[0;32mif\u001b[0m \u001b[0;32mnot\u001b[0m \u001b[0misinstance\u001b[0m\u001b[0;34m(\u001b[0m\u001b[0mindex\u001b[0m\u001b[0;34m,\u001b[0m \u001b[0mDatetimeIndex\u001b[0m\u001b[0;34m)\u001b[0m\u001b[0;34m:\u001b[0m\u001b[0;34m\u001b[0m\u001b[0;34m\u001b[0m\u001b[0m\n\u001b[0;32m-> 7976\u001b[0;31m             \u001b[0;32mraise\u001b[0m \u001b[0mTypeError\u001b[0m\u001b[0;34m(\u001b[0m\u001b[0;34m\"Index must be DatetimeIndex\"\u001b[0m\u001b[0;34m)\u001b[0m\u001b[0;34m\u001b[0m\u001b[0;34m\u001b[0m\u001b[0m\n\u001b[0m\u001b[1;32m   7977\u001b[0m \u001b[0;34m\u001b[0m\u001b[0m\n\u001b[1;32m   7978\u001b[0m         indexer = index.indexer_between_time(\n",
      "\u001b[0;31mTypeError\u001b[0m: Index must be DatetimeIndex"
     ]
    }
   ],
   "source": [
    "checks_df_sample['date'].between_time(checks_df_sample['start_date'], \n",
    "                                            checks_df_sample['end_date'])"
   ]
  },
  {
   "cell_type": "code",
   "execution_count": null,
   "metadata": {},
   "outputs": [],
   "source": []
  },
  {
   "cell_type": "code",
   "execution_count": 30,
   "metadata": {},
   "outputs": [
    {
     "ename": "KeyError",
     "evalue": "\"None of ['data'] are in the columns\"",
     "output_type": "error",
     "traceback": [
      "\u001b[0;31m---------------------------------------------------------------------------\u001b[0m",
      "\u001b[0;31mKeyError\u001b[0m                                  Traceback (most recent call last)",
      "\u001b[0;32m<ipython-input-30-e7e4bb16346b>\u001b[0m in \u001b[0;36m<module>\u001b[0;34m\u001b[0m\n\u001b[0;32m----> 1\u001b[0;31m \u001b[0mchecks_df_sample_dt\u001b[0m \u001b[0;34m=\u001b[0m \u001b[0mchecks_df_sample\u001b[0m\u001b[0;34m.\u001b[0m\u001b[0mset_index\u001b[0m\u001b[0;34m(\u001b[0m\u001b[0;34m'data'\u001b[0m\u001b[0;34m)\u001b[0m\u001b[0;34m\u001b[0m\u001b[0;34m\u001b[0m\u001b[0m\n\u001b[0m",
      "\u001b[0;32m~/.pyenv/versions/anaconda3-2019.10/envs/cs224n/lib/python3.7/site-packages/pandas/core/frame.py\u001b[0m in \u001b[0;36mset_index\u001b[0;34m(self, keys, drop, append, inplace, verify_integrity)\u001b[0m\n\u001b[1;32m   4725\u001b[0m \u001b[0;34m\u001b[0m\u001b[0m\n\u001b[1;32m   4726\u001b[0m         \u001b[0;32mif\u001b[0m \u001b[0mmissing\u001b[0m\u001b[0;34m:\u001b[0m\u001b[0;34m\u001b[0m\u001b[0;34m\u001b[0m\u001b[0m\n\u001b[0;32m-> 4727\u001b[0;31m             \u001b[0;32mraise\u001b[0m \u001b[0mKeyError\u001b[0m\u001b[0;34m(\u001b[0m\u001b[0;34mf\"None of {missing} are in the columns\"\u001b[0m\u001b[0;34m)\u001b[0m\u001b[0;34m\u001b[0m\u001b[0;34m\u001b[0m\u001b[0m\n\u001b[0m\u001b[1;32m   4728\u001b[0m \u001b[0;34m\u001b[0m\u001b[0m\n\u001b[1;32m   4729\u001b[0m         \u001b[0;32mif\u001b[0m \u001b[0minplace\u001b[0m\u001b[0;34m:\u001b[0m\u001b[0;34m\u001b[0m\u001b[0;34m\u001b[0m\u001b[0m\n",
      "\u001b[0;31mKeyError\u001b[0m: \"None of ['data'] are in the columns\""
     ]
    }
   ],
   "source": [
    "checks_df_sample_dt = checks_df_sample.set_index('data')"
   ]
  },
  {
   "cell_type": "code",
   "execution_count": 26,
   "metadata": {},
   "outputs": [
    {
     "ename": "TypeError",
     "evalue": "Index must be DatetimeIndex",
     "output_type": "error",
     "traceback": [
      "\u001b[0;31m---------------------------------------------------------------------------\u001b[0m",
      "\u001b[0;31mTypeError\u001b[0m                                 Traceback (most recent call last)",
      "\u001b[0;32m<ipython-input-26-ddd52f1c7d8b>\u001b[0m in \u001b[0;36m<module>\u001b[0;34m\u001b[0m\n\u001b[1;32m      1\u001b[0m checks_df_sample_btw = checks_df_sample.where((checks_df_sample['date'].between_time(checks_df_sample['start_date'], \n\u001b[0;32m----> 2\u001b[0;31m                                             checks_df_sample['end_date']) \n\u001b[0m\u001b[1;32m      3\u001b[0m                                               | checks_df_sample['Offer_ID'].isna())\n\u001b[1;32m      4\u001b[0m                                              )\n\u001b[1;32m      5\u001b[0m \u001b[0mchecks_df_sample_btw\u001b[0m\u001b[0;34m.\u001b[0m\u001b[0mshape\u001b[0m\u001b[0;34m\u001b[0m\u001b[0;34m\u001b[0m\u001b[0m\n",
      "\u001b[0;32m~/.pyenv/versions/anaconda3-2019.10/envs/cs224n/lib/python3.7/site-packages/pandas/core/generic.py\u001b[0m in \u001b[0;36mbetween_time\u001b[0;34m(self, start_time, end_time, include_start, include_end, axis)\u001b[0m\n\u001b[1;32m   7974\u001b[0m         \u001b[0mindex\u001b[0m \u001b[0;34m=\u001b[0m \u001b[0mself\u001b[0m\u001b[0;34m.\u001b[0m\u001b[0m_get_axis\u001b[0m\u001b[0;34m(\u001b[0m\u001b[0maxis\u001b[0m\u001b[0;34m)\u001b[0m\u001b[0;34m\u001b[0m\u001b[0;34m\u001b[0m\u001b[0m\n\u001b[1;32m   7975\u001b[0m         \u001b[0;32mif\u001b[0m \u001b[0;32mnot\u001b[0m \u001b[0misinstance\u001b[0m\u001b[0;34m(\u001b[0m\u001b[0mindex\u001b[0m\u001b[0;34m,\u001b[0m \u001b[0mDatetimeIndex\u001b[0m\u001b[0;34m)\u001b[0m\u001b[0;34m:\u001b[0m\u001b[0;34m\u001b[0m\u001b[0;34m\u001b[0m\u001b[0m\n\u001b[0;32m-> 7976\u001b[0;31m             \u001b[0;32mraise\u001b[0m \u001b[0mTypeError\u001b[0m\u001b[0;34m(\u001b[0m\u001b[0;34m\"Index must be DatetimeIndex\"\u001b[0m\u001b[0;34m)\u001b[0m\u001b[0;34m\u001b[0m\u001b[0;34m\u001b[0m\u001b[0m\n\u001b[0m\u001b[1;32m   7977\u001b[0m \u001b[0;34m\u001b[0m\u001b[0m\n\u001b[1;32m   7978\u001b[0m         indexer = index.indexer_between_time(\n",
      "\u001b[0;31mTypeError\u001b[0m: Index must be DatetimeIndex"
     ]
    }
   ],
   "source": [
    "checks_df_sample_btw = checks_df_sample_dt.where((checks_df_sample_dt.between_time(checks_df_sample['start_date'], \n",
    "                                            checks_df_sample['end_date']) \n",
    "                                              | checks_df_sample['Offer_ID'].isna())\n",
    "                                             )\n",
    "checks_df_sample_btw.shape"
   ]
  },
  {
   "cell_type": "code",
   "execution_count": null,
   "metadata": {},
   "outputs": [],
   "source": []
  },
  {
   "cell_type": "code",
   "execution_count": 22,
   "metadata": {},
   "outputs": [
    {
     "data": {
      "text/plain": [
       "False    1073963\n",
       "Name: promo_id, dtype: int64"
      ]
     },
     "execution_count": 22,
     "metadata": {},
     "output_type": "execute_result"
    }
   ],
   "source": [
    "checks_df_sample['promo_id'].isna().value_counts()"
   ]
  },
  {
   "cell_type": "code",
   "execution_count": 15,
   "metadata": {},
   "outputs": [
    {
     "data": {
      "text/plain": [
       "152f1b77a32508570e2745daf9ce7aec    617959\n",
       "7e35e74e610188414ad24235dd787c78    456004\n",
       "Name: region_name, dtype: int64"
      ]
     },
     "execution_count": 15,
     "metadata": {},
     "output_type": "execute_result"
    }
   ],
   "source": [
    "checks_df_sample['region_name'].value_counts()"
   ]
  },
  {
   "cell_type": "code",
   "execution_count": 16,
   "metadata": {},
   "outputs": [
    {
     "data": {
      "text/plain": [
       "(44787,)"
      ]
     },
     "execution_count": 16,
     "metadata": {},
     "output_type": "execute_result"
    }
   ],
   "source": [
    "checks_df_sample['promo_id'].value_counts().shape"
   ]
  },
  {
   "cell_type": "code",
   "execution_count": 20,
   "metadata": {},
   "outputs": [
    {
     "data": {
      "text/plain": [
       "((9776, 6),\n",
       " Index(['Promo_type', 'Offer_ID', 'sku', 'start_date', 'end_date',\n",
       "        'train_test_group'],\n",
       "       dtype='object'))"
      ]
     },
     "execution_count": 20,
     "metadata": {},
     "output_type": "execute_result"
    }
   ],
   "source": [
    "offers_df = pd.read_csv('./data/20210521_offers.csv')\n",
    "offers_df.shape, offers_df.columns"
   ]
  },
  {
   "cell_type": "code",
   "execution_count": 26,
   "metadata": {},
   "outputs": [
    {
     "data": {
      "text/plain": [
       "(Promo_type          object\n",
       " Offer_ID            object\n",
       " sku                 object\n",
       " start_date           int64\n",
       " end_date             int64\n",
       " train_test_group    object\n",
       " dtype: object,\n",
       " client_id          object\n",
       " day                 int64\n",
       " shop_id            object\n",
       " check_id           object\n",
       " time               object\n",
       " sku                object\n",
       " promo_id           object\n",
       " check_pos           int64\n",
       " num_sales         float64\n",
       " supplier_price    float64\n",
       " selling_price     float64\n",
       " region_name        object\n",
       " dtype: object)"
      ]
     },
     "execution_count": 26,
     "metadata": {},
     "output_type": "execute_result"
    }
   ],
   "source": [
    "offers_df.dtypes, checks_df_sample.dtypes"
   ]
  },
  {
   "cell_type": "code",
   "execution_count": null,
   "metadata": {},
   "outputs": [],
   "source": [
    "offers_df_sku = offers_df.set_index('sku')"
   ]
  },
  {
   "cell_type": "code",
   "execution_count": 23,
   "metadata": {},
   "outputs": [
    {
     "data": {
      "text/plain": [
       "Index(['client_id', 'day', 'shop_id', 'check_id', 'time', 'sku', 'promo_id',\n",
       "       'check_pos', 'num_sales', 'supplier_price', 'selling_price',\n",
       "       'region_name'],\n",
       "      dtype='object')"
      ]
     },
     "execution_count": 23,
     "metadata": {},
     "output_type": "execute_result"
    }
   ],
   "source": [
    "checks_df_sample.columns"
   ]
  },
  {
   "cell_type": "code",
   "execution_count": 24,
   "metadata": {},
   "outputs": [
    {
     "ename": "ValueError",
     "evalue": "You are trying to merge on object and int64 columns. If you wish to proceed you should use pd.concat",
     "output_type": "error",
     "traceback": [
      "\u001b[0;31m---------------------------------------------------------------------------\u001b[0m",
      "\u001b[0;31mValueError\u001b[0m                                Traceback (most recent call last)",
      "\u001b[0;32m<ipython-input-24-5230f49ad78a>\u001b[0m in \u001b[0;36m<module>\u001b[0;34m\u001b[0m\n\u001b[0;32m----> 1\u001b[0;31m \u001b[0mchecks_df_sample\u001b[0m \u001b[0;34m=\u001b[0m \u001b[0mchecks_df_sample\u001b[0m\u001b[0;34m.\u001b[0m\u001b[0mjoin\u001b[0m\u001b[0;34m(\u001b[0m\u001b[0moffers_df\u001b[0m\u001b[0;34m,\u001b[0m \u001b[0mon\u001b[0m\u001b[0;34m=\u001b[0m\u001b[0;34m'sku'\u001b[0m\u001b[0;34m)\u001b[0m\u001b[0;34m\u001b[0m\u001b[0;34m\u001b[0m\u001b[0m\n\u001b[0m",
      "\u001b[0;32m~/.pyenv/versions/anaconda3-2019.10/envs/cs224n/lib/python3.7/site-packages/pandas/core/frame.py\u001b[0m in \u001b[0;36mjoin\u001b[0;34m(self, other, on, how, lsuffix, rsuffix, sort)\u001b[0m\n\u001b[1;32m   8109\u001b[0m         \"\"\"\n\u001b[1;32m   8110\u001b[0m         return self._join_compat(\n\u001b[0;32m-> 8111\u001b[0;31m             \u001b[0mother\u001b[0m\u001b[0;34m,\u001b[0m \u001b[0mon\u001b[0m\u001b[0;34m=\u001b[0m\u001b[0mon\u001b[0m\u001b[0;34m,\u001b[0m \u001b[0mhow\u001b[0m\u001b[0;34m=\u001b[0m\u001b[0mhow\u001b[0m\u001b[0;34m,\u001b[0m \u001b[0mlsuffix\u001b[0m\u001b[0;34m=\u001b[0m\u001b[0mlsuffix\u001b[0m\u001b[0;34m,\u001b[0m \u001b[0mrsuffix\u001b[0m\u001b[0;34m=\u001b[0m\u001b[0mrsuffix\u001b[0m\u001b[0;34m,\u001b[0m \u001b[0msort\u001b[0m\u001b[0;34m=\u001b[0m\u001b[0msort\u001b[0m\u001b[0;34m\u001b[0m\u001b[0;34m\u001b[0m\u001b[0m\n\u001b[0m\u001b[1;32m   8112\u001b[0m         )\n\u001b[1;32m   8113\u001b[0m \u001b[0;34m\u001b[0m\u001b[0m\n",
      "\u001b[0;32m~/.pyenv/versions/anaconda3-2019.10/envs/cs224n/lib/python3.7/site-packages/pandas/core/frame.py\u001b[0m in \u001b[0;36m_join_compat\u001b[0;34m(self, other, on, how, lsuffix, rsuffix, sort)\u001b[0m\n\u001b[1;32m   8141\u001b[0m                 \u001b[0mright_index\u001b[0m\u001b[0;34m=\u001b[0m\u001b[0;32mTrue\u001b[0m\u001b[0;34m,\u001b[0m\u001b[0;34m\u001b[0m\u001b[0;34m\u001b[0m\u001b[0m\n\u001b[1;32m   8142\u001b[0m                 \u001b[0msuffixes\u001b[0m\u001b[0;34m=\u001b[0m\u001b[0;34m(\u001b[0m\u001b[0mlsuffix\u001b[0m\u001b[0;34m,\u001b[0m \u001b[0mrsuffix\u001b[0m\u001b[0;34m)\u001b[0m\u001b[0;34m,\u001b[0m\u001b[0;34m\u001b[0m\u001b[0;34m\u001b[0m\u001b[0m\n\u001b[0;32m-> 8143\u001b[0;31m                 \u001b[0msort\u001b[0m\u001b[0;34m=\u001b[0m\u001b[0msort\u001b[0m\u001b[0;34m,\u001b[0m\u001b[0;34m\u001b[0m\u001b[0;34m\u001b[0m\u001b[0m\n\u001b[0m\u001b[1;32m   8144\u001b[0m             )\n\u001b[1;32m   8145\u001b[0m         \u001b[0;32melse\u001b[0m\u001b[0;34m:\u001b[0m\u001b[0;34m\u001b[0m\u001b[0;34m\u001b[0m\u001b[0m\n",
      "\u001b[0;32m~/.pyenv/versions/anaconda3-2019.10/envs/cs224n/lib/python3.7/site-packages/pandas/core/reshape/merge.py\u001b[0m in \u001b[0;36mmerge\u001b[0;34m(left, right, how, on, left_on, right_on, left_index, right_index, sort, suffixes, copy, indicator, validate)\u001b[0m\n\u001b[1;32m     85\u001b[0m         \u001b[0mcopy\u001b[0m\u001b[0;34m=\u001b[0m\u001b[0mcopy\u001b[0m\u001b[0;34m,\u001b[0m\u001b[0;34m\u001b[0m\u001b[0;34m\u001b[0m\u001b[0m\n\u001b[1;32m     86\u001b[0m         \u001b[0mindicator\u001b[0m\u001b[0;34m=\u001b[0m\u001b[0mindicator\u001b[0m\u001b[0;34m,\u001b[0m\u001b[0;34m\u001b[0m\u001b[0;34m\u001b[0m\u001b[0m\n\u001b[0;32m---> 87\u001b[0;31m         \u001b[0mvalidate\u001b[0m\u001b[0;34m=\u001b[0m\u001b[0mvalidate\u001b[0m\u001b[0;34m,\u001b[0m\u001b[0;34m\u001b[0m\u001b[0;34m\u001b[0m\u001b[0m\n\u001b[0m\u001b[1;32m     88\u001b[0m     )\n\u001b[1;32m     89\u001b[0m     \u001b[0;32mreturn\u001b[0m \u001b[0mop\u001b[0m\u001b[0;34m.\u001b[0m\u001b[0mget_result\u001b[0m\u001b[0;34m(\u001b[0m\u001b[0;34m)\u001b[0m\u001b[0;34m\u001b[0m\u001b[0;34m\u001b[0m\u001b[0m\n",
      "\u001b[0;32m~/.pyenv/versions/anaconda3-2019.10/envs/cs224n/lib/python3.7/site-packages/pandas/core/reshape/merge.py\u001b[0m in \u001b[0;36m__init__\u001b[0;34m(self, left, right, how, on, left_on, right_on, axis, left_index, right_index, sort, suffixes, copy, indicator, validate)\u001b[0m\n\u001b[1;32m    670\u001b[0m         \u001b[0;31m# validate the merge keys dtypes. We may need to coerce\u001b[0m\u001b[0;34m\u001b[0m\u001b[0;34m\u001b[0m\u001b[0;34m\u001b[0m\u001b[0m\n\u001b[1;32m    671\u001b[0m         \u001b[0;31m# to avoid incompatible dtypes\u001b[0m\u001b[0;34m\u001b[0m\u001b[0;34m\u001b[0m\u001b[0;34m\u001b[0m\u001b[0m\n\u001b[0;32m--> 672\u001b[0;31m         \u001b[0mself\u001b[0m\u001b[0;34m.\u001b[0m\u001b[0m_maybe_coerce_merge_keys\u001b[0m\u001b[0;34m(\u001b[0m\u001b[0;34m)\u001b[0m\u001b[0;34m\u001b[0m\u001b[0;34m\u001b[0m\u001b[0m\n\u001b[0m\u001b[1;32m    673\u001b[0m \u001b[0;34m\u001b[0m\u001b[0m\n\u001b[1;32m    674\u001b[0m         \u001b[0;31m# If argument passed to validate,\u001b[0m\u001b[0;34m\u001b[0m\u001b[0;34m\u001b[0m\u001b[0;34m\u001b[0m\u001b[0m\n",
      "\u001b[0;32m~/.pyenv/versions/anaconda3-2019.10/envs/cs224n/lib/python3.7/site-packages/pandas/core/reshape/merge.py\u001b[0m in \u001b[0;36m_maybe_coerce_merge_keys\u001b[0;34m(self)\u001b[0m\n\u001b[1;32m   1191\u001b[0m                     \u001b[0minferred_right\u001b[0m \u001b[0;32min\u001b[0m \u001b[0mstring_types\u001b[0m \u001b[0;32mand\u001b[0m \u001b[0minferred_left\u001b[0m \u001b[0;32mnot\u001b[0m \u001b[0;32min\u001b[0m \u001b[0mstring_types\u001b[0m\u001b[0;34m\u001b[0m\u001b[0;34m\u001b[0m\u001b[0m\n\u001b[1;32m   1192\u001b[0m                 ):\n\u001b[0;32m-> 1193\u001b[0;31m                     \u001b[0;32mraise\u001b[0m \u001b[0mValueError\u001b[0m\u001b[0;34m(\u001b[0m\u001b[0mmsg\u001b[0m\u001b[0;34m)\u001b[0m\u001b[0;34m\u001b[0m\u001b[0;34m\u001b[0m\u001b[0m\n\u001b[0m\u001b[1;32m   1194\u001b[0m \u001b[0;34m\u001b[0m\u001b[0m\n\u001b[1;32m   1195\u001b[0m             \u001b[0;31m# datetimelikes must match exactly\u001b[0m\u001b[0;34m\u001b[0m\u001b[0;34m\u001b[0m\u001b[0;34m\u001b[0m\u001b[0m\n",
      "\u001b[0;31mValueError\u001b[0m: You are trying to merge on object and int64 columns. If you wish to proceed you should use pd.concat"
     ]
    }
   ],
   "source": [
    "checks_df_sample = checks_df_sample.join(offers_df, on='sku')"
   ]
  },
  {
   "cell_type": "code",
   "execution_count": 32,
   "metadata": {},
   "outputs": [],
   "source": [
    "pd.DataFrame.duplicated?"
   ]
  },
  {
   "cell_type": "code",
   "execution_count": null,
   "metadata": {},
   "outputs": [],
   "source": []
  }
 ],
 "metadata": {
  "kernelspec": {
   "display_name": "cs224n",
   "language": "python",
   "name": "cs224n"
  },
  "language_info": {
   "codemirror_mode": {
    "name": "ipython",
    "version": 3
   },
   "file_extension": ".py",
   "mimetype": "text/x-python",
   "name": "python",
   "nbconvert_exporter": "python",
   "pygments_lexer": "ipython3",
   "version": "3.7.7"
  },
  "toc": {
   "base_numbering": 1,
   "nav_menu": {},
   "number_sections": true,
   "sideBar": true,
   "skip_h1_title": true,
   "title_cell": "Table of Contents",
   "title_sidebar": "Contents",
   "toc_cell": false,
   "toc_position": {
    "height": "calc(100% - 180px)",
    "left": "10px",
    "top": "150px",
    "width": "165px"
   },
   "toc_section_display": true,
   "toc_window_display": true
  }
 },
 "nbformat": 4,
 "nbformat_minor": 4
}
