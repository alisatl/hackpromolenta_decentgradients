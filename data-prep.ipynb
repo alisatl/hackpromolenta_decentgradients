{
 "cells": [
  {
   "cell_type": "code",
   "execution_count": 45,
   "id": "64668ef3",
   "metadata": {},
   "outputs": [],
   "source": [
    "import pandas as pd \n",
    "import numpy as np"
   ]
  },
  {
   "cell_type": "code",
   "execution_count": 182,
   "id": "9f425f8d",
   "metadata": {},
   "outputs": [],
   "source": [
    "pd.set_option('display.max_columns', None)"
   ]
  },
  {
   "cell_type": "code",
   "execution_count": 3,
   "id": "23ea5976",
   "metadata": {},
   "outputs": [
    {
     "name": "stdout",
     "output_type": "stream",
     "text": [
      "20210518_checks.csv\t20210518_uplift.csv  20210521_sample_submission.csv\r\n",
      "20210518_hierarchy.csv\t20210521_offers.csv\r\n"
     ]
    }
   ],
   "source": [
    "!ls lentahack"
   ]
  },
  {
   "cell_type": "markdown",
   "id": "4b7a3020",
   "metadata": {},
   "source": [
    "## Loading Data"
   ]
  },
  {
   "cell_type": "markdown",
   "id": "931fda98",
   "metadata": {},
   "source": [
    "### Loading Checks"
   ]
  },
  {
   "cell_type": "code",
   "execution_count": 4,
   "id": "22f12034",
   "metadata": {},
   "outputs": [
    {
     "data": {
      "text/plain": [
       "((21479259, 12),\n",
       " Index(['client_id', 'day', 'shop_id', 'check_id', 'time', 'sku', 'promo_id',\n",
       "        'check_pos', 'num_sales', 'supplier_price', 'selling_price',\n",
       "        'region_name'],\n",
       "       dtype='object'))"
      ]
     },
     "execution_count": 4,
     "metadata": {},
     "output_type": "execute_result"
    }
   ],
   "source": [
    "checks_df = pd.read_csv('./lentahack/20210518_checks.csv')\n",
    "checks_df.shape, checks_df.columns"
   ]
  },
  {
   "cell_type": "code",
   "execution_count": 6,
   "id": "186e3962",
   "metadata": {},
   "outputs": [],
   "source": [
    "checks_df['date'] = pd.to_datetime(checks_df['day'], format=\"%Y%m%d\")"
   ]
  },
  {
   "cell_type": "code",
   "execution_count": 9,
   "id": "5ada5048",
   "metadata": {},
   "outputs": [],
   "source": [
    "checks_df.set_index('date', inplace=True)"
   ]
  },
  {
   "cell_type": "code",
   "execution_count": 10,
   "id": "b667ad28",
   "metadata": {},
   "outputs": [
    {
     "data": {
      "text/plain": [
       "DatetimeIndex(['2019-12-30', '2019-12-30', '2019-12-30'], dtype='datetime64[ns]', name='date', freq=None)"
      ]
     },
     "execution_count": 10,
     "metadata": {},
     "output_type": "execute_result"
    }
   ],
   "source": [
    "checks_df.index[:3]"
   ]
  },
  {
   "cell_type": "code",
   "execution_count": 11,
   "id": "4228b18a",
   "metadata": {},
   "outputs": [
    {
     "data": {
      "text/html": [
       "<div>\n",
       "<style scoped>\n",
       "    .dataframe tbody tr th:only-of-type {\n",
       "        vertical-align: middle;\n",
       "    }\n",
       "\n",
       "    .dataframe tbody tr th {\n",
       "        vertical-align: top;\n",
       "    }\n",
       "\n",
       "    .dataframe thead th {\n",
       "        text-align: right;\n",
       "    }\n",
       "</style>\n",
       "<table border=\"1\" class=\"dataframe\">\n",
       "  <thead>\n",
       "    <tr style=\"text-align: right;\">\n",
       "      <th></th>\n",
       "      <th>client_id</th>\n",
       "      <th>day</th>\n",
       "      <th>shop_id</th>\n",
       "      <th>check_id</th>\n",
       "      <th>time</th>\n",
       "      <th>sku</th>\n",
       "      <th>promo_id</th>\n",
       "      <th>check_pos</th>\n",
       "      <th>num_sales</th>\n",
       "      <th>supplier_price</th>\n",
       "      <th>selling_price</th>\n",
       "      <th>region_name</th>\n",
       "    </tr>\n",
       "    <tr>\n",
       "      <th>date</th>\n",
       "      <th></th>\n",
       "      <th></th>\n",
       "      <th></th>\n",
       "      <th></th>\n",
       "      <th></th>\n",
       "      <th></th>\n",
       "      <th></th>\n",
       "      <th></th>\n",
       "      <th></th>\n",
       "      <th></th>\n",
       "      <th></th>\n",
       "      <th></th>\n",
       "    </tr>\n",
       "  </thead>\n",
       "  <tbody>\n",
       "    <tr>\n",
       "      <th>2019-12-30</th>\n",
       "      <td>d9da50b77962ad6401d0527db5b65b04</td>\n",
       "      <td>20191230</td>\n",
       "      <td>25bbdcd06c32d477f7fa1c3e4a91b032</td>\n",
       "      <td>c0b3f9c2215f924e27a6039617999c60</td>\n",
       "      <td>07:28:39</td>\n",
       "      <td>b17c870027bb4a22e3aedb971bc00def</td>\n",
       "      <td>b3deb0286313f0b888c0eac49580cc23</td>\n",
       "      <td>1</td>\n",
       "      <td>5.0</td>\n",
       "      <td>133.40</td>\n",
       "      <td>249.45</td>\n",
       "      <td>152f1b77a32508570e2745daf9ce7aec</td>\n",
       "    </tr>\n",
       "    <tr>\n",
       "      <th>2019-12-30</th>\n",
       "      <td>d9da50b77962ad6401d0527db5b65b04</td>\n",
       "      <td>20191230</td>\n",
       "      <td>25bbdcd06c32d477f7fa1c3e4a91b032</td>\n",
       "      <td>c0b3f9c2215f924e27a6039617999c60</td>\n",
       "      <td>07:28:39</td>\n",
       "      <td>b9ef00e971d0fb459a765708efba70c0</td>\n",
       "      <td>680a96609351230ed00e1d1090371cbc</td>\n",
       "      <td>2</td>\n",
       "      <td>1.0</td>\n",
       "      <td>96.77</td>\n",
       "      <td>118.99</td>\n",
       "      <td>152f1b77a32508570e2745daf9ce7aec</td>\n",
       "    </tr>\n",
       "    <tr>\n",
       "      <th>2019-12-30</th>\n",
       "      <td>d9da50b77962ad6401d0527db5b65b04</td>\n",
       "      <td>20191230</td>\n",
       "      <td>25bbdcd06c32d477f7fa1c3e4a91b032</td>\n",
       "      <td>c0b3f9c2215f924e27a6039617999c60</td>\n",
       "      <td>07:28:39</td>\n",
       "      <td>b75147feae4cf8ec07fb5f2cef855def</td>\n",
       "      <td>7215ee9c7d9dc229d2921a40e899ec5f</td>\n",
       "      <td>5</td>\n",
       "      <td>2.0</td>\n",
       "      <td>2.34</td>\n",
       "      <td>7.58</td>\n",
       "      <td>152f1b77a32508570e2745daf9ce7aec</td>\n",
       "    </tr>\n",
       "    <tr>\n",
       "      <th>2019-12-30</th>\n",
       "      <td>d9da50b77962ad6401d0527db5b65b04</td>\n",
       "      <td>20191230</td>\n",
       "      <td>25bbdcd06c32d477f7fa1c3e4a91b032</td>\n",
       "      <td>c0b3f9c2215f924e27a6039617999c60</td>\n",
       "      <td>07:28:39</td>\n",
       "      <td>b25e0d42165d246d23cbf4d3efcdf583</td>\n",
       "      <td>7215ee9c7d9dc229d2921a40e899ec5f</td>\n",
       "      <td>4</td>\n",
       "      <td>1.0</td>\n",
       "      <td>23.59</td>\n",
       "      <td>39.99</td>\n",
       "      <td>152f1b77a32508570e2745daf9ce7aec</td>\n",
       "    </tr>\n",
       "    <tr>\n",
       "      <th>2019-12-30</th>\n",
       "      <td>d9da50b77962ad6401d0527db5b65b04</td>\n",
       "      <td>20191230</td>\n",
       "      <td>25bbdcd06c32d477f7fa1c3e4a91b032</td>\n",
       "      <td>c0b3f9c2215f924e27a6039617999c60</td>\n",
       "      <td>07:28:39</td>\n",
       "      <td>a537d2eef30d47f9b11d655421ca93fb</td>\n",
       "      <td>05c93d4fa9bdbe70b5d2204ce9548ca9</td>\n",
       "      <td>3</td>\n",
       "      <td>1.0</td>\n",
       "      <td>24.02</td>\n",
       "      <td>39.99</td>\n",
       "      <td>152f1b77a32508570e2745daf9ce7aec</td>\n",
       "    </tr>\n",
       "  </tbody>\n",
       "</table>\n",
       "</div>"
      ],
      "text/plain": [
       "                                   client_id       day  \\\n",
       "date                                                     \n",
       "2019-12-30  d9da50b77962ad6401d0527db5b65b04  20191230   \n",
       "2019-12-30  d9da50b77962ad6401d0527db5b65b04  20191230   \n",
       "2019-12-30  d9da50b77962ad6401d0527db5b65b04  20191230   \n",
       "2019-12-30  d9da50b77962ad6401d0527db5b65b04  20191230   \n",
       "2019-12-30  d9da50b77962ad6401d0527db5b65b04  20191230   \n",
       "\n",
       "                                     shop_id  \\\n",
       "date                                           \n",
       "2019-12-30  25bbdcd06c32d477f7fa1c3e4a91b032   \n",
       "2019-12-30  25bbdcd06c32d477f7fa1c3e4a91b032   \n",
       "2019-12-30  25bbdcd06c32d477f7fa1c3e4a91b032   \n",
       "2019-12-30  25bbdcd06c32d477f7fa1c3e4a91b032   \n",
       "2019-12-30  25bbdcd06c32d477f7fa1c3e4a91b032   \n",
       "\n",
       "                                    check_id      time  \\\n",
       "date                                                     \n",
       "2019-12-30  c0b3f9c2215f924e27a6039617999c60  07:28:39   \n",
       "2019-12-30  c0b3f9c2215f924e27a6039617999c60  07:28:39   \n",
       "2019-12-30  c0b3f9c2215f924e27a6039617999c60  07:28:39   \n",
       "2019-12-30  c0b3f9c2215f924e27a6039617999c60  07:28:39   \n",
       "2019-12-30  c0b3f9c2215f924e27a6039617999c60  07:28:39   \n",
       "\n",
       "                                         sku  \\\n",
       "date                                           \n",
       "2019-12-30  b17c870027bb4a22e3aedb971bc00def   \n",
       "2019-12-30  b9ef00e971d0fb459a765708efba70c0   \n",
       "2019-12-30  b75147feae4cf8ec07fb5f2cef855def   \n",
       "2019-12-30  b25e0d42165d246d23cbf4d3efcdf583   \n",
       "2019-12-30  a537d2eef30d47f9b11d655421ca93fb   \n",
       "\n",
       "                                    promo_id  check_pos  num_sales  \\\n",
       "date                                                                 \n",
       "2019-12-30  b3deb0286313f0b888c0eac49580cc23          1        5.0   \n",
       "2019-12-30  680a96609351230ed00e1d1090371cbc          2        1.0   \n",
       "2019-12-30  7215ee9c7d9dc229d2921a40e899ec5f          5        2.0   \n",
       "2019-12-30  7215ee9c7d9dc229d2921a40e899ec5f          4        1.0   \n",
       "2019-12-30  05c93d4fa9bdbe70b5d2204ce9548ca9          3        1.0   \n",
       "\n",
       "            supplier_price  selling_price                       region_name  \n",
       "date                                                                         \n",
       "2019-12-30          133.40         249.45  152f1b77a32508570e2745daf9ce7aec  \n",
       "2019-12-30           96.77         118.99  152f1b77a32508570e2745daf9ce7aec  \n",
       "2019-12-30            2.34           7.58  152f1b77a32508570e2745daf9ce7aec  \n",
       "2019-12-30           23.59          39.99  152f1b77a32508570e2745daf9ce7aec  \n",
       "2019-12-30           24.02          39.99  152f1b77a32508570e2745daf9ce7aec  "
      ]
     },
     "execution_count": 11,
     "metadata": {},
     "output_type": "execute_result"
    }
   ],
   "source": [
    "checks_df.head()"
   ]
  },
  {
   "cell_type": "markdown",
   "id": "42c3cca9",
   "metadata": {},
   "source": [
    "## Loading Offers "
   ]
  },
  {
   "cell_type": "code",
   "execution_count": 20,
   "id": "117d840f",
   "metadata": {},
   "outputs": [
    {
     "data": {
      "text/plain": [
       "((9776, 6),\n",
       " Index(['Promo_type', 'Offer_ID', 'sku', 'start_date', 'end_date',\n",
       "        'train_test_group'],\n",
       "       dtype='object'))"
      ]
     },
     "execution_count": 20,
     "metadata": {},
     "output_type": "execute_result"
    }
   ],
   "source": [
    "offers_df = pd.read_csv('./lentahack/20210521_offers.csv')\n",
    "offers_df['start_date'] = pd.to_datetime(offers_df['start_date'], format=\"%Y%m%d\")\n",
    "offers_df['end_date'] = pd.to_datetime(offers_df['end_date'], format=\"%Y%m%d\")\n",
    "offers_df.shape, offers_df.columns"
   ]
  },
  {
   "cell_type": "code",
   "execution_count": null,
   "id": "8150ca20",
   "metadata": {},
   "outputs": [],
   "source": [
    "offers_df"
   ]
  },
  {
   "cell_type": "code",
   "execution_count": 62,
   "id": "9272b285",
   "metadata": {},
   "outputs": [
    {
     "data": {
      "text/plain": [
       "889"
      ]
     },
     "execution_count": 62,
     "metadata": {},
     "output_type": "execute_result"
    }
   ],
   "source": [
    "len(offers_df_orig['Offer_ID'].unique())"
   ]
  },
  {
   "cell_type": "code",
   "execution_count": 60,
   "id": "c5e54c68",
   "metadata": {},
   "outputs": [
    {
     "data": {
      "text/html": [
       "<div>\n",
       "<style scoped>\n",
       "    .dataframe tbody tr th:only-of-type {\n",
       "        vertical-align: middle;\n",
       "    }\n",
       "\n",
       "    .dataframe tbody tr th {\n",
       "        vertical-align: top;\n",
       "    }\n",
       "\n",
       "    .dataframe thead th {\n",
       "        text-align: right;\n",
       "    }\n",
       "</style>\n",
       "<table border=\"1\" class=\"dataframe\">\n",
       "  <thead>\n",
       "    <tr style=\"text-align: right;\">\n",
       "      <th></th>\n",
       "      <th>Promo_type</th>\n",
       "      <th>Offer_ID</th>\n",
       "      <th>sku</th>\n",
       "      <th>start_date</th>\n",
       "      <th>end_date</th>\n",
       "      <th>train_test_group</th>\n",
       "      <th>dates</th>\n",
       "    </tr>\n",
       "  </thead>\n",
       "  <tbody>\n",
       "    <tr>\n",
       "      <th>0</th>\n",
       "      <td>Facades</td>\n",
       "      <td>F26</td>\n",
       "      <td>71c770923102af052f64c6036c9dd590</td>\n",
       "      <td>2020-02-13</td>\n",
       "      <td>2020-02-19</td>\n",
       "      <td>train</td>\n",
       "      <td>DatetimeIndex(['2020-02-13', '2020-02-14', '20...</td>\n",
       "    </tr>\n",
       "    <tr>\n",
       "      <th>1</th>\n",
       "      <td>Facades</td>\n",
       "      <td>F2</td>\n",
       "      <td>e87788b585ead792a4d40f7de18f2f76</td>\n",
       "      <td>2020-01-02</td>\n",
       "      <td>2020-01-08</td>\n",
       "      <td>train</td>\n",
       "      <td>DatetimeIndex(['2020-01-02', '2020-01-03', '20...</td>\n",
       "    </tr>\n",
       "    <tr>\n",
       "      <th>2</th>\n",
       "      <td>Facades</td>\n",
       "      <td>F9</td>\n",
       "      <td>5ae92b5e465d630285677e80b43fe5f7</td>\n",
       "      <td>2020-01-16</td>\n",
       "      <td>2020-01-22</td>\n",
       "      <td>train</td>\n",
       "      <td>DatetimeIndex(['2020-01-16', '2020-01-17', '20...</td>\n",
       "    </tr>\n",
       "    <tr>\n",
       "      <th>3</th>\n",
       "      <td>Facades</td>\n",
       "      <td>F45</td>\n",
       "      <td>0790b472112a765339f0e5c3f66816ee</td>\n",
       "      <td>2020-03-19</td>\n",
       "      <td>2020-03-25</td>\n",
       "      <td>train</td>\n",
       "      <td>DatetimeIndex(['2020-03-19', '2020-03-20', '20...</td>\n",
       "    </tr>\n",
       "    <tr>\n",
       "      <th>4</th>\n",
       "      <td>Facades</td>\n",
       "      <td>F191</td>\n",
       "      <td>e87788b585ead792a4d40f7de18f2f76</td>\n",
       "      <td>2020-11-12</td>\n",
       "      <td>2020-11-18</td>\n",
       "      <td>test</td>\n",
       "      <td>DatetimeIndex(['2020-11-12', '2020-11-13', '20...</td>\n",
       "    </tr>\n",
       "  </tbody>\n",
       "</table>\n",
       "</div>"
      ],
      "text/plain": [
       "  Promo_type Offer_ID                               sku start_date   end_date  \\\n",
       "0    Facades      F26  71c770923102af052f64c6036c9dd590 2020-02-13 2020-02-19   \n",
       "1    Facades       F2  e87788b585ead792a4d40f7de18f2f76 2020-01-02 2020-01-08   \n",
       "2    Facades       F9  5ae92b5e465d630285677e80b43fe5f7 2020-01-16 2020-01-22   \n",
       "3    Facades      F45  0790b472112a765339f0e5c3f66816ee 2020-03-19 2020-03-25   \n",
       "4    Facades     F191  e87788b585ead792a4d40f7de18f2f76 2020-11-12 2020-11-18   \n",
       "\n",
       "  train_test_group                                              dates  \n",
       "0            train  DatetimeIndex(['2020-02-13', '2020-02-14', '20...  \n",
       "1            train  DatetimeIndex(['2020-01-02', '2020-01-03', '20...  \n",
       "2            train  DatetimeIndex(['2020-01-16', '2020-01-17', '20...  \n",
       "3            train  DatetimeIndex(['2020-03-19', '2020-03-20', '20...  \n",
       "4             test  DatetimeIndex(['2020-11-12', '2020-11-13', '20...  "
      ]
     },
     "execution_count": 60,
     "metadata": {},
     "output_type": "execute_result"
    }
   ],
   "source": [
    "offers_df.head()"
   ]
  },
  {
   "cell_type": "code",
   "execution_count": 132,
   "id": "6468bbfe",
   "metadata": {},
   "outputs": [],
   "source": [
    "offers_df['start_date'] = pd.to_datetime(offers_df['start_date'], format=\"%Y%m%d\")\n",
    "offers_df['end_date'] = pd.to_datetime(offers_df['end_date'], format=\"%Y%m%d\")"
   ]
  },
  {
   "cell_type": "code",
   "execution_count": 51,
   "id": "f06b1d27",
   "metadata": {},
   "outputs": [],
   "source": [
    "offers_df['dates'] = offers_df.apply(lambda row: pd.date_range(row['start_date'], row['end_date'], freq='d'), axis=1)"
   ]
  },
  {
   "cell_type": "code",
   "execution_count": 54,
   "id": "8d9586bc",
   "metadata": {},
   "outputs": [],
   "source": [
    "# exploded offes by day, so \n",
    "offers_df_by_day = offers_df.explode('dates').reset_index().rename(columns={'dates': 'date'})"
   ]
  },
  {
   "cell_type": "code",
   "execution_count": 55,
   "id": "b7002740",
   "metadata": {},
   "outputs": [
    {
     "data": {
      "text/plain": [
       "(134703, 8)"
      ]
     },
     "execution_count": 55,
     "metadata": {},
     "output_type": "execute_result"
    }
   ],
   "source": [
    "offers_df_by_day.shape"
   ]
  },
  {
   "cell_type": "code",
   "execution_count": 59,
   "id": "34124d9f",
   "metadata": {},
   "outputs": [
    {
     "data": {
      "text/plain": [
       "889"
      ]
     },
     "execution_count": 59,
     "metadata": {},
     "output_type": "execute_result"
    }
   ],
   "source": [
    "len(offers_df_by_day['Offer_ID'].unique())"
   ]
  },
  {
   "cell_type": "code",
   "execution_count": 69,
   "id": "1ec19604",
   "metadata": {},
   "outputs": [
    {
     "data": {
      "text/plain": [
       "False    133980\n",
       "True        723\n",
       "dtype: int64"
      ]
     },
     "execution_count": 69,
     "metadata": {},
     "output_type": "execute_result"
    }
   ],
   "source": [
    "# some SKUs may participate in more than 1 offer on agiven day \n",
    "offers_df_by_day[['date', 'sku']].duplicated().value_counts()"
   ]
  },
  {
   "cell_type": "code",
   "execution_count": 70,
   "id": "fd18295c",
   "metadata": {},
   "outputs": [
    {
     "data": {
      "text/html": [
       "<div>\n",
       "<style scoped>\n",
       "    .dataframe tbody tr th:only-of-type {\n",
       "        vertical-align: middle;\n",
       "    }\n",
       "\n",
       "    .dataframe tbody tr th {\n",
       "        vertical-align: top;\n",
       "    }\n",
       "\n",
       "    .dataframe thead th {\n",
       "        text-align: right;\n",
       "    }\n",
       "</style>\n",
       "<table border=\"1\" class=\"dataframe\">\n",
       "  <thead>\n",
       "    <tr style=\"text-align: right;\">\n",
       "      <th></th>\n",
       "      <th>index</th>\n",
       "      <th>Promo_type</th>\n",
       "      <th>Offer_ID</th>\n",
       "      <th>sku</th>\n",
       "      <th>start_date</th>\n",
       "      <th>end_date</th>\n",
       "      <th>train_test_group</th>\n",
       "      <th>date</th>\n",
       "    </tr>\n",
       "  </thead>\n",
       "  <tbody>\n",
       "    <tr>\n",
       "      <th>962</th>\n",
       "      <td>91</td>\n",
       "      <td>Facades</td>\n",
       "      <td>F14</td>\n",
       "      <td>5203102c86af0924829cb4d79c7f160b</td>\n",
       "      <td>2020-01-23</td>\n",
       "      <td>2020-01-29</td>\n",
       "      <td>train</td>\n",
       "      <td>2020-01-23</td>\n",
       "    </tr>\n",
       "    <tr>\n",
       "      <th>963</th>\n",
       "      <td>91</td>\n",
       "      <td>Facades</td>\n",
       "      <td>F14</td>\n",
       "      <td>5203102c86af0924829cb4d79c7f160b</td>\n",
       "      <td>2020-01-23</td>\n",
       "      <td>2020-01-29</td>\n",
       "      <td>train</td>\n",
       "      <td>2020-01-24</td>\n",
       "    </tr>\n",
       "    <tr>\n",
       "      <th>964</th>\n",
       "      <td>91</td>\n",
       "      <td>Facades</td>\n",
       "      <td>F14</td>\n",
       "      <td>5203102c86af0924829cb4d79c7f160b</td>\n",
       "      <td>2020-01-23</td>\n",
       "      <td>2020-01-29</td>\n",
       "      <td>train</td>\n",
       "      <td>2020-01-25</td>\n",
       "    </tr>\n",
       "    <tr>\n",
       "      <th>965</th>\n",
       "      <td>91</td>\n",
       "      <td>Facades</td>\n",
       "      <td>F14</td>\n",
       "      <td>5203102c86af0924829cb4d79c7f160b</td>\n",
       "      <td>2020-01-23</td>\n",
       "      <td>2020-01-29</td>\n",
       "      <td>train</td>\n",
       "      <td>2020-01-26</td>\n",
       "    </tr>\n",
       "    <tr>\n",
       "      <th>966</th>\n",
       "      <td>91</td>\n",
       "      <td>Facades</td>\n",
       "      <td>F14</td>\n",
       "      <td>5203102c86af0924829cb4d79c7f160b</td>\n",
       "      <td>2020-01-23</td>\n",
       "      <td>2020-01-29</td>\n",
       "      <td>train</td>\n",
       "      <td>2020-01-27</td>\n",
       "    </tr>\n",
       "  </tbody>\n",
       "</table>\n",
       "</div>"
      ],
      "text/plain": [
       "     index Promo_type Offer_ID                               sku start_date  \\\n",
       "962     91    Facades      F14  5203102c86af0924829cb4d79c7f160b 2020-01-23   \n",
       "963     91    Facades      F14  5203102c86af0924829cb4d79c7f160b 2020-01-23   \n",
       "964     91    Facades      F14  5203102c86af0924829cb4d79c7f160b 2020-01-23   \n",
       "965     91    Facades      F14  5203102c86af0924829cb4d79c7f160b 2020-01-23   \n",
       "966     91    Facades      F14  5203102c86af0924829cb4d79c7f160b 2020-01-23   \n",
       "\n",
       "      end_date train_test_group       date  \n",
       "962 2020-01-29            train 2020-01-23  \n",
       "963 2020-01-29            train 2020-01-24  \n",
       "964 2020-01-29            train 2020-01-25  \n",
       "965 2020-01-29            train 2020-01-26  \n",
       "966 2020-01-29            train 2020-01-27  "
      ]
     },
     "execution_count": 70,
     "metadata": {},
     "output_type": "execute_result"
    }
   ],
   "source": [
    "offers_df_by_day[offers_df_by_day[['date', 'sku']].duplicated()].head()"
   ]
  },
  {
   "cell_type": "code",
   "execution_count": 74,
   "id": "5d20ff55",
   "metadata": {},
   "outputs": [
    {
     "data": {
      "text/html": [
       "<div>\n",
       "<style scoped>\n",
       "    .dataframe tbody tr th:only-of-type {\n",
       "        vertical-align: middle;\n",
       "    }\n",
       "\n",
       "    .dataframe tbody tr th {\n",
       "        vertical-align: top;\n",
       "    }\n",
       "\n",
       "    .dataframe thead th {\n",
       "        text-align: right;\n",
       "    }\n",
       "</style>\n",
       "<table border=\"1\" class=\"dataframe\">\n",
       "  <thead>\n",
       "    <tr style=\"text-align: right;\">\n",
       "      <th></th>\n",
       "      <th>index</th>\n",
       "      <th>Promo_type</th>\n",
       "      <th>Offer_ID</th>\n",
       "      <th>sku</th>\n",
       "      <th>start_date</th>\n",
       "      <th>end_date</th>\n",
       "      <th>train_test_group</th>\n",
       "      <th>date</th>\n",
       "    </tr>\n",
       "  </thead>\n",
       "  <tbody>\n",
       "    <tr>\n",
       "      <th>948</th>\n",
       "      <td>89</td>\n",
       "      <td>Billboards</td>\n",
       "      <td>B8</td>\n",
       "      <td>5203102c86af0924829cb4d79c7f160b</td>\n",
       "      <td>2020-01-23</td>\n",
       "      <td>2020-01-29</td>\n",
       "      <td>train</td>\n",
       "      <td>2020-01-23</td>\n",
       "    </tr>\n",
       "    <tr>\n",
       "      <th>962</th>\n",
       "      <td>91</td>\n",
       "      <td>Facades</td>\n",
       "      <td>F14</td>\n",
       "      <td>5203102c86af0924829cb4d79c7f160b</td>\n",
       "      <td>2020-01-23</td>\n",
       "      <td>2020-01-29</td>\n",
       "      <td>train</td>\n",
       "      <td>2020-01-23</td>\n",
       "    </tr>\n",
       "  </tbody>\n",
       "</table>\n",
       "</div>"
      ],
      "text/plain": [
       "     index  Promo_type Offer_ID                               sku start_date  \\\n",
       "948     89  Billboards       B8  5203102c86af0924829cb4d79c7f160b 2020-01-23   \n",
       "962     91     Facades      F14  5203102c86af0924829cb4d79c7f160b 2020-01-23   \n",
       "\n",
       "      end_date train_test_group       date  \n",
       "948 2020-01-29            train 2020-01-23  \n",
       "962 2020-01-29            train 2020-01-23  "
      ]
     },
     "execution_count": 74,
     "metadata": {},
     "output_type": "execute_result"
    }
   ],
   "source": [
    "offers_df_by_day[(offers_df_by_day['sku'] == '5203102c86af0924829cb4d79c7f160b') \n",
    "                 & (offers_df_by_day['date'] == pd.to_datetime('2020-01-23'))]"
   ]
  },
  {
   "cell_type": "code",
   "execution_count": 68,
   "id": "0b0cc3fa",
   "metadata": {
    "scrolled": true
   },
   "outputs": [
    {
     "data": {
      "text/plain": [
       "False    134703\n",
       "dtype: int64"
      ]
     },
     "execution_count": 68,
     "metadata": {},
     "output_type": "execute_result"
    }
   ],
   "source": [
    "# all ('Offer_ID', 'date', 'sku') triplets are unique \n",
    "offers_df_by_day[['Offer_ID', 'date', 'sku']].duplicated().value_counts()"
   ]
  },
  {
   "cell_type": "code",
   "execution_count": 116,
   "id": "53354eb3",
   "metadata": {},
   "outputs": [],
   "source": [
    "offers_df_by_day['duration'] = offers_df_by_day['end_date'] - offers_df_by_day['start_date']"
   ]
  },
  {
   "cell_type": "code",
   "execution_count": 117,
   "id": "2782e125",
   "metadata": {},
   "outputs": [
    {
     "data": {
      "text/plain": [
       "0   6 days\n",
       "1   6 days\n",
       "2   6 days\n",
       "3   6 days\n",
       "4   6 days\n",
       "Name: duration, dtype: timedelta64[ns]"
      ]
     },
     "execution_count": 117,
     "metadata": {},
     "output_type": "execute_result"
    }
   ],
   "source": [
    "offers_df_by_day['duration'].head()"
   ]
  },
  {
   "cell_type": "code",
   "execution_count": 122,
   "id": "a35c7473",
   "metadata": {},
   "outputs": [
    {
     "data": {
      "text/plain": [
       "3 days         8\n",
       "9 days        10\n",
       "5 days        24\n",
       "7 days       184\n",
       "48 days      245\n",
       "42 days      344\n",
       "10 days      418\n",
       "19 days      820\n",
       "41 days     1218\n",
       "35 days     1836\n",
       "14 days     1845\n",
       "21 days     3014\n",
       "27 days     5768\n",
       "28 days     7018\n",
       "6 days     19236\n",
       "20 days    21189\n",
       "13 days    71526\n",
       "Name: duration, dtype: int64"
      ]
     },
     "execution_count": 122,
     "metadata": {},
     "output_type": "execute_result"
    }
   ],
   "source": [
    "offers_df_by_day['duration'].value_counts().sort_values()"
   ]
  },
  {
   "cell_type": "code",
   "execution_count": 120,
   "id": "f99c0aa1",
   "metadata": {},
   "outputs": [
    {
     "data": {
      "text/plain": [
       "Timedelta('6 days 00:00:00')"
      ]
     },
     "execution_count": 120,
     "metadata": {},
     "output_type": "execute_result"
    }
   ],
   "source": [
    "offers_df_by_day['duration'].iloc[962]"
   ]
  },
  {
   "cell_type": "code",
   "execution_count": 119,
   "id": "ae43c335",
   "metadata": {},
   "outputs": [
    {
     "data": {
      "text/plain": [
       "Timestamp('2019-12-06 00:00:00')"
      ]
     },
     "execution_count": 119,
     "metadata": {},
     "output_type": "execute_result"
    }
   ],
   "source": [
    "pd.to_datetime('2019-12-12') - offers_df_by_day['duration'].iloc[962]"
   ]
  },
  {
   "cell_type": "code",
   "execution_count": 82,
   "id": "d228c681",
   "metadata": {},
   "outputs": [],
   "source": [
    "offers_df_by_day.to_csv('../offers_df_by_day.csv' ,index=False)"
   ]
  },
  {
   "cell_type": "code",
   "execution_count": 131,
   "id": "8082bc87",
   "metadata": {},
   "outputs": [
    {
     "name": "stderr",
     "output_type": "stream",
     "text": [
      "/anaconda/envs/py38_default/lib/python3.8/site-packages/IPython/core/interactiveshell.py:3165: DtypeWarning: Columns (2) have mixed types.Specify dtype option on import or set low_memory=False.\n",
      "  has_raised = await self.run_ast_nodes(code_ast.body, cell_name,\n"
     ]
    },
    {
     "data": {
      "text/plain": [
       "((134703, 8),\n",
       " Index(['index', 'Promo_type', 'Offer_ID', 'sku', 'start_date', 'end_date',\n",
       "        'train_test_group', 'date'],\n",
       "       dtype='object'))"
      ]
     },
     "execution_count": 131,
     "metadata": {},
     "output_type": "execute_result"
    }
   ],
   "source": [
    "offers_df_by_day = pd.read_csv('../offers_df_by_day.csv')\n",
    "offers_df_by_day.shape, offers_df_by_day.columns"
   ]
  },
  {
   "cell_type": "markdown",
   "id": "ec4c0323",
   "metadata": {},
   "source": [
    "## Loading Hierarchy "
   ]
  },
  {
   "cell_type": "code",
   "execution_count": 4,
   "id": "d1f3b569",
   "metadata": {},
   "outputs": [
    {
     "data": {
      "text/plain": [
       "((80406, 5),\n",
       " Index(['sku', 'hierarchy_level1', 'hierarchy_level2', 'hierarchy_level3',\n",
       "        'hierarchy_level4'],\n",
       "       dtype='object'))"
      ]
     },
     "execution_count": 4,
     "metadata": {},
     "output_type": "execute_result"
    }
   ],
   "source": [
    "hierarchy_df = pd.read_csv('./lentahack/20210518_hierarchy.csv')\n",
    "hierarchy_df.shape, hierarchy_df.columns"
   ]
  },
  {
   "cell_type": "code",
   "execution_count": 126,
   "id": "a0f4fd1d",
   "metadata": {},
   "outputs": [
    {
     "data": {
      "text/plain": [
       "80406"
      ]
     },
     "execution_count": 126,
     "metadata": {},
     "output_type": "execute_result"
    }
   ],
   "source": [
    "len(hierarchy_df['sku'].unique())"
   ]
  },
  {
   "cell_type": "code",
   "execution_count": 124,
   "id": "7bccce4b",
   "metadata": {},
   "outputs": [
    {
     "data": {
      "text/plain": [
       "65"
      ]
     },
     "execution_count": 124,
     "metadata": {},
     "output_type": "execute_result"
    }
   ],
   "source": [
    "len(hierarchy_df['hierarchy_level2'].unique())"
   ]
  },
  {
   "cell_type": "code",
   "execution_count": 125,
   "id": "a311a47d",
   "metadata": {},
   "outputs": [
    {
     "data": {
      "text/plain": [
       "412"
      ]
     },
     "execution_count": 125,
     "metadata": {},
     "output_type": "execute_result"
    }
   ],
   "source": [
    "len(hierarchy_df['hierarchy_level3'].unique())"
   ]
  },
  {
   "cell_type": "code",
   "execution_count": 127,
   "id": "73512ad2",
   "metadata": {},
   "outputs": [
    {
     "data": {
      "text/plain": [
       "2119"
      ]
     },
     "execution_count": 127,
     "metadata": {},
     "output_type": "execute_result"
    }
   ],
   "source": [
    "len(hierarchy_df['hierarchy_level4'].unique())"
   ]
  },
  {
   "cell_type": "code",
   "execution_count": null,
   "id": "530626f2",
   "metadata": {},
   "outputs": [],
   "source": [
    "[   h1_1:num_sku       h1_2:num_sku ]"
   ]
  },
  {
   "cell_type": "markdown",
   "id": "8d2c6ae6",
   "metadata": {},
   "source": [
    "## Loading Uplift "
   ]
  },
  {
   "cell_type": "code",
   "execution_count": 5,
   "id": "a345ea3c",
   "metadata": {},
   "outputs": [
    {
     "data": {
      "text/plain": [
       "((740, 2), Index(['Offer_ID', 'UpLift'], dtype='object'))"
      ]
     },
     "execution_count": 5,
     "metadata": {},
     "output_type": "execute_result"
    }
   ],
   "source": [
    "uplift_df = pd.read_csv('./lentahack/20210518_uplift.csv')\n",
    "uplift_df.shape, uplift_df.columns"
   ]
  },
  {
   "cell_type": "markdown",
   "id": "d621e679",
   "metadata": {},
   "source": [
    "## Merge Checks and Offers"
   ]
  },
  {
   "cell_type": "markdown",
   "id": "d774faeb",
   "metadata": {},
   "source": [
    "### Load Merged Checks and All"
   ]
  },
  {
   "cell_type": "code",
   "execution_count": 7,
   "id": "1a14dda2",
   "metadata": {},
   "outputs": [
    {
     "name": "stdout",
     "output_type": "stream",
     "text": [
      "20210518_checks.csv\t20210521_offers.csv\t\toffers_df_by_day.csv\r\n",
      "20210518_hierarchy.csv\t20210521_sample_submission.csv\r\n",
      "20210518_uplift.csv\tchecks_ofr_df.csv\r\n"
     ]
    }
   ],
   "source": [
    "!ls lentahack"
   ]
  },
  {
   "cell_type": "code",
   "execution_count": 8,
   "id": "6e448392",
   "metadata": {},
   "outputs": [
    {
     "name": "stderr",
     "output_type": "stream",
     "text": [
      "/anaconda/envs/py38_default/lib/python3.8/site-packages/IPython/core/interactiveshell.py:3165: DtypeWarning: Columns (14,15,16,17,18) have mixed types.Specify dtype option on import or set low_memory=False.\n",
      "  has_raised = await self.run_ast_nodes(code_ast.body, cell_name,\n"
     ]
    }
   ],
   "source": [
    "checks_ofr_df = pd.read_csv('./lentahack/checks_ofr_df.csv')"
   ]
  },
  {
   "cell_type": "code",
   "execution_count": 208,
   "id": "5fcda38a",
   "metadata": {},
   "outputs": [
    {
     "data": {
      "text/plain": [
       "client_id                   object\n",
       "date                datetime64[ns]\n",
       "day                          int64\n",
       "shop_id                     object\n",
       "check_id                    object\n",
       "time                        object\n",
       "sku                         object\n",
       "promo_id                    object\n",
       "check_pos                    int64\n",
       "num_sales                  float64\n",
       "supplier_price             float64\n",
       "selling_price              float64\n",
       "region_name                 object\n",
       "index                      float64\n",
       "Promo_type                  object\n",
       "Offer_ID                    object\n",
       "start_date          datetime64[ns]\n",
       "end_date                    object\n",
       "train_test_group            object\n",
       "hierarchy_level1            object\n",
       "hierarchy_level2            object\n",
       "hierarchy_level3            object\n",
       "hierarchy_level4            object\n",
       "UpLift                     float64\n",
       "dtype: object"
      ]
     },
     "execution_count": 208,
     "metadata": {},
     "output_type": "execute_result"
    }
   ],
   "source": [
    "checks_ofr_df.dtypes"
   ]
  },
  {
   "cell_type": "code",
   "execution_count": 209,
   "id": "1a7c8d83",
   "metadata": {},
   "outputs": [
    {
     "data": {
      "text/html": [
       "<div>\n",
       "<style scoped>\n",
       "    .dataframe tbody tr th:only-of-type {\n",
       "        vertical-align: middle;\n",
       "    }\n",
       "\n",
       "    .dataframe tbody tr th {\n",
       "        vertical-align: top;\n",
       "    }\n",
       "\n",
       "    .dataframe thead th {\n",
       "        text-align: right;\n",
       "    }\n",
       "</style>\n",
       "<table border=\"1\" class=\"dataframe\">\n",
       "  <thead>\n",
       "    <tr style=\"text-align: right;\">\n",
       "      <th></th>\n",
       "      <th>date</th>\n",
       "      <th>start_date</th>\n",
       "    </tr>\n",
       "  </thead>\n",
       "  <tbody>\n",
       "    <tr>\n",
       "      <th>3</th>\n",
       "      <td>2019-12-30</td>\n",
       "      <td>NaT</td>\n",
       "    </tr>\n",
       "    <tr>\n",
       "      <th>4</th>\n",
       "      <td>2019-12-30</td>\n",
       "      <td>NaT</td>\n",
       "    </tr>\n",
       "  </tbody>\n",
       "</table>\n",
       "</div>"
      ],
      "text/plain": [
       "        date start_date\n",
       "3 2019-12-30        NaT\n",
       "4 2019-12-30        NaT"
      ]
     },
     "execution_count": 209,
     "metadata": {},
     "output_type": "execute_result"
    }
   ],
   "source": [
    "checks_ofr_df[['date', 'start_date']].iloc[3:5]"
   ]
  },
  {
   "cell_type": "code",
   "execution_count": 207,
   "id": "1d22460b",
   "metadata": {},
   "outputs": [],
   "source": [
    "#checks_ofr_df['date'] = pd.to_datetime\n",
    "checks_ofr_df['date'] = pd.to_datetime(checks_ofr_df['date'], format=\"%Y-%m-%d\")\n",
    "checks_ofr_df['start_date'] = pd.to_datetime(checks_ofr_df['start_date'], format=\"%Y-%m-%d\")"
   ]
  },
  {
   "cell_type": "code",
   "execution_count": 9,
   "id": "863f8a39",
   "metadata": {},
   "outputs": [
    {
     "data": {
      "text/plain": [
       "((21512276, 24),\n",
       " Index(['client_id', 'date', 'day', 'shop_id', 'check_id', 'time', 'sku',\n",
       "        'promo_id', 'check_pos', 'num_sales', 'supplier_price', 'selling_price',\n",
       "        'region_name', 'index', 'Promo_type', 'Offer_ID', 'start_date',\n",
       "        'end_date', 'train_test_group', 'hierarchy_level1', 'hierarchy_level2',\n",
       "        'hierarchy_level3', 'hierarchy_level4', 'UpLift'],\n",
       "       dtype='object'))"
      ]
     },
     "execution_count": 9,
     "metadata": {},
     "output_type": "execute_result"
    }
   ],
   "source": [
    "checks_ofr_df.shape, checks_ofr_df.columns"
   ]
  },
  {
   "cell_type": "code",
   "execution_count": null,
   "id": "34df03d5",
   "metadata": {},
   "outputs": [],
   "source": []
  },
  {
   "cell_type": "code",
   "execution_count": 76,
   "id": "4e1a4746",
   "metadata": {},
   "outputs": [
    {
     "data": {
      "text/plain": [
       "((21479259, 12), (134703, 8))"
      ]
     },
     "execution_count": 76,
     "metadata": {},
     "output_type": "execute_result"
    }
   ],
   "source": [
    "checks_df.shape, offers_df_by_day.shape"
   ]
  },
  {
   "cell_type": "code",
   "execution_count": 77,
   "id": "50bb0885",
   "metadata": {},
   "outputs": [
    {
     "data": {
      "text/plain": [
       "(21567534, 19)"
      ]
     },
     "execution_count": 77,
     "metadata": {},
     "output_type": "execute_result"
    }
   ],
   "source": [
    "checks_ofr_df = checks_df.merge(offers_df_by_day, on=['sku', 'date'], how=\"outer\")\n",
    "checks_ofr_df.shape"
   ]
  },
  {
   "cell_type": "code",
   "execution_count": 83,
   "id": "841ae2a1",
   "metadata": {},
   "outputs": [
    {
     "data": {
      "text/plain": [
       "88275"
      ]
     },
     "execution_count": 83,
     "metadata": {},
     "output_type": "execute_result"
    }
   ],
   "source": [
    "21567534 - 21479259"
   ]
  },
  {
   "cell_type": "code",
   "execution_count": 84,
   "id": "8a186776",
   "metadata": {},
   "outputs": [
    {
     "data": {
      "text/plain": [
       "train_test_group    20363690\n",
       "end_date            20363690\n",
       "start_date          20363690\n",
       "Offer_ID            20363690\n",
       "Promo_type          20363690\n",
       "index               20363690\n",
       "supplier_price         55258\n",
       "region_name            55258\n",
       "selling_price          55258\n",
       "client_id              55258\n",
       "check_pos              55258\n",
       "promo_id               55258\n",
       "time                   55258\n",
       "check_id               55258\n",
       "shop_id                55258\n",
       "day                    55258\n",
       "num_sales              55258\n",
       "date                       0\n",
       "sku                        0\n",
       "dtype: int64"
      ]
     },
     "execution_count": 84,
     "metadata": {},
     "output_type": "execute_result"
    }
   ],
   "source": [
    "checks_ofr_df.isnull().sum().sort_values(ascending=False)"
   ]
  },
  {
   "cell_type": "code",
   "execution_count": 85,
   "id": "c894022a",
   "metadata": {},
   "outputs": [
    {
     "data": {
      "text/plain": [
       "1060311"
      ]
     },
     "execution_count": 85,
     "metadata": {},
     "output_type": "execute_result"
    }
   ],
   "source": [
    "21479259 - ( 20363690+55258)"
   ]
  },
  {
   "cell_type": "code",
   "execution_count": 99,
   "id": "b348cb01",
   "metadata": {},
   "outputs": [
    {
     "data": {
      "text/plain": [
       "((21512276, 19), (21479259, 12))"
      ]
     },
     "execution_count": 99,
     "metadata": {},
     "output_type": "execute_result"
    }
   ],
   "source": [
    "checks_ofr_df_left = checks_df.merge(offers_df_by_day, on=['sku', 'date'], how=\"left\")\n",
    "checks_ofr_df_left.shape, checks_df.shape"
   ]
  },
  {
   "cell_type": "code",
   "execution_count": 87,
   "id": "258f514c",
   "metadata": {
    "scrolled": true
   },
   "outputs": [
    {
     "data": {
      "text/plain": [
       "train_test_group    20363690\n",
       "end_date            20363690\n",
       "start_date          20363690\n",
       "Offer_ID            20363690\n",
       "Promo_type          20363690\n",
       "index               20363690\n",
       "supplier_price             0\n",
       "region_name                0\n",
       "selling_price              0\n",
       "client_id                  0\n",
       "date                       0\n",
       "check_pos                  0\n",
       "promo_id                   0\n",
       "sku                        0\n",
       "time                       0\n",
       "check_id                   0\n",
       "shop_id                    0\n",
       "day                        0\n",
       "num_sales                  0\n",
       "dtype: int64"
      ]
     },
     "execution_count": 87,
     "metadata": {},
     "output_type": "execute_result"
    }
   ],
   "source": [
    "checks_ofr_df_left.isnull().sum().sort_values(ascending=False)"
   ]
  },
  {
   "cell_type": "code",
   "execution_count": 88,
   "id": "10e5f9b5",
   "metadata": {},
   "outputs": [
    {
     "data": {
      "text/plain": [
       "0.051937033768250575"
      ]
     },
     "execution_count": 88,
     "metadata": {},
     "output_type": "execute_result"
    }
   ],
   "source": [
    "(21479259 - 20363690)/21479259"
   ]
  },
  {
   "cell_type": "code",
   "execution_count": 90,
   "id": "9ebdddb2",
   "metadata": {},
   "outputs": [
    {
     "data": {
      "text/html": [
       "<div>\n",
       "<style scoped>\n",
       "    .dataframe tbody tr th:only-of-type {\n",
       "        vertical-align: middle;\n",
       "    }\n",
       "\n",
       "    .dataframe tbody tr th {\n",
       "        vertical-align: top;\n",
       "    }\n",
       "\n",
       "    .dataframe thead th {\n",
       "        text-align: right;\n",
       "    }\n",
       "</style>\n",
       "<table border=\"1\" class=\"dataframe\">\n",
       "  <thead>\n",
       "    <tr style=\"text-align: right;\">\n",
       "      <th></th>\n",
       "      <th>client_id</th>\n",
       "      <th>date</th>\n",
       "      <th>day</th>\n",
       "      <th>shop_id</th>\n",
       "      <th>check_id</th>\n",
       "      <th>time</th>\n",
       "      <th>sku</th>\n",
       "      <th>promo_id</th>\n",
       "      <th>check_pos</th>\n",
       "      <th>num_sales</th>\n",
       "      <th>supplier_price</th>\n",
       "      <th>selling_price</th>\n",
       "      <th>region_name</th>\n",
       "      <th>index</th>\n",
       "      <th>Promo_type</th>\n",
       "      <th>Offer_ID</th>\n",
       "      <th>start_date</th>\n",
       "      <th>end_date</th>\n",
       "      <th>train_test_group</th>\n",
       "    </tr>\n",
       "  </thead>\n",
       "  <tbody>\n",
       "    <tr>\n",
       "      <th>20</th>\n",
       "      <td>0c75c5e1422c6a716fde39ce44f1f8ef</td>\n",
       "      <td>2019-12-30</td>\n",
       "      <td>20191230</td>\n",
       "      <td>25bbdcd06c32d477f7fa1c3e4a91b032</td>\n",
       "      <td>77c585133342e38989226fbcbc381eb3</td>\n",
       "      <td>08:17:49</td>\n",
       "      <td>1cbaaeb2212bbbe9d458ca9b81d74db7</td>\n",
       "      <td>86b055ff16c357a59decc2d7d32f2cc7</td>\n",
       "      <td>7</td>\n",
       "      <td>2.856</td>\n",
       "      <td>108.90</td>\n",
       "      <td>55.68</td>\n",
       "      <td>152f1b77a32508570e2745daf9ce7aec</td>\n",
       "      <td>782.0</td>\n",
       "      <td>Billboards</td>\n",
       "      <td>B3</td>\n",
       "      <td>2019-12-26</td>\n",
       "      <td>2020-01-08</td>\n",
       "      <td>train</td>\n",
       "    </tr>\n",
       "    <tr>\n",
       "      <th>21</th>\n",
       "      <td>0c75c5e1422c6a716fde39ce44f1f8ef</td>\n",
       "      <td>2019-12-30</td>\n",
       "      <td>20191230</td>\n",
       "      <td>25bbdcd06c32d477f7fa1c3e4a91b032</td>\n",
       "      <td>77c585133342e38989226fbcbc381eb3</td>\n",
       "      <td>08:17:49</td>\n",
       "      <td>1cbaaeb2212bbbe9d458ca9b81d74db7</td>\n",
       "      <td>86b055ff16c357a59decc2d7d32f2cc7</td>\n",
       "      <td>7</td>\n",
       "      <td>2.856</td>\n",
       "      <td>108.90</td>\n",
       "      <td>55.68</td>\n",
       "      <td>152f1b77a32508570e2745daf9ce7aec</td>\n",
       "      <td>7916.0</td>\n",
       "      <td>Billboards</td>\n",
       "      <td>B120</td>\n",
       "      <td>2019-12-26</td>\n",
       "      <td>2020-01-08</td>\n",
       "      <td>train</td>\n",
       "    </tr>\n",
       "    <tr>\n",
       "      <th>22</th>\n",
       "      <td>0c75c5e1422c6a716fde39ce44f1f8ef</td>\n",
       "      <td>2019-12-30</td>\n",
       "      <td>20191230</td>\n",
       "      <td>25bbdcd06c32d477f7fa1c3e4a91b032</td>\n",
       "      <td>77c585133342e38989226fbcbc381eb3</td>\n",
       "      <td>08:17:49</td>\n",
       "      <td>1cbaaeb2212bbbe9d458ca9b81d74db7</td>\n",
       "      <td>86b055ff16c357a59decc2d7d32f2cc7</td>\n",
       "      <td>2</td>\n",
       "      <td>3.276</td>\n",
       "      <td>124.91</td>\n",
       "      <td>63.87</td>\n",
       "      <td>152f1b77a32508570e2745daf9ce7aec</td>\n",
       "      <td>782.0</td>\n",
       "      <td>Billboards</td>\n",
       "      <td>B3</td>\n",
       "      <td>2019-12-26</td>\n",
       "      <td>2020-01-08</td>\n",
       "      <td>train</td>\n",
       "    </tr>\n",
       "    <tr>\n",
       "      <th>23</th>\n",
       "      <td>0c75c5e1422c6a716fde39ce44f1f8ef</td>\n",
       "      <td>2019-12-30</td>\n",
       "      <td>20191230</td>\n",
       "      <td>25bbdcd06c32d477f7fa1c3e4a91b032</td>\n",
       "      <td>77c585133342e38989226fbcbc381eb3</td>\n",
       "      <td>08:17:49</td>\n",
       "      <td>1cbaaeb2212bbbe9d458ca9b81d74db7</td>\n",
       "      <td>86b055ff16c357a59decc2d7d32f2cc7</td>\n",
       "      <td>2</td>\n",
       "      <td>3.276</td>\n",
       "      <td>124.91</td>\n",
       "      <td>63.87</td>\n",
       "      <td>152f1b77a32508570e2745daf9ce7aec</td>\n",
       "      <td>7916.0</td>\n",
       "      <td>Billboards</td>\n",
       "      <td>B120</td>\n",
       "      <td>2019-12-26</td>\n",
       "      <td>2020-01-08</td>\n",
       "      <td>train</td>\n",
       "    </tr>\n",
       "    <tr>\n",
       "      <th>31</th>\n",
       "      <td>f0da4fc17f024f4f23cfff3b56faac84</td>\n",
       "      <td>2019-12-30</td>\n",
       "      <td>20191230</td>\n",
       "      <td>25bbdcd06c32d477f7fa1c3e4a91b032</td>\n",
       "      <td>8d38ccf03c9d8a980c991c88fb98bcc2</td>\n",
       "      <td>11:31:16</td>\n",
       "      <td>1cbaaeb2212bbbe9d458ca9b81d74db7</td>\n",
       "      <td>86b055ff16c357a59decc2d7d32f2cc7</td>\n",
       "      <td>4</td>\n",
       "      <td>3.036</td>\n",
       "      <td>115.76</td>\n",
       "      <td>59.19</td>\n",
       "      <td>152f1b77a32508570e2745daf9ce7aec</td>\n",
       "      <td>782.0</td>\n",
       "      <td>Billboards</td>\n",
       "      <td>B3</td>\n",
       "      <td>2019-12-26</td>\n",
       "      <td>2020-01-08</td>\n",
       "      <td>train</td>\n",
       "    </tr>\n",
       "  </tbody>\n",
       "</table>\n",
       "</div>"
      ],
      "text/plain": [
       "                           client_id       date       day  \\\n",
       "20  0c75c5e1422c6a716fde39ce44f1f8ef 2019-12-30  20191230   \n",
       "21  0c75c5e1422c6a716fde39ce44f1f8ef 2019-12-30  20191230   \n",
       "22  0c75c5e1422c6a716fde39ce44f1f8ef 2019-12-30  20191230   \n",
       "23  0c75c5e1422c6a716fde39ce44f1f8ef 2019-12-30  20191230   \n",
       "31  f0da4fc17f024f4f23cfff3b56faac84 2019-12-30  20191230   \n",
       "\n",
       "                             shop_id                          check_id  \\\n",
       "20  25bbdcd06c32d477f7fa1c3e4a91b032  77c585133342e38989226fbcbc381eb3   \n",
       "21  25bbdcd06c32d477f7fa1c3e4a91b032  77c585133342e38989226fbcbc381eb3   \n",
       "22  25bbdcd06c32d477f7fa1c3e4a91b032  77c585133342e38989226fbcbc381eb3   \n",
       "23  25bbdcd06c32d477f7fa1c3e4a91b032  77c585133342e38989226fbcbc381eb3   \n",
       "31  25bbdcd06c32d477f7fa1c3e4a91b032  8d38ccf03c9d8a980c991c88fb98bcc2   \n",
       "\n",
       "        time                               sku  \\\n",
       "20  08:17:49  1cbaaeb2212bbbe9d458ca9b81d74db7   \n",
       "21  08:17:49  1cbaaeb2212bbbe9d458ca9b81d74db7   \n",
       "22  08:17:49  1cbaaeb2212bbbe9d458ca9b81d74db7   \n",
       "23  08:17:49  1cbaaeb2212bbbe9d458ca9b81d74db7   \n",
       "31  11:31:16  1cbaaeb2212bbbe9d458ca9b81d74db7   \n",
       "\n",
       "                            promo_id  check_pos  num_sales  supplier_price  \\\n",
       "20  86b055ff16c357a59decc2d7d32f2cc7          7      2.856          108.90   \n",
       "21  86b055ff16c357a59decc2d7d32f2cc7          7      2.856          108.90   \n",
       "22  86b055ff16c357a59decc2d7d32f2cc7          2      3.276          124.91   \n",
       "23  86b055ff16c357a59decc2d7d32f2cc7          2      3.276          124.91   \n",
       "31  86b055ff16c357a59decc2d7d32f2cc7          4      3.036          115.76   \n",
       "\n",
       "    selling_price                       region_name   index  Promo_type  \\\n",
       "20          55.68  152f1b77a32508570e2745daf9ce7aec   782.0  Billboards   \n",
       "21          55.68  152f1b77a32508570e2745daf9ce7aec  7916.0  Billboards   \n",
       "22          63.87  152f1b77a32508570e2745daf9ce7aec   782.0  Billboards   \n",
       "23          63.87  152f1b77a32508570e2745daf9ce7aec  7916.0  Billboards   \n",
       "31          59.19  152f1b77a32508570e2745daf9ce7aec   782.0  Billboards   \n",
       "\n",
       "   Offer_ID start_date   end_date train_test_group  \n",
       "20       B3 2019-12-26 2020-01-08            train  \n",
       "21     B120 2019-12-26 2020-01-08            train  \n",
       "22       B3 2019-12-26 2020-01-08            train  \n",
       "23     B120 2019-12-26 2020-01-08            train  \n",
       "31       B3 2019-12-26 2020-01-08            train  "
      ]
     },
     "execution_count": 90,
     "metadata": {},
     "output_type": "execute_result"
    }
   ],
   "source": [
    "checks_ofr_df_left[~checks_ofr_df_left['Promo_type'].isnull()].head()"
   ]
  },
  {
   "cell_type": "code",
   "execution_count": 91,
   "id": "79b7a022",
   "metadata": {},
   "outputs": [
    {
     "data": {
      "text/plain": [
       "741"
      ]
     },
     "execution_count": 91,
     "metadata": {},
     "output_type": "execute_result"
    }
   ],
   "source": [
    "len(checks_ofr_df_left['Offer_ID'].unique())"
   ]
  },
  {
   "cell_type": "code",
   "execution_count": 92,
   "id": "faee9ab4",
   "metadata": {},
   "outputs": [
    {
     "data": {
      "text/plain": [
       "148"
      ]
     },
     "execution_count": 92,
     "metadata": {},
     "output_type": "execute_result"
    }
   ],
   "source": [
    "len(offers_df['Offer_ID'].unique()) - len(checks_ofr_df_left['Offer_ID'].unique())"
   ]
  },
  {
   "cell_type": "code",
   "execution_count": 100,
   "id": "75e94895",
   "metadata": {},
   "outputs": [
    {
     "data": {
      "text/plain": [
       "(21512276, 19)"
      ]
     },
     "execution_count": 100,
     "metadata": {},
     "output_type": "execute_result"
    }
   ],
   "source": [
    "checks_ofr_df_left.shape"
   ]
  },
  {
   "cell_type": "code",
   "execution_count": 101,
   "id": "a489ff99",
   "metadata": {},
   "outputs": [
    {
     "data": {
      "text/plain": [
       "(21512276, 23)"
      ]
     },
     "execution_count": 101,
     "metadata": {},
     "output_type": "execute_result"
    }
   ],
   "source": [
    "checks_ofr_df_left = checks_ofr_df_left.merge(hierarchy_df, on='sku', how=\"left\")\n",
    "checks_ofr_df_left.shape"
   ]
  },
  {
   "cell_type": "code",
   "execution_count": 102,
   "id": "d3c389fb",
   "metadata": {},
   "outputs": [
    {
     "data": {
      "text/plain": [
       "(21512276, 24)"
      ]
     },
     "execution_count": 102,
     "metadata": {},
     "output_type": "execute_result"
    }
   ],
   "source": [
    "checks_ofr_df_left = checks_ofr_df_left.merge(uplift_df, on='Offer_ID', how=\"left\")\n",
    "checks_ofr_df_left.shape"
   ]
  },
  {
   "cell_type": "code",
   "execution_count": 103,
   "id": "89319cf8",
   "metadata": {},
   "outputs": [],
   "source": [
    "checks_ofr_df_left.to_csv('../checks_ofr_df.csv', index=False)"
   ]
  },
  {
   "cell_type": "code",
   "execution_count": 104,
   "id": "b3a102f3",
   "metadata": {},
   "outputs": [
    {
     "data": {
      "text/html": [
       "<div>\n",
       "<style scoped>\n",
       "    .dataframe tbody tr th:only-of-type {\n",
       "        vertical-align: middle;\n",
       "    }\n",
       "\n",
       "    .dataframe tbody tr th {\n",
       "        vertical-align: top;\n",
       "    }\n",
       "\n",
       "    .dataframe thead th {\n",
       "        text-align: right;\n",
       "    }\n",
       "</style>\n",
       "<table border=\"1\" class=\"dataframe\">\n",
       "  <thead>\n",
       "    <tr style=\"text-align: right;\">\n",
       "      <th></th>\n",
       "      <th>client_id</th>\n",
       "      <th>date</th>\n",
       "      <th>day</th>\n",
       "      <th>shop_id</th>\n",
       "      <th>check_id</th>\n",
       "      <th>time</th>\n",
       "      <th>sku</th>\n",
       "      <th>promo_id</th>\n",
       "      <th>check_pos</th>\n",
       "      <th>num_sales</th>\n",
       "      <th>...</th>\n",
       "      <th>Promo_type</th>\n",
       "      <th>Offer_ID</th>\n",
       "      <th>start_date</th>\n",
       "      <th>end_date</th>\n",
       "      <th>train_test_group</th>\n",
       "      <th>hierarchy_level1</th>\n",
       "      <th>hierarchy_level2</th>\n",
       "      <th>hierarchy_level3</th>\n",
       "      <th>hierarchy_level4</th>\n",
       "      <th>UpLift</th>\n",
       "    </tr>\n",
       "  </thead>\n",
       "  <tbody>\n",
       "    <tr>\n",
       "      <th>0</th>\n",
       "      <td>d9da50b77962ad6401d0527db5b65b04</td>\n",
       "      <td>2019-12-30</td>\n",
       "      <td>20191230</td>\n",
       "      <td>25bbdcd06c32d477f7fa1c3e4a91b032</td>\n",
       "      <td>c0b3f9c2215f924e27a6039617999c60</td>\n",
       "      <td>07:28:39</td>\n",
       "      <td>b17c870027bb4a22e3aedb971bc00def</td>\n",
       "      <td>b3deb0286313f0b888c0eac49580cc23</td>\n",
       "      <td>1</td>\n",
       "      <td>5.0</td>\n",
       "      <td>...</td>\n",
       "      <td>NaN</td>\n",
       "      <td>NaN</td>\n",
       "      <td>NaT</td>\n",
       "      <td>NaT</td>\n",
       "      <td>NaN</td>\n",
       "      <td>44a7b825383402ed937a15fb8a5bb12a</td>\n",
       "      <td>ea5d2f1c4608232e07d3aa3d998e5135</td>\n",
       "      <td>d994e3728ba5e28defb88a3289cd7ee8</td>\n",
       "      <td>b84633d3396f28a04889d2e5a41c7b0b</td>\n",
       "      <td>NaN</td>\n",
       "    </tr>\n",
       "    <tr>\n",
       "      <th>1</th>\n",
       "      <td>d9da50b77962ad6401d0527db5b65b04</td>\n",
       "      <td>2019-12-30</td>\n",
       "      <td>20191230</td>\n",
       "      <td>25bbdcd06c32d477f7fa1c3e4a91b032</td>\n",
       "      <td>c0b3f9c2215f924e27a6039617999c60</td>\n",
       "      <td>07:28:39</td>\n",
       "      <td>b9ef00e971d0fb459a765708efba70c0</td>\n",
       "      <td>680a96609351230ed00e1d1090371cbc</td>\n",
       "      <td>2</td>\n",
       "      <td>1.0</td>\n",
       "      <td>...</td>\n",
       "      <td>NaN</td>\n",
       "      <td>NaN</td>\n",
       "      <td>NaT</td>\n",
       "      <td>NaT</td>\n",
       "      <td>NaN</td>\n",
       "      <td>44a7b825383402ed937a15fb8a5bb12a</td>\n",
       "      <td>d645920e395fedad7bbbed0eca3fe2e0</td>\n",
       "      <td>6693a7aacb8a2e74c6f5fe91bc39864b</td>\n",
       "      <td>878b4140ebdb1b79f378d2cf0cc3245c</td>\n",
       "      <td>NaN</td>\n",
       "    </tr>\n",
       "    <tr>\n",
       "      <th>2</th>\n",
       "      <td>d9da50b77962ad6401d0527db5b65b04</td>\n",
       "      <td>2019-12-30</td>\n",
       "      <td>20191230</td>\n",
       "      <td>25bbdcd06c32d477f7fa1c3e4a91b032</td>\n",
       "      <td>c0b3f9c2215f924e27a6039617999c60</td>\n",
       "      <td>07:28:39</td>\n",
       "      <td>b75147feae4cf8ec07fb5f2cef855def</td>\n",
       "      <td>7215ee9c7d9dc229d2921a40e899ec5f</td>\n",
       "      <td>5</td>\n",
       "      <td>2.0</td>\n",
       "      <td>...</td>\n",
       "      <td>NaN</td>\n",
       "      <td>NaN</td>\n",
       "      <td>NaT</td>\n",
       "      <td>NaT</td>\n",
       "      <td>NaN</td>\n",
       "      <td>44a7b825383402ed937a15fb8a5bb12a</td>\n",
       "      <td>d645920e395fedad7bbbed0eca3fe2e0</td>\n",
       "      <td>bd3ef5c19067fe179f71c8b86ea4b39b</td>\n",
       "      <td>5bf563e8f99ed820f322704e4898df6b</td>\n",
       "      <td>NaN</td>\n",
       "    </tr>\n",
       "    <tr>\n",
       "      <th>3</th>\n",
       "      <td>d9da50b77962ad6401d0527db5b65b04</td>\n",
       "      <td>2019-12-30</td>\n",
       "      <td>20191230</td>\n",
       "      <td>25bbdcd06c32d477f7fa1c3e4a91b032</td>\n",
       "      <td>c0b3f9c2215f924e27a6039617999c60</td>\n",
       "      <td>07:28:39</td>\n",
       "      <td>b25e0d42165d246d23cbf4d3efcdf583</td>\n",
       "      <td>7215ee9c7d9dc229d2921a40e899ec5f</td>\n",
       "      <td>4</td>\n",
       "      <td>1.0</td>\n",
       "      <td>...</td>\n",
       "      <td>NaN</td>\n",
       "      <td>NaN</td>\n",
       "      <td>NaT</td>\n",
       "      <td>NaT</td>\n",
       "      <td>NaN</td>\n",
       "      <td>44a7b825383402ed937a15fb8a5bb12a</td>\n",
       "      <td>d645920e395fedad7bbbed0eca3fe2e0</td>\n",
       "      <td>fbfe5ba2ce3309f522c335e949435612</td>\n",
       "      <td>3162b14a97ef895f688e36026574a6d4</td>\n",
       "      <td>NaN</td>\n",
       "    </tr>\n",
       "    <tr>\n",
       "      <th>4</th>\n",
       "      <td>d9da50b77962ad6401d0527db5b65b04</td>\n",
       "      <td>2019-12-30</td>\n",
       "      <td>20191230</td>\n",
       "      <td>25bbdcd06c32d477f7fa1c3e4a91b032</td>\n",
       "      <td>c0b3f9c2215f924e27a6039617999c60</td>\n",
       "      <td>07:28:39</td>\n",
       "      <td>a537d2eef30d47f9b11d655421ca93fb</td>\n",
       "      <td>05c93d4fa9bdbe70b5d2204ce9548ca9</td>\n",
       "      <td>3</td>\n",
       "      <td>1.0</td>\n",
       "      <td>...</td>\n",
       "      <td>NaN</td>\n",
       "      <td>NaN</td>\n",
       "      <td>NaT</td>\n",
       "      <td>NaT</td>\n",
       "      <td>NaN</td>\n",
       "      <td>44a7b825383402ed937a15fb8a5bb12a</td>\n",
       "      <td>d645920e395fedad7bbbed0eca3fe2e0</td>\n",
       "      <td>fbfe5ba2ce3309f522c335e949435612</td>\n",
       "      <td>3162b14a97ef895f688e36026574a6d4</td>\n",
       "      <td>NaN</td>\n",
       "    </tr>\n",
       "  </tbody>\n",
       "</table>\n",
       "<p>5 rows × 24 columns</p>\n",
       "</div>"
      ],
      "text/plain": [
       "                          client_id       date       day  \\\n",
       "0  d9da50b77962ad6401d0527db5b65b04 2019-12-30  20191230   \n",
       "1  d9da50b77962ad6401d0527db5b65b04 2019-12-30  20191230   \n",
       "2  d9da50b77962ad6401d0527db5b65b04 2019-12-30  20191230   \n",
       "3  d9da50b77962ad6401d0527db5b65b04 2019-12-30  20191230   \n",
       "4  d9da50b77962ad6401d0527db5b65b04 2019-12-30  20191230   \n",
       "\n",
       "                            shop_id                          check_id  \\\n",
       "0  25bbdcd06c32d477f7fa1c3e4a91b032  c0b3f9c2215f924e27a6039617999c60   \n",
       "1  25bbdcd06c32d477f7fa1c3e4a91b032  c0b3f9c2215f924e27a6039617999c60   \n",
       "2  25bbdcd06c32d477f7fa1c3e4a91b032  c0b3f9c2215f924e27a6039617999c60   \n",
       "3  25bbdcd06c32d477f7fa1c3e4a91b032  c0b3f9c2215f924e27a6039617999c60   \n",
       "4  25bbdcd06c32d477f7fa1c3e4a91b032  c0b3f9c2215f924e27a6039617999c60   \n",
       "\n",
       "       time                               sku  \\\n",
       "0  07:28:39  b17c870027bb4a22e3aedb971bc00def   \n",
       "1  07:28:39  b9ef00e971d0fb459a765708efba70c0   \n",
       "2  07:28:39  b75147feae4cf8ec07fb5f2cef855def   \n",
       "3  07:28:39  b25e0d42165d246d23cbf4d3efcdf583   \n",
       "4  07:28:39  a537d2eef30d47f9b11d655421ca93fb   \n",
       "\n",
       "                           promo_id  check_pos  num_sales  ...  Promo_type  \\\n",
       "0  b3deb0286313f0b888c0eac49580cc23          1        5.0  ...         NaN   \n",
       "1  680a96609351230ed00e1d1090371cbc          2        1.0  ...         NaN   \n",
       "2  7215ee9c7d9dc229d2921a40e899ec5f          5        2.0  ...         NaN   \n",
       "3  7215ee9c7d9dc229d2921a40e899ec5f          4        1.0  ...         NaN   \n",
       "4  05c93d4fa9bdbe70b5d2204ce9548ca9          3        1.0  ...         NaN   \n",
       "\n",
       "   Offer_ID start_date  end_date train_test_group  \\\n",
       "0       NaN        NaT       NaT              NaN   \n",
       "1       NaN        NaT       NaT              NaN   \n",
       "2       NaN        NaT       NaT              NaN   \n",
       "3       NaN        NaT       NaT              NaN   \n",
       "4       NaN        NaT       NaT              NaN   \n",
       "\n",
       "                   hierarchy_level1                  hierarchy_level2  \\\n",
       "0  44a7b825383402ed937a15fb8a5bb12a  ea5d2f1c4608232e07d3aa3d998e5135   \n",
       "1  44a7b825383402ed937a15fb8a5bb12a  d645920e395fedad7bbbed0eca3fe2e0   \n",
       "2  44a7b825383402ed937a15fb8a5bb12a  d645920e395fedad7bbbed0eca3fe2e0   \n",
       "3  44a7b825383402ed937a15fb8a5bb12a  d645920e395fedad7bbbed0eca3fe2e0   \n",
       "4  44a7b825383402ed937a15fb8a5bb12a  d645920e395fedad7bbbed0eca3fe2e0   \n",
       "\n",
       "                   hierarchy_level3                  hierarchy_level4 UpLift  \n",
       "0  d994e3728ba5e28defb88a3289cd7ee8  b84633d3396f28a04889d2e5a41c7b0b    NaN  \n",
       "1  6693a7aacb8a2e74c6f5fe91bc39864b  878b4140ebdb1b79f378d2cf0cc3245c    NaN  \n",
       "2  bd3ef5c19067fe179f71c8b86ea4b39b  5bf563e8f99ed820f322704e4898df6b    NaN  \n",
       "3  fbfe5ba2ce3309f522c335e949435612  3162b14a97ef895f688e36026574a6d4    NaN  \n",
       "4  fbfe5ba2ce3309f522c335e949435612  3162b14a97ef895f688e36026574a6d4    NaN  \n",
       "\n",
       "[5 rows x 24 columns]"
      ]
     },
     "execution_count": 104,
     "metadata": {},
     "output_type": "execute_result"
    }
   ],
   "source": [
    "checks_ofr_df_left.head()"
   ]
  },
  {
   "cell_type": "code",
   "execution_count": null,
   "id": "822df960",
   "metadata": {},
   "outputs": [],
   "source": [
    "checks_ofr_df_left.columns"
   ]
  },
  {
   "cell_type": "code",
   "execution_count": 106,
   "id": "20937653",
   "metadata": {
    "scrolled": true
   },
   "outputs": [
    {
     "data": {
      "text/html": [
       "<div>\n",
       "<style scoped>\n",
       "    .dataframe tbody tr th:only-of-type {\n",
       "        vertical-align: middle;\n",
       "    }\n",
       "\n",
       "    .dataframe tbody tr th {\n",
       "        vertical-align: top;\n",
       "    }\n",
       "\n",
       "    .dataframe thead th {\n",
       "        text-align: right;\n",
       "    }\n",
       "</style>\n",
       "<table border=\"1\" class=\"dataframe\">\n",
       "  <thead>\n",
       "    <tr style=\"text-align: right;\">\n",
       "      <th></th>\n",
       "      <th>client_id</th>\n",
       "      <th>date</th>\n",
       "      <th>day</th>\n",
       "      <th>shop_id</th>\n",
       "      <th>check_id</th>\n",
       "      <th>time</th>\n",
       "      <th>sku</th>\n",
       "      <th>promo_id</th>\n",
       "      <th>check_pos</th>\n",
       "      <th>num_sales</th>\n",
       "      <th>...</th>\n",
       "      <th>Promo_type</th>\n",
       "      <th>Offer_ID</th>\n",
       "      <th>start_date</th>\n",
       "      <th>end_date</th>\n",
       "      <th>train_test_group</th>\n",
       "      <th>hierarchy_level1</th>\n",
       "      <th>hierarchy_level2</th>\n",
       "      <th>hierarchy_level3</th>\n",
       "      <th>hierarchy_level4</th>\n",
       "      <th>UpLift</th>\n",
       "    </tr>\n",
       "  </thead>\n",
       "  <tbody>\n",
       "    <tr>\n",
       "      <th>20</th>\n",
       "      <td>0c75c5e1422c6a716fde39ce44f1f8ef</td>\n",
       "      <td>2019-12-30</td>\n",
       "      <td>20191230</td>\n",
       "      <td>25bbdcd06c32d477f7fa1c3e4a91b032</td>\n",
       "      <td>77c585133342e38989226fbcbc381eb3</td>\n",
       "      <td>08:17:49</td>\n",
       "      <td>1cbaaeb2212bbbe9d458ca9b81d74db7</td>\n",
       "      <td>86b055ff16c357a59decc2d7d32f2cc7</td>\n",
       "      <td>7</td>\n",
       "      <td>2.856</td>\n",
       "      <td>...</td>\n",
       "      <td>Billboards</td>\n",
       "      <td>B3</td>\n",
       "      <td>2019-12-26</td>\n",
       "      <td>2020-01-08</td>\n",
       "      <td>train</td>\n",
       "      <td>cc9284597026dcc021735c0970ca0c93</td>\n",
       "      <td>6f4922f45568161a8cdf4ad2299f6d23</td>\n",
       "      <td>645098b086d2f9e1e0e939c27f9f2d6f</td>\n",
       "      <td>d66a5517fea10ab5d81ee32912ef07e6</td>\n",
       "      <td>0.811516</td>\n",
       "    </tr>\n",
       "    <tr>\n",
       "      <th>21</th>\n",
       "      <td>0c75c5e1422c6a716fde39ce44f1f8ef</td>\n",
       "      <td>2019-12-30</td>\n",
       "      <td>20191230</td>\n",
       "      <td>25bbdcd06c32d477f7fa1c3e4a91b032</td>\n",
       "      <td>77c585133342e38989226fbcbc381eb3</td>\n",
       "      <td>08:17:49</td>\n",
       "      <td>1cbaaeb2212bbbe9d458ca9b81d74db7</td>\n",
       "      <td>86b055ff16c357a59decc2d7d32f2cc7</td>\n",
       "      <td>7</td>\n",
       "      <td>2.856</td>\n",
       "      <td>...</td>\n",
       "      <td>Billboards</td>\n",
       "      <td>B120</td>\n",
       "      <td>2019-12-26</td>\n",
       "      <td>2020-01-08</td>\n",
       "      <td>train</td>\n",
       "      <td>cc9284597026dcc021735c0970ca0c93</td>\n",
       "      <td>6f4922f45568161a8cdf4ad2299f6d23</td>\n",
       "      <td>645098b086d2f9e1e0e939c27f9f2d6f</td>\n",
       "      <td>d66a5517fea10ab5d81ee32912ef07e6</td>\n",
       "      <td>0.811516</td>\n",
       "    </tr>\n",
       "    <tr>\n",
       "      <th>22</th>\n",
       "      <td>0c75c5e1422c6a716fde39ce44f1f8ef</td>\n",
       "      <td>2019-12-30</td>\n",
       "      <td>20191230</td>\n",
       "      <td>25bbdcd06c32d477f7fa1c3e4a91b032</td>\n",
       "      <td>77c585133342e38989226fbcbc381eb3</td>\n",
       "      <td>08:17:49</td>\n",
       "      <td>1cbaaeb2212bbbe9d458ca9b81d74db7</td>\n",
       "      <td>86b055ff16c357a59decc2d7d32f2cc7</td>\n",
       "      <td>2</td>\n",
       "      <td>3.276</td>\n",
       "      <td>...</td>\n",
       "      <td>Billboards</td>\n",
       "      <td>B3</td>\n",
       "      <td>2019-12-26</td>\n",
       "      <td>2020-01-08</td>\n",
       "      <td>train</td>\n",
       "      <td>cc9284597026dcc021735c0970ca0c93</td>\n",
       "      <td>6f4922f45568161a8cdf4ad2299f6d23</td>\n",
       "      <td>645098b086d2f9e1e0e939c27f9f2d6f</td>\n",
       "      <td>d66a5517fea10ab5d81ee32912ef07e6</td>\n",
       "      <td>0.811516</td>\n",
       "    </tr>\n",
       "    <tr>\n",
       "      <th>23</th>\n",
       "      <td>0c75c5e1422c6a716fde39ce44f1f8ef</td>\n",
       "      <td>2019-12-30</td>\n",
       "      <td>20191230</td>\n",
       "      <td>25bbdcd06c32d477f7fa1c3e4a91b032</td>\n",
       "      <td>77c585133342e38989226fbcbc381eb3</td>\n",
       "      <td>08:17:49</td>\n",
       "      <td>1cbaaeb2212bbbe9d458ca9b81d74db7</td>\n",
       "      <td>86b055ff16c357a59decc2d7d32f2cc7</td>\n",
       "      <td>2</td>\n",
       "      <td>3.276</td>\n",
       "      <td>...</td>\n",
       "      <td>Billboards</td>\n",
       "      <td>B120</td>\n",
       "      <td>2019-12-26</td>\n",
       "      <td>2020-01-08</td>\n",
       "      <td>train</td>\n",
       "      <td>cc9284597026dcc021735c0970ca0c93</td>\n",
       "      <td>6f4922f45568161a8cdf4ad2299f6d23</td>\n",
       "      <td>645098b086d2f9e1e0e939c27f9f2d6f</td>\n",
       "      <td>d66a5517fea10ab5d81ee32912ef07e6</td>\n",
       "      <td>0.811516</td>\n",
       "    </tr>\n",
       "    <tr>\n",
       "      <th>31</th>\n",
       "      <td>f0da4fc17f024f4f23cfff3b56faac84</td>\n",
       "      <td>2019-12-30</td>\n",
       "      <td>20191230</td>\n",
       "      <td>25bbdcd06c32d477f7fa1c3e4a91b032</td>\n",
       "      <td>8d38ccf03c9d8a980c991c88fb98bcc2</td>\n",
       "      <td>11:31:16</td>\n",
       "      <td>1cbaaeb2212bbbe9d458ca9b81d74db7</td>\n",
       "      <td>86b055ff16c357a59decc2d7d32f2cc7</td>\n",
       "      <td>4</td>\n",
       "      <td>3.036</td>\n",
       "      <td>...</td>\n",
       "      <td>Billboards</td>\n",
       "      <td>B3</td>\n",
       "      <td>2019-12-26</td>\n",
       "      <td>2020-01-08</td>\n",
       "      <td>train</td>\n",
       "      <td>cc9284597026dcc021735c0970ca0c93</td>\n",
       "      <td>6f4922f45568161a8cdf4ad2299f6d23</td>\n",
       "      <td>645098b086d2f9e1e0e939c27f9f2d6f</td>\n",
       "      <td>d66a5517fea10ab5d81ee32912ef07e6</td>\n",
       "      <td>0.811516</td>\n",
       "    </tr>\n",
       "  </tbody>\n",
       "</table>\n",
       "<p>5 rows × 24 columns</p>\n",
       "</div>"
      ],
      "text/plain": [
       "                           client_id       date       day  \\\n",
       "20  0c75c5e1422c6a716fde39ce44f1f8ef 2019-12-30  20191230   \n",
       "21  0c75c5e1422c6a716fde39ce44f1f8ef 2019-12-30  20191230   \n",
       "22  0c75c5e1422c6a716fde39ce44f1f8ef 2019-12-30  20191230   \n",
       "23  0c75c5e1422c6a716fde39ce44f1f8ef 2019-12-30  20191230   \n",
       "31  f0da4fc17f024f4f23cfff3b56faac84 2019-12-30  20191230   \n",
       "\n",
       "                             shop_id                          check_id  \\\n",
       "20  25bbdcd06c32d477f7fa1c3e4a91b032  77c585133342e38989226fbcbc381eb3   \n",
       "21  25bbdcd06c32d477f7fa1c3e4a91b032  77c585133342e38989226fbcbc381eb3   \n",
       "22  25bbdcd06c32d477f7fa1c3e4a91b032  77c585133342e38989226fbcbc381eb3   \n",
       "23  25bbdcd06c32d477f7fa1c3e4a91b032  77c585133342e38989226fbcbc381eb3   \n",
       "31  25bbdcd06c32d477f7fa1c3e4a91b032  8d38ccf03c9d8a980c991c88fb98bcc2   \n",
       "\n",
       "        time                               sku  \\\n",
       "20  08:17:49  1cbaaeb2212bbbe9d458ca9b81d74db7   \n",
       "21  08:17:49  1cbaaeb2212bbbe9d458ca9b81d74db7   \n",
       "22  08:17:49  1cbaaeb2212bbbe9d458ca9b81d74db7   \n",
       "23  08:17:49  1cbaaeb2212bbbe9d458ca9b81d74db7   \n",
       "31  11:31:16  1cbaaeb2212bbbe9d458ca9b81d74db7   \n",
       "\n",
       "                            promo_id  check_pos  num_sales  ...  Promo_type  \\\n",
       "20  86b055ff16c357a59decc2d7d32f2cc7          7      2.856  ...  Billboards   \n",
       "21  86b055ff16c357a59decc2d7d32f2cc7          7      2.856  ...  Billboards   \n",
       "22  86b055ff16c357a59decc2d7d32f2cc7          2      3.276  ...  Billboards   \n",
       "23  86b055ff16c357a59decc2d7d32f2cc7          2      3.276  ...  Billboards   \n",
       "31  86b055ff16c357a59decc2d7d32f2cc7          4      3.036  ...  Billboards   \n",
       "\n",
       "    Offer_ID start_date   end_date train_test_group  \\\n",
       "20        B3 2019-12-26 2020-01-08            train   \n",
       "21      B120 2019-12-26 2020-01-08            train   \n",
       "22        B3 2019-12-26 2020-01-08            train   \n",
       "23      B120 2019-12-26 2020-01-08            train   \n",
       "31        B3 2019-12-26 2020-01-08            train   \n",
       "\n",
       "                    hierarchy_level1                  hierarchy_level2  \\\n",
       "20  cc9284597026dcc021735c0970ca0c93  6f4922f45568161a8cdf4ad2299f6d23   \n",
       "21  cc9284597026dcc021735c0970ca0c93  6f4922f45568161a8cdf4ad2299f6d23   \n",
       "22  cc9284597026dcc021735c0970ca0c93  6f4922f45568161a8cdf4ad2299f6d23   \n",
       "23  cc9284597026dcc021735c0970ca0c93  6f4922f45568161a8cdf4ad2299f6d23   \n",
       "31  cc9284597026dcc021735c0970ca0c93  6f4922f45568161a8cdf4ad2299f6d23   \n",
       "\n",
       "                    hierarchy_level3                  hierarchy_level4  \\\n",
       "20  645098b086d2f9e1e0e939c27f9f2d6f  d66a5517fea10ab5d81ee32912ef07e6   \n",
       "21  645098b086d2f9e1e0e939c27f9f2d6f  d66a5517fea10ab5d81ee32912ef07e6   \n",
       "22  645098b086d2f9e1e0e939c27f9f2d6f  d66a5517fea10ab5d81ee32912ef07e6   \n",
       "23  645098b086d2f9e1e0e939c27f9f2d6f  d66a5517fea10ab5d81ee32912ef07e6   \n",
       "31  645098b086d2f9e1e0e939c27f9f2d6f  d66a5517fea10ab5d81ee32912ef07e6   \n",
       "\n",
       "      UpLift  \n",
       "20  0.811516  \n",
       "21  0.811516  \n",
       "22  0.811516  \n",
       "23  0.811516  \n",
       "31  0.811516  \n",
       "\n",
       "[5 rows x 24 columns]"
      ]
     },
     "execution_count": 106,
     "metadata": {},
     "output_type": "execute_result"
    }
   ],
   "source": [
    "checks_ofr_df_left[~checks_ofr_df_left['Offer_ID'].isnull()].head()"
   ]
  },
  {
   "cell_type": "code",
   "execution_count": null,
   "id": "f6656a45",
   "metadata": {},
   "outputs": [],
   "source": [
    "%who"
   ]
  },
  {
   "cell_type": "code",
   "execution_count": 112,
   "id": "208322b4",
   "metadata": {},
   "outputs": [
    {
     "data": {
      "text/plain": [
       "train    1148586\n",
       "Name: train_test_group, dtype: int64"
      ]
     },
     "execution_count": 112,
     "metadata": {},
     "output_type": "execute_result"
    }
   ],
   "source": [
    "checks_ofr_df_left['train_test_group'].value_counts()"
   ]
  },
  {
   "cell_type": "code",
   "execution_count": 113,
   "id": "6e2e0681",
   "metadata": {},
   "outputs": [
    {
     "data": {
      "text/plain": [
       "train    7716\n",
       "test     2060\n",
       "Name: train_test_group, dtype: int64"
      ]
     },
     "execution_count": 113,
     "metadata": {},
     "output_type": "execute_result"
    }
   ],
   "source": [
    "offers_df['train_test_group'].value_counts()"
   ]
  },
  {
   "cell_type": "code",
   "execution_count": 114,
   "id": "505414a9",
   "metadata": {},
   "outputs": [
    {
     "data": {
      "text/plain": [
       "149"
      ]
     },
     "execution_count": 114,
     "metadata": {},
     "output_type": "execute_result"
    }
   ],
   "source": [
    "len(offers_df[offers_df['train_test_group'] == 'test']['Offer_ID'].unique())"
   ]
  },
  {
   "cell_type": "code",
   "execution_count": 115,
   "id": "1dae2f87",
   "metadata": {},
   "outputs": [
    {
     "data": {
      "text/plain": [
       "740"
      ]
     },
     "execution_count": 115,
     "metadata": {},
     "output_type": "execute_result"
    }
   ],
   "source": [
    "len(offers_df[offers_df['train_test_group'] == 'train']['Offer_ID'].unique())"
   ]
  },
  {
   "cell_type": "code",
   "execution_count": 110,
   "id": "68cbfe57",
   "metadata": {},
   "outputs": [
    {
     "data": {
      "text/plain": [
       "889"
      ]
     },
     "execution_count": 110,
     "metadata": {},
     "output_type": "execute_result"
    }
   ],
   "source": [
    "len(offers_df['Offer_ID'].unique())"
   ]
  },
  {
   "cell_type": "code",
   "execution_count": 109,
   "id": "ab73d880",
   "metadata": {},
   "outputs": [
    {
     "data": {
      "text/plain": [
       "741"
      ]
     },
     "execution_count": 109,
     "metadata": {},
     "output_type": "execute_result"
    }
   ],
   "source": [
    "len(checks_ofr_df_left['Offer_ID'].unique())"
   ]
  },
  {
   "cell_type": "code",
   "execution_count": 111,
   "id": "6a7590d2",
   "metadata": {},
   "outputs": [
    {
     "data": {
      "text/plain": [
       "148"
      ]
     },
     "execution_count": 111,
     "metadata": {},
     "output_type": "execute_result"
    }
   ],
   "source": [
    "889 - 741 "
   ]
  },
  {
   "cell_type": "code",
   "execution_count": 107,
   "id": "57cae89e",
   "metadata": {},
   "outputs": [
    {
     "data": {
      "text/plain": [
       "(740,)"
      ]
     },
     "execution_count": 107,
     "metadata": {},
     "output_type": "execute_result"
    }
   ],
   "source": [
    "uplift_df['UpLift'].shape"
   ]
  },
  {
   "cell_type": "code",
   "execution_count": 108,
   "id": "6d61b424",
   "metadata": {},
   "outputs": [
    {
     "data": {
      "text/plain": [
       "(733,)"
      ]
     },
     "execution_count": 108,
     "metadata": {},
     "output_type": "execute_result"
    }
   ],
   "source": [
    "uplift_df['UpLift'].value_counts().shape"
   ]
  },
  {
   "cell_type": "markdown",
   "id": "67b5d17d",
   "metadata": {},
   "source": [
    "## Features\n",
    "\n",
    "1. time/duration/season based features \n",
    "1. hierarchies as categories features \n",
    "1. is in other offers?\n",
    "1. `$` and units agg by pred-period\n",
    "1. `$` and units agg by \"baseline\" period (prev 30 days?)"
   ]
  },
  {
   "cell_type": "code",
   "execution_count": 21,
   "id": "2156ea73",
   "metadata": {},
   "outputs": [
    {
     "data": {
      "text/plain": [
       "((9776, 6),\n",
       " Index(['Promo_type', 'Offer_ID', 'sku', 'start_date', 'end_date',\n",
       "        'train_test_group'],\n",
       "       dtype='object'))"
      ]
     },
     "execution_count": 21,
     "metadata": {},
     "output_type": "execute_result"
    }
   ],
   "source": [
    "offers_df.shape, offers_df.columns"
   ]
  },
  {
   "cell_type": "code",
   "execution_count": 22,
   "id": "7e91cc64",
   "metadata": {},
   "outputs": [
    {
     "data": {
      "text/plain": [
       "train    7716\n",
       "test     2060\n",
       "Name: train_test_group, dtype: int64"
      ]
     },
     "execution_count": 22,
     "metadata": {},
     "output_type": "execute_result"
    }
   ],
   "source": [
    "offers_df['train_test_group'].value_counts()"
   ]
  },
  {
   "cell_type": "markdown",
   "id": "ad22aa9c",
   "metadata": {},
   "source": [
    "### SKU/ Hierarchy Based Feats"
   ]
  },
  {
   "cell_type": "code",
   "execution_count": 23,
   "id": "f2e44f24",
   "metadata": {},
   "outputs": [
    {
     "data": {
      "text/plain": [
       "(9776, 10)"
      ]
     },
     "execution_count": 23,
     "metadata": {},
     "output_type": "execute_result"
    }
   ],
   "source": [
    "offers_df = offers_df.merge(hierarchy_df, on='sku', how='left')\n",
    "offers_df.shape, offers_df.columns"
   ]
  },
  {
   "cell_type": "code",
   "execution_count": 24,
   "id": "6772b7cd",
   "metadata": {},
   "outputs": [
    {
     "data": {
      "text/plain": [
       "Index(['Promo_type', 'Offer_ID', 'sku', 'start_date', 'end_date',\n",
       "       'train_test_group', 'hierarchy_level1', 'hierarchy_level2',\n",
       "       'hierarchy_level3', 'hierarchy_level4'],\n",
       "      dtype='object')"
      ]
     },
     "execution_count": 24,
     "metadata": {},
     "output_type": "execute_result"
    }
   ],
   "source": [
    "offers_df.columns"
   ]
  },
  {
   "cell_type": "code",
   "execution_count": 25,
   "id": "9bff73ff",
   "metadata": {},
   "outputs": [],
   "source": [
    "offers_df_agg = offers_df.groupby(['Offer_ID', 'Promo_type', 'start_date', 'end_date', 'train_test_group']).agg({'sku': lambda x: list(x),\n",
    "                                    'hierarchy_level1': lambda x: list(x), \n",
    "                                   'hierarchy_level2': lambda x: list(x), \n",
    "                                   'hierarchy_level3': lambda x: list(x), \n",
    "                                   'hierarchy_level4': lambda x: list(x),                                                                                              \n",
    "                                    })"
   ]
  },
  {
   "cell_type": "code",
   "execution_count": 128,
   "id": "31ad9108",
   "metadata": {},
   "outputs": [
    {
     "data": {
      "text/html": [
       "<div>\n",
       "<style scoped>\n",
       "    .dataframe tbody tr th:only-of-type {\n",
       "        vertical-align: middle;\n",
       "    }\n",
       "\n",
       "    .dataframe tbody tr th {\n",
       "        vertical-align: top;\n",
       "    }\n",
       "\n",
       "    .dataframe thead th {\n",
       "        text-align: right;\n",
       "    }\n",
       "</style>\n",
       "<table border=\"1\" class=\"dataframe\">\n",
       "  <thead>\n",
       "    <tr style=\"text-align: right;\">\n",
       "      <th></th>\n",
       "      <th>Offer_ID</th>\n",
       "      <th>Promo_type</th>\n",
       "      <th>start_date</th>\n",
       "      <th>end_date</th>\n",
       "      <th>train_test_group</th>\n",
       "      <th>sku</th>\n",
       "      <th>hierarchy_level1</th>\n",
       "      <th>hierarchy_level2</th>\n",
       "      <th>hierarchy_level3</th>\n",
       "      <th>hierarchy_level4</th>\n",
       "      <th>num_skus</th>\n",
       "      <th>num_hl1</th>\n",
       "      <th>num_hl2</th>\n",
       "      <th>num_hl3</th>\n",
       "      <th>num_hl4</th>\n",
       "      <th>hl_1_0</th>\n",
       "      <th>hl_1_1</th>\n",
       "      <th>hl_2_0</th>\n",
       "      <th>hl_2_1</th>\n",
       "      <th>hl_2_2</th>\n",
       "    </tr>\n",
       "  </thead>\n",
       "  <tbody>\n",
       "    <tr>\n",
       "      <th>0</th>\n",
       "      <td>10</td>\n",
       "      <td>Biweekly</td>\n",
       "      <td>2020-04-02</td>\n",
       "      <td>2020-04-15</td>\n",
       "      <td>train</td>\n",
       "      <td>[66dd48b798614b7d193a83777c8a0fdc, 172239f5f43...</td>\n",
       "      <td>[cc9284597026dcc021735c0970ca0c93, cc928459702...</td>\n",
       "      <td>[6364d3f0f495b6ab9dcf8d3b5c6e0b01, 6364d3f0f49...</td>\n",
       "      <td>[7486cef2522ee03547cfb970a404a874, 7486cef2522...</td>\n",
       "      <td>[3f6ab5dd77f73b11f122ac7c0fe2de76, 3f6ab5dd77f...</td>\n",
       "      <td>8</td>\n",
       "      <td>1</td>\n",
       "      <td>1</td>\n",
       "      <td>1</td>\n",
       "      <td>1</td>\n",
       "      <td>0.0</td>\n",
       "      <td>8.0</td>\n",
       "      <td>0.0</td>\n",
       "      <td>0.0</td>\n",
       "      <td>0.0</td>\n",
       "    </tr>\n",
       "    <tr>\n",
       "      <th>1</th>\n",
       "      <td>100</td>\n",
       "      <td>Seasonal</td>\n",
       "      <td>2020-10-06</td>\n",
       "      <td>2020-10-19</td>\n",
       "      <td>test</td>\n",
       "      <td>[4d1581a093a0eb7751e1e0f62dcbe278, bc09c49e4c2...</td>\n",
       "      <td>[44a7b825383402ed937a15fb8a5bb12a, 44a7b825383...</td>\n",
       "      <td>[d67d8ab4f4c10bf22aa353e27879133c, d67d8ab4f4c...</td>\n",
       "      <td>[1be883eec3231f9fe43c35bd1b4b3bb5, 1be883eec32...</td>\n",
       "      <td>[879848e74e5c4ad8d310bd70bbdce0a5, 879848e74e5...</td>\n",
       "      <td>12</td>\n",
       "      <td>1</td>\n",
       "      <td>1</td>\n",
       "      <td>1</td>\n",
       "      <td>4</td>\n",
       "      <td>12.0</td>\n",
       "      <td>0.0</td>\n",
       "      <td>0.0</td>\n",
       "      <td>0.0</td>\n",
       "      <td>0.0</td>\n",
       "    </tr>\n",
       "    <tr>\n",
       "      <th>2</th>\n",
       "      <td>101</td>\n",
       "      <td>Seasonal</td>\n",
       "      <td>2020-04-07</td>\n",
       "      <td>2020-04-20</td>\n",
       "      <td>train</td>\n",
       "      <td>[8eed281d2cf9467fa01a952642fe7545]</td>\n",
       "      <td>[cc9284597026dcc021735c0970ca0c93]</td>\n",
       "      <td>[6ea9ab1baa0efb9e19094440c317e21b]</td>\n",
       "      <td>[3c333aadfc3ee8ecb8d77ee31197d96a]</td>\n",
       "      <td>[75cbd15e9b57e9917c9177ae20ef33a3]</td>\n",
       "      <td>1</td>\n",
       "      <td>1</td>\n",
       "      <td>1</td>\n",
       "      <td>1</td>\n",
       "      <td>1</td>\n",
       "      <td>0.0</td>\n",
       "      <td>1.0</td>\n",
       "      <td>0.0</td>\n",
       "      <td>0.0</td>\n",
       "      <td>0.0</td>\n",
       "    </tr>\n",
       "    <tr>\n",
       "      <th>3</th>\n",
       "      <td>102</td>\n",
       "      <td>Seasonal</td>\n",
       "      <td>2020-04-07</td>\n",
       "      <td>2020-04-20</td>\n",
       "      <td>train</td>\n",
       "      <td>[cdf66debace4bd35ea6559f54b10e352, 64a19ff3301...</td>\n",
       "      <td>[cc9284597026dcc021735c0970ca0c93, cc928459702...</td>\n",
       "      <td>[6c8349cc7260ae62e3b1396831a8398f, 6c8349cc726...</td>\n",
       "      <td>[149ef6419512be56a93169cd5e6fa8fd, 149ef641951...</td>\n",
       "      <td>[d88670481737b727c6dedc2cd9f8eafd, d8867048173...</td>\n",
       "      <td>11</td>\n",
       "      <td>1</td>\n",
       "      <td>1</td>\n",
       "      <td>1</td>\n",
       "      <td>1</td>\n",
       "      <td>0.0</td>\n",
       "      <td>11.0</td>\n",
       "      <td>0.0</td>\n",
       "      <td>0.0</td>\n",
       "      <td>0.0</td>\n",
       "    </tr>\n",
       "    <tr>\n",
       "      <th>4</th>\n",
       "      <td>103</td>\n",
       "      <td>Seasonal</td>\n",
       "      <td>2020-04-07</td>\n",
       "      <td>2020-04-20</td>\n",
       "      <td>train</td>\n",
       "      <td>[87ac83221a74e6708a5c5d9e597d779d]</td>\n",
       "      <td>[cc9284597026dcc021735c0970ca0c93]</td>\n",
       "      <td>[8e296a067a37563370ded05f5a3bf3ec]</td>\n",
       "      <td>[4e0223a87610176ef0d24ef6d2dcde3a]</td>\n",
       "      <td>[d59e067e9dfa37917a29cdbdfe46df14]</td>\n",
       "      <td>1</td>\n",
       "      <td>1</td>\n",
       "      <td>1</td>\n",
       "      <td>1</td>\n",
       "      <td>1</td>\n",
       "      <td>0.0</td>\n",
       "      <td>1.0</td>\n",
       "      <td>0.0</td>\n",
       "      <td>0.0</td>\n",
       "      <td>0.0</td>\n",
       "    </tr>\n",
       "    <tr>\n",
       "      <th>...</th>\n",
       "      <td>...</td>\n",
       "      <td>...</td>\n",
       "      <td>...</td>\n",
       "      <td>...</td>\n",
       "      <td>...</td>\n",
       "      <td>...</td>\n",
       "      <td>...</td>\n",
       "      <td>...</td>\n",
       "      <td>...</td>\n",
       "      <td>...</td>\n",
       "      <td>...</td>\n",
       "      <td>...</td>\n",
       "      <td>...</td>\n",
       "      <td>...</td>\n",
       "      <td>...</td>\n",
       "      <td>...</td>\n",
       "      <td>...</td>\n",
       "      <td>...</td>\n",
       "      <td>...</td>\n",
       "      <td>...</td>\n",
       "    </tr>\n",
       "    <tr>\n",
       "      <th>884</th>\n",
       "      <td>F95</td>\n",
       "      <td>Facades</td>\n",
       "      <td>2020-06-11</td>\n",
       "      <td>2020-06-17</td>\n",
       "      <td>train</td>\n",
       "      <td>[ffd8add73dc2a988b86048356b1b33a2]</td>\n",
       "      <td>[cc9284597026dcc021735c0970ca0c93]</td>\n",
       "      <td>[6f4922f45568161a8cdf4ad2299f6d23]</td>\n",
       "      <td>[09b15d48a1514d8209b192a8b8f34e48]</td>\n",
       "      <td>[6aa9bd14b2edcac06a1e703e66e76017]</td>\n",
       "      <td>1</td>\n",
       "      <td>1</td>\n",
       "      <td>1</td>\n",
       "      <td>1</td>\n",
       "      <td>1</td>\n",
       "      <td>0.0</td>\n",
       "      <td>1.0</td>\n",
       "      <td>0.0</td>\n",
       "      <td>0.0</td>\n",
       "      <td>0.0</td>\n",
       "    </tr>\n",
       "    <tr>\n",
       "      <th>885</th>\n",
       "      <td>F96</td>\n",
       "      <td>Facades</td>\n",
       "      <td>2020-06-18</td>\n",
       "      <td>2020-06-24</td>\n",
       "      <td>train</td>\n",
       "      <td>[f0be85f7705ffbd2e4b2cb97a054b56a, b50cdf25375...</td>\n",
       "      <td>[cc9284597026dcc021735c0970ca0c93, cc928459702...</td>\n",
       "      <td>[c16a5320fa475530d9583c34fd356ef5, c16a5320fa4...</td>\n",
       "      <td>[c5d9256689c43036581f781c61f26e50, c5d9256689c...</td>\n",
       "      <td>[2e4e106f70093bd3ef9b9d4c62acc14f, 4daa16fa06f...</td>\n",
       "      <td>22</td>\n",
       "      <td>1</td>\n",
       "      <td>1</td>\n",
       "      <td>1</td>\n",
       "      <td>10</td>\n",
       "      <td>0.0</td>\n",
       "      <td>22.0</td>\n",
       "      <td>0.0</td>\n",
       "      <td>0.0</td>\n",
       "      <td>0.0</td>\n",
       "    </tr>\n",
       "    <tr>\n",
       "      <th>886</th>\n",
       "      <td>F97</td>\n",
       "      <td>Facades</td>\n",
       "      <td>2020-06-18</td>\n",
       "      <td>2020-06-24</td>\n",
       "      <td>train</td>\n",
       "      <td>[0d093fdb80eaad391f98db998d1f1b5e, 55ab9a9c4f7...</td>\n",
       "      <td>[cc9284597026dcc021735c0970ca0c93, cc928459702...</td>\n",
       "      <td>[37693cfc748049e45d87b8c7d8b9aacd, 37693cfc748...</td>\n",
       "      <td>[db9eeb7e678863649bce209842e0d164, db9eeb7e678...</td>\n",
       "      <td>[c9433f08a67b8c18ff388484beee4efa, 7599d4e0d9b...</td>\n",
       "      <td>14</td>\n",
       "      <td>1</td>\n",
       "      <td>1</td>\n",
       "      <td>1</td>\n",
       "      <td>2</td>\n",
       "      <td>0.0</td>\n",
       "      <td>14.0</td>\n",
       "      <td>0.0</td>\n",
       "      <td>0.0</td>\n",
       "      <td>0.0</td>\n",
       "    </tr>\n",
       "    <tr>\n",
       "      <th>887</th>\n",
       "      <td>F98</td>\n",
       "      <td>Facades</td>\n",
       "      <td>2020-06-18</td>\n",
       "      <td>2020-06-24</td>\n",
       "      <td>train</td>\n",
       "      <td>[ef7bf412117548cb80b3f3b33a12977d, 7a8675a8f69...</td>\n",
       "      <td>[cc9284597026dcc021735c0970ca0c93, cc928459702...</td>\n",
       "      <td>[6512bd43d9caa6e02c990b0a82652dca, 6512bd43d9c...</td>\n",
       "      <td>[c667d53acd899a97a85de0c201ba99be, c667d53acd8...</td>\n",
       "      <td>[5f958aa50f12213d724b476ac436a658, 5f958aa50f1...</td>\n",
       "      <td>3</td>\n",
       "      <td>1</td>\n",
       "      <td>1</td>\n",
       "      <td>2</td>\n",
       "      <td>2</td>\n",
       "      <td>0.0</td>\n",
       "      <td>3.0</td>\n",
       "      <td>0.0</td>\n",
       "      <td>0.0</td>\n",
       "      <td>0.0</td>\n",
       "    </tr>\n",
       "    <tr>\n",
       "      <th>888</th>\n",
       "      <td>F99</td>\n",
       "      <td>Facades</td>\n",
       "      <td>2020-06-18</td>\n",
       "      <td>2020-06-24</td>\n",
       "      <td>train</td>\n",
       "      <td>[5e3039a269ff005f2c76cea16c0cf783, 6be0907d36f...</td>\n",
       "      <td>[cc9284597026dcc021735c0970ca0c93, cc928459702...</td>\n",
       "      <td>[9bf31c7ff062936a96d3c8bd1f8f2ff3, 9bf31c7ff06...</td>\n",
       "      <td>[77f959f119f4fb2321e9ce801e2f5163, 5cbdfd0dfa2...</td>\n",
       "      <td>[4b49773c29adff41f2bfd2e175a051ed, a02809f6be5...</td>\n",
       "      <td>2</td>\n",
       "      <td>1</td>\n",
       "      <td>1</td>\n",
       "      <td>2</td>\n",
       "      <td>2</td>\n",
       "      <td>0.0</td>\n",
       "      <td>2.0</td>\n",
       "      <td>0.0</td>\n",
       "      <td>0.0</td>\n",
       "      <td>0.0</td>\n",
       "    </tr>\n",
       "  </tbody>\n",
       "</table>\n",
       "<p>889 rows × 20 columns</p>\n",
       "</div>"
      ],
      "text/plain": [
       "    Offer_ID Promo_type start_date   end_date train_test_group  \\\n",
       "0         10   Biweekly 2020-04-02 2020-04-15            train   \n",
       "1        100   Seasonal 2020-10-06 2020-10-19             test   \n",
       "2        101   Seasonal 2020-04-07 2020-04-20            train   \n",
       "3        102   Seasonal 2020-04-07 2020-04-20            train   \n",
       "4        103   Seasonal 2020-04-07 2020-04-20            train   \n",
       "..       ...        ...        ...        ...              ...   \n",
       "884      F95    Facades 2020-06-11 2020-06-17            train   \n",
       "885      F96    Facades 2020-06-18 2020-06-24            train   \n",
       "886      F97    Facades 2020-06-18 2020-06-24            train   \n",
       "887      F98    Facades 2020-06-18 2020-06-24            train   \n",
       "888      F99    Facades 2020-06-18 2020-06-24            train   \n",
       "\n",
       "                                                   sku  \\\n",
       "0    [66dd48b798614b7d193a83777c8a0fdc, 172239f5f43...   \n",
       "1    [4d1581a093a0eb7751e1e0f62dcbe278, bc09c49e4c2...   \n",
       "2                   [8eed281d2cf9467fa01a952642fe7545]   \n",
       "3    [cdf66debace4bd35ea6559f54b10e352, 64a19ff3301...   \n",
       "4                   [87ac83221a74e6708a5c5d9e597d779d]   \n",
       "..                                                 ...   \n",
       "884                 [ffd8add73dc2a988b86048356b1b33a2]   \n",
       "885  [f0be85f7705ffbd2e4b2cb97a054b56a, b50cdf25375...   \n",
       "886  [0d093fdb80eaad391f98db998d1f1b5e, 55ab9a9c4f7...   \n",
       "887  [ef7bf412117548cb80b3f3b33a12977d, 7a8675a8f69...   \n",
       "888  [5e3039a269ff005f2c76cea16c0cf783, 6be0907d36f...   \n",
       "\n",
       "                                      hierarchy_level1  \\\n",
       "0    [cc9284597026dcc021735c0970ca0c93, cc928459702...   \n",
       "1    [44a7b825383402ed937a15fb8a5bb12a, 44a7b825383...   \n",
       "2                   [cc9284597026dcc021735c0970ca0c93]   \n",
       "3    [cc9284597026dcc021735c0970ca0c93, cc928459702...   \n",
       "4                   [cc9284597026dcc021735c0970ca0c93]   \n",
       "..                                                 ...   \n",
       "884                 [cc9284597026dcc021735c0970ca0c93]   \n",
       "885  [cc9284597026dcc021735c0970ca0c93, cc928459702...   \n",
       "886  [cc9284597026dcc021735c0970ca0c93, cc928459702...   \n",
       "887  [cc9284597026dcc021735c0970ca0c93, cc928459702...   \n",
       "888  [cc9284597026dcc021735c0970ca0c93, cc928459702...   \n",
       "\n",
       "                                      hierarchy_level2  \\\n",
       "0    [6364d3f0f495b6ab9dcf8d3b5c6e0b01, 6364d3f0f49...   \n",
       "1    [d67d8ab4f4c10bf22aa353e27879133c, d67d8ab4f4c...   \n",
       "2                   [6ea9ab1baa0efb9e19094440c317e21b]   \n",
       "3    [6c8349cc7260ae62e3b1396831a8398f, 6c8349cc726...   \n",
       "4                   [8e296a067a37563370ded05f5a3bf3ec]   \n",
       "..                                                 ...   \n",
       "884                 [6f4922f45568161a8cdf4ad2299f6d23]   \n",
       "885  [c16a5320fa475530d9583c34fd356ef5, c16a5320fa4...   \n",
       "886  [37693cfc748049e45d87b8c7d8b9aacd, 37693cfc748...   \n",
       "887  [6512bd43d9caa6e02c990b0a82652dca, 6512bd43d9c...   \n",
       "888  [9bf31c7ff062936a96d3c8bd1f8f2ff3, 9bf31c7ff06...   \n",
       "\n",
       "                                      hierarchy_level3  \\\n",
       "0    [7486cef2522ee03547cfb970a404a874, 7486cef2522...   \n",
       "1    [1be883eec3231f9fe43c35bd1b4b3bb5, 1be883eec32...   \n",
       "2                   [3c333aadfc3ee8ecb8d77ee31197d96a]   \n",
       "3    [149ef6419512be56a93169cd5e6fa8fd, 149ef641951...   \n",
       "4                   [4e0223a87610176ef0d24ef6d2dcde3a]   \n",
       "..                                                 ...   \n",
       "884                 [09b15d48a1514d8209b192a8b8f34e48]   \n",
       "885  [c5d9256689c43036581f781c61f26e50, c5d9256689c...   \n",
       "886  [db9eeb7e678863649bce209842e0d164, db9eeb7e678...   \n",
       "887  [c667d53acd899a97a85de0c201ba99be, c667d53acd8...   \n",
       "888  [77f959f119f4fb2321e9ce801e2f5163, 5cbdfd0dfa2...   \n",
       "\n",
       "                                      hierarchy_level4  num_skus  num_hl1  \\\n",
       "0    [3f6ab5dd77f73b11f122ac7c0fe2de76, 3f6ab5dd77f...         8        1   \n",
       "1    [879848e74e5c4ad8d310bd70bbdce0a5, 879848e74e5...        12        1   \n",
       "2                   [75cbd15e9b57e9917c9177ae20ef33a3]         1        1   \n",
       "3    [d88670481737b727c6dedc2cd9f8eafd, d8867048173...        11        1   \n",
       "4                   [d59e067e9dfa37917a29cdbdfe46df14]         1        1   \n",
       "..                                                 ...       ...      ...   \n",
       "884                 [6aa9bd14b2edcac06a1e703e66e76017]         1        1   \n",
       "885  [2e4e106f70093bd3ef9b9d4c62acc14f, 4daa16fa06f...        22        1   \n",
       "886  [c9433f08a67b8c18ff388484beee4efa, 7599d4e0d9b...        14        1   \n",
       "887  [5f958aa50f12213d724b476ac436a658, 5f958aa50f1...         3        1   \n",
       "888  [4b49773c29adff41f2bfd2e175a051ed, a02809f6be5...         2        1   \n",
       "\n",
       "     num_hl2  num_hl3  num_hl4  hl_1_0  hl_1_1  hl_2_0  hl_2_1  hl_2_2  \n",
       "0          1        1        1     0.0     8.0     0.0     0.0     0.0  \n",
       "1          1        1        4    12.0     0.0     0.0     0.0     0.0  \n",
       "2          1        1        1     0.0     1.0     0.0     0.0     0.0  \n",
       "3          1        1        1     0.0    11.0     0.0     0.0     0.0  \n",
       "4          1        1        1     0.0     1.0     0.0     0.0     0.0  \n",
       "..       ...      ...      ...     ...     ...     ...     ...     ...  \n",
       "884        1        1        1     0.0     1.0     0.0     0.0     0.0  \n",
       "885        1        1       10     0.0    22.0     0.0     0.0     0.0  \n",
       "886        1        1        2     0.0    14.0     0.0     0.0     0.0  \n",
       "887        1        2        2     0.0     3.0     0.0     0.0     0.0  \n",
       "888        1        2        2     0.0     2.0     0.0     0.0     0.0  \n",
       "\n",
       "[889 rows x 20 columns]"
      ]
     },
     "execution_count": 128,
     "metadata": {},
     "output_type": "execute_result"
    }
   ],
   "source": [
    "offers_df_agg[offers_df_agg.columns[:20]]"
   ]
  },
  {
   "cell_type": "code",
   "execution_count": 29,
   "id": "2a5c6df5",
   "metadata": {},
   "outputs": [
    {
     "data": {
      "text/plain": [
       "(889, (889, 10))"
      ]
     },
     "execution_count": 29,
     "metadata": {},
     "output_type": "execute_result"
    }
   ],
   "source": [
    "len(offers_df['Offer_ID'].unique()), offers_df_agg.shape"
   ]
  },
  {
   "cell_type": "code",
   "execution_count": 26,
   "id": "524a863b",
   "metadata": {},
   "outputs": [],
   "source": [
    "offers_df_agg.reset_index(inplace=True)"
   ]
  },
  {
   "cell_type": "code",
   "execution_count": 30,
   "id": "3b1778ff",
   "metadata": {},
   "outputs": [],
   "source": [
    "offers_df_agg['num_skus'] = offers_df_agg['sku'].apply(lambda x: len(set(x)))\n",
    "offers_df_agg['num_hl1'] = offers_df_agg['hierarchy_level1'].apply(lambda x: len(set(x)))\n",
    "offers_df_agg['num_hl2'] = offers_df_agg['hierarchy_level2'].apply(lambda x: len(set(x)))\n",
    "offers_df_agg['num_hl3'] = offers_df_agg['hierarchy_level3'].apply(lambda x: len(set(x)))\n",
    "offers_df_agg['num_hl4'] = offers_df_agg['hierarchy_level4'].apply(lambda x: len(set(x)))"
   ]
  },
  {
   "cell_type": "code",
   "execution_count": 32,
   "id": "355df8b4",
   "metadata": {},
   "outputs": [
    {
     "data": {
      "text/plain": [
       "Index(['Offer_ID', 'Promo_type', 'start_date', 'end_date', 'train_test_group',\n",
       "       'sku', 'hierarchy_level1', 'hierarchy_level2', 'hierarchy_level3',\n",
       "       'hierarchy_level4', 'num_skus', 'num_hl1', 'num_hl2', 'num_hl3',\n",
       "       'num_hl4'],\n",
       "      dtype='object')"
      ]
     },
     "execution_count": 32,
     "metadata": {},
     "output_type": "execute_result"
    }
   ],
   "source": [
    "offers_df_agg.columns"
   ]
  },
  {
   "cell_type": "code",
   "execution_count": 87,
   "id": "343efc05",
   "metadata": {},
   "outputs": [],
   "source": [
    "from collections import Counter\n",
    "\n",
    "def category_map(level): \n",
    "    global hierarchy_df\n",
    "    if level not in [1, 2, 3, 4]: \n",
    "        raise ValueError \n",
    "    \n",
    "    cat_list = hierarchy_df[f'hierarchy_level{level}'].unique()\n",
    "    cat_map = {k:v for v, k in enumerate(cat_list)} \n",
    "    headers = [f'hl_{level}_{i}' for i, v in enumerate(cat_list)]\n",
    "    return headers, cat_map \n",
    "\n",
    "def add_category_at_level(df, level): \n",
    "    COL_NAME = 'hl_{}_{}'\n",
    "    \n",
    "    cat_headers, cat_map = category_map(level)    \n",
    "    df[cat_headers] = np.zeros((df.shape[0], len(cat_headers)))\n",
    "    \n",
    "    for i, row in df.iterrows():\n",
    "        cats = row[f'hierarchy_level{level}']        \n",
    "        cat_ct = Counter(cats)\n",
    "        for cat in cat_ct: \n",
    "            cat_idx = cat_map[cat] \n",
    "            df[COL_NAME.format(level, cat_idx)].loc[i] = cat_ct[cat]\n",
    "    return cat_map        "
   ]
  },
  {
   "cell_type": "code",
   "execution_count": 83,
   "id": "8cac6294",
   "metadata": {},
   "outputs": [
    {
     "data": {
      "text/plain": [
       "((889, 17),\n",
       " Index(['Offer_ID', 'Promo_type', 'start_date', 'end_date', 'train_test_group',\n",
       "        'sku', 'hierarchy_level1', 'hierarchy_level2', 'hierarchy_level3',\n",
       "        'hierarchy_level4', 'num_skus', 'num_hl1', 'num_hl2', 'num_hl3',\n",
       "        'num_hl4', 'hl_1_0', 'hl_1_1'],\n",
       "       dtype='object'))"
      ]
     },
     "execution_count": 83,
     "metadata": {},
     "output_type": "execute_result"
    }
   ],
   "source": [
    "offers_df_agg.shape, offers_df_agg.columns"
   ]
  },
  {
   "cell_type": "code",
   "execution_count": 84,
   "id": "7ead5149",
   "metadata": {
    "collapsed": true
   },
   "outputs": [
    {
     "name": "stderr",
     "output_type": "stream",
     "text": [
      "/anaconda/envs/py38_default/lib/python3.8/site-packages/pandas/core/indexing.py:1637: SettingWithCopyWarning: \n",
      "A value is trying to be set on a copy of a slice from a DataFrame\n",
      "\n",
      "See the caveats in the documentation: https://pandas.pydata.org/pandas-docs/stable/user_guide/indexing.html#returning-a-view-versus-a-copy\n",
      "  self._setitem_single_block(indexer, value, name)\n"
     ]
    },
    {
     "data": {
      "text/html": [
       "<div>\n",
       "<style scoped>\n",
       "    .dataframe tbody tr th:only-of-type {\n",
       "        vertical-align: middle;\n",
       "    }\n",
       "\n",
       "    .dataframe tbody tr th {\n",
       "        vertical-align: top;\n",
       "    }\n",
       "\n",
       "    .dataframe thead th {\n",
       "        text-align: right;\n",
       "    }\n",
       "</style>\n",
       "<table border=\"1\" class=\"dataframe\">\n",
       "  <thead>\n",
       "    <tr style=\"text-align: right;\">\n",
       "      <th></th>\n",
       "      <th>Offer_ID</th>\n",
       "      <th>Promo_type</th>\n",
       "      <th>start_date</th>\n",
       "      <th>end_date</th>\n",
       "      <th>train_test_group</th>\n",
       "      <th>sku</th>\n",
       "      <th>hierarchy_level1</th>\n",
       "      <th>hierarchy_level2</th>\n",
       "      <th>hierarchy_level3</th>\n",
       "      <th>hierarchy_level4</th>\n",
       "      <th>num_skus</th>\n",
       "      <th>num_hl1</th>\n",
       "      <th>num_hl2</th>\n",
       "      <th>num_hl3</th>\n",
       "      <th>num_hl4</th>\n",
       "      <th>hl_1_0</th>\n",
       "      <th>hl_1_1</th>\n",
       "    </tr>\n",
       "  </thead>\n",
       "  <tbody>\n",
       "    <tr>\n",
       "      <th>0</th>\n",
       "      <td>10</td>\n",
       "      <td>Biweekly</td>\n",
       "      <td>2020-04-02</td>\n",
       "      <td>2020-04-15</td>\n",
       "      <td>train</td>\n",
       "      <td>[66dd48b798614b7d193a83777c8a0fdc, 172239f5f43...</td>\n",
       "      <td>[cc9284597026dcc021735c0970ca0c93, cc928459702...</td>\n",
       "      <td>[6364d3f0f495b6ab9dcf8d3b5c6e0b01, 6364d3f0f49...</td>\n",
       "      <td>[7486cef2522ee03547cfb970a404a874, 7486cef2522...</td>\n",
       "      <td>[3f6ab5dd77f73b11f122ac7c0fe2de76, 3f6ab5dd77f...</td>\n",
       "      <td>8</td>\n",
       "      <td>1</td>\n",
       "      <td>1</td>\n",
       "      <td>1</td>\n",
       "      <td>1</td>\n",
       "      <td>0.0</td>\n",
       "      <td>8.0</td>\n",
       "    </tr>\n",
       "    <tr>\n",
       "      <th>1</th>\n",
       "      <td>100</td>\n",
       "      <td>Seasonal</td>\n",
       "      <td>2020-10-06</td>\n",
       "      <td>2020-10-19</td>\n",
       "      <td>test</td>\n",
       "      <td>[4d1581a093a0eb7751e1e0f62dcbe278, bc09c49e4c2...</td>\n",
       "      <td>[44a7b825383402ed937a15fb8a5bb12a, 44a7b825383...</td>\n",
       "      <td>[d67d8ab4f4c10bf22aa353e27879133c, d67d8ab4f4c...</td>\n",
       "      <td>[1be883eec3231f9fe43c35bd1b4b3bb5, 1be883eec32...</td>\n",
       "      <td>[879848e74e5c4ad8d310bd70bbdce0a5, 879848e74e5...</td>\n",
       "      <td>12</td>\n",
       "      <td>1</td>\n",
       "      <td>1</td>\n",
       "      <td>1</td>\n",
       "      <td>4</td>\n",
       "      <td>12.0</td>\n",
       "      <td>0.0</td>\n",
       "    </tr>\n",
       "    <tr>\n",
       "      <th>2</th>\n",
       "      <td>101</td>\n",
       "      <td>Seasonal</td>\n",
       "      <td>2020-04-07</td>\n",
       "      <td>2020-04-20</td>\n",
       "      <td>train</td>\n",
       "      <td>[8eed281d2cf9467fa01a952642fe7545]</td>\n",
       "      <td>[cc9284597026dcc021735c0970ca0c93]</td>\n",
       "      <td>[6ea9ab1baa0efb9e19094440c317e21b]</td>\n",
       "      <td>[3c333aadfc3ee8ecb8d77ee31197d96a]</td>\n",
       "      <td>[75cbd15e9b57e9917c9177ae20ef33a3]</td>\n",
       "      <td>1</td>\n",
       "      <td>1</td>\n",
       "      <td>1</td>\n",
       "      <td>1</td>\n",
       "      <td>1</td>\n",
       "      <td>0.0</td>\n",
       "      <td>1.0</td>\n",
       "    </tr>\n",
       "    <tr>\n",
       "      <th>3</th>\n",
       "      <td>102</td>\n",
       "      <td>Seasonal</td>\n",
       "      <td>2020-04-07</td>\n",
       "      <td>2020-04-20</td>\n",
       "      <td>train</td>\n",
       "      <td>[cdf66debace4bd35ea6559f54b10e352, 64a19ff3301...</td>\n",
       "      <td>[cc9284597026dcc021735c0970ca0c93, cc928459702...</td>\n",
       "      <td>[6c8349cc7260ae62e3b1396831a8398f, 6c8349cc726...</td>\n",
       "      <td>[149ef6419512be56a93169cd5e6fa8fd, 149ef641951...</td>\n",
       "      <td>[d88670481737b727c6dedc2cd9f8eafd, d8867048173...</td>\n",
       "      <td>11</td>\n",
       "      <td>1</td>\n",
       "      <td>1</td>\n",
       "      <td>1</td>\n",
       "      <td>1</td>\n",
       "      <td>0.0</td>\n",
       "      <td>11.0</td>\n",
       "    </tr>\n",
       "    <tr>\n",
       "      <th>4</th>\n",
       "      <td>103</td>\n",
       "      <td>Seasonal</td>\n",
       "      <td>2020-04-07</td>\n",
       "      <td>2020-04-20</td>\n",
       "      <td>train</td>\n",
       "      <td>[87ac83221a74e6708a5c5d9e597d779d]</td>\n",
       "      <td>[cc9284597026dcc021735c0970ca0c93]</td>\n",
       "      <td>[8e296a067a37563370ded05f5a3bf3ec]</td>\n",
       "      <td>[4e0223a87610176ef0d24ef6d2dcde3a]</td>\n",
       "      <td>[d59e067e9dfa37917a29cdbdfe46df14]</td>\n",
       "      <td>1</td>\n",
       "      <td>1</td>\n",
       "      <td>1</td>\n",
       "      <td>1</td>\n",
       "      <td>1</td>\n",
       "      <td>0.0</td>\n",
       "      <td>1.0</td>\n",
       "    </tr>\n",
       "  </tbody>\n",
       "</table>\n",
       "</div>"
      ],
      "text/plain": [
       "  Offer_ID Promo_type start_date   end_date train_test_group  \\\n",
       "0       10   Biweekly 2020-04-02 2020-04-15            train   \n",
       "1      100   Seasonal 2020-10-06 2020-10-19             test   \n",
       "2      101   Seasonal 2020-04-07 2020-04-20            train   \n",
       "3      102   Seasonal 2020-04-07 2020-04-20            train   \n",
       "4      103   Seasonal 2020-04-07 2020-04-20            train   \n",
       "\n",
       "                                                 sku  \\\n",
       "0  [66dd48b798614b7d193a83777c8a0fdc, 172239f5f43...   \n",
       "1  [4d1581a093a0eb7751e1e0f62dcbe278, bc09c49e4c2...   \n",
       "2                 [8eed281d2cf9467fa01a952642fe7545]   \n",
       "3  [cdf66debace4bd35ea6559f54b10e352, 64a19ff3301...   \n",
       "4                 [87ac83221a74e6708a5c5d9e597d779d]   \n",
       "\n",
       "                                    hierarchy_level1  \\\n",
       "0  [cc9284597026dcc021735c0970ca0c93, cc928459702...   \n",
       "1  [44a7b825383402ed937a15fb8a5bb12a, 44a7b825383...   \n",
       "2                 [cc9284597026dcc021735c0970ca0c93]   \n",
       "3  [cc9284597026dcc021735c0970ca0c93, cc928459702...   \n",
       "4                 [cc9284597026dcc021735c0970ca0c93]   \n",
       "\n",
       "                                    hierarchy_level2  \\\n",
       "0  [6364d3f0f495b6ab9dcf8d3b5c6e0b01, 6364d3f0f49...   \n",
       "1  [d67d8ab4f4c10bf22aa353e27879133c, d67d8ab4f4c...   \n",
       "2                 [6ea9ab1baa0efb9e19094440c317e21b]   \n",
       "3  [6c8349cc7260ae62e3b1396831a8398f, 6c8349cc726...   \n",
       "4                 [8e296a067a37563370ded05f5a3bf3ec]   \n",
       "\n",
       "                                    hierarchy_level3  \\\n",
       "0  [7486cef2522ee03547cfb970a404a874, 7486cef2522...   \n",
       "1  [1be883eec3231f9fe43c35bd1b4b3bb5, 1be883eec32...   \n",
       "2                 [3c333aadfc3ee8ecb8d77ee31197d96a]   \n",
       "3  [149ef6419512be56a93169cd5e6fa8fd, 149ef641951...   \n",
       "4                 [4e0223a87610176ef0d24ef6d2dcde3a]   \n",
       "\n",
       "                                    hierarchy_level4  num_skus  num_hl1  \\\n",
       "0  [3f6ab5dd77f73b11f122ac7c0fe2de76, 3f6ab5dd77f...         8        1   \n",
       "1  [879848e74e5c4ad8d310bd70bbdce0a5, 879848e74e5...        12        1   \n",
       "2                 [75cbd15e9b57e9917c9177ae20ef33a3]         1        1   \n",
       "3  [d88670481737b727c6dedc2cd9f8eafd, d8867048173...        11        1   \n",
       "4                 [d59e067e9dfa37917a29cdbdfe46df14]         1        1   \n",
       "\n",
       "   num_hl2  num_hl3  num_hl4  hl_1_0  hl_1_1  \n",
       "0        1        1        1     0.0     8.0  \n",
       "1        1        1        4    12.0     0.0  \n",
       "2        1        1        1     0.0     1.0  \n",
       "3        1        1        1     0.0    11.0  \n",
       "4        1        1        1     0.0     1.0  "
      ]
     },
     "execution_count": 84,
     "metadata": {},
     "output_type": "execute_result"
    }
   ],
   "source": [
    "add_category_at_level(offers_df_agg, 1)\n",
    "add_category_at_level(offers_df_agg, 2)\n",
    "add_category_at_level(offers_df_agg, 3)\n",
    "add_category_at_level(offers_df_agg, 4)\n",
    "offers_df_agg.shape"
   ]
  },
  {
   "cell_type": "markdown",
   "id": "f0a97121",
   "metadata": {},
   "source": [
    "## SKU in other Offers Feats "
   ]
  },
  {
   "cell_type": "code",
   "execution_count": 90,
   "id": "e042cf5c",
   "metadata": {},
   "outputs": [
    {
     "data": {
      "text/html": [
       "<div>\n",
       "<style scoped>\n",
       "    .dataframe tbody tr th:only-of-type {\n",
       "        vertical-align: middle;\n",
       "    }\n",
       "\n",
       "    .dataframe tbody tr th {\n",
       "        vertical-align: top;\n",
       "    }\n",
       "\n",
       "    .dataframe thead th {\n",
       "        text-align: right;\n",
       "    }\n",
       "</style>\n",
       "<table border=\"1\" class=\"dataframe\">\n",
       "  <thead>\n",
       "    <tr style=\"text-align: right;\">\n",
       "      <th></th>\n",
       "      <th>Promo_type</th>\n",
       "      <th>Offer_ID</th>\n",
       "      <th>sku</th>\n",
       "      <th>start_date</th>\n",
       "      <th>end_date</th>\n",
       "      <th>train_test_group</th>\n",
       "      <th>hierarchy_level1</th>\n",
       "      <th>hierarchy_level2</th>\n",
       "      <th>hierarchy_level3</th>\n",
       "      <th>hierarchy_level4</th>\n",
       "    </tr>\n",
       "  </thead>\n",
       "  <tbody>\n",
       "    <tr>\n",
       "      <th>0</th>\n",
       "      <td>Facades</td>\n",
       "      <td>F26</td>\n",
       "      <td>71c770923102af052f64c6036c9dd590</td>\n",
       "      <td>2020-02-13</td>\n",
       "      <td>2020-02-19</td>\n",
       "      <td>train</td>\n",
       "      <td>44a7b825383402ed937a15fb8a5bb12a</td>\n",
       "      <td>a5771bce93e200c36f7cd9dfd0e5deaa</td>\n",
       "      <td>37968ad196a5085f5ed91e58df8c2cef</td>\n",
       "      <td>4bc9b0056ab9c25ecd8794e2cdac48ad</td>\n",
       "    </tr>\n",
       "    <tr>\n",
       "      <th>1</th>\n",
       "      <td>Facades</td>\n",
       "      <td>F2</td>\n",
       "      <td>e87788b585ead792a4d40f7de18f2f76</td>\n",
       "      <td>2020-01-02</td>\n",
       "      <td>2020-01-08</td>\n",
       "      <td>train</td>\n",
       "      <td>44a7b825383402ed937a15fb8a5bb12a</td>\n",
       "      <td>d67d8ab4f4c10bf22aa353e27879133c</td>\n",
       "      <td>3341f6f048384ec73a7ba2e77d2db48b</td>\n",
       "      <td>ee087215b0e0761bc986abd837ac7ab7</td>\n",
       "    </tr>\n",
       "    <tr>\n",
       "      <th>2</th>\n",
       "      <td>Facades</td>\n",
       "      <td>F9</td>\n",
       "      <td>5ae92b5e465d630285677e80b43fe5f7</td>\n",
       "      <td>2020-01-16</td>\n",
       "      <td>2020-01-22</td>\n",
       "      <td>train</td>\n",
       "      <td>cc9284597026dcc021735c0970ca0c93</td>\n",
       "      <td>c16a5320fa475530d9583c34fd356ef5</td>\n",
       "      <td>c5d9256689c43036581f781c61f26e50</td>\n",
       "      <td>cf7805f047a622715d928dff36535c76</td>\n",
       "    </tr>\n",
       "    <tr>\n",
       "      <th>3</th>\n",
       "      <td>Facades</td>\n",
       "      <td>F45</td>\n",
       "      <td>0790b472112a765339f0e5c3f66816ee</td>\n",
       "      <td>2020-03-19</td>\n",
       "      <td>2020-03-25</td>\n",
       "      <td>train</td>\n",
       "      <td>cc9284597026dcc021735c0970ca0c93</td>\n",
       "      <td>33e75ff09dd601bbe69f351039152189</td>\n",
       "      <td>b4fd1d2cb085390fbbadae65e07876a7</td>\n",
       "      <td>8ce911d01167e72108017ec043de6352</td>\n",
       "    </tr>\n",
       "    <tr>\n",
       "      <th>4</th>\n",
       "      <td>Facades</td>\n",
       "      <td>F191</td>\n",
       "      <td>e87788b585ead792a4d40f7de18f2f76</td>\n",
       "      <td>2020-11-12</td>\n",
       "      <td>2020-11-18</td>\n",
       "      <td>test</td>\n",
       "      <td>44a7b825383402ed937a15fb8a5bb12a</td>\n",
       "      <td>d67d8ab4f4c10bf22aa353e27879133c</td>\n",
       "      <td>3341f6f048384ec73a7ba2e77d2db48b</td>\n",
       "      <td>ee087215b0e0761bc986abd837ac7ab7</td>\n",
       "    </tr>\n",
       "  </tbody>\n",
       "</table>\n",
       "</div>"
      ],
      "text/plain": [
       "  Promo_type Offer_ID                               sku start_date   end_date  \\\n",
       "0    Facades      F26  71c770923102af052f64c6036c9dd590 2020-02-13 2020-02-19   \n",
       "1    Facades       F2  e87788b585ead792a4d40f7de18f2f76 2020-01-02 2020-01-08   \n",
       "2    Facades       F9  5ae92b5e465d630285677e80b43fe5f7 2020-01-16 2020-01-22   \n",
       "3    Facades      F45  0790b472112a765339f0e5c3f66816ee 2020-03-19 2020-03-25   \n",
       "4    Facades     F191  e87788b585ead792a4d40f7de18f2f76 2020-11-12 2020-11-18   \n",
       "\n",
       "  train_test_group                  hierarchy_level1  \\\n",
       "0            train  44a7b825383402ed937a15fb8a5bb12a   \n",
       "1            train  44a7b825383402ed937a15fb8a5bb12a   \n",
       "2            train  cc9284597026dcc021735c0970ca0c93   \n",
       "3            train  cc9284597026dcc021735c0970ca0c93   \n",
       "4             test  44a7b825383402ed937a15fb8a5bb12a   \n",
       "\n",
       "                   hierarchy_level2                  hierarchy_level3  \\\n",
       "0  a5771bce93e200c36f7cd9dfd0e5deaa  37968ad196a5085f5ed91e58df8c2cef   \n",
       "1  d67d8ab4f4c10bf22aa353e27879133c  3341f6f048384ec73a7ba2e77d2db48b   \n",
       "2  c16a5320fa475530d9583c34fd356ef5  c5d9256689c43036581f781c61f26e50   \n",
       "3  33e75ff09dd601bbe69f351039152189  b4fd1d2cb085390fbbadae65e07876a7   \n",
       "4  d67d8ab4f4c10bf22aa353e27879133c  3341f6f048384ec73a7ba2e77d2db48b   \n",
       "\n",
       "                   hierarchy_level4  \n",
       "0  4bc9b0056ab9c25ecd8794e2cdac48ad  \n",
       "1  ee087215b0e0761bc986abd837ac7ab7  \n",
       "2  cf7805f047a622715d928dff36535c76  \n",
       "3  8ce911d01167e72108017ec043de6352  \n",
       "4  ee087215b0e0761bc986abd837ac7ab7  "
      ]
     },
     "execution_count": 90,
     "metadata": {},
     "output_type": "execute_result"
    }
   ],
   "source": [
    "offers_df.head()"
   ]
  },
  {
   "cell_type": "code",
   "execution_count": 92,
   "id": "8f3bee0a",
   "metadata": {},
   "outputs": [
    {
     "data": {
      "text/plain": [
       "(9708, 1)"
      ]
     },
     "execution_count": 92,
     "metadata": {},
     "output_type": "execute_result"
    }
   ],
   "source": [
    "offers_df_sku_in_ofrs = offers_df.groupby(['sku', 'start_date','end_date']).agg({'Offer_ID':lambda x: list(x)})\n",
    "offers_df_sku_in_ofrs.shape"
   ]
  },
  {
   "cell_type": "code",
   "execution_count": 95,
   "id": "a7b60f95",
   "metadata": {},
   "outputs": [
    {
     "data": {
      "text/html": [
       "<div>\n",
       "<style scoped>\n",
       "    .dataframe tbody tr th:only-of-type {\n",
       "        vertical-align: middle;\n",
       "    }\n",
       "\n",
       "    .dataframe tbody tr th {\n",
       "        vertical-align: top;\n",
       "    }\n",
       "\n",
       "    .dataframe thead th {\n",
       "        text-align: right;\n",
       "    }\n",
       "</style>\n",
       "<table border=\"1\" class=\"dataframe\">\n",
       "  <thead>\n",
       "    <tr style=\"text-align: right;\">\n",
       "      <th></th>\n",
       "      <th></th>\n",
       "      <th></th>\n",
       "      <th>Offer_ID</th>\n",
       "      <th>many_ofrs</th>\n",
       "    </tr>\n",
       "    <tr>\n",
       "      <th>sku</th>\n",
       "      <th>start_date</th>\n",
       "      <th>end_date</th>\n",
       "      <th></th>\n",
       "      <th></th>\n",
       "    </tr>\n",
       "  </thead>\n",
       "  <tbody>\n",
       "    <tr>\n",
       "      <th>00033dd12618c86f7451b1e18af8bb60</th>\n",
       "      <th>2020-01-28</th>\n",
       "      <th>2020-02-10</th>\n",
       "      <td>[459]</td>\n",
       "      <td>1</td>\n",
       "    </tr>\n",
       "    <tr>\n",
       "      <th rowspan=\"4\" valign=\"top\">00104b38b0b48f14e6b94c294a91356b</th>\n",
       "      <th>2020-01-03</th>\n",
       "      <th>2020-01-13</th>\n",
       "      <td>[36]</td>\n",
       "      <td>1</td>\n",
       "    </tr>\n",
       "    <tr>\n",
       "      <th>2020-06-30</th>\n",
       "      <th>2020-07-13</th>\n",
       "      <td>[560]</td>\n",
       "      <td>1</td>\n",
       "    </tr>\n",
       "    <tr>\n",
       "      <th>2020-08-11</th>\n",
       "      <th>2020-08-31</th>\n",
       "      <td>[158]</td>\n",
       "      <td>1</td>\n",
       "    </tr>\n",
       "    <tr>\n",
       "      <th>2020-11-03</th>\n",
       "      <th>2020-11-16</th>\n",
       "      <td>[66]</td>\n",
       "      <td>1</td>\n",
       "    </tr>\n",
       "  </tbody>\n",
       "</table>\n",
       "</div>"
      ],
      "text/plain": [
       "                                                       Offer_ID  many_ofrs\n",
       "sku                              start_date end_date                      \n",
       "00033dd12618c86f7451b1e18af8bb60 2020-01-28 2020-02-10    [459]          1\n",
       "00104b38b0b48f14e6b94c294a91356b 2020-01-03 2020-01-13     [36]          1\n",
       "                                 2020-06-30 2020-07-13    [560]          1\n",
       "                                 2020-08-11 2020-08-31    [158]          1\n",
       "                                 2020-11-03 2020-11-16     [66]          1"
      ]
     },
     "execution_count": 95,
     "metadata": {},
     "output_type": "execute_result"
    }
   ],
   "source": [
    "offers_df_sku_in_ofrs['many_ofrs'] = offers_df_sku_in_ofrs['Offer_ID'].apply(len)\n",
    "offers_df_sku_in_ofrs.head()"
   ]
  },
  {
   "cell_type": "code",
   "execution_count": 99,
   "id": "eba5d2d5",
   "metadata": {},
   "outputs": [],
   "source": [
    "offers_df_sku_in_ofrs.reset_index(inplace=True)"
   ]
  },
  {
   "cell_type": "code",
   "execution_count": 140,
   "id": "0d9498cc",
   "metadata": {},
   "outputs": [
    {
     "data": {
      "text/plain": [
       "[('0701047a1d162a6d920cc6364f675e45', array([2])),\n",
       " ('1467b1d6e6328f9c8f99c079bf0d8c4a', array([2])),\n",
       " ('1656735867620714199a487f9531b0fd', array([2])),\n",
       " ('19093ad01d9eda096d88c7719643751f', array([2])),\n",
       " ('1accaece89aad30aeab8ee5a72a2ecf0', array([2]))]"
      ]
     },
     "execution_count": 140,
     "metadata": {},
     "output_type": "execute_result"
    }
   ],
   "source": [
    "list(offers_df_sku_in_ofrs_dict.items())[:5]"
   ]
  },
  {
   "cell_type": "code",
   "execution_count": 132,
   "id": "6e505779",
   "metadata": {},
   "outputs": [
    {
     "data": {
      "text/plain": [
       "Index(['index', 'Promo_type', 'Offer_ID', 'sku', 'start_date', 'end_date',\n",
       "       'train_test_group', 'date'],\n",
       "      dtype='object')"
      ]
     },
     "execution_count": 132,
     "metadata": {},
     "output_type": "execute_result"
    }
   ],
   "source": [
    "offers_df_by_day.columns"
   ]
  },
  {
   "cell_type": "code",
   "execution_count": 133,
   "id": "35b0d883",
   "metadata": {},
   "outputs": [
    {
     "data": {
      "text/html": [
       "<div>\n",
       "<style scoped>\n",
       "    .dataframe tbody tr th:only-of-type {\n",
       "        vertical-align: middle;\n",
       "    }\n",
       "\n",
       "    .dataframe tbody tr th {\n",
       "        vertical-align: top;\n",
       "    }\n",
       "\n",
       "    .dataframe thead th {\n",
       "        text-align: right;\n",
       "    }\n",
       "</style>\n",
       "<table border=\"1\" class=\"dataframe\">\n",
       "  <thead>\n",
       "    <tr style=\"text-align: right;\">\n",
       "      <th></th>\n",
       "      <th></th>\n",
       "      <th>Offer_ID</th>\n",
       "    </tr>\n",
       "    <tr>\n",
       "      <th>sku</th>\n",
       "      <th>date</th>\n",
       "      <th></th>\n",
       "    </tr>\n",
       "  </thead>\n",
       "  <tbody>\n",
       "    <tr>\n",
       "      <th rowspan=\"5\" valign=\"top\">00033dd12618c86f7451b1e18af8bb60</th>\n",
       "      <th>2020-01-28</th>\n",
       "      <td>1</td>\n",
       "    </tr>\n",
       "    <tr>\n",
       "      <th>2020-01-29</th>\n",
       "      <td>1</td>\n",
       "    </tr>\n",
       "    <tr>\n",
       "      <th>2020-01-30</th>\n",
       "      <td>1</td>\n",
       "    </tr>\n",
       "    <tr>\n",
       "      <th>2020-01-31</th>\n",
       "      <td>1</td>\n",
       "    </tr>\n",
       "    <tr>\n",
       "      <th>2020-02-01</th>\n",
       "      <td>1</td>\n",
       "    </tr>\n",
       "  </tbody>\n",
       "</table>\n",
       "</div>"
      ],
      "text/plain": [
       "                                             Offer_ID\n",
       "sku                              date                \n",
       "00033dd12618c86f7451b1e18af8bb60 2020-01-28         1\n",
       "                                 2020-01-29         1\n",
       "                                 2020-01-30         1\n",
       "                                 2020-01-31         1\n",
       "                                 2020-02-01         1"
      ]
     },
     "execution_count": 133,
     "metadata": {},
     "output_type": "execute_result"
    }
   ],
   "source": [
    "offers_df_by_day_agg = offers_df_by_day.groupby(['sku', 'date']).agg({\"Offer_ID\": lambda x: list(x), \n",
    "                                                                      \"Offer_ID\":\"count\"})\n",
    "offers_df_by_day_agg.head()"
   ]
  },
  {
   "cell_type": "code",
   "execution_count": 134,
   "id": "60d62718",
   "metadata": {},
   "outputs": [
    {
     "data": {
      "text/plain": [
       "((133980, 1), (134703, 8))"
      ]
     },
     "execution_count": 134,
     "metadata": {},
     "output_type": "execute_result"
    }
   ],
   "source": [
    "offers_df_by_day_agg.shape, offers_df_by_day.shape"
   ]
  },
  {
   "cell_type": "code",
   "execution_count": 137,
   "id": "7cd00170",
   "metadata": {},
   "outputs": [],
   "source": [
    "pd.DataFrame.to_dict?"
   ]
  },
  {
   "cell_type": "code",
   "execution_count": 138,
   "id": "82c223bc",
   "metadata": {},
   "outputs": [
    {
     "data": {
      "text/plain": [
       "[(('00033dd12618c86f7451b1e18af8bb60', '2020-01-28'), {'Offer_ID': 1}),\n",
       " (('00033dd12618c86f7451b1e18af8bb60', '2020-01-29'), {'Offer_ID': 1}),\n",
       " (('00033dd12618c86f7451b1e18af8bb60', '2020-01-30'), {'Offer_ID': 1}),\n",
       " (('00033dd12618c86f7451b1e18af8bb60', '2020-01-31'), {'Offer_ID': 1}),\n",
       " (('00033dd12618c86f7451b1e18af8bb60', '2020-02-01'), {'Offer_ID': 1})]"
      ]
     },
     "execution_count": 138,
     "metadata": {},
     "output_type": "execute_result"
    }
   ],
   "source": [
    "d = offers_df_by_day_agg.to_dict(orient='index')\n",
    "list(d.items())[:5]"
   ]
  },
  {
   "cell_type": "code",
   "execution_count": 139,
   "id": "77e52351",
   "metadata": {},
   "outputs": [
    {
     "data": {
      "text/plain": [
       "{'Offer_ID': 1}"
      ]
     },
     "execution_count": 139,
     "metadata": {},
     "output_type": "execute_result"
    }
   ],
   "source": [
    "d[('00033dd12618c86f7451b1e18af8bb60', '2020-01-28')]"
   ]
  },
  {
   "cell_type": "code",
   "execution_count": 145,
   "id": "79ea5d42",
   "metadata": {},
   "outputs": [
    {
     "data": {
      "text/plain": [
       "((889, 2618),\n",
       " Index(['Offer_ID', 'Promo_type', 'start_date', 'end_date', 'train_test_group',\n",
       "        'sku', 'hierarchy_level1', 'hierarchy_level2', 'hierarchy_level3',\n",
       "        'hierarchy_level4', 'num_skus', 'num_hl1', 'num_hl2', 'num_hl3',\n",
       "        'num_hl4', 'hl_1_0', 'hl_1_1', 'hl_2_0', 'hl_2_1', 'hl_2_2'],\n",
       "       dtype='object'))"
      ]
     },
     "execution_count": 145,
     "metadata": {},
     "output_type": "execute_result"
    }
   ],
   "source": [
    "offers_df_agg.shape, offers_df_agg.columns[:20]"
   ]
  },
  {
   "cell_type": "code",
   "execution_count": 146,
   "id": "29563286",
   "metadata": {},
   "outputs": [
    {
     "data": {
      "text/plain": [
       "Index(['sku', 'start_date', 'end_date', 'Offer_ID', 'many_ofrs'], dtype='object')"
      ]
     },
     "execution_count": 146,
     "metadata": {},
     "output_type": "execute_result"
    }
   ],
   "source": [
    "offers_df_sku_in_ofrs.columns"
   ]
  },
  {
   "cell_type": "code",
   "execution_count": 163,
   "id": "df0237c8",
   "metadata": {},
   "outputs": [],
   "source": [
    "def add_if_in_other_promos(df):\n",
    "    global offers_df_sku_in_ofrs\n",
    "    \n",
    "    df['num_other_promos'] = np.zeros(df.shape[0])\n",
    "    df['num_skus_in_other_promos'] = np.zeros(df.shape[0])\n",
    "    \n",
    "    for i, row in df.iterrows(): \n",
    "        skus = row['sku']\n",
    "        start_date = row['start_date'] \n",
    "        end_date = row['end_date'] \n",
    "        \n",
    "        offers_set = set()\n",
    "        sku_ct = 0 \n",
    "        for sku in skus: \n",
    "             offers = offers_df_sku_in_ofrs[(offers_df_sku_in_ofrs['sku'] == sku) \n",
    "                                 & (offers_df_sku_in_ofrs['start_date'] == start_date)\n",
    "                                 & (offers_df_sku_in_ofrs['end_date'] == end_date)]['Offer_ID'].iloc[0]\n",
    "                \n",
    "             offers_set.update(offers)    \n",
    "             if len(offers) > 1:\n",
    "                sku_ct += 1 \n",
    "\n",
    "        df['num_other_promos'].iloc[i] = len(offers_set) - 1\n",
    "        df['num_skus_in_other_promos'].iloc[i] = sku_ct        \n",
    "                                                    "
   ]
  },
  {
   "cell_type": "code",
   "execution_count": 166,
   "id": "1bbe4e4b",
   "metadata": {},
   "outputs": [
    {
     "name": "stderr",
     "output_type": "stream",
     "text": [
      "/anaconda/envs/py38_default/lib/python3.8/site-packages/pandas/core/indexing.py:1637: SettingWithCopyWarning: \n",
      "A value is trying to be set on a copy of a slice from a DataFrame\n",
      "\n",
      "See the caveats in the documentation: https://pandas.pydata.org/pandas-docs/stable/user_guide/indexing.html#returning-a-view-versus-a-copy\n",
      "  self._setitem_single_block(indexer, value, name)\n"
     ]
    }
   ],
   "source": [
    "add_if_in_other_promos(offers_df_agg)"
   ]
  },
  {
   "cell_type": "code",
   "execution_count": 168,
   "id": "6cdb2148",
   "metadata": {},
   "outputs": [
    {
     "data": {
      "text/html": [
       "<div>\n",
       "<style scoped>\n",
       "    .dataframe tbody tr th:only-of-type {\n",
       "        vertical-align: middle;\n",
       "    }\n",
       "\n",
       "    .dataframe tbody tr th {\n",
       "        vertical-align: top;\n",
       "    }\n",
       "\n",
       "    .dataframe thead th {\n",
       "        text-align: right;\n",
       "    }\n",
       "</style>\n",
       "<table border=\"1\" class=\"dataframe\">\n",
       "  <thead>\n",
       "    <tr style=\"text-align: right;\">\n",
       "      <th></th>\n",
       "      <th>duration</th>\n",
       "      <th>mo</th>\n",
       "      <th>start_day_of_week</th>\n",
       "      <th>end_day_of_week</th>\n",
       "      <th>UpLift</th>\n",
       "      <th>num_other_promos</th>\n",
       "      <th>num_skus_in_other_promos</th>\n",
       "    </tr>\n",
       "  </thead>\n",
       "  <tbody>\n",
       "    <tr>\n",
       "      <th>884</th>\n",
       "      <td>7 days</td>\n",
       "      <td>6</td>\n",
       "      <td>3</td>\n",
       "      <td>2</td>\n",
       "      <td>2.169574</td>\n",
       "      <td>0.0</td>\n",
       "      <td>0.0</td>\n",
       "    </tr>\n",
       "    <tr>\n",
       "      <th>885</th>\n",
       "      <td>7 days</td>\n",
       "      <td>6</td>\n",
       "      <td>3</td>\n",
       "      <td>2</td>\n",
       "      <td>0.401636</td>\n",
       "      <td>0.0</td>\n",
       "      <td>0.0</td>\n",
       "    </tr>\n",
       "    <tr>\n",
       "      <th>886</th>\n",
       "      <td>7 days</td>\n",
       "      <td>6</td>\n",
       "      <td>3</td>\n",
       "      <td>2</td>\n",
       "      <td>2.276210</td>\n",
       "      <td>0.0</td>\n",
       "      <td>0.0</td>\n",
       "    </tr>\n",
       "    <tr>\n",
       "      <th>887</th>\n",
       "      <td>7 days</td>\n",
       "      <td>6</td>\n",
       "      <td>3</td>\n",
       "      <td>2</td>\n",
       "      <td>1.593010</td>\n",
       "      <td>0.0</td>\n",
       "      <td>0.0</td>\n",
       "    </tr>\n",
       "    <tr>\n",
       "      <th>888</th>\n",
       "      <td>7 days</td>\n",
       "      <td>6</td>\n",
       "      <td>3</td>\n",
       "      <td>2</td>\n",
       "      <td>0.694265</td>\n",
       "      <td>0.0</td>\n",
       "      <td>0.0</td>\n",
       "    </tr>\n",
       "  </tbody>\n",
       "</table>\n",
       "</div>"
      ],
      "text/plain": [
       "    duration  mo  start_day_of_week  end_day_of_week    UpLift  \\\n",
       "884   7 days   6                  3                2  2.169574   \n",
       "885   7 days   6                  3                2  0.401636   \n",
       "886   7 days   6                  3                2  2.276210   \n",
       "887   7 days   6                  3                2  1.593010   \n",
       "888   7 days   6                  3                2  0.694265   \n",
       "\n",
       "     num_other_promos  num_skus_in_other_promos  \n",
       "884               0.0                       0.0  \n",
       "885               0.0                       0.0  \n",
       "886               0.0                       0.0  \n",
       "887               0.0                       0.0  \n",
       "888               0.0                       0.0  "
      ]
     },
     "execution_count": 168,
     "metadata": {},
     "output_type": "execute_result"
    }
   ],
   "source": [
    "offers_df_agg[offers_df_agg['num_other_promos'].sum"
   ]
  },
  {
   "cell_type": "code",
   "execution_count": 169,
   "id": "f5e9ddf9",
   "metadata": {},
   "outputs": [
    {
     "data": {
      "text/plain": [
       "(22.0, 136.0)"
      ]
     },
     "execution_count": 169,
     "metadata": {},
     "output_type": "execute_result"
    }
   ],
   "source": [
    "offers_df_agg['num_other_promos'].sum(), offers_df_agg['num_skus_in_other_promos'].sum()"
   ]
  },
  {
   "cell_type": "code",
   "execution_count": 170,
   "id": "bd2020b5",
   "metadata": {},
   "outputs": [],
   "source": [
    "offers_df_agg.drop('UpLift', axis=1, inplace=True)"
   ]
  },
  {
   "cell_type": "markdown",
   "id": "009f938a",
   "metadata": {},
   "source": [
    "### Time based feats "
   ]
  },
  {
   "cell_type": "code",
   "execution_count": 108,
   "id": "7ad409d8",
   "metadata": {},
   "outputs": [],
   "source": [
    "offers_df_agg['duration'] = offers_df_agg['end_date'] - offers_df_agg['start_date'] + pd.Timedelta(days=1)\n",
    "offers_df_agg['mo'] = offers_df_agg['start_date'].dt.month\n",
    "offers_df_agg['start_day_of_week'] = offers_df_agg['start_date'].dt.dayofweek\n",
    "offers_df_agg['end_day_of_week'] = offers_df_agg['end_date'].dt.dayofweek"
   ]
  },
  {
   "cell_type": "code",
   "execution_count": 109,
   "id": "355d908e",
   "metadata": {},
   "outputs": [
    {
     "data": {
      "text/plain": [
       "(889, 2617)"
      ]
     },
     "execution_count": 109,
     "metadata": {},
     "output_type": "execute_result"
    }
   ],
   "source": [
    "offers_df_agg.shape"
   ]
  },
  {
   "cell_type": "markdown",
   "id": "c17327a4",
   "metadata": {},
   "source": [
    "### Pred-period Feats"
   ]
  },
  {
   "cell_type": "code",
   "execution_count": 177,
   "id": "c637f556",
   "metadata": {},
   "outputs": [
    {
     "data": {
      "text/html": [
       "<div>\n",
       "<style scoped>\n",
       "    .dataframe tbody tr th:only-of-type {\n",
       "        vertical-align: middle;\n",
       "    }\n",
       "\n",
       "    .dataframe tbody tr th {\n",
       "        vertical-align: top;\n",
       "    }\n",
       "\n",
       "    .dataframe thead th {\n",
       "        text-align: right;\n",
       "    }\n",
       "</style>\n",
       "<table border=\"1\" class=\"dataframe\">\n",
       "  <thead>\n",
       "    <tr style=\"text-align: right;\">\n",
       "      <th></th>\n",
       "      <th>Offer_ID</th>\n",
       "      <th>Promo_type</th>\n",
       "      <th>start_date</th>\n",
       "      <th>end_date</th>\n",
       "      <th>train_test_group</th>\n",
       "      <th>sku</th>\n",
       "      <th>hierarchy_level1</th>\n",
       "      <th>hierarchy_level2</th>\n",
       "      <th>hierarchy_level3</th>\n",
       "      <th>hierarchy_level4</th>\n",
       "    </tr>\n",
       "  </thead>\n",
       "  <tbody>\n",
       "    <tr>\n",
       "      <th>0</th>\n",
       "      <td>10</td>\n",
       "      <td>Biweekly</td>\n",
       "      <td>2020-04-02</td>\n",
       "      <td>2020-04-15</td>\n",
       "      <td>train</td>\n",
       "      <td>[66dd48b798614b7d193a83777c8a0fdc, 172239f5f43...</td>\n",
       "      <td>[cc9284597026dcc021735c0970ca0c93, cc928459702...</td>\n",
       "      <td>[6364d3f0f495b6ab9dcf8d3b5c6e0b01, 6364d3f0f49...</td>\n",
       "      <td>[7486cef2522ee03547cfb970a404a874, 7486cef2522...</td>\n",
       "      <td>[3f6ab5dd77f73b11f122ac7c0fe2de76, 3f6ab5dd77f...</td>\n",
       "    </tr>\n",
       "    <tr>\n",
       "      <th>1</th>\n",
       "      <td>100</td>\n",
       "      <td>Seasonal</td>\n",
       "      <td>2020-10-06</td>\n",
       "      <td>2020-10-19</td>\n",
       "      <td>test</td>\n",
       "      <td>[4d1581a093a0eb7751e1e0f62dcbe278, bc09c49e4c2...</td>\n",
       "      <td>[44a7b825383402ed937a15fb8a5bb12a, 44a7b825383...</td>\n",
       "      <td>[d67d8ab4f4c10bf22aa353e27879133c, d67d8ab4f4c...</td>\n",
       "      <td>[1be883eec3231f9fe43c35bd1b4b3bb5, 1be883eec32...</td>\n",
       "      <td>[879848e74e5c4ad8d310bd70bbdce0a5, 879848e74e5...</td>\n",
       "    </tr>\n",
       "    <tr>\n",
       "      <th>2</th>\n",
       "      <td>101</td>\n",
       "      <td>Seasonal</td>\n",
       "      <td>2020-04-07</td>\n",
       "      <td>2020-04-20</td>\n",
       "      <td>train</td>\n",
       "      <td>[8eed281d2cf9467fa01a952642fe7545]</td>\n",
       "      <td>[cc9284597026dcc021735c0970ca0c93]</td>\n",
       "      <td>[6ea9ab1baa0efb9e19094440c317e21b]</td>\n",
       "      <td>[3c333aadfc3ee8ecb8d77ee31197d96a]</td>\n",
       "      <td>[75cbd15e9b57e9917c9177ae20ef33a3]</td>\n",
       "    </tr>\n",
       "    <tr>\n",
       "      <th>3</th>\n",
       "      <td>102</td>\n",
       "      <td>Seasonal</td>\n",
       "      <td>2020-04-07</td>\n",
       "      <td>2020-04-20</td>\n",
       "      <td>train</td>\n",
       "      <td>[cdf66debace4bd35ea6559f54b10e352, 64a19ff3301...</td>\n",
       "      <td>[cc9284597026dcc021735c0970ca0c93, cc928459702...</td>\n",
       "      <td>[6c8349cc7260ae62e3b1396831a8398f, 6c8349cc726...</td>\n",
       "      <td>[149ef6419512be56a93169cd5e6fa8fd, 149ef641951...</td>\n",
       "      <td>[d88670481737b727c6dedc2cd9f8eafd, d8867048173...</td>\n",
       "    </tr>\n",
       "    <tr>\n",
       "      <th>4</th>\n",
       "      <td>103</td>\n",
       "      <td>Seasonal</td>\n",
       "      <td>2020-04-07</td>\n",
       "      <td>2020-04-20</td>\n",
       "      <td>train</td>\n",
       "      <td>[87ac83221a74e6708a5c5d9e597d779d]</td>\n",
       "      <td>[cc9284597026dcc021735c0970ca0c93]</td>\n",
       "      <td>[8e296a067a37563370ded05f5a3bf3ec]</td>\n",
       "      <td>[4e0223a87610176ef0d24ef6d2dcde3a]</td>\n",
       "      <td>[d59e067e9dfa37917a29cdbdfe46df14]</td>\n",
       "    </tr>\n",
       "  </tbody>\n",
       "</table>\n",
       "</div>"
      ],
      "text/plain": [
       "  Offer_ID Promo_type start_date   end_date train_test_group  \\\n",
       "0       10   Biweekly 2020-04-02 2020-04-15            train   \n",
       "1      100   Seasonal 2020-10-06 2020-10-19             test   \n",
       "2      101   Seasonal 2020-04-07 2020-04-20            train   \n",
       "3      102   Seasonal 2020-04-07 2020-04-20            train   \n",
       "4      103   Seasonal 2020-04-07 2020-04-20            train   \n",
       "\n",
       "                                                 sku  \\\n",
       "0  [66dd48b798614b7d193a83777c8a0fdc, 172239f5f43...   \n",
       "1  [4d1581a093a0eb7751e1e0f62dcbe278, bc09c49e4c2...   \n",
       "2                 [8eed281d2cf9467fa01a952642fe7545]   \n",
       "3  [cdf66debace4bd35ea6559f54b10e352, 64a19ff3301...   \n",
       "4                 [87ac83221a74e6708a5c5d9e597d779d]   \n",
       "\n",
       "                                    hierarchy_level1  \\\n",
       "0  [cc9284597026dcc021735c0970ca0c93, cc928459702...   \n",
       "1  [44a7b825383402ed937a15fb8a5bb12a, 44a7b825383...   \n",
       "2                 [cc9284597026dcc021735c0970ca0c93]   \n",
       "3  [cc9284597026dcc021735c0970ca0c93, cc928459702...   \n",
       "4                 [cc9284597026dcc021735c0970ca0c93]   \n",
       "\n",
       "                                    hierarchy_level2  \\\n",
       "0  [6364d3f0f495b6ab9dcf8d3b5c6e0b01, 6364d3f0f49...   \n",
       "1  [d67d8ab4f4c10bf22aa353e27879133c, d67d8ab4f4c...   \n",
       "2                 [6ea9ab1baa0efb9e19094440c317e21b]   \n",
       "3  [6c8349cc7260ae62e3b1396831a8398f, 6c8349cc726...   \n",
       "4                 [8e296a067a37563370ded05f5a3bf3ec]   \n",
       "\n",
       "                                    hierarchy_level3  \\\n",
       "0  [7486cef2522ee03547cfb970a404a874, 7486cef2522...   \n",
       "1  [1be883eec3231f9fe43c35bd1b4b3bb5, 1be883eec32...   \n",
       "2                 [3c333aadfc3ee8ecb8d77ee31197d96a]   \n",
       "3  [149ef6419512be56a93169cd5e6fa8fd, 149ef641951...   \n",
       "4                 [4e0223a87610176ef0d24ef6d2dcde3a]   \n",
       "\n",
       "                                    hierarchy_level4  \n",
       "0  [3f6ab5dd77f73b11f122ac7c0fe2de76, 3f6ab5dd77f...  \n",
       "1  [879848e74e5c4ad8d310bd70bbdce0a5, 879848e74e5...  \n",
       "2                 [75cbd15e9b57e9917c9177ae20ef33a3]  \n",
       "3  [d88670481737b727c6dedc2cd9f8eafd, d8867048173...  \n",
       "4                 [d59e067e9dfa37917a29cdbdfe46df14]  "
      ]
     },
     "execution_count": 177,
     "metadata": {},
     "output_type": "execute_result"
    }
   ],
   "source": [
    "offers_df_agg[offers_df_agg.columns[:10]].head()"
   ]
  },
  {
   "cell_type": "code",
   "execution_count": 178,
   "id": "bb36f117",
   "metadata": {},
   "outputs": [],
   "source": [
    "offers_df_agg['pred_start_date'] = offers_df_agg['start_date'] - offers_df_agg['duration']\n",
    "offers_df_agg['pred_end_date'] = offers_df_agg['end_date'] - offers_df_agg['duration']"
   ]
  },
  {
   "cell_type": "code",
   "execution_count": 183,
   "id": "454c7064",
   "metadata": {},
   "outputs": [
    {
     "data": {
      "text/html": [
       "<div>\n",
       "<style scoped>\n",
       "    .dataframe tbody tr th:only-of-type {\n",
       "        vertical-align: middle;\n",
       "    }\n",
       "\n",
       "    .dataframe tbody tr th {\n",
       "        vertical-align: top;\n",
       "    }\n",
       "\n",
       "    .dataframe thead th {\n",
       "        text-align: right;\n",
       "    }\n",
       "</style>\n",
       "<table border=\"1\" class=\"dataframe\">\n",
       "  <thead>\n",
       "    <tr style=\"text-align: right;\">\n",
       "      <th></th>\n",
       "      <th>client_id</th>\n",
       "      <th>date</th>\n",
       "      <th>day</th>\n",
       "      <th>shop_id</th>\n",
       "      <th>check_id</th>\n",
       "      <th>time</th>\n",
       "      <th>sku</th>\n",
       "      <th>promo_id</th>\n",
       "      <th>check_pos</th>\n",
       "      <th>num_sales</th>\n",
       "      <th>supplier_price</th>\n",
       "      <th>selling_price</th>\n",
       "      <th>region_name</th>\n",
       "      <th>index</th>\n",
       "      <th>Promo_type</th>\n",
       "      <th>Offer_ID</th>\n",
       "      <th>start_date</th>\n",
       "      <th>end_date</th>\n",
       "      <th>train_test_group</th>\n",
       "      <th>hierarchy_level1</th>\n",
       "      <th>hierarchy_level2</th>\n",
       "      <th>hierarchy_level3</th>\n",
       "      <th>hierarchy_level4</th>\n",
       "      <th>UpLift</th>\n",
       "    </tr>\n",
       "  </thead>\n",
       "  <tbody>\n",
       "    <tr>\n",
       "      <th>0</th>\n",
       "      <td>d9da50b77962ad6401d0527db5b65b04</td>\n",
       "      <td>2019-12-30</td>\n",
       "      <td>20191230</td>\n",
       "      <td>25bbdcd06c32d477f7fa1c3e4a91b032</td>\n",
       "      <td>c0b3f9c2215f924e27a6039617999c60</td>\n",
       "      <td>07:28:39</td>\n",
       "      <td>b17c870027bb4a22e3aedb971bc00def</td>\n",
       "      <td>b3deb0286313f0b888c0eac49580cc23</td>\n",
       "      <td>1</td>\n",
       "      <td>5.0</td>\n",
       "      <td>133.40</td>\n",
       "      <td>249.45</td>\n",
       "      <td>152f1b77a32508570e2745daf9ce7aec</td>\n",
       "      <td>NaN</td>\n",
       "      <td>NaN</td>\n",
       "      <td>NaN</td>\n",
       "      <td>NaN</td>\n",
       "      <td>NaN</td>\n",
       "      <td>NaN</td>\n",
       "      <td>44a7b825383402ed937a15fb8a5bb12a</td>\n",
       "      <td>ea5d2f1c4608232e07d3aa3d998e5135</td>\n",
       "      <td>d994e3728ba5e28defb88a3289cd7ee8</td>\n",
       "      <td>b84633d3396f28a04889d2e5a41c7b0b</td>\n",
       "      <td>NaN</td>\n",
       "    </tr>\n",
       "    <tr>\n",
       "      <th>1</th>\n",
       "      <td>d9da50b77962ad6401d0527db5b65b04</td>\n",
       "      <td>2019-12-30</td>\n",
       "      <td>20191230</td>\n",
       "      <td>25bbdcd06c32d477f7fa1c3e4a91b032</td>\n",
       "      <td>c0b3f9c2215f924e27a6039617999c60</td>\n",
       "      <td>07:28:39</td>\n",
       "      <td>b9ef00e971d0fb459a765708efba70c0</td>\n",
       "      <td>680a96609351230ed00e1d1090371cbc</td>\n",
       "      <td>2</td>\n",
       "      <td>1.0</td>\n",
       "      <td>96.77</td>\n",
       "      <td>118.99</td>\n",
       "      <td>152f1b77a32508570e2745daf9ce7aec</td>\n",
       "      <td>NaN</td>\n",
       "      <td>NaN</td>\n",
       "      <td>NaN</td>\n",
       "      <td>NaN</td>\n",
       "      <td>NaN</td>\n",
       "      <td>NaN</td>\n",
       "      <td>44a7b825383402ed937a15fb8a5bb12a</td>\n",
       "      <td>d645920e395fedad7bbbed0eca3fe2e0</td>\n",
       "      <td>6693a7aacb8a2e74c6f5fe91bc39864b</td>\n",
       "      <td>878b4140ebdb1b79f378d2cf0cc3245c</td>\n",
       "      <td>NaN</td>\n",
       "    </tr>\n",
       "  </tbody>\n",
       "</table>\n",
       "</div>"
      ],
      "text/plain": [
       "                          client_id        date       day  \\\n",
       "0  d9da50b77962ad6401d0527db5b65b04  2019-12-30  20191230   \n",
       "1  d9da50b77962ad6401d0527db5b65b04  2019-12-30  20191230   \n",
       "\n",
       "                            shop_id                          check_id  \\\n",
       "0  25bbdcd06c32d477f7fa1c3e4a91b032  c0b3f9c2215f924e27a6039617999c60   \n",
       "1  25bbdcd06c32d477f7fa1c3e4a91b032  c0b3f9c2215f924e27a6039617999c60   \n",
       "\n",
       "       time                               sku  \\\n",
       "0  07:28:39  b17c870027bb4a22e3aedb971bc00def   \n",
       "1  07:28:39  b9ef00e971d0fb459a765708efba70c0   \n",
       "\n",
       "                           promo_id  check_pos  num_sales  supplier_price  \\\n",
       "0  b3deb0286313f0b888c0eac49580cc23          1        5.0          133.40   \n",
       "1  680a96609351230ed00e1d1090371cbc          2        1.0           96.77   \n",
       "\n",
       "   selling_price                       region_name  index Promo_type Offer_ID  \\\n",
       "0         249.45  152f1b77a32508570e2745daf9ce7aec    NaN        NaN      NaN   \n",
       "1         118.99  152f1b77a32508570e2745daf9ce7aec    NaN        NaN      NaN   \n",
       "\n",
       "  start_date end_date train_test_group                  hierarchy_level1  \\\n",
       "0        NaN      NaN              NaN  44a7b825383402ed937a15fb8a5bb12a   \n",
       "1        NaN      NaN              NaN  44a7b825383402ed937a15fb8a5bb12a   \n",
       "\n",
       "                   hierarchy_level2                  hierarchy_level3  \\\n",
       "0  ea5d2f1c4608232e07d3aa3d998e5135  d994e3728ba5e28defb88a3289cd7ee8   \n",
       "1  d645920e395fedad7bbbed0eca3fe2e0  6693a7aacb8a2e74c6f5fe91bc39864b   \n",
       "\n",
       "                   hierarchy_level4  UpLift  \n",
       "0  b84633d3396f28a04889d2e5a41c7b0b     NaN  \n",
       "1  878b4140ebdb1b79f378d2cf0cc3245c     NaN  "
      ]
     },
     "execution_count": 183,
     "metadata": {},
     "output_type": "execute_result"
    }
   ],
   "source": [
    "checks_ofr_df.head(2)"
   ]
  },
  {
   "cell_type": "code",
   "execution_count": 214,
   "id": "d99df8e5",
   "metadata": {},
   "outputs": [],
   "source": [
    "def pred_period_sales_and_items(df):\n",
    "    global checks_ofr_df\n",
    "        \n",
    "        \n",
    "    df['avg_mean_num_pred'] = np.nan\n",
    "    df['avg_max_num_pred'] = np.nan\n",
    "    df['avg_min_num_pred'] = np.nan\n",
    "\n",
    "    df['avg_mean_suppl_pred'] = np.nan\n",
    "    df['avg_max_suppl_pred'] = np.nan\n",
    "    df['avg_min_suppl_pred'] = np.nan\n",
    "\n",
    "    df['avg_mean_sales_pred'] = np.nan\n",
    "    df['avg_max_sales_pred'] = np.nan\n",
    "    df['avg_min_sales_pred'] = np.nan    \n",
    "                \n",
    "    for i, row in df.iterrows(): \n",
    "        skus = row['sku']\n",
    "        pred_start_date = row['pred_start_date'] \n",
    "        pred_end_date = row['pred_end_date'] \n",
    "        #print(type(row['pred_start_date']))\n",
    "        \n",
    "        mean_nums = 0\n",
    "        max_nums = 0\n",
    "        min_nums = 0 \n",
    "        \n",
    "        mean_suppl = 0\n",
    "        max_suppl = 0 \n",
    "        min_suppl = 0 \n",
    "        \n",
    "        mean_sales = 0\n",
    "        max_sales = 0 \n",
    "        min_sales = 0 \n",
    "        \n",
    "        for sku in skus: \n",
    "            sales_for_sku_df = checks_ofr_df[(checks_ofr_df['sku'] == sku) \n",
    "                          & (checks_ofr_df['date'] <= row['pred_end_date'])\n",
    "                         & (checks_ofr_df['date'] >= row['pred_start_date'])\n",
    "                              ][['num_sales', 'supplier_price', 'selling_price']]\n",
    "            mean_nums += sales_for_sku_df['num_sales'].mean()\n",
    "            max_nums += sales_for_sku_df['num_sales'].max()\n",
    "            min_nums += sales_for_sku_df['num_sales'].min() \n",
    "\n",
    "            mean_suppl += sales_for_sku_df['supplier_price'].mean()\n",
    "            max_suppl += sales_for_sku_df['supplier_price'].max()\n",
    "            min_suppl += sales_for_sku_df['supplier_price'].min()\n",
    "\n",
    "            mean_sales += sales_for_sku_df['selling_price'].mean()\n",
    "            max_sales += sales_for_sku_df['selling_price'].max()\n",
    "            min_sales += sales_for_sku_df['selling_price'].min()\n",
    "            \n",
    "        \n",
    "        df['avg_mean_num_pred'].iloc[i] = mean_nums/len(skus)\n",
    "        df['avg_max_num_pred'].iloc[i] = max_nums/len(skus)\n",
    "        df['avg_min_num_pred'].iloc[i] = min_suppl/len(skus)\n",
    "\n",
    "        df['avg_mean_suppl_pred'].iloc[i] = mean_suppl/len(skus)\n",
    "        df['avg_max_suppl_pred'].iloc[i] = max_suppl/len(skus)\n",
    "        df['avg_min_suppl_pred'].iloc[i] = mean_nums/len(skus)\n",
    "        \n",
    "        df['avg_mean_sales_pred'].iloc[i] = mean_sales/len(skus)\n",
    "        df['avg_max_sales_pred'].iloc[i] = max_sales/len(skus)\n",
    "        df['avg_min_sales_pred'].iloc[i] = min_sales/len(skus)\n",
    " "
   ]
  },
  {
   "cell_type": "code",
   "execution_count": 215,
   "id": "c46b2c3e",
   "metadata": {},
   "outputs": [
    {
     "data": {
      "text/html": [
       "<div>\n",
       "<style scoped>\n",
       "    .dataframe tbody tr th:only-of-type {\n",
       "        vertical-align: middle;\n",
       "    }\n",
       "\n",
       "    .dataframe tbody tr th {\n",
       "        vertical-align: top;\n",
       "    }\n",
       "\n",
       "    .dataframe thead th {\n",
       "        text-align: right;\n",
       "    }\n",
       "</style>\n",
       "<table border=\"1\" class=\"dataframe\">\n",
       "  <thead>\n",
       "    <tr style=\"text-align: right;\">\n",
       "      <th></th>\n",
       "      <th>Offer_ID</th>\n",
       "      <th>Promo_type</th>\n",
       "      <th>start_date</th>\n",
       "    </tr>\n",
       "  </thead>\n",
       "  <tbody>\n",
       "    <tr>\n",
       "      <th>0</th>\n",
       "      <td>10</td>\n",
       "      <td>Biweekly</td>\n",
       "      <td>2020-04-02</td>\n",
       "    </tr>\n",
       "    <tr>\n",
       "      <th>1</th>\n",
       "      <td>100</td>\n",
       "      <td>Seasonal</td>\n",
       "      <td>2020-10-06</td>\n",
       "    </tr>\n",
       "    <tr>\n",
       "      <th>2</th>\n",
       "      <td>101</td>\n",
       "      <td>Seasonal</td>\n",
       "      <td>2020-04-07</td>\n",
       "    </tr>\n",
       "  </tbody>\n",
       "</table>\n",
       "</div>"
      ],
      "text/plain": [
       "  Offer_ID Promo_type start_date\n",
       "0       10   Biweekly 2020-04-02\n",
       "1      100   Seasonal 2020-10-06\n",
       "2      101   Seasonal 2020-04-07"
      ]
     },
     "execution_count": 215,
     "metadata": {},
     "output_type": "execute_result"
    }
   ],
   "source": [
    "df = offers_df_agg.iloc[:3].copy()\n",
    "df[df.columns[:3]]"
   ]
  },
  {
   "cell_type": "code",
   "execution_count": 218,
   "id": "b9b80162",
   "metadata": {
    "scrolled": true
   },
   "outputs": [
    {
     "name": "stderr",
     "output_type": "stream",
     "text": [
      "/anaconda/envs/py38_default/lib/python3.8/site-packages/pandas/core/indexing.py:1637: SettingWithCopyWarning: \n",
      "A value is trying to be set on a copy of a slice from a DataFrame\n",
      "\n",
      "See the caveats in the documentation: https://pandas.pydata.org/pandas-docs/stable/user_guide/indexing.html#returning-a-view-versus-a-copy\n",
      "  self._setitem_single_block(indexer, value, name)\n"
     ]
    },
    {
     "data": {
      "text/plain": [
       "(889, 2631)"
      ]
     },
     "execution_count": 218,
     "metadata": {},
     "output_type": "execute_result"
    }
   ],
   "source": [
    "pred_period_sales_and_items(offers_df_agg)\n",
    "offers_df_agg.shape"
   ]
  },
  {
   "cell_type": "code",
   "execution_count": 220,
   "id": "bcf431d7",
   "metadata": {},
   "outputs": [
    {
     "data": {
      "text/plain": [
       "Index(['hl_4_2117', 'hl_4_2118', 'duration', 'mo', 'start_day_of_week',\n",
       "       'end_day_of_week', 'num_other_promos', 'num_skus_in_other_promos',\n",
       "       'UpLift', 'pred_start_date', 'pred_end_date', 'avg_mean_num_pred',\n",
       "       'avg_max_num_pred', 'avg_min_num_pred', 'avg_mean_suppl_pred',\n",
       "       'avg_max_suppl_pred', 'avg_min_suppl_pred', 'avg_mean_sales_pred',\n",
       "       'avg_max_sales_pred', 'avg_min_sales_pred'],\n",
       "      dtype='object')"
      ]
     },
     "execution_count": 220,
     "metadata": {},
     "output_type": "execute_result"
    }
   ],
   "source": [
    "offers_df_agg.columns[-20:]"
   ]
  },
  {
   "cell_type": "code",
   "execution_count": 225,
   "id": "ccb2f083",
   "metadata": {},
   "outputs": [
    {
     "data": {
      "text/plain": [
       "(889, 2626)"
      ]
     },
     "execution_count": 225,
     "metadata": {},
     "output_type": "execute_result"
    }
   ],
   "source": [
    "offers_df_agg_feat = offers_df_agg.drop(columns_to_exclude, axis=1)\n",
    "offers_df_agg_feat.shape"
   ]
  },
  {
   "cell_type": "code",
   "execution_count": 265,
   "id": "551076d9",
   "metadata": {},
   "outputs": [
    {
     "name": "stdout",
     "output_type": "stream",
     "text": [
      "off_to_skus_map.json\t\t     submission6.csv\r\n",
      "offers_df_agg.csv\t\t     test_Offer_ID_map_category_ct.json\r\n",
      "offers_df_agg.json\t\t     test_category_ct.csv\r\n",
      "offers_df_agg_sales_feat.csv\t     test_other_ofrs.csv\r\n",
      "offers_df_agg_sales_feat_w_diff.csv  test_sales_feats.csv\r\n",
      "submission1.csv\t\t\t     test_sales_feats_w_diff.csv\r\n",
      "submission1hr.csv\t\t     train_category_ct.csv\r\n",
      "submission2.csv\t\t\t     train_other_ofrs.csv\r\n",
      "submission3.csv\t\t\t     train_sales_feats.csv\r\n",
      "submission4.csv\t\t\t     train_sales_feats_w_diff.csv\r\n",
      "submission5.csv\r\n"
     ]
    }
   ],
   "source": [
    "!ls ./data"
   ]
  },
  {
   "cell_type": "code",
   "execution_count": 267,
   "id": "abb1e361",
   "metadata": {},
   "outputs": [
    {
     "name": "stderr",
     "output_type": "stream",
     "text": [
      "/anaconda/envs/py38_default/lib/python3.8/site-packages/IPython/core/interactiveshell.py:3165: DtypeWarning: Columns (1) have mixed types.Specify dtype option on import or set low_memory=False.\n",
      "  has_raised = await self.run_ast_nodes(code_ast.body, cell_name,\n"
     ]
    },
    {
     "data": {
      "text/plain": [
       "(889, 2633)"
      ]
     },
     "execution_count": 267,
     "metadata": {},
     "output_type": "execute_result"
    }
   ],
   "source": [
    "offers_df_agg_feat = pd.read_csv('./data/offers_df_agg_sales_feat_w_diff.csv')\n",
    "offers_df_agg_feat.shape"
   ]
  },
  {
   "cell_type": "code",
   "execution_count": 272,
   "id": "1ee0dbfb",
   "metadata": {},
   "outputs": [
    {
     "name": "stdout",
     "output_type": "stream",
     "text": [
      "UpLift\n"
     ]
    }
   ],
   "source": [
    "\n",
    "for c in offers_df_agg_feat.columns: \n",
    "    if c.find('UpLift') > -1: print(c) "
   ]
  },
  {
   "cell_type": "code",
   "execution_count": 273,
   "id": "f04e3796",
   "metadata": {},
   "outputs": [],
   "source": [
    "offers_df_agg_feat.drop('Unnamed: 0', axis=1, inplace=True)"
   ]
  },
  {
   "cell_type": "code",
   "execution_count": 263,
   "id": "ffd1faeb",
   "metadata": {},
   "outputs": [
    {
     "data": {
      "text/plain": [
       "(889, 2631)"
      ]
     },
     "execution_count": 263,
     "metadata": {},
     "output_type": "execute_result"
    }
   ],
   "source": [
    "offers_df_agg_feat.shape"
   ]
  },
  {
   "cell_type": "code",
   "execution_count": 282,
   "id": "4d5a1c61",
   "metadata": {},
   "outputs": [],
   "source": [
    "offers_df_agg = offers_df_agg_feats"
   ]
  },
  {
   "cell_type": "code",
   "execution_count": 283,
   "id": "5780e15f",
   "metadata": {},
   "outputs": [
    {
     "data": {
      "text/plain": [
       "(889, 2627)"
      ]
     },
     "execution_count": 283,
     "metadata": {},
     "output_type": "execute_result"
    }
   ],
   "source": [
    "offers_df_agg.shape"
   ]
  },
  {
   "cell_type": "code",
   "execution_count": 284,
   "id": "5dbb4ea9",
   "metadata": {},
   "outputs": [
    {
     "data": {
      "text/plain": [
       "(889, 2633)"
      ]
     },
     "execution_count": 284,
     "metadata": {},
     "output_type": "execute_result"
    }
   ],
   "source": [
    "offers_df_agg['diff_min_avg_sls'] = offers_df_agg['avg_mean_sales_pred'] - offers_df_agg['avg_min_sales_pred']\n",
    "offers_df_agg['diff_max_avg_sls'] = offers_df_agg['avg_max_sales_pred'] - offers_df_agg['avg_mean_sales_pred']\n",
    "offers_df_agg['diff_min_avg_nums'] = offers_df_agg['avg_mean_num_pred'] - offers_df_agg['avg_min_num_pred']\n",
    "offers_df_agg['diff_max_avg_nums'] = offers_df_agg['avg_max_num_pred'] - offers_df_agg['avg_mean_num_pred']\n",
    "offers_df_agg['diff_min_avg_suppl'] = offers_df_agg['avg_mean_suppl_pred'] - offers_df_agg['avg_min_suppl_pred']\n",
    "offers_df_agg['diff_max_avg_suppl'] = offers_df_agg['avg_max_suppl_pred'] - offers_df_agg['avg_mean_suppl_pred']\n",
    "offers_df_agg.shape"
   ]
  },
  {
   "cell_type": "code",
   "execution_count": 285,
   "id": "460a6077",
   "metadata": {},
   "outputs": [
    {
     "data": {
      "text/html": [
       "<div>\n",
       "<style scoped>\n",
       "    .dataframe tbody tr th:only-of-type {\n",
       "        vertical-align: middle;\n",
       "    }\n",
       "\n",
       "    .dataframe tbody tr th {\n",
       "        vertical-align: top;\n",
       "    }\n",
       "\n",
       "    .dataframe thead th {\n",
       "        text-align: right;\n",
       "    }\n",
       "</style>\n",
       "<table border=\"1\" class=\"dataframe\">\n",
       "  <thead>\n",
       "    <tr style=\"text-align: right;\">\n",
       "      <th></th>\n",
       "      <th>num_skus_in_other_promos</th>\n",
       "      <th>UpLift_x</th>\n",
       "      <th>pred_start_date</th>\n",
       "      <th>pred_end_date</th>\n",
       "      <th>avg_mean_num_pred</th>\n",
       "      <th>avg_max_num_pred</th>\n",
       "      <th>avg_min_num_pred</th>\n",
       "      <th>avg_mean_suppl_pred</th>\n",
       "      <th>avg_max_suppl_pred</th>\n",
       "      <th>avg_min_suppl_pred</th>\n",
       "      <th>avg_mean_sales_pred</th>\n",
       "      <th>avg_max_sales_pred</th>\n",
       "      <th>avg_min_sales_pred</th>\n",
       "      <th>UpLift</th>\n",
       "      <th>diff_min_avg_sls</th>\n",
       "      <th>diff_max_avg_sls</th>\n",
       "      <th>diff_min_avg_nums</th>\n",
       "      <th>diff_max_avg_nums</th>\n",
       "      <th>diff_min_avg_suppl</th>\n",
       "      <th>diff_max_avg_suppl</th>\n",
       "    </tr>\n",
       "  </thead>\n",
       "  <tbody>\n",
       "    <tr>\n",
       "      <th>0</th>\n",
       "      <td>0.0</td>\n",
       "      <td>15.941591</td>\n",
       "      <td>2020-03-19</td>\n",
       "      <td>2020-04-01</td>\n",
       "      <td>NaN</td>\n",
       "      <td>NaN</td>\n",
       "      <td>NaN</td>\n",
       "      <td>NaN</td>\n",
       "      <td>NaN</td>\n",
       "      <td>NaN</td>\n",
       "      <td>NaN</td>\n",
       "      <td>NaN</td>\n",
       "      <td>NaN</td>\n",
       "      <td>15.941591</td>\n",
       "      <td>NaN</td>\n",
       "      <td>NaN</td>\n",
       "      <td>NaN</td>\n",
       "      <td>NaN</td>\n",
       "      <td>NaN</td>\n",
       "      <td>NaN</td>\n",
       "    </tr>\n",
       "    <tr>\n",
       "      <th>1</th>\n",
       "      <td>0.0</td>\n",
       "      <td>NaN</td>\n",
       "      <td>2020-09-22</td>\n",
       "      <td>2020-10-05</td>\n",
       "      <td>NaN</td>\n",
       "      <td>NaN</td>\n",
       "      <td>NaN</td>\n",
       "      <td>NaN</td>\n",
       "      <td>NaN</td>\n",
       "      <td>NaN</td>\n",
       "      <td>NaN</td>\n",
       "      <td>NaN</td>\n",
       "      <td>NaN</td>\n",
       "      <td>NaN</td>\n",
       "      <td>NaN</td>\n",
       "      <td>NaN</td>\n",
       "      <td>NaN</td>\n",
       "      <td>NaN</td>\n",
       "      <td>NaN</td>\n",
       "      <td>NaN</td>\n",
       "    </tr>\n",
       "    <tr>\n",
       "      <th>2</th>\n",
       "      <td>0.0</td>\n",
       "      <td>1.761594</td>\n",
       "      <td>2020-03-24</td>\n",
       "      <td>2020-04-06</td>\n",
       "      <td>0.663014</td>\n",
       "      <td>1.194000</td>\n",
       "      <td>69.78</td>\n",
       "      <td>126.346849</td>\n",
       "      <td>227.170000</td>\n",
       "      <td>0.663014</td>\n",
       "      <td>218.424795</td>\n",
       "      <td>394.010000</td>\n",
       "      <td>120.120000</td>\n",
       "      <td>1.761594</td>\n",
       "      <td>98.304795</td>\n",
       "      <td>175.585205</td>\n",
       "      <td>-69.116986</td>\n",
       "      <td>0.530986</td>\n",
       "      <td>125.683836</td>\n",
       "      <td>100.823151</td>\n",
       "    </tr>\n",
       "    <tr>\n",
       "      <th>3</th>\n",
       "      <td>0.0</td>\n",
       "      <td>0.630470</td>\n",
       "      <td>2020-03-24</td>\n",
       "      <td>2020-04-06</td>\n",
       "      <td>1.047536</td>\n",
       "      <td>2.090909</td>\n",
       "      <td>68.29</td>\n",
       "      <td>71.896870</td>\n",
       "      <td>143.733636</td>\n",
       "      <td>1.047536</td>\n",
       "      <td>153.594181</td>\n",
       "      <td>335.358182</td>\n",
       "      <td>110.819091</td>\n",
       "      <td>0.630470</td>\n",
       "      <td>42.775091</td>\n",
       "      <td>181.764000</td>\n",
       "      <td>-67.242464</td>\n",
       "      <td>1.043373</td>\n",
       "      <td>70.849334</td>\n",
       "      <td>71.836766</td>\n",
       "    </tr>\n",
       "    <tr>\n",
       "      <th>4</th>\n",
       "      <td>0.0</td>\n",
       "      <td>2.505152</td>\n",
       "      <td>2020-03-24</td>\n",
       "      <td>2020-04-06</td>\n",
       "      <td>1.975000</td>\n",
       "      <td>14.000000</td>\n",
       "      <td>70.68</td>\n",
       "      <td>158.014375</td>\n",
       "      <td>1130.640000</td>\n",
       "      <td>1.975000</td>\n",
       "      <td>207.715375</td>\n",
       "      <td>1580.460000</td>\n",
       "      <td>75.990000</td>\n",
       "      <td>2.505152</td>\n",
       "      <td>131.725375</td>\n",
       "      <td>1372.744625</td>\n",
       "      <td>-68.705000</td>\n",
       "      <td>12.025000</td>\n",
       "      <td>156.039375</td>\n",
       "      <td>972.625625</td>\n",
       "    </tr>\n",
       "  </tbody>\n",
       "</table>\n",
       "</div>"
      ],
      "text/plain": [
       "   num_skus_in_other_promos   UpLift_x pred_start_date pred_end_date  \\\n",
       "0                       0.0  15.941591      2020-03-19    2020-04-01   \n",
       "1                       0.0        NaN      2020-09-22    2020-10-05   \n",
       "2                       0.0   1.761594      2020-03-24    2020-04-06   \n",
       "3                       0.0   0.630470      2020-03-24    2020-04-06   \n",
       "4                       0.0   2.505152      2020-03-24    2020-04-06   \n",
       "\n",
       "   avg_mean_num_pred  avg_max_num_pred  avg_min_num_pred  avg_mean_suppl_pred  \\\n",
       "0                NaN               NaN               NaN                  NaN   \n",
       "1                NaN               NaN               NaN                  NaN   \n",
       "2           0.663014          1.194000             69.78           126.346849   \n",
       "3           1.047536          2.090909             68.29            71.896870   \n",
       "4           1.975000         14.000000             70.68           158.014375   \n",
       "\n",
       "   avg_max_suppl_pred  avg_min_suppl_pred  avg_mean_sales_pred  \\\n",
       "0                 NaN                 NaN                  NaN   \n",
       "1                 NaN                 NaN                  NaN   \n",
       "2          227.170000            0.663014           218.424795   \n",
       "3          143.733636            1.047536           153.594181   \n",
       "4         1130.640000            1.975000           207.715375   \n",
       "\n",
       "   avg_max_sales_pred  avg_min_sales_pred     UpLift  diff_min_avg_sls  \\\n",
       "0                 NaN                 NaN  15.941591               NaN   \n",
       "1                 NaN                 NaN        NaN               NaN   \n",
       "2          394.010000          120.120000   1.761594         98.304795   \n",
       "3          335.358182          110.819091   0.630470         42.775091   \n",
       "4         1580.460000           75.990000   2.505152        131.725375   \n",
       "\n",
       "   diff_max_avg_sls  diff_min_avg_nums  diff_max_avg_nums  diff_min_avg_suppl  \\\n",
       "0               NaN                NaN                NaN                 NaN   \n",
       "1               NaN                NaN                NaN                 NaN   \n",
       "2        175.585205         -69.116986           0.530986          125.683836   \n",
       "3        181.764000         -67.242464           1.043373           70.849334   \n",
       "4       1372.744625         -68.705000          12.025000          156.039375   \n",
       "\n",
       "   diff_max_avg_suppl  \n",
       "0                 NaN  \n",
       "1                 NaN  \n",
       "2          100.823151  \n",
       "3           71.836766  \n",
       "4          972.625625  "
      ]
     },
     "execution_count": 285,
     "metadata": {},
     "output_type": "execute_result"
    }
   ],
   "source": [
    "offers_df_agg[offers_df_agg.columns[-20:]].head()"
   ]
  },
  {
   "cell_type": "code",
   "execution_count": 286,
   "id": "8bcb10d3",
   "metadata": {},
   "outputs": [
    {
     "name": "stdout",
     "output_type": "stream",
     "text": [
      "UpLift_x\n",
      "UpLift\n"
     ]
    }
   ],
   "source": [
    "for c in offers_df_agg.columns: \n",
    "    if c.find('UpLift') > -1: print(c) "
   ]
  },
  {
   "cell_type": "code",
   "execution_count": 287,
   "id": "b1c38be8",
   "metadata": {},
   "outputs": [],
   "source": [
    "offers_df_agg.drop(['UpLift', 'UpLift_x'], axis=1, inplace=True)"
   ]
  },
  {
   "cell_type": "code",
   "execution_count": 289,
   "id": "8db7557d",
   "metadata": {},
   "outputs": [
    {
     "data": {
      "text/plain": [
       "(889, 2631)"
      ]
     },
     "execution_count": 289,
     "metadata": {},
     "output_type": "execute_result"
    }
   ],
   "source": [
    "offers_df_agg.shape"
   ]
  },
  {
   "cell_type": "markdown",
   "id": "39c08677",
   "metadata": {},
   "source": [
    "### Adding UpLift"
   ]
  },
  {
   "cell_type": "code",
   "execution_count": 110,
   "id": "e2b3b87e",
   "metadata": {},
   "outputs": [
    {
     "data": {
      "text/plain": [
       "(740, 2)"
      ]
     },
     "execution_count": 110,
     "metadata": {},
     "output_type": "execute_result"
    }
   ],
   "source": [
    "uplift_df.shape"
   ]
  },
  {
   "cell_type": "code",
   "execution_count": 248,
   "id": "cab8209f",
   "metadata": {},
   "outputs": [],
   "source": [
    "offers_df_agg.drop('UpLift', axis=1, inplace=True)"
   ]
  },
  {
   "cell_type": "code",
   "execution_count": 290,
   "id": "72a539ec",
   "metadata": {},
   "outputs": [
    {
     "data": {
      "text/plain": [
       "(889, 2632)"
      ]
     },
     "execution_count": 290,
     "metadata": {},
     "output_type": "execute_result"
    }
   ],
   "source": [
    "offers_df_agg = offers_df_agg.merge(uplift_df, on='Offer_ID', how='left')\n",
    "offers_df_agg.shape"
   ]
  },
  {
   "cell_type": "code",
   "execution_count": 291,
   "id": "6d497845",
   "metadata": {},
   "outputs": [],
   "source": [
    "offers_df_agg.to_csv('./data/offers_df_agg_sales_feat_w_diff.csv', index=False)"
   ]
  },
  {
   "cell_type": "markdown",
   "id": "f8fa9d7f",
   "metadata": {},
   "source": [
    "### Final Feats"
   ]
  },
  {
   "cell_type": "code",
   "execution_count": 115,
   "id": "58b32f37",
   "metadata": {},
   "outputs": [
    {
     "data": {
      "text/plain": [
       "(Index(['Offer_ID', 'Promo_type', 'start_date', 'end_date', 'train_test_group',\n",
       "        'sku', 'hierarchy_level1', 'hierarchy_level2', 'hierarchy_level3',\n",
       "        'hierarchy_level4', 'num_skus', 'num_hl1', 'num_hl2', 'num_hl3',\n",
       "        'num_hl4', 'hl_1_0', 'hl_1_1', 'hl_2_0', 'hl_2_1', 'hl_2_2'],\n",
       "       dtype='object'),\n",
       " Index(['hl_4_2104', 'hl_4_2105', 'hl_4_2106', 'hl_4_2107', 'hl_4_2108',\n",
       "        'hl_4_2109', 'hl_4_2110', 'hl_4_2111', 'hl_4_2112', 'hl_4_2113',\n",
       "        'hl_4_2114', 'hl_4_2115', 'hl_4_2116', 'hl_4_2117', 'hl_4_2118',\n",
       "        'duration', 'mo', 'start_day_of_week', 'end_day_of_week', 'UpLift'],\n",
       "       dtype='object'))"
      ]
     },
     "execution_count": 115,
     "metadata": {},
     "output_type": "execute_result"
    }
   ],
   "source": [
    "offers_df_agg.columns[:20], offers_df_agg.columns[-20:]"
   ]
  },
  {
   "cell_type": "code",
   "execution_count": 223,
   "id": "869b9dda",
   "metadata": {},
   "outputs": [],
   "source": [
    "# NB: 'Offer_ID' is droped before saving as needed for  mapping instances to Offer_IDs\n",
    "columns_to_exclude = ['sku', 'hierarchy_level1', 'hierarchy_level2', 'hierarchy_level3','hierarchy_level4']"
   ]
  },
  {
   "cell_type": "code",
   "execution_count": 292,
   "id": "3174b41c",
   "metadata": {
    "collapsed": true
   },
   "outputs": [
    {
     "ename": "KeyError",
     "evalue": "\"['sku' 'hierarchy_level1' 'hierarchy_level2' 'hierarchy_level3'\\n 'hierarchy_level4'] not found in axis\"",
     "output_type": "error",
     "traceback": [
      "\u001b[0;31m---------------------------------------------------------------------------\u001b[0m",
      "\u001b[0;31mKeyError\u001b[0m                                  Traceback (most recent call last)",
      "\u001b[0;32m<ipython-input-292-3a682ac5a089>\u001b[0m in \u001b[0;36m<module>\u001b[0;34m\u001b[0m\n\u001b[0;32m----> 1\u001b[0;31m \u001b[0moffers_df_agg_feats\u001b[0m \u001b[0;34m=\u001b[0m \u001b[0moffers_df_agg\u001b[0m\u001b[0;34m.\u001b[0m\u001b[0mdrop\u001b[0m\u001b[0;34m(\u001b[0m\u001b[0mcolumns\u001b[0m\u001b[0;34m=\u001b[0m\u001b[0mcolumns_to_exclude\u001b[0m\u001b[0;34m,\u001b[0m \u001b[0maxis\u001b[0m\u001b[0;34m=\u001b[0m\u001b[0;36m1\u001b[0m\u001b[0;34m)\u001b[0m\u001b[0;34m\u001b[0m\u001b[0;34m\u001b[0m\u001b[0m\n\u001b[0m\u001b[1;32m      2\u001b[0m \u001b[0moffers_df_agg_feats\u001b[0m\u001b[0;34m.\u001b[0m\u001b[0mshape\u001b[0m\u001b[0;34m\u001b[0m\u001b[0;34m\u001b[0m\u001b[0m\n",
      "\u001b[0;32m/anaconda/envs/py38_default/lib/python3.8/site-packages/pandas/core/frame.py\u001b[0m in \u001b[0;36mdrop\u001b[0;34m(self, labels, axis, index, columns, level, inplace, errors)\u001b[0m\n\u001b[1;32m   4306\u001b[0m                 \u001b[0mweight\u001b[0m  \u001b[0;36m1.0\u001b[0m     \u001b[0;36m0.8\u001b[0m\u001b[0;34m\u001b[0m\u001b[0;34m\u001b[0m\u001b[0m\n\u001b[1;32m   4307\u001b[0m         \"\"\"\n\u001b[0;32m-> 4308\u001b[0;31m         return super().drop(\n\u001b[0m\u001b[1;32m   4309\u001b[0m             \u001b[0mlabels\u001b[0m\u001b[0;34m=\u001b[0m\u001b[0mlabels\u001b[0m\u001b[0;34m,\u001b[0m\u001b[0;34m\u001b[0m\u001b[0;34m\u001b[0m\u001b[0m\n\u001b[1;32m   4310\u001b[0m             \u001b[0maxis\u001b[0m\u001b[0;34m=\u001b[0m\u001b[0maxis\u001b[0m\u001b[0;34m,\u001b[0m\u001b[0;34m\u001b[0m\u001b[0;34m\u001b[0m\u001b[0m\n",
      "\u001b[0;32m/anaconda/envs/py38_default/lib/python3.8/site-packages/pandas/core/generic.py\u001b[0m in \u001b[0;36mdrop\u001b[0;34m(self, labels, axis, index, columns, level, inplace, errors)\u001b[0m\n\u001b[1;32m   4151\u001b[0m         \u001b[0;32mfor\u001b[0m \u001b[0maxis\u001b[0m\u001b[0;34m,\u001b[0m \u001b[0mlabels\u001b[0m \u001b[0;32min\u001b[0m \u001b[0maxes\u001b[0m\u001b[0;34m.\u001b[0m\u001b[0mitems\u001b[0m\u001b[0;34m(\u001b[0m\u001b[0;34m)\u001b[0m\u001b[0;34m:\u001b[0m\u001b[0;34m\u001b[0m\u001b[0;34m\u001b[0m\u001b[0m\n\u001b[1;32m   4152\u001b[0m             \u001b[0;32mif\u001b[0m \u001b[0mlabels\u001b[0m \u001b[0;32mis\u001b[0m \u001b[0;32mnot\u001b[0m \u001b[0;32mNone\u001b[0m\u001b[0;34m:\u001b[0m\u001b[0;34m\u001b[0m\u001b[0;34m\u001b[0m\u001b[0m\n\u001b[0;32m-> 4153\u001b[0;31m                 \u001b[0mobj\u001b[0m \u001b[0;34m=\u001b[0m \u001b[0mobj\u001b[0m\u001b[0;34m.\u001b[0m\u001b[0m_drop_axis\u001b[0m\u001b[0;34m(\u001b[0m\u001b[0mlabels\u001b[0m\u001b[0;34m,\u001b[0m \u001b[0maxis\u001b[0m\u001b[0;34m,\u001b[0m \u001b[0mlevel\u001b[0m\u001b[0;34m=\u001b[0m\u001b[0mlevel\u001b[0m\u001b[0;34m,\u001b[0m \u001b[0merrors\u001b[0m\u001b[0;34m=\u001b[0m\u001b[0merrors\u001b[0m\u001b[0;34m)\u001b[0m\u001b[0;34m\u001b[0m\u001b[0;34m\u001b[0m\u001b[0m\n\u001b[0m\u001b[1;32m   4154\u001b[0m \u001b[0;34m\u001b[0m\u001b[0m\n\u001b[1;32m   4155\u001b[0m         \u001b[0;32mif\u001b[0m \u001b[0minplace\u001b[0m\u001b[0;34m:\u001b[0m\u001b[0;34m\u001b[0m\u001b[0;34m\u001b[0m\u001b[0m\n",
      "\u001b[0;32m/anaconda/envs/py38_default/lib/python3.8/site-packages/pandas/core/generic.py\u001b[0m in \u001b[0;36m_drop_axis\u001b[0;34m(self, labels, axis, level, errors)\u001b[0m\n\u001b[1;32m   4186\u001b[0m                 \u001b[0mnew_axis\u001b[0m \u001b[0;34m=\u001b[0m \u001b[0maxis\u001b[0m\u001b[0;34m.\u001b[0m\u001b[0mdrop\u001b[0m\u001b[0;34m(\u001b[0m\u001b[0mlabels\u001b[0m\u001b[0;34m,\u001b[0m \u001b[0mlevel\u001b[0m\u001b[0;34m=\u001b[0m\u001b[0mlevel\u001b[0m\u001b[0;34m,\u001b[0m \u001b[0merrors\u001b[0m\u001b[0;34m=\u001b[0m\u001b[0merrors\u001b[0m\u001b[0;34m)\u001b[0m\u001b[0;34m\u001b[0m\u001b[0;34m\u001b[0m\u001b[0m\n\u001b[1;32m   4187\u001b[0m             \u001b[0;32melse\u001b[0m\u001b[0;34m:\u001b[0m\u001b[0;34m\u001b[0m\u001b[0;34m\u001b[0m\u001b[0m\n\u001b[0;32m-> 4188\u001b[0;31m                 \u001b[0mnew_axis\u001b[0m \u001b[0;34m=\u001b[0m \u001b[0maxis\u001b[0m\u001b[0;34m.\u001b[0m\u001b[0mdrop\u001b[0m\u001b[0;34m(\u001b[0m\u001b[0mlabels\u001b[0m\u001b[0;34m,\u001b[0m \u001b[0merrors\u001b[0m\u001b[0;34m=\u001b[0m\u001b[0merrors\u001b[0m\u001b[0;34m)\u001b[0m\u001b[0;34m\u001b[0m\u001b[0;34m\u001b[0m\u001b[0m\n\u001b[0m\u001b[1;32m   4189\u001b[0m             \u001b[0mresult\u001b[0m \u001b[0;34m=\u001b[0m \u001b[0mself\u001b[0m\u001b[0;34m.\u001b[0m\u001b[0mreindex\u001b[0m\u001b[0;34m(\u001b[0m\u001b[0;34m**\u001b[0m\u001b[0;34m{\u001b[0m\u001b[0maxis_name\u001b[0m\u001b[0;34m:\u001b[0m \u001b[0mnew_axis\u001b[0m\u001b[0;34m}\u001b[0m\u001b[0;34m)\u001b[0m\u001b[0;34m\u001b[0m\u001b[0;34m\u001b[0m\u001b[0m\n\u001b[1;32m   4190\u001b[0m \u001b[0;34m\u001b[0m\u001b[0m\n",
      "\u001b[0;32m/anaconda/envs/py38_default/lib/python3.8/site-packages/pandas/core/indexes/base.py\u001b[0m in \u001b[0;36mdrop\u001b[0;34m(self, labels, errors)\u001b[0m\n\u001b[1;32m   5589\u001b[0m         \u001b[0;32mif\u001b[0m \u001b[0mmask\u001b[0m\u001b[0;34m.\u001b[0m\u001b[0many\u001b[0m\u001b[0;34m(\u001b[0m\u001b[0;34m)\u001b[0m\u001b[0;34m:\u001b[0m\u001b[0;34m\u001b[0m\u001b[0;34m\u001b[0m\u001b[0m\n\u001b[1;32m   5590\u001b[0m             \u001b[0;32mif\u001b[0m \u001b[0merrors\u001b[0m \u001b[0;34m!=\u001b[0m \u001b[0;34m\"ignore\"\u001b[0m\u001b[0;34m:\u001b[0m\u001b[0;34m\u001b[0m\u001b[0;34m\u001b[0m\u001b[0m\n\u001b[0;32m-> 5591\u001b[0;31m                 \u001b[0;32mraise\u001b[0m \u001b[0mKeyError\u001b[0m\u001b[0;34m(\u001b[0m\u001b[0;34mf\"{labels[mask]} not found in axis\"\u001b[0m\u001b[0;34m)\u001b[0m\u001b[0;34m\u001b[0m\u001b[0;34m\u001b[0m\u001b[0m\n\u001b[0m\u001b[1;32m   5592\u001b[0m             \u001b[0mindexer\u001b[0m \u001b[0;34m=\u001b[0m \u001b[0mindexer\u001b[0m\u001b[0;34m[\u001b[0m\u001b[0;34m~\u001b[0m\u001b[0mmask\u001b[0m\u001b[0;34m]\u001b[0m\u001b[0;34m\u001b[0m\u001b[0;34m\u001b[0m\u001b[0m\n\u001b[1;32m   5593\u001b[0m         \u001b[0;32mreturn\u001b[0m \u001b[0mself\u001b[0m\u001b[0;34m.\u001b[0m\u001b[0mdelete\u001b[0m\u001b[0;34m(\u001b[0m\u001b[0mindexer\u001b[0m\u001b[0;34m)\u001b[0m\u001b[0;34m\u001b[0m\u001b[0;34m\u001b[0m\u001b[0m\n",
      "\u001b[0;31mKeyError\u001b[0m: \"['sku' 'hierarchy_level1' 'hierarchy_level2' 'hierarchy_level3'\\n 'hierarchy_level4'] not found in axis\""
     ]
    }
   ],
   "source": [
    "offers_df_agg_feats = offers_df_agg.drop(columns=columns_to_exclude, axis=1)\n",
    "offers_df_agg_feats.shape"
   ]
  },
  {
   "cell_type": "code",
   "execution_count": 293,
   "id": "c28134ef",
   "metadata": {},
   "outputs": [],
   "source": [
    "offers_df_agg_feats = offers_df_agg"
   ]
  },
  {
   "cell_type": "code",
   "execution_count": 200,
   "id": "f5799d49",
   "metadata": {
    "collapsed": true
   },
   "outputs": [
    {
     "data": {
      "text/html": [
       "<div>\n",
       "<style scoped>\n",
       "    .dataframe tbody tr th:only-of-type {\n",
       "        vertical-align: middle;\n",
       "    }\n",
       "\n",
       "    .dataframe tbody tr th {\n",
       "        vertical-align: top;\n",
       "    }\n",
       "\n",
       "    .dataframe thead th {\n",
       "        text-align: right;\n",
       "    }\n",
       "</style>\n",
       "<table border=\"1\" class=\"dataframe\">\n",
       "  <thead>\n",
       "    <tr style=\"text-align: right;\">\n",
       "      <th></th>\n",
       "      <th>Offer_ID</th>\n",
       "      <th>duration</th>\n",
       "      <th>Promo_type</th>\n",
       "      <th>start_date</th>\n",
       "      <th>end_date</th>\n",
       "      <th>train_test_group</th>\n",
       "      <th>num_skus</th>\n",
       "      <th>num_hl1</th>\n",
       "      <th>num_hl2</th>\n",
       "      <th>num_hl3</th>\n",
       "      <th>num_hl4</th>\n",
       "      <th>mo</th>\n",
       "      <th>start_day_of_week</th>\n",
       "      <th>end_day_of_week</th>\n",
       "      <th>UpLift</th>\n",
       "    </tr>\n",
       "  </thead>\n",
       "  <tbody>\n",
       "    <tr>\n",
       "      <th>0</th>\n",
       "      <td>10</td>\n",
       "      <td>13 days</td>\n",
       "      <td>Biweekly</td>\n",
       "      <td>2020-04-02</td>\n",
       "      <td>2020-04-15</td>\n",
       "      <td>train</td>\n",
       "      <td>8</td>\n",
       "      <td>1</td>\n",
       "      <td>1</td>\n",
       "      <td>1</td>\n",
       "      <td>1</td>\n",
       "      <td>4</td>\n",
       "      <td>3</td>\n",
       "      <td>2</td>\n",
       "      <td>15.941591</td>\n",
       "    </tr>\n",
       "    <tr>\n",
       "      <th>1</th>\n",
       "      <td>100</td>\n",
       "      <td>13 days</td>\n",
       "      <td>Seasonal</td>\n",
       "      <td>2020-10-06</td>\n",
       "      <td>2020-10-19</td>\n",
       "      <td>test</td>\n",
       "      <td>12</td>\n",
       "      <td>1</td>\n",
       "      <td>1</td>\n",
       "      <td>1</td>\n",
       "      <td>4</td>\n",
       "      <td>10</td>\n",
       "      <td>1</td>\n",
       "      <td>0</td>\n",
       "      <td>NaN</td>\n",
       "    </tr>\n",
       "    <tr>\n",
       "      <th>2</th>\n",
       "      <td>101</td>\n",
       "      <td>13 days</td>\n",
       "      <td>Seasonal</td>\n",
       "      <td>2020-04-07</td>\n",
       "      <td>2020-04-20</td>\n",
       "      <td>train</td>\n",
       "      <td>1</td>\n",
       "      <td>1</td>\n",
       "      <td>1</td>\n",
       "      <td>1</td>\n",
       "      <td>1</td>\n",
       "      <td>4</td>\n",
       "      <td>1</td>\n",
       "      <td>0</td>\n",
       "      <td>1.761594</td>\n",
       "    </tr>\n",
       "    <tr>\n",
       "      <th>3</th>\n",
       "      <td>102</td>\n",
       "      <td>13 days</td>\n",
       "      <td>Seasonal</td>\n",
       "      <td>2020-04-07</td>\n",
       "      <td>2020-04-20</td>\n",
       "      <td>train</td>\n",
       "      <td>11</td>\n",
       "      <td>1</td>\n",
       "      <td>1</td>\n",
       "      <td>1</td>\n",
       "      <td>1</td>\n",
       "      <td>4</td>\n",
       "      <td>1</td>\n",
       "      <td>0</td>\n",
       "      <td>0.630470</td>\n",
       "    </tr>\n",
       "    <tr>\n",
       "      <th>4</th>\n",
       "      <td>103</td>\n",
       "      <td>13 days</td>\n",
       "      <td>Seasonal</td>\n",
       "      <td>2020-04-07</td>\n",
       "      <td>2020-04-20</td>\n",
       "      <td>train</td>\n",
       "      <td>1</td>\n",
       "      <td>1</td>\n",
       "      <td>1</td>\n",
       "      <td>1</td>\n",
       "      <td>1</td>\n",
       "      <td>4</td>\n",
       "      <td>1</td>\n",
       "      <td>0</td>\n",
       "      <td>2.505152</td>\n",
       "    </tr>\n",
       "  </tbody>\n",
       "</table>\n",
       "</div>"
      ],
      "text/plain": [
       "  Offer_ID duration Promo_type start_date   end_date train_test_group  \\\n",
       "0       10  13 days   Biweekly 2020-04-02 2020-04-15            train   \n",
       "1      100  13 days   Seasonal 2020-10-06 2020-10-19             test   \n",
       "2      101  13 days   Seasonal 2020-04-07 2020-04-20            train   \n",
       "3      102  13 days   Seasonal 2020-04-07 2020-04-20            train   \n",
       "4      103  13 days   Seasonal 2020-04-07 2020-04-20            train   \n",
       "\n",
       "   num_skus  num_hl1  num_hl2  num_hl3  num_hl4  mo  start_day_of_week  \\\n",
       "0         8        1        1        1        1   4                  3   \n",
       "1        12        1        1        1        4  10                  1   \n",
       "2         1        1        1        1        1   4                  1   \n",
       "3        11        1        1        1        1   4                  1   \n",
       "4         1        1        1        1        1   4                  1   \n",
       "\n",
       "   end_day_of_week     UpLift  \n",
       "0                2  15.941591  \n",
       "1                0        NaN  \n",
       "2                0   1.761594  \n",
       "3                0   0.630470  \n",
       "4                0   2.505152  "
      ]
     },
     "execution_count": 200,
     "metadata": {},
     "output_type": "execute_result"
    }
   ],
   "source": [
    "offers_df_agg_feats.head()"
   ]
  },
  {
   "cell_type": "code",
   "execution_count": 294,
   "id": "9d32e75f",
   "metadata": {},
   "outputs": [
    {
     "data": {
      "text/html": [
       "<div>\n",
       "<style scoped>\n",
       "    .dataframe tbody tr th:only-of-type {\n",
       "        vertical-align: middle;\n",
       "    }\n",
       "\n",
       "    .dataframe tbody tr th {\n",
       "        vertical-align: top;\n",
       "    }\n",
       "\n",
       "    .dataframe thead th {\n",
       "        text-align: right;\n",
       "    }\n",
       "</style>\n",
       "<table border=\"1\" class=\"dataframe\">\n",
       "  <thead>\n",
       "    <tr style=\"text-align: right;\">\n",
       "      <th></th>\n",
       "      <th>avg_mean_sales_pred</th>\n",
       "      <th>avg_max_sales_pred</th>\n",
       "      <th>avg_min_sales_pred</th>\n",
       "      <th>diff_min_avg_sls</th>\n",
       "      <th>diff_max_avg_sls</th>\n",
       "      <th>diff_min_avg_nums</th>\n",
       "      <th>diff_max_avg_nums</th>\n",
       "      <th>diff_min_avg_suppl</th>\n",
       "      <th>diff_max_avg_suppl</th>\n",
       "      <th>UpLift</th>\n",
       "    </tr>\n",
       "  </thead>\n",
       "  <tbody>\n",
       "    <tr>\n",
       "      <th>0</th>\n",
       "      <td>NaN</td>\n",
       "      <td>NaN</td>\n",
       "      <td>NaN</td>\n",
       "      <td>NaN</td>\n",
       "      <td>NaN</td>\n",
       "      <td>NaN</td>\n",
       "      <td>NaN</td>\n",
       "      <td>NaN</td>\n",
       "      <td>NaN</td>\n",
       "      <td>15.941591</td>\n",
       "    </tr>\n",
       "    <tr>\n",
       "      <th>1</th>\n",
       "      <td>NaN</td>\n",
       "      <td>NaN</td>\n",
       "      <td>NaN</td>\n",
       "      <td>NaN</td>\n",
       "      <td>NaN</td>\n",
       "      <td>NaN</td>\n",
       "      <td>NaN</td>\n",
       "      <td>NaN</td>\n",
       "      <td>NaN</td>\n",
       "      <td>NaN</td>\n",
       "    </tr>\n",
       "    <tr>\n",
       "      <th>2</th>\n",
       "      <td>218.424795</td>\n",
       "      <td>394.010000</td>\n",
       "      <td>120.120000</td>\n",
       "      <td>98.304795</td>\n",
       "      <td>175.585205</td>\n",
       "      <td>-69.116986</td>\n",
       "      <td>0.530986</td>\n",
       "      <td>125.683836</td>\n",
       "      <td>100.823151</td>\n",
       "      <td>1.761594</td>\n",
       "    </tr>\n",
       "    <tr>\n",
       "      <th>3</th>\n",
       "      <td>153.594181</td>\n",
       "      <td>335.358182</td>\n",
       "      <td>110.819091</td>\n",
       "      <td>42.775091</td>\n",
       "      <td>181.764000</td>\n",
       "      <td>-67.242464</td>\n",
       "      <td>1.043373</td>\n",
       "      <td>70.849334</td>\n",
       "      <td>71.836766</td>\n",
       "      <td>0.630470</td>\n",
       "    </tr>\n",
       "    <tr>\n",
       "      <th>4</th>\n",
       "      <td>207.715375</td>\n",
       "      <td>1580.460000</td>\n",
       "      <td>75.990000</td>\n",
       "      <td>131.725375</td>\n",
       "      <td>1372.744625</td>\n",
       "      <td>-68.705000</td>\n",
       "      <td>12.025000</td>\n",
       "      <td>156.039375</td>\n",
       "      <td>972.625625</td>\n",
       "      <td>2.505152</td>\n",
       "    </tr>\n",
       "  </tbody>\n",
       "</table>\n",
       "</div>"
      ],
      "text/plain": [
       "   avg_mean_sales_pred  avg_max_sales_pred  avg_min_sales_pred  \\\n",
       "0                  NaN                 NaN                 NaN   \n",
       "1                  NaN                 NaN                 NaN   \n",
       "2           218.424795          394.010000          120.120000   \n",
       "3           153.594181          335.358182          110.819091   \n",
       "4           207.715375         1580.460000           75.990000   \n",
       "\n",
       "   diff_min_avg_sls  diff_max_avg_sls  diff_min_avg_nums  diff_max_avg_nums  \\\n",
       "0               NaN               NaN                NaN                NaN   \n",
       "1               NaN               NaN                NaN                NaN   \n",
       "2         98.304795        175.585205         -69.116986           0.530986   \n",
       "3         42.775091        181.764000         -67.242464           1.043373   \n",
       "4        131.725375       1372.744625         -68.705000          12.025000   \n",
       "\n",
       "   diff_min_avg_suppl  diff_max_avg_suppl     UpLift  \n",
       "0                 NaN                 NaN  15.941591  \n",
       "1                 NaN                 NaN        NaN  \n",
       "2          125.683836          100.823151   1.761594  \n",
       "3           70.849334           71.836766   0.630470  \n",
       "4          156.039375          972.625625   2.505152  "
      ]
     },
     "execution_count": 294,
     "metadata": {},
     "output_type": "execute_result"
    }
   ],
   "source": [
    "offers_df_agg_feats[offers_df_agg_feats.columns[-10:]].head()"
   ]
  },
  {
   "cell_type": "code",
   "execution_count": 295,
   "id": "999b0b02",
   "metadata": {},
   "outputs": [
    {
     "data": {
      "text/plain": [
       "(740, 2630)"
      ]
     },
     "execution_count": 295,
     "metadata": {},
     "output_type": "execute_result"
    }
   ],
   "source": [
    "offers_df_agg_feats_train = offers_df_agg_feats[offers_df_agg_feats['train_test_group'] == 'train']\n",
    "offers_df_agg_feats_train = offers_df_agg_feats_train.drop(['train_test_group', 'Offer_ID'], axis=1)\n",
    "offers_df_agg_feats_train.to_csv('./data/train_sales_feats_w_diff.csv', index=False)\n",
    "offers_df_agg_feats_train.shape"
   ]
  },
  {
   "cell_type": "code",
   "execution_count": 296,
   "id": "dd6225e8",
   "metadata": {},
   "outputs": [
    {
     "data": {
      "text/plain": [
       "(149, 2629)"
      ]
     },
     "execution_count": 296,
     "metadata": {},
     "output_type": "execute_result"
    }
   ],
   "source": [
    "offers_df_agg_feats_test = offers_df_agg_feats[offers_df_agg_feats['train_test_group'] == 'test']\n",
    "offers_df_agg_feats_test = offers_df_agg_feats_test.drop(['train_test_group', 'Offer_ID', 'UpLift'], axis=1)\n",
    "offers_df_agg_feats_test.to_csv('./data/test_sales_feats_w_diff.csv', index=False)\n",
    "offers_df_agg_feats_test.shape"
   ]
  },
  {
   "cell_type": "code",
   "execution_count": 125,
   "id": "4024286c",
   "metadata": {},
   "outputs": [
    {
     "data": {
      "text/plain": [
       "149"
      ]
     },
     "execution_count": 125,
     "metadata": {},
     "output_type": "execute_result"
    }
   ],
   "source": [
    "import json \n",
    "offer_ids_test = list(offers_df_agg_feats[offers_df_agg_feats['train_test_group'] == 'test']['Offer_ID'])\n",
    "json.dump(offer_ids_test, open('./data/test_Offer_ID_map_category_ct.json', 'w'))\n",
    "len(offer_ids_test)"
   ]
  },
  {
   "cell_type": "code",
   "execution_count": null,
   "id": "f6444693",
   "metadata": {},
   "outputs": [],
   "source": []
  },
  {
   "cell_type": "code",
   "execution_count": 196,
   "id": "8752c1c4",
   "metadata": {},
   "outputs": [],
   "source": [
    "from sklearn.preprocessing import OneHotEncoder"
   ]
  },
  {
   "cell_type": "code",
   "execution_count": 219,
   "id": "06aee2b0",
   "metadata": {},
   "outputs": [],
   "source": [
    "enc = OneHotEncoder(handle_unknown='ignore')"
   ]
  },
  {
   "cell_type": "code",
   "execution_count": 212,
   "id": "5eab10d0",
   "metadata": {
    "scrolled": true
   },
   "outputs": [
    {
     "data": {
      "text/html": [
       "<div>\n",
       "<style scoped>\n",
       "    .dataframe tbody tr th:only-of-type {\n",
       "        vertical-align: middle;\n",
       "    }\n",
       "\n",
       "    .dataframe tbody tr th {\n",
       "        vertical-align: top;\n",
       "    }\n",
       "\n",
       "    .dataframe thead th {\n",
       "        text-align: right;\n",
       "    }\n",
       "</style>\n",
       "<table border=\"1\" class=\"dataframe\">\n",
       "  <thead>\n",
       "    <tr style=\"text-align: right;\">\n",
       "      <th></th>\n",
       "      <th>Offer_ID</th>\n",
       "      <th>duration</th>\n",
       "      <th>Promo_type</th>\n",
       "      <th>start_date</th>\n",
       "      <th>end_date</th>\n",
       "      <th>train_test_group</th>\n",
       "      <th>num_skus</th>\n",
       "      <th>num_hl1</th>\n",
       "      <th>num_hl2</th>\n",
       "      <th>num_hl3</th>\n",
       "      <th>num_hl4</th>\n",
       "      <th>mo</th>\n",
       "      <th>start_day_of_week</th>\n",
       "      <th>end_day_of_week</th>\n",
       "      <th>UpLift</th>\n",
       "    </tr>\n",
       "  </thead>\n",
       "  <tbody>\n",
       "    <tr>\n",
       "      <th>0</th>\n",
       "      <td>10</td>\n",
       "      <td>13 days</td>\n",
       "      <td>Biweekly</td>\n",
       "      <td>2020-04-02</td>\n",
       "      <td>2020-04-15</td>\n",
       "      <td>train</td>\n",
       "      <td>8</td>\n",
       "      <td>1</td>\n",
       "      <td>1</td>\n",
       "      <td>1</td>\n",
       "      <td>1</td>\n",
       "      <td>4</td>\n",
       "      <td>3</td>\n",
       "      <td>2</td>\n",
       "      <td>15.941591</td>\n",
       "    </tr>\n",
       "    <tr>\n",
       "      <th>1</th>\n",
       "      <td>100</td>\n",
       "      <td>13 days</td>\n",
       "      <td>Seasonal</td>\n",
       "      <td>2020-10-06</td>\n",
       "      <td>2020-10-19</td>\n",
       "      <td>test</td>\n",
       "      <td>12</td>\n",
       "      <td>1</td>\n",
       "      <td>1</td>\n",
       "      <td>1</td>\n",
       "      <td>4</td>\n",
       "      <td>10</td>\n",
       "      <td>1</td>\n",
       "      <td>0</td>\n",
       "      <td>NaN</td>\n",
       "    </tr>\n",
       "    <tr>\n",
       "      <th>2</th>\n",
       "      <td>101</td>\n",
       "      <td>13 days</td>\n",
       "      <td>Seasonal</td>\n",
       "      <td>2020-04-07</td>\n",
       "      <td>2020-04-20</td>\n",
       "      <td>train</td>\n",
       "      <td>1</td>\n",
       "      <td>1</td>\n",
       "      <td>1</td>\n",
       "      <td>1</td>\n",
       "      <td>1</td>\n",
       "      <td>4</td>\n",
       "      <td>1</td>\n",
       "      <td>0</td>\n",
       "      <td>1.761594</td>\n",
       "    </tr>\n",
       "    <tr>\n",
       "      <th>3</th>\n",
       "      <td>102</td>\n",
       "      <td>13 days</td>\n",
       "      <td>Seasonal</td>\n",
       "      <td>2020-04-07</td>\n",
       "      <td>2020-04-20</td>\n",
       "      <td>train</td>\n",
       "      <td>11</td>\n",
       "      <td>1</td>\n",
       "      <td>1</td>\n",
       "      <td>1</td>\n",
       "      <td>1</td>\n",
       "      <td>4</td>\n",
       "      <td>1</td>\n",
       "      <td>0</td>\n",
       "      <td>0.630470</td>\n",
       "    </tr>\n",
       "    <tr>\n",
       "      <th>4</th>\n",
       "      <td>103</td>\n",
       "      <td>13 days</td>\n",
       "      <td>Seasonal</td>\n",
       "      <td>2020-04-07</td>\n",
       "      <td>2020-04-20</td>\n",
       "      <td>train</td>\n",
       "      <td>1</td>\n",
       "      <td>1</td>\n",
       "      <td>1</td>\n",
       "      <td>1</td>\n",
       "      <td>1</td>\n",
       "      <td>4</td>\n",
       "      <td>1</td>\n",
       "      <td>0</td>\n",
       "      <td>2.505152</td>\n",
       "    </tr>\n",
       "  </tbody>\n",
       "</table>\n",
       "</div>"
      ],
      "text/plain": [
       "  Offer_ID duration Promo_type start_date   end_date train_test_group  \\\n",
       "0       10  13 days   Biweekly 2020-04-02 2020-04-15            train   \n",
       "1      100  13 days   Seasonal 2020-10-06 2020-10-19             test   \n",
       "2      101  13 days   Seasonal 2020-04-07 2020-04-20            train   \n",
       "3      102  13 days   Seasonal 2020-04-07 2020-04-20            train   \n",
       "4      103  13 days   Seasonal 2020-04-07 2020-04-20            train   \n",
       "\n",
       "   num_skus  num_hl1  num_hl2  num_hl3  num_hl4  mo  start_day_of_week  \\\n",
       "0         8        1        1        1        1   4                  3   \n",
       "1        12        1        1        1        4  10                  1   \n",
       "2         1        1        1        1        1   4                  1   \n",
       "3        11        1        1        1        1   4                  1   \n",
       "4         1        1        1        1        1   4                  1   \n",
       "\n",
       "   end_day_of_week     UpLift  \n",
       "0                2  15.941591  \n",
       "1                0        NaN  \n",
       "2                0   1.761594  \n",
       "3                0   0.630470  \n",
       "4                0   2.505152  "
      ]
     },
     "execution_count": 212,
     "metadata": {},
     "output_type": "execute_result"
    }
   ],
   "source": [
    "offers_df_agg_feats.head()"
   ]
  },
  {
   "cell_type": "code",
   "execution_count": 213,
   "id": "a5481036",
   "metadata": {},
   "outputs": [
    {
     "data": {
      "text/plain": [
       "Index(['Offer_ID', 'duration', 'Promo_type', 'start_date', 'end_date',\n",
       "       'train_test_group', 'num_skus', 'num_hl1', 'num_hl2', 'num_hl3',\n",
       "       'num_hl4', 'mo', 'start_day_of_week', 'end_day_of_week', 'UpLift'],\n",
       "      dtype='object')"
      ]
     },
     "execution_count": 213,
     "metadata": {},
     "output_type": "execute_result"
    }
   ],
   "source": [
    "offers_df_agg_feats.columns"
   ]
  },
  {
   "cell_type": "code",
   "execution_count": 222,
   "id": "724d0458",
   "metadata": {},
   "outputs": [
    {
     "data": {
      "text/plain": [
       "12"
      ]
     },
     "execution_count": 222,
     "metadata": {},
     "output_type": "execute_result"
    }
   ],
   "source": [
    "feat_columns = ['duration', 'Promo_type', 'start_date', 'end_date', 'num_skus', 'num_hl1', 'num_hl2', 'num_hl3',\n",
    "       'num_hl4', 'mo', 'start_day_of_week', 'end_day_of_week']\n",
    "len(feat_columns)"
   ]
  },
  {
   "cell_type": "code",
   "execution_count": 221,
   "id": "65d74935",
   "metadata": {},
   "outputs": [
    {
     "data": {
      "text/plain": [
       "Index(['duration', 'Promo_type', 'start_date', 'end_date', 'num_skus',\n",
       "       'num_hl1', 'num_hl2', 'num_hl3', 'num_hl4', 'mo', 'start_day_of_week',\n",
       "       'end_day_of_week', 'UpLift'],\n",
       "      dtype='object')"
      ]
     },
     "execution_count": 221,
     "metadata": {},
     "output_type": "execute_result"
    }
   ],
   "source": [
    "offers_df_agg_feats_train.columns"
   ]
  },
  {
   "cell_type": "code",
   "execution_count": 223,
   "id": "10882833",
   "metadata": {},
   "outputs": [
    {
     "data": {
      "text/plain": [
       "OneHotEncoder(handle_unknown='ignore')"
      ]
     },
     "execution_count": 223,
     "metadata": {},
     "output_type": "execute_result"
    }
   ],
   "source": [
    "enc.fit(offers_df_agg_feats_train[feat_columns])"
   ]
  },
  {
   "cell_type": "code",
   "execution_count": 224,
   "id": "a41486de",
   "metadata": {},
   "outputs": [],
   "source": [
    "offers_df_agg_feats_train_enc = enc.transform(offers_df_agg_feats_train[feat_columns])\n",
    "offers_df_agg_feats_test_enc = enc.transform(offers_df_agg_feats_test)"
   ]
  },
  {
   "cell_type": "code",
   "execution_count": 225,
   "id": "255e82ed",
   "metadata": {},
   "outputs": [
    {
     "data": {
      "text/plain": [
       "scipy.sparse.csr.csr_matrix"
      ]
     },
     "execution_count": 225,
     "metadata": {},
     "output_type": "execute_result"
    }
   ],
   "source": [
    "type(offers_df_agg_feats_test_enc)"
   ]
  },
  {
   "cell_type": "code",
   "execution_count": null,
   "id": "de17992e",
   "metadata": {},
   "outputs": [],
   "source": [
    "offers_df_agg"
   ]
  },
  {
   "cell_type": "code",
   "execution_count": 193,
   "id": "37461240",
   "metadata": {},
   "outputs": [
    {
     "data": {
      "text/plain": [
       "Index(['Offer_ID', 'duration', 'Promo_type', 'start_date', 'end_date',\n",
       "       'train_test_group', 'sku', 'hierarchy_level1', 'hierarchy_level2',\n",
       "       'hierarchy_level3', 'hierarchy_level4', 'num_skus', 'num_hl1',\n",
       "       'num_hl2', 'num_hl3', 'num_hl4', 'mo', 'start_day_of_week',\n",
       "       'end_day_of_week'],\n",
       "      dtype='object')"
      ]
     },
     "execution_count": 193,
     "metadata": {},
     "output_type": "execute_result"
    }
   ],
   "source": [
    "offers_df_agg.columns"
   ]
  },
  {
   "cell_type": "code",
   "execution_count": 195,
   "id": "15f8f6f3",
   "metadata": {},
   "outputs": [],
   "source": [
    "offers_df_agg.drop?"
   ]
  },
  {
   "cell_type": "code",
   "execution_count": 194,
   "id": "88febbb2",
   "metadata": {},
   "outputs": [
    {
     "ename": "TypeError",
     "evalue": "drop() got an unexpected keyword argument 'subset'",
     "output_type": "error",
     "traceback": [
      "\u001b[0;31m---------------------------------------------------------------------------\u001b[0m",
      "\u001b[0;31mTypeError\u001b[0m                                 Traceback (most recent call last)",
      "\u001b[0;32m<ipython-input-194-2397cbefdf45>\u001b[0m in \u001b[0;36m<module>\u001b[0;34m\u001b[0m\n\u001b[0;32m----> 1\u001b[0;31m offers_df_agg_feats = offers_df_agg.drop(subset=['sku', 'hierarchy_level1', 'hierarchy_level2',\n\u001b[0m\u001b[1;32m      2\u001b[0m        'hierarchy_level3', 'hierarchy_level4'])\n",
      "\u001b[0;31mTypeError\u001b[0m: drop() got an unexpected keyword argument 'subset'"
     ]
    }
   ],
   "source": [
    "offers_df_agg_feats = offers_df_agg.drop(columns=['sku', 'hierarchy_level1', 'hierarchy_level2',\n",
    "       'hierarchy_level3', 'hierarchy_level4'], axis=1 ,  )"
   ]
  },
  {
   "cell_type": "code",
   "execution_count": null,
   "id": "5c30fffd",
   "metadata": {},
   "outputs": [],
   "source": []
  },
  {
   "cell_type": "code",
   "execution_count": 191,
   "id": "ba531755",
   "metadata": {},
   "outputs": [
    {
     "data": {
      "text/html": [
       "<div>\n",
       "<style scoped>\n",
       "    .dataframe tbody tr th:only-of-type {\n",
       "        vertical-align: middle;\n",
       "    }\n",
       "\n",
       "    .dataframe tbody tr th {\n",
       "        vertical-align: top;\n",
       "    }\n",
       "\n",
       "    .dataframe thead th {\n",
       "        text-align: right;\n",
       "    }\n",
       "</style>\n",
       "<table border=\"1\" class=\"dataframe\">\n",
       "  <thead>\n",
       "    <tr style=\"text-align: right;\">\n",
       "      <th></th>\n",
       "      <th>Offer_ID</th>\n",
       "      <th>duration</th>\n",
       "      <th>Promo_type</th>\n",
       "      <th>start_date</th>\n",
       "      <th>end_date</th>\n",
       "      <th>train_test_group</th>\n",
       "      <th>sku</th>\n",
       "      <th>hierarchy_level1</th>\n",
       "      <th>hierarchy_level2</th>\n",
       "      <th>hierarchy_level3</th>\n",
       "      <th>hierarchy_level4</th>\n",
       "      <th>num_skus</th>\n",
       "      <th>num_hl1</th>\n",
       "      <th>num_hl2</th>\n",
       "      <th>num_hl3</th>\n",
       "      <th>num_hl4</th>\n",
       "      <th>mo</th>\n",
       "      <th>start_day_of_week</th>\n",
       "    </tr>\n",
       "  </thead>\n",
       "  <tbody>\n",
       "    <tr>\n",
       "      <th>0</th>\n",
       "      <td>10</td>\n",
       "      <td>13 days</td>\n",
       "      <td>Biweekly</td>\n",
       "      <td>2020-04-02</td>\n",
       "      <td>2020-04-15</td>\n",
       "      <td>train</td>\n",
       "      <td>[66dd48b798614b7d193a83777c8a0fdc, 172239f5f43...</td>\n",
       "      <td>[cc9284597026dcc021735c0970ca0c93, cc928459702...</td>\n",
       "      <td>[6364d3f0f495b6ab9dcf8d3b5c6e0b01, 6364d3f0f49...</td>\n",
       "      <td>[7486cef2522ee03547cfb970a404a874, 7486cef2522...</td>\n",
       "      <td>[3f6ab5dd77f73b11f122ac7c0fe2de76, 3f6ab5dd77f...</td>\n",
       "      <td>8</td>\n",
       "      <td>1</td>\n",
       "      <td>1</td>\n",
       "      <td>1</td>\n",
       "      <td>1</td>\n",
       "      <td>4</td>\n",
       "      <td>3</td>\n",
       "    </tr>\n",
       "    <tr>\n",
       "      <th>1</th>\n",
       "      <td>100</td>\n",
       "      <td>13 days</td>\n",
       "      <td>Seasonal</td>\n",
       "      <td>2020-10-06</td>\n",
       "      <td>2020-10-19</td>\n",
       "      <td>test</td>\n",
       "      <td>[4d1581a093a0eb7751e1e0f62dcbe278, bc09c49e4c2...</td>\n",
       "      <td>[44a7b825383402ed937a15fb8a5bb12a, 44a7b825383...</td>\n",
       "      <td>[d67d8ab4f4c10bf22aa353e27879133c, d67d8ab4f4c...</td>\n",
       "      <td>[1be883eec3231f9fe43c35bd1b4b3bb5, 1be883eec32...</td>\n",
       "      <td>[879848e74e5c4ad8d310bd70bbdce0a5, 879848e74e5...</td>\n",
       "      <td>12</td>\n",
       "      <td>1</td>\n",
       "      <td>1</td>\n",
       "      <td>1</td>\n",
       "      <td>4</td>\n",
       "      <td>10</td>\n",
       "      <td>1</td>\n",
       "    </tr>\n",
       "    <tr>\n",
       "      <th>2</th>\n",
       "      <td>101</td>\n",
       "      <td>13 days</td>\n",
       "      <td>Seasonal</td>\n",
       "      <td>2020-04-07</td>\n",
       "      <td>2020-04-20</td>\n",
       "      <td>train</td>\n",
       "      <td>[8eed281d2cf9467fa01a952642fe7545]</td>\n",
       "      <td>[cc9284597026dcc021735c0970ca0c93]</td>\n",
       "      <td>[6ea9ab1baa0efb9e19094440c317e21b]</td>\n",
       "      <td>[3c333aadfc3ee8ecb8d77ee31197d96a]</td>\n",
       "      <td>[75cbd15e9b57e9917c9177ae20ef33a3]</td>\n",
       "      <td>1</td>\n",
       "      <td>1</td>\n",
       "      <td>1</td>\n",
       "      <td>1</td>\n",
       "      <td>1</td>\n",
       "      <td>4</td>\n",
       "      <td>1</td>\n",
       "    </tr>\n",
       "    <tr>\n",
       "      <th>3</th>\n",
       "      <td>102</td>\n",
       "      <td>13 days</td>\n",
       "      <td>Seasonal</td>\n",
       "      <td>2020-04-07</td>\n",
       "      <td>2020-04-20</td>\n",
       "      <td>train</td>\n",
       "      <td>[cdf66debace4bd35ea6559f54b10e352, 64a19ff3301...</td>\n",
       "      <td>[cc9284597026dcc021735c0970ca0c93, cc928459702...</td>\n",
       "      <td>[6c8349cc7260ae62e3b1396831a8398f, 6c8349cc726...</td>\n",
       "      <td>[149ef6419512be56a93169cd5e6fa8fd, 149ef641951...</td>\n",
       "      <td>[d88670481737b727c6dedc2cd9f8eafd, d8867048173...</td>\n",
       "      <td>11</td>\n",
       "      <td>1</td>\n",
       "      <td>1</td>\n",
       "      <td>1</td>\n",
       "      <td>1</td>\n",
       "      <td>4</td>\n",
       "      <td>1</td>\n",
       "    </tr>\n",
       "    <tr>\n",
       "      <th>4</th>\n",
       "      <td>103</td>\n",
       "      <td>13 days</td>\n",
       "      <td>Seasonal</td>\n",
       "      <td>2020-04-07</td>\n",
       "      <td>2020-04-20</td>\n",
       "      <td>train</td>\n",
       "      <td>[87ac83221a74e6708a5c5d9e597d779d]</td>\n",
       "      <td>[cc9284597026dcc021735c0970ca0c93]</td>\n",
       "      <td>[8e296a067a37563370ded05f5a3bf3ec]</td>\n",
       "      <td>[4e0223a87610176ef0d24ef6d2dcde3a]</td>\n",
       "      <td>[d59e067e9dfa37917a29cdbdfe46df14]</td>\n",
       "      <td>1</td>\n",
       "      <td>1</td>\n",
       "      <td>1</td>\n",
       "      <td>1</td>\n",
       "      <td>1</td>\n",
       "      <td>4</td>\n",
       "      <td>1</td>\n",
       "    </tr>\n",
       "  </tbody>\n",
       "</table>\n",
       "</div>"
      ],
      "text/plain": [
       "  Offer_ID duration Promo_type start_date   end_date train_test_group  \\\n",
       "0       10  13 days   Biweekly 2020-04-02 2020-04-15            train   \n",
       "1      100  13 days   Seasonal 2020-10-06 2020-10-19             test   \n",
       "2      101  13 days   Seasonal 2020-04-07 2020-04-20            train   \n",
       "3      102  13 days   Seasonal 2020-04-07 2020-04-20            train   \n",
       "4      103  13 days   Seasonal 2020-04-07 2020-04-20            train   \n",
       "\n",
       "                                                 sku  \\\n",
       "0  [66dd48b798614b7d193a83777c8a0fdc, 172239f5f43...   \n",
       "1  [4d1581a093a0eb7751e1e0f62dcbe278, bc09c49e4c2...   \n",
       "2                 [8eed281d2cf9467fa01a952642fe7545]   \n",
       "3  [cdf66debace4bd35ea6559f54b10e352, 64a19ff3301...   \n",
       "4                 [87ac83221a74e6708a5c5d9e597d779d]   \n",
       "\n",
       "                                    hierarchy_level1  \\\n",
       "0  [cc9284597026dcc021735c0970ca0c93, cc928459702...   \n",
       "1  [44a7b825383402ed937a15fb8a5bb12a, 44a7b825383...   \n",
       "2                 [cc9284597026dcc021735c0970ca0c93]   \n",
       "3  [cc9284597026dcc021735c0970ca0c93, cc928459702...   \n",
       "4                 [cc9284597026dcc021735c0970ca0c93]   \n",
       "\n",
       "                                    hierarchy_level2  \\\n",
       "0  [6364d3f0f495b6ab9dcf8d3b5c6e0b01, 6364d3f0f49...   \n",
       "1  [d67d8ab4f4c10bf22aa353e27879133c, d67d8ab4f4c...   \n",
       "2                 [6ea9ab1baa0efb9e19094440c317e21b]   \n",
       "3  [6c8349cc7260ae62e3b1396831a8398f, 6c8349cc726...   \n",
       "4                 [8e296a067a37563370ded05f5a3bf3ec]   \n",
       "\n",
       "                                    hierarchy_level3  \\\n",
       "0  [7486cef2522ee03547cfb970a404a874, 7486cef2522...   \n",
       "1  [1be883eec3231f9fe43c35bd1b4b3bb5, 1be883eec32...   \n",
       "2                 [3c333aadfc3ee8ecb8d77ee31197d96a]   \n",
       "3  [149ef6419512be56a93169cd5e6fa8fd, 149ef641951...   \n",
       "4                 [4e0223a87610176ef0d24ef6d2dcde3a]   \n",
       "\n",
       "                                    hierarchy_level4  num_skus  num_hl1  \\\n",
       "0  [3f6ab5dd77f73b11f122ac7c0fe2de76, 3f6ab5dd77f...         8        1   \n",
       "1  [879848e74e5c4ad8d310bd70bbdce0a5, 879848e74e5...        12        1   \n",
       "2                 [75cbd15e9b57e9917c9177ae20ef33a3]         1        1   \n",
       "3  [d88670481737b727c6dedc2cd9f8eafd, d8867048173...        11        1   \n",
       "4                 [d59e067e9dfa37917a29cdbdfe46df14]         1        1   \n",
       "\n",
       "   num_hl2  num_hl3  num_hl4  mo  start_day_of_week  \n",
       "0        1        1        1   4                  3  \n",
       "1        1        1        4  10                  1  \n",
       "2        1        1        1   4                  1  \n",
       "3        1        1        1   4                  1  \n",
       "4        1        1        1   4                  1  "
      ]
     },
     "execution_count": 191,
     "metadata": {},
     "output_type": "execute_result"
    }
   ],
   "source": [
    "offers_df_agg[offers_df_agg.columns[:-1]].head()"
   ]
  },
  {
   "cell_type": "code",
   "execution_count": null,
   "id": "bca0668d",
   "metadata": {},
   "outputs": [],
   "source": [
    "sales_promo "
   ]
  },
  {
   "cell_type": "code",
   "execution_count": 185,
   "id": "6410e727",
   "metadata": {},
   "outputs": [
    {
     "data": {
      "text/plain": [
       "Index(['sku', 'hierarchy_level1', 'hierarchy_level2', 'hierarchy_level3',\n",
       "       'hierarchy_level4'],\n",
       "      dtype='object')"
      ]
     },
     "execution_count": 185,
     "metadata": {},
     "output_type": "execute_result"
    }
   ],
   "source": [
    "hierarchy_df.columns"
   ]
  },
  {
   "cell_type": "code",
   "execution_count": 186,
   "id": "80f8042f",
   "metadata": {},
   "outputs": [
    {
     "data": {
      "text/plain": [
       "['44a7b825383402ed937a15fb8a5bb12a', 'cc9284597026dcc021735c0970ca0c93']"
      ]
     },
     "execution_count": 186,
     "metadata": {},
     "output_type": "execute_result"
    }
   ],
   "source": [
    "hl1 =  list(hierarchy_df['hierarchy_level1'].unique())\n",
    "hl1"
   ]
  },
  {
   "cell_type": "code",
   "execution_count": null,
   "id": "fa25b327",
   "metadata": {},
   "outputs": [],
   "source": [
    "hl2 =  list(hierarchy_df['hierarchy_level2'].unique())\n",
    "hl3 =  list(hierarchy_df['hierarchy_level3'].unique())\n",
    "hl4 =  list(hierarchy_df['hierarchy_level4'].unique())"
   ]
  },
  {
   "cell_type": "code",
   "execution_count": null,
   "id": "4609f470",
   "metadata": {},
   "outputs": [],
   "source": [
    "def hierarchy_to_counts(df): \n"
   ]
  },
  {
   "cell_type": "code",
   "execution_count": null,
   "id": "7706b572",
   "metadata": {},
   "outputs": [],
   "source": [
    "def avg_num_sold_items(skus, start_date, end_date): "
   ]
  }
 ],
 "metadata": {
  "kernelspec": {
   "display_name": "py38_default",
   "language": "python",
   "name": "conda-env-py38_default-py"
  },
  "language_info": {
   "codemirror_mode": {
    "name": "ipython",
    "version": 3
   },
   "file_extension": ".py",
   "mimetype": "text/x-python",
   "name": "python",
   "nbconvert_exporter": "python",
   "pygments_lexer": "ipython3",
   "version": "3.8.8"
  }
 },
 "nbformat": 4,
 "nbformat_minor": 5
}
