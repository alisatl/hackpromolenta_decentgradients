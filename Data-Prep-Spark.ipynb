{
 "cells": [
  {
   "cell_type": "code",
   "execution_count": 8,
   "id": "78070127",
   "metadata": {},
   "outputs": [],
   "source": [
    "import pandas as pd\n",
    "import numpy as np\n",
    "import json"
   ]
  },
  {
   "cell_type": "code",
   "execution_count": 23,
   "id": "d70f18b8",
   "metadata": {},
   "outputs": [],
   "source": [
    "import pyspark"
   ]
  },
  {
   "cell_type": "code",
   "execution_count": 113,
   "id": "c88ef44b",
   "metadata": {},
   "outputs": [],
   "source": [
    "from pyspark import SparkConf\n",
    "from pyspark import SparkContext\n",
    "from pyspark.sql import SQLContext\n",
    "from pyspark.sql.types import *\n",
    "import pyspark.sql.functions as F\n",
    "from pyspark.sql.functions import date_sub\n",
    "from pyspark.sql.functions import udf\n",
    "from pyspark.sql.window import Window"
   ]
  },
  {
   "cell_type": "code",
   "execution_count": 3,
   "id": "68370006",
   "metadata": {},
   "outputs": [],
   "source": [
    "sqlContext = SQLContext(sc)"
   ]
  },
  {
   "cell_type": "code",
   "execution_count": null,
   "id": "5ba99431",
   "metadata": {},
   "outputs": [],
   "source": [
    "!ls lentahack"
   ]
  },
  {
   "cell_type": "markdown",
   "id": "5cb7542a",
   "metadata": {},
   "source": [
    "## Data Loading"
   ]
  },
  {
   "cell_type": "code",
   "execution_count": 26,
   "id": "af20ac3a",
   "metadata": {},
   "outputs": [
    {
     "data": {
      "text/plain": [
       "(21512276,\n",
       " ['client_id',\n",
       "  'date',\n",
       "  'day',\n",
       "  'shop_id',\n",
       "  'check_id',\n",
       "  'time',\n",
       "  'sku',\n",
       "  'promo_id',\n",
       "  'check_pos',\n",
       "  'num_sales',\n",
       "  'supplier_price',\n",
       "  'selling_price',\n",
       "  'region_name',\n",
       "  'index',\n",
       "  'Promo_type',\n",
       "  'Offer_ID',\n",
       "  'start_date',\n",
       "  'end_date',\n",
       "  'train_test_group',\n",
       "  'hierarchy_level1',\n",
       "  'hierarchy_level2',\n",
       "  'hierarchy_level3',\n",
       "  'hierarchy_level4',\n",
       "  'UpLift'])"
      ]
     },
     "execution_count": 26,
     "metadata": {},
     "output_type": "execute_result"
    }
   ],
   "source": [
    "checks_ofr_df = spark.read.csv(path='./lentahack/checks_ofr_df.csv', header=True, inferSchema=True)\n",
    "checks_ofr_df.cache().count(), checks_ofr_df.columns"
   ]
  },
  {
   "cell_type": "code",
   "execution_count": 92,
   "id": "03f1f5fe",
   "metadata": {},
   "outputs": [],
   "source": [
    "import datetime as dt\n",
    "@udf(DateType())\n",
    "def to_time(time_str):\n",
    "     return dt.datetime.strptime(time_str, '%Y-%m-%d')"
   ]
  },
  {
   "cell_type": "code",
   "execution_count": 35,
   "id": "8d7d4f7b",
   "metadata": {
    "collapsed": true
   },
   "outputs": [
    {
     "name": "stdout",
     "output_type": "stream",
     "text": [
      "+--------------------+----------+--------+--------------------+--------------------+--------+--------------------+--------------------+---------+---------+--------------+-------------+--------------------+-----+----------+--------+----------+--------+----------------+--------------------+--------------------+--------------------+--------------------+------+\n",
      "|           client_id|      date|     day|             shop_id|            check_id|    time|                 sku|            promo_id|check_pos|num_sales|supplier_price|selling_price|         region_name|index|Promo_type|Offer_ID|start_date|end_date|train_test_group|    hierarchy_level1|    hierarchy_level2|    hierarchy_level3|    hierarchy_level4|UpLift|\n",
      "+--------------------+----------+--------+--------------------+--------------------+--------+--------------------+--------------------+---------+---------+--------------+-------------+--------------------+-----+----------+--------+----------+--------+----------------+--------------------+--------------------+--------------------+--------------------+------+\n",
      "|d9da50b77962ad640...|2019-12-30|20191230|25bbdcd06c32d477f...|c0b3f9c2215f924e2...|07:28:39|b17c870027bb4a22e...|b3deb0286313f0b88...|        1|      5.0|         133.4|       249.45|152f1b77a32508570...| null|      null|    null|      null|    null|            null|44a7b825383402ed9...|ea5d2f1c4608232e0...|d994e3728ba5e28de...|b84633d3396f28a04...|  null|\n",
      "|d9da50b77962ad640...|2019-12-30|20191230|25bbdcd06c32d477f...|c0b3f9c2215f924e2...|07:28:39|b9ef00e971d0fb459...|680a96609351230ed...|        2|      1.0|         96.77|       118.99|152f1b77a32508570...| null|      null|    null|      null|    null|            null|44a7b825383402ed9...|d645920e395fedad7...|6693a7aacb8a2e74c...|878b4140ebdb1b79f...|  null|\n",
      "|d9da50b77962ad640...|2019-12-30|20191230|25bbdcd06c32d477f...|c0b3f9c2215f924e2...|07:28:39|b75147feae4cf8ec0...|7215ee9c7d9dc229d...|        5|      2.0|          2.34|         7.58|152f1b77a32508570...| null|      null|    null|      null|    null|            null|44a7b825383402ed9...|d645920e395fedad7...|bd3ef5c19067fe179...|5bf563e8f99ed820f...|  null|\n",
      "|d9da50b77962ad640...|2019-12-30|20191230|25bbdcd06c32d477f...|c0b3f9c2215f924e2...|07:28:39|b25e0d42165d246d2...|7215ee9c7d9dc229d...|        4|      1.0|         23.59|        39.99|152f1b77a32508570...| null|      null|    null|      null|    null|            null|44a7b825383402ed9...|d645920e395fedad7...|fbfe5ba2ce3309f52...|3162b14a97ef895f6...|  null|\n",
      "|d9da50b77962ad640...|2019-12-30|20191230|25bbdcd06c32d477f...|c0b3f9c2215f924e2...|07:28:39|a537d2eef30d47f9b...|05c93d4fa9bdbe70b...|        3|      1.0|         24.02|        39.99|152f1b77a32508570...| null|      null|    null|      null|    null|            null|44a7b825383402ed9...|d645920e395fedad7...|fbfe5ba2ce3309f52...|3162b14a97ef895f6...|  null|\n",
      "+--------------------+----------+--------+--------------------+--------------------+--------+--------------------+--------------------+---------+---------+--------------+-------------+--------------------+-----+----------+--------+----------+--------+----------------+--------------------+--------------------+--------------------+--------------------+------+\n",
      "only showing top 5 rows\n",
      "\n"
     ]
    }
   ],
   "source": [
    "checks_ofr_df = checks_ofr_df.withColumn('date', to_time(F.col('date')))\n",
    "checks_ofr_df.show(5)"
   ]
  },
  {
   "cell_type": "code",
   "execution_count": 93,
   "id": "f93d9cd3",
   "metadata": {},
   "outputs": [],
   "source": [
    "checks_ofr_df = checks_ofr_df.withColumn('start_date', to_time(F.col('start_date')))\\\n",
    "                             .withColumn('end_date', to_time(F.col('end_date')))"
   ]
  },
  {
   "cell_type": "code",
   "execution_count": 96,
   "id": "50640321",
   "metadata": {},
   "outputs": [],
   "source": [
    "checks_ofr_df = checks_ofr_df.withColumn('promo_duration', F.datediff(F.col('end_date'),F.col('start_date')))\n",
    "checks_ofr_df = checks_ofr_df.withColumn('pred_start_date', F.expr(\"date_sub(start_date, promo_duration)\") )\n",
    "checks_ofr_df = checks_ofr_df.withColumn('pred_end_date', F.expr(\"date_sub(end_date, promo_duration)\") )"
   ]
  },
  {
   "cell_type": "code",
   "execution_count": 97,
   "id": "f031b612",
   "metadata": {},
   "outputs": [
    {
     "data": {
      "text/plain": [
       "[('client_id', 'string'),\n",
       " ('date', 'date'),\n",
       " ('day', 'int'),\n",
       " ('shop_id', 'string'),\n",
       " ('check_id', 'string'),\n",
       " ('time', 'string'),\n",
       " ('sku', 'string'),\n",
       " ('promo_id', 'string'),\n",
       " ('check_pos', 'int'),\n",
       " ('num_sales', 'double'),\n",
       " ('supplier_price', 'double'),\n",
       " ('selling_price', 'double'),\n",
       " ('region_name', 'string'),\n",
       " ('index', 'double'),\n",
       " ('Promo_type', 'string'),\n",
       " ('Offer_ID', 'string'),\n",
       " ('start_date', 'date'),\n",
       " ('end_date', 'date'),\n",
       " ('train_test_group', 'string'),\n",
       " ('hierarchy_level1', 'string'),\n",
       " ('hierarchy_level2', 'string'),\n",
       " ('hierarchy_level3', 'string'),\n",
       " ('hierarchy_level4', 'string'),\n",
       " ('UpLift', 'double'),\n",
       " ('promo_duration', 'int'),\n",
       " ('pred_start_date', 'date'),\n",
       " ('pred_end_date', 'date')]"
      ]
     },
     "execution_count": 97,
     "metadata": {},
     "output_type": "execute_result"
    }
   ],
   "source": [
    "checks_ofr_df.dtypes"
   ]
  },
  {
   "cell_type": "code",
   "execution_count": 5,
   "id": "fde73de6",
   "metadata": {},
   "outputs": [
    {
     "name": "stdout",
     "output_type": "stream",
     "text": [
      "off_to_skus_map.json  submission2.csv\t\t\t  test_category_ct.csv\r\n",
      "offers_df_agg.csv     submission3.csv\t\t\t  test_other_ofrs.csv\r\n",
      "offers_df_agg.json    submission4.csv\t\t\t  train_category_ct.csv\r\n",
      "submission1.csv       test_Offer_ID_map_category_ct.json  train_other_ofrs.csv\r\n"
     ]
    }
   ],
   "source": [
    "!ls data"
   ]
  },
  {
   "cell_type": "code",
   "execution_count": 6,
   "id": "1fca11ba",
   "metadata": {},
   "outputs": [],
   "source": [
    "offers_df_agg = spark.read.csv(path='./data/offers_df_agg.json', header=True, inferSchema=True)"
   ]
  },
  {
   "cell_type": "code",
   "execution_count": 37,
   "id": "b4f0d7d0",
   "metadata": {},
   "outputs": [
    {
     "data": {
      "text/plain": [
       "['Offer_ID',\n",
       " 'Promo_type',\n",
       " 'start_date',\n",
       " 'end_date',\n",
       " 'train_test_group',\n",
       " 'num_skus',\n",
       " 'num_hl1',\n",
       " 'num_hl2',\n",
       " 'num_hl3',\n",
       " 'num_hl4']"
      ]
     },
     "execution_count": 37,
     "metadata": {},
     "output_type": "execute_result"
    }
   ],
   "source": [
    "offers_df_agg.columns[:10]"
   ]
  },
  {
   "cell_type": "markdown",
   "id": "498b6980",
   "metadata": {},
   "source": [
    "## Time Conversion"
   ]
  },
  {
   "cell_type": "code",
   "execution_count": 38,
   "id": "140e62a9",
   "metadata": {},
   "outputs": [],
   "source": [
    "offers_df_agg = offers_df_agg.withColumn('start_date', to_time(F.col('start_date')))\n",
    "offers_df_agg = offers_df_agg.withColumn('end_date', to_time(F.col('end_date')))"
   ]
  },
  {
   "cell_type": "code",
   "execution_count": 43,
   "id": "141089d2",
   "metadata": {},
   "outputs": [],
   "source": [
    "offers_df_agg = offers_df_agg.withColumn('duration', F.datediff(F.col('end_date'),F.col('start_date')))"
   ]
  },
  {
   "cell_type": "code",
   "execution_count": 44,
   "id": "20147a08",
   "metadata": {},
   "outputs": [
    {
     "data": {
      "text/plain": [
       "[('duration', 'int')]"
      ]
     },
     "execution_count": 44,
     "metadata": {},
     "output_type": "execute_result"
    }
   ],
   "source": [
    "offers_df_agg.select('duration').dtypes"
   ]
  },
  {
   "cell_type": "code",
   "execution_count": 52,
   "id": "08b853fb",
   "metadata": {},
   "outputs": [],
   "source": [
    "offers_df_agg = offers_df_agg.withColumn('pred_start_date', F.expr(\"date_sub(start_date, duration)\") )"
   ]
  },
  {
   "cell_type": "code",
   "execution_count": 54,
   "id": "504c2af2",
   "metadata": {},
   "outputs": [],
   "source": [
    "offers_df_agg = offers_df_agg.withColumn('pred_end_date', F.expr(\"date_sub(end_date, duration)\") )"
   ]
  },
  {
   "cell_type": "code",
   "execution_count": 59,
   "id": "44b0ecc5",
   "metadata": {},
   "outputs": [
    {
     "name": "stdout",
     "output_type": "stream",
     "text": [
      "\u001b[0m\u001b[01;34mAzureML\u001b[0m/                       dana2_eda.ipynb     \u001b[01;34mpytorch\u001b[0m/\r\n",
      "Data-Prep-Spark-Alisa.ipynb    dana_eda.ipynb      submission0.csv\r\n",
      "\u001b[01;34mMMLSpark\u001b[0m/                      \u001b[01;34mdata\u001b[0m/               test_Offer_ID_map.json\r\n",
      "Nazar.ipynb                    derby.log           test_as_is.csv\r\n",
      "\u001b[01;34mSparkML\u001b[0m/                       \u001b[01;34mexplanation\u001b[0m/        test_category_ct.csv\r\n",
      "alisa-data-prep.ipynb          \u001b[01;34mh2o\u001b[0m/                train_as_is-Copy1.csv\r\n",
      "automated_ml_errors-child.log  \u001b[01;34mjulia\u001b[0m/              train_as_is.csv\r\n",
      "automated_ml_errors.log        \u001b[01;34mlentahack\u001b[0m/          Плавильня-Alisa.ipynb\r\n",
      "automl.log                     \u001b[34;42mlogs\u001b[0m/               Плавильня-Copy1.ipynb\r\n",
      "\u001b[01;34mcache\u001b[0m/                         model_1             Плавильня-Copy2.ipynb\r\n",
      "\u001b[01;34mcatboost\u001b[0m/                      offers_date.csv     Плавильня.ipynb\r\n",
      "\u001b[01;34mcatboost_info\u001b[0m/                 \u001b[01;34moffers_df_agg.pqt\u001b[0m/\r\n"
     ]
    }
   ],
   "source": [
    "ls"
   ]
  },
  {
   "cell_type": "code",
   "execution_count": null,
   "id": "11f6e348",
   "metadata": {},
   "outputs": [],
   "source": []
  },
  {
   "cell_type": "code",
   "execution_count": 56,
   "id": "14b88112",
   "metadata": {},
   "outputs": [],
   "source": [
    "offers_df_agg.write.parquet('offers_df_agg.pqt')"
   ]
  },
  {
   "cell_type": "code",
   "execution_count": 60,
   "id": "48118c9a",
   "metadata": {},
   "outputs": [
    {
     "data": {
      "text/plain": [
       "DataFrame[duration: int, start_date: date, pred_start_date: date, pred_end_date: date]"
      ]
     },
     "execution_count": 60,
     "metadata": {},
     "output_type": "execute_result"
    }
   ],
   "source": [
    "offers_df_agg.select('duration', 'start_date', 'pred_start_date', 'pred_end_date')"
   ]
  },
  {
   "cell_type": "code",
   "execution_count": null,
   "id": "86b14f92",
   "metadata": {},
   "outputs": [],
   "source": [
    "checks_ofr_df = checks_ofr_df.withColumn('date', to_time(F.col('date')))"
   ]
  },
  {
   "cell_type": "code",
   "execution_count": 9,
   "id": "3d930abc",
   "metadata": {},
   "outputs": [],
   "source": [
    "off_to_skus_map = json.load(open('./data/off_to_skus_map.json' , 'r'))"
   ]
  },
  {
   "cell_type": "markdown",
   "id": "018098e7",
   "metadata": {},
   "source": [
    "## Skipping... "
   ]
  },
  {
   "cell_type": "code",
   "execution_count": null,
   "id": "ea63e6d9",
   "metadata": {},
   "outputs": [],
   "source": [
    "offers_df = pd.read_csv('./lentahack/20210521_offers.csv')\n",
    "offers_df['start_date'] = pd.to_datetime(offers_df['start_date'], format=\"%Y%m%d\")\n",
    "offers_df['end_date'] = pd.to_datetime(offers_df['end_date'], format=\"%Y%m%d\")\n",
    "offers_df.shape, offers_df.columns"
   ]
  },
  {
   "cell_type": "code",
   "execution_count": null,
   "id": "a4549923",
   "metadata": {},
   "outputs": [],
   "source": [
    "hierarchy_df = pd.read_csv('./lentahack/20210518_hierarchy.csv')\n",
    "hierarchy_df.shape, hierarchy_df.columns"
   ]
  },
  {
   "cell_type": "code",
   "execution_count": null,
   "id": "1bcca7b2",
   "metadata": {},
   "outputs": [],
   "source": [
    "uplift_df = pd.read_csv('./lentahack/20210518_uplift.csv')\n",
    "uplift_df.shape, uplift_df.columns"
   ]
  },
  {
   "cell_type": "code",
   "execution_count": null,
   "id": "9c6ec394",
   "metadata": {},
   "outputs": [],
   "source": [
    "offers_df = offers_df.merge(hierarchy_df, on='sku', how='left')\n",
    "offers_df.shape, offers_df.columns"
   ]
  },
  {
   "cell_type": "code",
   "execution_count": null,
   "id": "bac0bb27",
   "metadata": {},
   "outputs": [],
   "source": [
    "offers_df_agg = offers_df.groupby(['Offer_ID', 'Promo_type', 'start_date', 'end_date', 'train_test_group']).agg({'sku': lambda x: list(x),\n",
    "                                    'hierarchy_level1': lambda x: list(x), \n",
    "                                   'hierarchy_level2': lambda x: list(x), \n",
    "                                   'hierarchy_level3': lambda x: list(x), \n",
    "                                   'hierarchy_level4': lambda x: list(x),                                                                                              \n",
    "                                    })"
   ]
  },
  {
   "cell_type": "code",
   "execution_count": null,
   "id": "00cb2fde",
   "metadata": {},
   "outputs": [],
   "source": [
    "offers_df_agg.reset_index(inplace=True)"
   ]
  },
  {
   "cell_type": "code",
   "execution_count": null,
   "id": "ece713a6",
   "metadata": {},
   "outputs": [],
   "source": [
    "offers_df_agg['num_skus'] = offers_df_agg['sku'].apply(lambda x: len(set(x)))\n",
    "offers_df_agg['num_hl1'] = offers_df_agg['hierarchy_level1'].apply(lambda x: len(set(x)))\n",
    "offers_df_agg['num_hl2'] = offers_df_agg['hierarchy_level2'].apply(lambda x: len(set(x)))\n",
    "offers_df_agg['num_hl3'] = offers_df_agg['hierarchy_level3'].apply(lambda x: len(set(x)))\n",
    "offers_df_agg['num_hl4'] = offers_df_agg['hierarchy_level4'].apply(lambda x: len(set(x)))"
   ]
  },
  {
   "cell_type": "code",
   "execution_count": null,
   "id": "4c30155e",
   "metadata": {},
   "outputs": [],
   "source": [
    "from collections import Counter\n",
    "\n",
    "def category_map(level): \n",
    "    global hierarchy_df\n",
    "    if level not in [1, 2, 3, 4]: \n",
    "        raise ValueError \n",
    "    \n",
    "    cat_list = hierarchy_df[f'hierarchy_level{level}'].unique()\n",
    "    cat_map = {k:v for v, k in enumerate(cat_list)} \n",
    "    headers = [f'hl_{level}_{i}' for i, v in enumerate(cat_list)]\n",
    "    return headers, cat_map \n",
    "\n",
    "def add_category_at_level(df, level): \n",
    "    COL_NAME = 'hl_{}_{}'\n",
    "    \n",
    "    cat_headers, cat_map = category_map(level)    \n",
    "    df[cat_headers] = np.zeros((df.shape[0], len(cat_headers)))\n",
    "    \n",
    "    for i, row in df.iterrows():\n",
    "        cats = row[f'hierarchy_level{level}']        \n",
    "        cat_ct = Counter(cats)\n",
    "        for cat in cat_ct: \n",
    "            cat_idx = cat_map[cat] \n",
    "            df[COL_NAME.format(level, cat_idx)].loc[i] = cat_ct[cat]\n",
    "    return cat_map        "
   ]
  },
  {
   "cell_type": "code",
   "execution_count": null,
   "id": "c2a22c6d",
   "metadata": {},
   "outputs": [],
   "source": [
    "add_category_at_level(offers_df_agg, 1)\n",
    "add_category_at_level(offers_df_agg, 2)\n",
    "add_category_at_level(offers_df_agg, 3)\n",
    "add_category_at_level(offers_df_agg, 4)\n",
    "offers_df_agg.shape"
   ]
  },
  {
   "cell_type": "code",
   "execution_count": null,
   "id": "08fc882b",
   "metadata": {},
   "outputs": [],
   "source": [
    "offers_df_sku_in_ofrs = offers_df.groupby(['sku', 'start_date','end_date']).agg({'Offer_ID':lambda x: list(x)})"
   ]
  },
  {
   "cell_type": "code",
   "execution_count": null,
   "id": "f5545ca7",
   "metadata": {},
   "outputs": [],
   "source": [
    "offers_df_sku_in_ofrs.reset_index(inplace=True)"
   ]
  },
  {
   "cell_type": "code",
   "execution_count": null,
   "id": "80455744",
   "metadata": {},
   "outputs": [],
   "source": [
    "def add_if_in_other_promos(df):\n",
    "    global offers_df_sku_in_ofrs\n",
    "    \n",
    "    df['num_other_promos'] = np.zeros(df.shape[0])\n",
    "    df['num_skus_in_other_promos'] = np.zeros(df.shape[0])\n",
    "    \n",
    "    for i, row in df.iterrows(): \n",
    "        skus = row['sku']\n",
    "        start_date = row['start_date'] \n",
    "        end_date = row['end_date'] \n",
    "        \n",
    "        offers_set = set()\n",
    "        sku_ct = 0 \n",
    "        for sku in skus: \n",
    "             offers = offers_df_sku_in_ofrs[(offers_df_sku_in_ofrs['sku'] == sku) \n",
    "                                 & (offers_df_sku_in_ofrs['start_date'] == start_date)\n",
    "                                 & (offers_df_sku_in_ofrs['end_date'] == end_date)]['Offer_ID'].iloc[0]\n",
    "                \n",
    "             offers_set.update(offers)    \n",
    "             if len(offers) > 1:\n",
    "                sku_ct += 1 \n",
    "\n",
    "        df['num_other_promos'].iloc[i] = len(offers_set) - 1\n",
    "        df['num_skus_in_other_promos'].iloc[i] = sku_ct        \n",
    "                                                    "
   ]
  },
  {
   "cell_type": "code",
   "execution_count": null,
   "id": "5645c495",
   "metadata": {},
   "outputs": [],
   "source": [
    "offers_df_agg.shape, offers_df_agg.columns[:20]"
   ]
  },
  {
   "cell_type": "code",
   "execution_count": null,
   "id": "ca9b883e",
   "metadata": {},
   "outputs": [],
   "source": [
    "add_if_in_other_promos(offers_df_agg)"
   ]
  },
  {
   "cell_type": "code",
   "execution_count": null,
   "id": "59cec47c",
   "metadata": {},
   "outputs": [],
   "source": [
    "offers_df_agg['duration'] = offers_df_agg['end_date'] - offers_df_agg['start_date'] + pd.Timedelta(days=1)\n",
    "offers_df_agg['mo'] = offers_df_agg['start_date'].dt.month\n",
    "offers_df_agg['start_day_of_week'] = offers_df_agg['start_date'].dt.dayofweek\n",
    "offers_df_agg['end_day_of_week'] = offers_df_agg['end_date'].dt.dayofweek"
   ]
  },
  {
   "cell_type": "code",
   "execution_count": null,
   "id": "c1c5bf84",
   "metadata": {},
   "outputs": [],
   "source": [
    "off_to_skus_df = offers_df_agg[['Offer_ID', 'sku']].copy()\n",
    "off_to_skus_df = off_to_skus_df.set_index('Offer_ID')"
   ]
  },
  {
   "cell_type": "code",
   "execution_count": null,
   "id": "73333f51",
   "metadata": {},
   "outputs": [],
   "source": []
  },
  {
   "cell_type": "code",
   "execution_count": null,
   "id": "1fac5394",
   "metadata": {},
   "outputs": [],
   "source": [
    "off_to_skus_map = off_to_skus_df.to_dict(orient='index')\n",
    "list(off_to_skus_map.items())[:5]"
   ]
  },
  {
   "cell_type": "code",
   "execution_count": null,
   "id": "8694a025",
   "metadata": {},
   "outputs": [],
   "source": [
    "import json \n",
    "\n",
    "json.dump(off_to_skus_map, open('./data/off_to_skus_map.json', 'w'))"
   ]
  },
  {
   "cell_type": "code",
   "execution_count": null,
   "id": "511d08f1",
   "metadata": {},
   "outputs": [],
   "source": [
    "COLUMNS_TO_EXCLUDE = ['sku', 'hierarchy_level1', 'hierarchy_level2', 'hierarchy_level3', 'hierarchy_level4']"
   ]
  },
  {
   "cell_type": "code",
   "execution_count": null,
   "id": "daf371d1",
   "metadata": {},
   "outputs": [],
   "source": [
    "offers_df_agg_pdf = offers_df_agg.drop(COLUMNS_TO_EXCLUDE, axis=1)\n",
    "offers_df_agg.shape, offers_df_agg_pdf.shape"
   ]
  },
  {
   "cell_type": "code",
   "execution_count": null,
   "id": "db0448bd",
   "metadata": {},
   "outputs": [],
   "source": [
    "!ls data"
   ]
  },
  {
   "cell_type": "code",
   "execution_count": null,
   "id": "6d69aa68",
   "metadata": {},
   "outputs": [],
   "source": [
    "offers_df_agg_pdf.to_csv('./data/offers_df_agg.csv', index=False)"
   ]
  },
  {
   "cell_type": "code",
   "execution_count": null,
   "id": "9333390b",
   "metadata": {},
   "outputs": [],
   "source": [
    "offers_df_agg_df = sqlContext.createDataFrame(offers_df_agg_pdf)\n",
    "offers_df_agg_df.cache().count(), offers_df_agg_df.columns[:3]"
   ]
  },
  {
   "cell_type": "code",
   "execution_count": null,
   "id": "37aac2d5",
   "metadata": {},
   "outputs": [],
   "source": []
  },
  {
   "cell_type": "code",
   "execution_count": 14,
   "id": "37a858db",
   "metadata": {},
   "outputs": [
    {
     "data": {
      "text/plain": [
       "[('Offer_ID', 'string'),\n",
       " ('Promo_type', 'string'),\n",
       " ('start_date', 'string'),\n",
       " ('end_date', 'string'),\n",
       " ('train_test_group', 'string'),\n",
       " ('num_skus', 'int'),\n",
       " ('num_hl1', 'int'),\n",
       " ('num_hl2', 'int'),\n",
       " ('num_hl3', 'int'),\n",
       " ('num_hl4', 'int')]"
      ]
     },
     "execution_count": 14,
     "metadata": {},
     "output_type": "execute_result"
    }
   ],
   "source": [
    "offers_df_agg.dtypes[:10]"
   ]
  },
  {
   "cell_type": "code",
   "execution_count": 62,
   "id": "68469ad1",
   "metadata": {},
   "outputs": [
    {
     "name": "stdout",
     "output_type": "stream",
     "text": [
      "-RECORD 0--------------------------------------------\n",
      " client_id        | d9da50b77962ad6401d0527db5b65b04 \n",
      " date             | 2019-12-30                       \n",
      " day              | 20191230                         \n",
      " shop_id          | 25bbdcd06c32d477f7fa1c3e4a91b032 \n",
      " check_id         | c0b3f9c2215f924e27a6039617999c60 \n",
      " time             | 07:28:39                         \n",
      " sku              | b17c870027bb4a22e3aedb971bc00def \n",
      " promo_id         | b3deb0286313f0b888c0eac49580cc23 \n",
      " check_pos        | 1                                \n",
      " num_sales        | 5.0                              \n",
      " supplier_price   | 133.4                            \n",
      " selling_price    | 249.45                           \n",
      " region_name      | 152f1b77a32508570e2745daf9ce7aec \n",
      " index            | null                             \n",
      " Promo_type       | null                             \n",
      " Offer_ID         | null                             \n",
      " start_date       | null                             \n",
      " end_date         | null                             \n",
      " train_test_group | null                             \n",
      " hierarchy_level1 | 44a7b825383402ed937a15fb8a5bb12a \n",
      " hierarchy_level2 | ea5d2f1c4608232e07d3aa3d998e5135 \n",
      " hierarchy_level3 | d994e3728ba5e28defb88a3289cd7ee8 \n",
      " hierarchy_level4 | b84633d3396f28a04889d2e5a41c7b0b \n",
      " UpLift           | null                             \n",
      "-RECORD 1--------------------------------------------\n",
      " client_id        | d9da50b77962ad6401d0527db5b65b04 \n",
      " date             | 2019-12-30                       \n",
      " day              | 20191230                         \n",
      " shop_id          | 25bbdcd06c32d477f7fa1c3e4a91b032 \n",
      " check_id         | c0b3f9c2215f924e27a6039617999c60 \n",
      " time             | 07:28:39                         \n",
      " sku              | b9ef00e971d0fb459a765708efba70c0 \n",
      " promo_id         | 680a96609351230ed00e1d1090371cbc \n",
      " check_pos        | 2                                \n",
      " num_sales        | 1.0                              \n",
      " supplier_price   | 96.77                            \n",
      " selling_price    | 118.99                           \n",
      " region_name      | 152f1b77a32508570e2745daf9ce7aec \n",
      " index            | null                             \n",
      " Promo_type       | null                             \n",
      " Offer_ID         | null                             \n",
      " start_date       | null                             \n",
      " end_date         | null                             \n",
      " train_test_group | null                             \n",
      " hierarchy_level1 | 44a7b825383402ed937a15fb8a5bb12a \n",
      " hierarchy_level2 | d645920e395fedad7bbbed0eca3fe2e0 \n",
      " hierarchy_level3 | 6693a7aacb8a2e74c6f5fe91bc39864b \n",
      " hierarchy_level4 | 878b4140ebdb1b79f378d2cf0cc3245c \n",
      " UpLift           | null                             \n",
      "-RECORD 2--------------------------------------------\n",
      " client_id        | d9da50b77962ad6401d0527db5b65b04 \n",
      " date             | 2019-12-30                       \n",
      " day              | 20191230                         \n",
      " shop_id          | 25bbdcd06c32d477f7fa1c3e4a91b032 \n",
      " check_id         | c0b3f9c2215f924e27a6039617999c60 \n",
      " time             | 07:28:39                         \n",
      " sku              | b75147feae4cf8ec07fb5f2cef855def \n",
      " promo_id         | 7215ee9c7d9dc229d2921a40e899ec5f \n",
      " check_pos        | 5                                \n",
      " num_sales        | 2.0                              \n",
      " supplier_price   | 2.34                             \n",
      " selling_price    | 7.58                             \n",
      " region_name      | 152f1b77a32508570e2745daf9ce7aec \n",
      " index            | null                             \n",
      " Promo_type       | null                             \n",
      " Offer_ID         | null                             \n",
      " start_date       | null                             \n",
      " end_date         | null                             \n",
      " train_test_group | null                             \n",
      " hierarchy_level1 | 44a7b825383402ed937a15fb8a5bb12a \n",
      " hierarchy_level2 | d645920e395fedad7bbbed0eca3fe2e0 \n",
      " hierarchy_level3 | bd3ef5c19067fe179f71c8b86ea4b39b \n",
      " hierarchy_level4 | 5bf563e8f99ed820f322704e4898df6b \n",
      " UpLift           | null                             \n",
      "only showing top 3 rows\n",
      "\n"
     ]
    }
   ],
   "source": [
    "checks_ofr_df.show(3, truncate=False, vertical=True)"
   ]
  },
  {
   "cell_type": "code",
   "execution_count": null,
   "id": "771ee9b7",
   "metadata": {},
   "outputs": [],
   "source": [
    "2019-12-30"
   ]
  },
  {
   "cell_type": "code",
   "execution_count": null,
   "id": "ff8976c6",
   "metadata": {},
   "outputs": [],
   "source": []
  },
  {
   "cell_type": "code",
   "execution_count": 77,
   "id": "f339a516",
   "metadata": {},
   "outputs": [],
   "source": [
    "sales_for_sku_df = checks_ofr_df.filter((F.col('sku') == 'b17c870027bb4a22e3aedb971bc00def') \n",
    "                                        & (F.col('date') <= datetime.strptime('2020-01-01', '%Y-%m-%d'))\n",
    "                                        & (F.col('date') >= datetime.strptime('2019-12-30', '%Y-%m-%d'))\n",
    "                                       ).select('num_sales', 'supplier_price', 'selling_price')\n",
    "\n"
   ]
  },
  {
   "cell_type": "code",
   "execution_count": null,
   "id": "acb52572",
   "metadata": {},
   "outputs": [],
   "source": []
  },
  {
   "cell_type": "code",
   "execution_count": 91,
   "id": "73f2d3b2",
   "metadata": {},
   "outputs": [
    {
     "data": {
      "text/plain": [
       "datetime.timedelta(days=3)"
      ]
     },
     "execution_count": 91,
     "metadata": {},
     "output_type": "execute_result"
    }
   ],
   "source": [
    "delta = dt.datetime.strptime('2020-01-01', '%Y-%m-%d') - dt.datetime.strptime('2019-12-30', '%Y-%m-%d') + dt.timedelta(days=1)\n",
    "delta"
   ]
  },
  {
   "cell_type": "code",
   "execution_count": null,
   "id": "aa520de2",
   "metadata": {},
   "outputs": [],
   "source": []
  },
  {
   "cell_type": "code",
   "execution_count": 78,
   "id": "de11162b",
   "metadata": {},
   "outputs": [
    {
     "name": "stdout",
     "output_type": "stream",
     "text": [
      "+---------+--------------+-------------+\n",
      "|num_sales|supplier_price|selling_price|\n",
      "+---------+--------------+-------------+\n",
      "|      5.0|         133.4|       249.45|\n",
      "|      2.0|         53.36|        99.98|\n",
      "|      1.0|         26.68|        49.99|\n",
      "|      1.0|         26.68|        49.99|\n",
      "|      1.0|         26.68|        49.99|\n",
      "+---------+--------------+-------------+\n",
      "only showing top 5 rows\n",
      "\n"
     ]
    }
   ],
   "source": [
    "sales_for_sku_df.show(5)"
   ]
  },
  {
   "cell_type": "code",
   "execution_count": 71,
   "id": "f7c033ea",
   "metadata": {},
   "outputs": [],
   "source": [
    "stats = sales_for_sku_df.select(F.mean('selling_price').alias('mean_sales'),\n",
    "                                F.max('selling_price').alias('max_sales'),\n",
    "                                F.min('selling_price').alias('min_sales')\n",
    "                               )"
   ]
  },
  {
   "cell_type": "code",
   "execution_count": 79,
   "id": "f73e2b35",
   "metadata": {},
   "outputs": [],
   "source": [
    "stats2= sales_for_sku_df.select(*[F.mean(c).alias(c) for c in sales_for_sku_df.columns],\n",
    "          *[F.max(c).alias(c) for c in sales_for_sku_df.columns],\n",
    "         *[F.min(c).alias(c) for c in sales_for_sku_df.columns])"
   ]
  },
  {
   "cell_type": "code",
   "execution_count": 80,
   "id": "3e56c234",
   "metadata": {},
   "outputs": [
    {
     "data": {
      "text/plain": [
       "[Row(num_sales=1.3333333333333333, supplier_price=35.57333333333334, selling_price=66.62, num_sales=5.0, supplier_price=133.4, selling_price=249.45, num_sales=1.0, supplier_price=26.68, selling_price=49.99)]"
      ]
     },
     "execution_count": 80,
     "metadata": {},
     "output_type": "execute_result"
    }
   ],
   "source": [
    "stats2.collect()"
   ]
  },
  {
   "cell_type": "code",
   "execution_count": 75,
   "id": "f6282743",
   "metadata": {},
   "outputs": [],
   "source": [
    "stats = stats.collect()\n",
    "mean = stats[0]['mean_sales']"
   ]
  },
  {
   "cell_type": "code",
   "execution_count": 76,
   "id": "572ba433",
   "metadata": {},
   "outputs": [
    {
     "data": {
      "text/plain": [
       "66.62"
      ]
     },
     "execution_count": 76,
     "metadata": {},
     "output_type": "execute_result"
    }
   ],
   "source": [
    "mean"
   ]
  },
  {
   "cell_type": "markdown",
   "id": "5ffa6594",
   "metadata": {},
   "source": [
    "### Agg Checks by Sku, Days"
   ]
  },
  {
   "cell_type": "code",
   "execution_count": 99,
   "id": "f7aa3db0",
   "metadata": {},
   "outputs": [
    {
     "name": "stdout",
     "output_type": "stream",
     "text": [
      "['client_id', 'date', 'day', 'shop_id', 'check_id', 'time', 'sku', 'promo_id', 'check_pos', 'num_sales', 'supplier_price', 'selling_price', 'region_name', 'index', 'Promo_type', 'Offer_ID', 'start_date', 'end_date', 'train_test_group', 'hierarchy_level1', 'hierarchy_level2', 'hierarchy_level3', 'hierarchy_level4', 'UpLift', 'promo_duration', 'pred_start_date', 'pred_end_date']\n"
     ]
    }
   ],
   "source": [
    "print(checks_ofr_df.columns)"
   ]
  },
  {
   "cell_type": "code",
   "execution_count": 100,
   "id": "a82893a9",
   "metadata": {},
   "outputs": [],
   "source": [
    "sales_cols = ['num_sales', 'supplier_price', 'selling_price']\n",
    "sku_by_day_stats_df = checks_ofr_df.groupBy('sku', 'date').agg(*[F.mean(c).alias('mean_' + c) for c in sales_cols],\n",
    "                                              *[F.max(c).alias('max_' + c) for c in sales_cols],\n",
    "                                             *[F.min(c).alias('min_' + c) for c in sales_cols])"
   ]
  },
  {
   "cell_type": "code",
   "execution_count": 102,
   "id": "03909105",
   "metadata": {},
   "outputs": [
    {
     "data": {
      "text/plain": [
       "(['sku',\n",
       "  'date',\n",
       "  'mean_num_sales',\n",
       "  'mean_supplier_price',\n",
       "  'mean_selling_price',\n",
       "  'max_num_sales',\n",
       "  'max_supplier_price',\n",
       "  'max_selling_price',\n",
       "  'min_num_sales',\n",
       "  'min_supplier_price',\n",
       "  'min_selling_price'],\n",
       " 5602946)"
      ]
     },
     "execution_count": 102,
     "metadata": {},
     "output_type": "execute_result"
    }
   ],
   "source": [
    "sku_by_day_stats_df.columns, sku_by_day_stats_df.cache().count()"
   ]
  },
  {
   "cell_type": "code",
   "execution_count": 106,
   "id": "f023f913",
   "metadata": {},
   "outputs": [],
   "source": [
    "durations = offers_df_agg.select('duration').distinct().collect()"
   ]
  },
  {
   "cell_type": "code",
   "execution_count": 114,
   "id": "dc4dad6b",
   "metadata": {},
   "outputs": [
    {
     "data": {
      "text/plain": [
       "28"
      ]
     },
     "execution_count": 114,
     "metadata": {},
     "output_type": "execute_result"
    }
   ],
   "source": [
    "durations[0]['duration']"
   ]
  },
  {
   "cell_type": "code",
   "execution_count": 117,
   "id": "13294621",
   "metadata": {},
   "outputs": [],
   "source": [
    "days = lambda i: i * 86400"
   ]
  },
  {
   "cell_type": "code",
   "execution_count": 123,
   "id": "bbfc8827",
   "metadata": {},
   "outputs": [],
   "source": [
    "w28 = (Window.partitionBy(F.col(\"sku\")).orderBy(F.col(\"date\").cast('long')).rangeBetween(-days(28), 0))"
   ]
  },
  {
   "cell_type": "code",
   "execution_count": 124,
   "id": "e0745d4e",
   "metadata": {},
   "outputs": [],
   "source": [
    "windows = []\n",
    "\n",
    "for duration in durations:\n",
    "    d = duration['duration']\n",
    "    w = (Window.partitionBy(F.col(\"sku\")).orderBy(F.col(\"date\").cast('long')).rangeBetween(-days(d), 0))\n",
    "    windows.append(w)"
   ]
  },
  {
   "cell_type": "code",
   "execution_count": 125,
   "id": "e0f141fb",
   "metadata": {},
   "outputs": [
    {
     "data": {
      "text/plain": [
       "17"
      ]
     },
     "execution_count": 125,
     "metadata": {},
     "output_type": "execute_result"
    }
   ],
   "source": [
    "len(windows)"
   ]
  },
  {
   "cell_type": "code",
   "execution_count": 120,
   "id": "1f7b462d",
   "metadata": {},
   "outputs": [],
   "source": [
    "\n",
    "sku_by_day_stats_df = sku_by_day_stats_df.withColumn('sales_avg_28', F.avg(\"mean_selling_price\").over(w))"
   ]
  },
  {
   "cell_type": "code",
   "execution_count": 126,
   "id": "eca9d69f",
   "metadata": {},
   "outputs": [
    {
     "name": "stdout",
     "output_type": "stream",
     "text": [
      "['sku', 'date', 'mean_num_sales', 'mean_supplier_price', 'mean_selling_price', 'max_num_sales', 'max_supplier_price', 'max_selling_price', 'min_num_sales', 'min_supplier_price', 'min_selling_price', 'sales_avg_28']\n"
     ]
    }
   ],
   "source": [
    "print(sku_by_day_stats_df.columns)"
   ]
  },
  {
   "cell_type": "code",
   "execution_count": 129,
   "id": "70726aa7",
   "metadata": {},
   "outputs": [],
   "source": [
    "for i, w in enumerate(windows):\n",
    "    d = durations[i]['duration']\n",
    "    sku_by_day_stats_df = sku_by_day_stats_df.withColumn(f'sales_avg_{d}', F.avg(\"mean_selling_price\").over(w))\\\n",
    "                                             .withColumn(f'sales_max_{d}', F.avg(\"max_selling_price\").over(w))\\\n",
    "                                             .withColumn(f'sales_min_{d}', F.avg(\"min_selling_price\").over(w))\\\n",
    "                                             .withColumn(f'num_avg_{d}', F.avg(\"mean_num_sales\").over(w))\\\n",
    "                                             .withColumn(f'num_max_{d}', F.avg(\"max_num_sales\").over(w))\\\n",
    "                                             .withColumn(f'num_min_{d}', F.avg(\"min_num_sales\").over(w))\\\n",
    "                                             .withColumn(f'suppl_avg_{d}', F.avg(\"mean_supplier_price\").over(w))\\\n",
    "                                            .withColumn(f'suppl_max_{d}', F.avg(\"max_supplier_price\").over(w))\\\n",
    "                                            .withColumn(f'suppl_max_{d}', F.avg(\"min_supplier_price\").over(w))             "
   ]
  },
  {
   "cell_type": "code",
   "execution_count": 122,
   "id": "1f00f233",
   "metadata": {},
   "outputs": [
    {
     "name": "stdout",
     "output_type": "stream",
     "text": [
      "-RECORD 0-----------------------------------------------\n",
      " sku                 | 007e3a48d0881eb6131c0e30c7bb36eb \n",
      " date                | 2019-10-06                       \n",
      " mean_num_sales      | 1.8615                           \n",
      " mean_supplier_price | 166.41250000000002               \n",
      " mean_selling_price  | 286.505                          \n",
      " max_num_sales       | 2.272                            \n",
      " max_supplier_price  | 218.06                           \n",
      " max_selling_price   | 361.32                           \n",
      " min_num_sales       | 1.044                            \n",
      " min_supplier_price  | 100.79                           \n",
      " min_selling_price   | 179.2                            \n",
      " sales_avg_28        | 243.3021007526432                \n",
      "-RECORD 1-----------------------------------------------\n",
      " sku                 | 007e3a48d0881eb6131c0e30c7bb36eb \n",
      " date                | 2020-05-20                       \n",
      " mean_num_sales      | 2.048                            \n",
      " mean_supplier_price | 189.05                           \n",
      " mean_selling_price  | 367.4                            \n",
      " max_num_sales       | 2.048                            \n",
      " max_supplier_price  | 189.05                           \n",
      " max_selling_price   | 367.4                            \n",
      " min_num_sales       | 2.048                            \n",
      " min_supplier_price  | 189.05                           \n",
      " min_selling_price   | 367.4                            \n",
      " sales_avg_28        | 243.3021007526432                \n",
      "only showing top 2 rows\n",
      "\n"
     ]
    }
   ],
   "source": [
    "sku_by_day_stats_df.show(2, vertical=True, truncate=False)"
   ]
  },
  {
   "cell_type": "markdown",
   "id": "856d1c83",
   "metadata": {},
   "source": [
    "## Pred-Period"
   ]
  },
  {
   "cell_type": "code",
   "execution_count": 82,
   "id": "a92d5b64",
   "metadata": {},
   "outputs": [],
   "source": [
    "class PredPeriodFeats: \n",
    "    \n",
    "    def __init__(self, off_to_skus_map):\n",
    "        self.off_to_skus_map = off_to_skus_map\n",
    "\n",
    "        \n",
    "    def pred_period_stats(self, offer_id, start_date_str, end_date_str):\n",
    "        skus = self.off_to_skus_map.get(offer_id, [])                                    \n",
    "        \n",
    "        delta = dt.datetime.strptime(end_date_str, '%Y-%m-%d') - dt.datetime.strptime(start_date_str, '%Y-%m-%d') + dt.timedelta(days=1)\n",
    "        pred_start_date\n",
    "        pred_end_date\n",
    "        \n",
    "        \n",
    "        \n",
    "\n",
    "        \n",
    "        \n",
    "        mean_sales = 0\n",
    "        \n",
    "        for sku in skus: \n",
    "            sales_for_sku_df = self.checks_ofr_df.filter((F.col('sku') == sku) & (F.col('date') <= pred_end_date)\n",
    "                                                         & (F.col('date') >= pred_start_date)\n",
    "                                                        ).select('num_sales', 'supplier_price', 'selling_price')\n",
    "            \n",
    "            stats = sales_for_sku_df.select(*[F.mean(c).alias('mean_' + c) for c in sales_for_sku_df.columns],\n",
    "                                              *[F.max(c).alias('max_' + c) for c in sales_for_sku_df.columns],\n",
    "                                             *[F.min(c).alias('min_' + c) for c in sales_for_sku_df.columns]).collect()\n",
    "            \n",
    "            mean_nums += stats[0]['mean_num_sales']\n",
    "            max_nums += stats[0]['max_num_sales']\n",
    "            min_nums += stats[0]['min_num_sales'] \n",
    "\n",
    "            mean_suppl += stats[0]['mean_supplier_price']\n",
    "            max_suppl += stats[0]['max_supplier_price']\n",
    "            min_suppl += stats[0]['min_supplier_price']\n",
    "\n",
    "            mean_sales += stats[0]['mean_selling_price']\n",
    "            max_sales += stats[0]['max_selling_price']\n",
    "            min_sales += stats[0]['min_selling_price']\n",
    "            \n",
    "        return (mean_nums/len(skus), max_nums/len(skus), min_suppl/len(skus),\n",
    "                mean_suppl/len(skus), max_suppl/len(skus), min_suppl/len(skus), \n",
    "                mean_sales/len(skus), max_sales/len(skus), min_sales/len(skus))\n",
    " "
   ]
  },
  {
   "cell_type": "code",
   "execution_count": 83,
   "id": "1f075bb3",
   "metadata": {},
   "outputs": [],
   "source": [
    "pred_period_stats_schema = StructType([\n",
    "    StructField(\"avg_mean_num_pred\" ,FloatType(), False),\n",
    "    StructField(\"avg_max_num_pred\" ,FloatType(), False),\n",
    "    StructField(\"avg_min_num_pred\" ,FloatType(), False),\n",
    "    StructField(\"avg_mean_suppl_pred\" ,FloatType(), False),\n",
    "    StructField(\"avg_max_suppl_pred\" ,FloatType(), False),\n",
    "    StructField(\"avg_min_suppl_pred\" ,FloatType(), False),\n",
    "    StructField(\"avg_mean_sales_pred\" ,FloatType(), False),\n",
    "    StructField(\"avg_max_sales_pred\" ,FloatType(), False),\n",
    "    StructField(\"avg_min_sales_pred\" ,FloatType(), False)\n",
    "])"
   ]
  },
  {
   "cell_type": "code",
   "execution_count": 84,
   "id": "874b331e",
   "metadata": {},
   "outputs": [],
   "source": [
    "pred_period_stats_udf = udf(PredPeriodFeats(off_to_skus_map, checks_ofr_df).pred_period_stats , pred_period_stats_schema)"
   ]
  },
  {
   "cell_type": "code",
   "execution_count": 85,
   "id": "7e9c5e97",
   "metadata": {},
   "outputs": [
    {
     "data": {
      "text/plain": [
       "(2616, 889)"
      ]
     },
     "execution_count": 85,
     "metadata": {},
     "output_type": "execute_result"
    }
   ],
   "source": [
    "len(offers_df_agg.columns), offers_df_agg.cache().count()"
   ]
  },
  {
   "cell_type": "code",
   "execution_count": 86,
   "id": "cf1646f1",
   "metadata": {},
   "outputs": [
    {
     "name": "stderr",
     "output_type": "stream",
     "text": [
      "Traceback (most recent call last):\n",
      "  File \"/dsvm/tools/spark/current/python/pyspark/serializers.py\", line 437, in dumps\n",
      "    return cloudpickle.dumps(obj, pickle_protocol)\n",
      "  File \"/dsvm/tools/spark/current/python/pyspark/cloudpickle/cloudpickle_fast.py\", line 72, in dumps\n",
      "    cp.dump(obj)\n",
      "  File \"/dsvm/tools/spark/current/python/pyspark/cloudpickle/cloudpickle_fast.py\", line 540, in dump\n",
      "    return Pickler.dump(self, obj)\n",
      "TypeError: cannot pickle '_thread.RLock' object\n"
     ]
    },
    {
     "ename": "PicklingError",
     "evalue": "Could not serialize object: TypeError: cannot pickle '_thread.RLock' object",
     "output_type": "error",
     "traceback": [
      "\u001b[0;31m---------------------------------------------------------------------------\u001b[0m",
      "\u001b[0;31mTypeError\u001b[0m                                 Traceback (most recent call last)",
      "\u001b[0;32m/dsvm/tools/spark/current/python/pyspark/serializers.py\u001b[0m in \u001b[0;36mdumps\u001b[0;34m(self, obj)\u001b[0m\n\u001b[1;32m    436\u001b[0m         \u001b[0;32mtry\u001b[0m\u001b[0;34m:\u001b[0m\u001b[0;34m\u001b[0m\u001b[0;34m\u001b[0m\u001b[0m\n\u001b[0;32m--> 437\u001b[0;31m             \u001b[0;32mreturn\u001b[0m \u001b[0mcloudpickle\u001b[0m\u001b[0;34m.\u001b[0m\u001b[0mdumps\u001b[0m\u001b[0;34m(\u001b[0m\u001b[0mobj\u001b[0m\u001b[0;34m,\u001b[0m \u001b[0mpickle_protocol\u001b[0m\u001b[0;34m)\u001b[0m\u001b[0;34m\u001b[0m\u001b[0;34m\u001b[0m\u001b[0m\n\u001b[0m\u001b[1;32m    438\u001b[0m         \u001b[0;32mexcept\u001b[0m \u001b[0mpickle\u001b[0m\u001b[0;34m.\u001b[0m\u001b[0mPickleError\u001b[0m\u001b[0;34m:\u001b[0m\u001b[0;34m\u001b[0m\u001b[0;34m\u001b[0m\u001b[0m\n",
      "\u001b[0;32m/dsvm/tools/spark/current/python/pyspark/cloudpickle/cloudpickle_fast.py\u001b[0m in \u001b[0;36mdumps\u001b[0;34m(obj, protocol, buffer_callback)\u001b[0m\n\u001b[1;32m     71\u001b[0m             )\n\u001b[0;32m---> 72\u001b[0;31m             \u001b[0mcp\u001b[0m\u001b[0;34m.\u001b[0m\u001b[0mdump\u001b[0m\u001b[0;34m(\u001b[0m\u001b[0mobj\u001b[0m\u001b[0;34m)\u001b[0m\u001b[0;34m\u001b[0m\u001b[0;34m\u001b[0m\u001b[0m\n\u001b[0m\u001b[1;32m     73\u001b[0m             \u001b[0;32mreturn\u001b[0m \u001b[0mfile\u001b[0m\u001b[0;34m.\u001b[0m\u001b[0mgetvalue\u001b[0m\u001b[0;34m(\u001b[0m\u001b[0;34m)\u001b[0m\u001b[0;34m\u001b[0m\u001b[0;34m\u001b[0m\u001b[0m\n",
      "\u001b[0;32m/dsvm/tools/spark/current/python/pyspark/cloudpickle/cloudpickle_fast.py\u001b[0m in \u001b[0;36mdump\u001b[0;34m(self, obj)\u001b[0m\n\u001b[1;32m    539\u001b[0m         \u001b[0;32mtry\u001b[0m\u001b[0;34m:\u001b[0m\u001b[0;34m\u001b[0m\u001b[0;34m\u001b[0m\u001b[0m\n\u001b[0;32m--> 540\u001b[0;31m             \u001b[0;32mreturn\u001b[0m \u001b[0mPickler\u001b[0m\u001b[0;34m.\u001b[0m\u001b[0mdump\u001b[0m\u001b[0;34m(\u001b[0m\u001b[0mself\u001b[0m\u001b[0;34m,\u001b[0m \u001b[0mobj\u001b[0m\u001b[0;34m)\u001b[0m\u001b[0;34m\u001b[0m\u001b[0;34m\u001b[0m\u001b[0m\n\u001b[0m\u001b[1;32m    541\u001b[0m         \u001b[0;32mexcept\u001b[0m \u001b[0mRuntimeError\u001b[0m \u001b[0;32mas\u001b[0m \u001b[0me\u001b[0m\u001b[0;34m:\u001b[0m\u001b[0;34m\u001b[0m\u001b[0;34m\u001b[0m\u001b[0m\n",
      "\u001b[0;31mTypeError\u001b[0m: cannot pickle '_thread.RLock' object",
      "\nDuring handling of the above exception, another exception occurred:\n",
      "\u001b[0;31mPicklingError\u001b[0m                             Traceback (most recent call last)",
      "\u001b[0;32m<ipython-input-86-8c16f5c564e5>\u001b[0m in \u001b[0;36m<module>\u001b[0;34m\u001b[0m\n\u001b[1;32m      1\u001b[0m offers_df_agg = offers_df_agg.withColumn('pred_stats', \n\u001b[0;32m----> 2\u001b[0;31m                                          pred_period_stats_udf(F.col('Offer_ID'), \n\u001b[0m\u001b[1;32m      3\u001b[0m                                                                F.col('pred_start_date'), F.col('pred_end_date')))\n",
      "\u001b[0;32m/dsvm/tools/spark/current/python/pyspark/sql/udf.py\u001b[0m in \u001b[0;36mwrapper\u001b[0;34m(*args)\u001b[0m\n\u001b[1;32m    197\u001b[0m         \u001b[0;34m@\u001b[0m\u001b[0mfunctools\u001b[0m\u001b[0;34m.\u001b[0m\u001b[0mwraps\u001b[0m\u001b[0;34m(\u001b[0m\u001b[0mself\u001b[0m\u001b[0;34m.\u001b[0m\u001b[0mfunc\u001b[0m\u001b[0;34m,\u001b[0m \u001b[0massigned\u001b[0m\u001b[0;34m=\u001b[0m\u001b[0massignments\u001b[0m\u001b[0;34m)\u001b[0m\u001b[0;34m\u001b[0m\u001b[0;34m\u001b[0m\u001b[0m\n\u001b[1;32m    198\u001b[0m         \u001b[0;32mdef\u001b[0m \u001b[0mwrapper\u001b[0m\u001b[0;34m(\u001b[0m\u001b[0;34m*\u001b[0m\u001b[0margs\u001b[0m\u001b[0;34m)\u001b[0m\u001b[0;34m:\u001b[0m\u001b[0;34m\u001b[0m\u001b[0;34m\u001b[0m\u001b[0m\n\u001b[0;32m--> 199\u001b[0;31m             \u001b[0;32mreturn\u001b[0m \u001b[0mself\u001b[0m\u001b[0;34m(\u001b[0m\u001b[0;34m*\u001b[0m\u001b[0margs\u001b[0m\u001b[0;34m)\u001b[0m\u001b[0;34m\u001b[0m\u001b[0;34m\u001b[0m\u001b[0m\n\u001b[0m\u001b[1;32m    200\u001b[0m \u001b[0;34m\u001b[0m\u001b[0m\n\u001b[1;32m    201\u001b[0m         \u001b[0mwrapper\u001b[0m\u001b[0;34m.\u001b[0m\u001b[0m__name__\u001b[0m \u001b[0;34m=\u001b[0m \u001b[0mself\u001b[0m\u001b[0;34m.\u001b[0m\u001b[0m_name\u001b[0m\u001b[0;34m\u001b[0m\u001b[0;34m\u001b[0m\u001b[0m\n",
      "\u001b[0;32m/dsvm/tools/spark/current/python/pyspark/sql/udf.py\u001b[0m in \u001b[0;36m__call__\u001b[0;34m(self, *cols)\u001b[0m\n\u001b[1;32m    175\u001b[0m \u001b[0;34m\u001b[0m\u001b[0m\n\u001b[1;32m    176\u001b[0m     \u001b[0;32mdef\u001b[0m \u001b[0m__call__\u001b[0m\u001b[0;34m(\u001b[0m\u001b[0mself\u001b[0m\u001b[0;34m,\u001b[0m \u001b[0;34m*\u001b[0m\u001b[0mcols\u001b[0m\u001b[0;34m)\u001b[0m\u001b[0;34m:\u001b[0m\u001b[0;34m\u001b[0m\u001b[0;34m\u001b[0m\u001b[0m\n\u001b[0;32m--> 177\u001b[0;31m         \u001b[0mjudf\u001b[0m \u001b[0;34m=\u001b[0m \u001b[0mself\u001b[0m\u001b[0;34m.\u001b[0m\u001b[0m_judf\u001b[0m\u001b[0;34m\u001b[0m\u001b[0;34m\u001b[0m\u001b[0m\n\u001b[0m\u001b[1;32m    178\u001b[0m         \u001b[0msc\u001b[0m \u001b[0;34m=\u001b[0m \u001b[0mSparkContext\u001b[0m\u001b[0;34m.\u001b[0m\u001b[0m_active_spark_context\u001b[0m\u001b[0;34m\u001b[0m\u001b[0;34m\u001b[0m\u001b[0m\n\u001b[1;32m    179\u001b[0m         \u001b[0;32mreturn\u001b[0m \u001b[0mColumn\u001b[0m\u001b[0;34m(\u001b[0m\u001b[0mjudf\u001b[0m\u001b[0;34m.\u001b[0m\u001b[0mapply\u001b[0m\u001b[0;34m(\u001b[0m\u001b[0m_to_seq\u001b[0m\u001b[0;34m(\u001b[0m\u001b[0msc\u001b[0m\u001b[0;34m,\u001b[0m \u001b[0mcols\u001b[0m\u001b[0;34m,\u001b[0m \u001b[0m_to_java_column\u001b[0m\u001b[0;34m)\u001b[0m\u001b[0;34m)\u001b[0m\u001b[0;34m)\u001b[0m\u001b[0;34m\u001b[0m\u001b[0;34m\u001b[0m\u001b[0m\n",
      "\u001b[0;32m/dsvm/tools/spark/current/python/pyspark/sql/udf.py\u001b[0m in \u001b[0;36m_judf\u001b[0;34m(self)\u001b[0m\n\u001b[1;32m    159\u001b[0m         \u001b[0;31m# and should have a minimal performance impact.\u001b[0m\u001b[0;34m\u001b[0m\u001b[0;34m\u001b[0m\u001b[0;34m\u001b[0m\u001b[0m\n\u001b[1;32m    160\u001b[0m         \u001b[0;32mif\u001b[0m \u001b[0mself\u001b[0m\u001b[0;34m.\u001b[0m\u001b[0m_judf_placeholder\u001b[0m \u001b[0;32mis\u001b[0m \u001b[0;32mNone\u001b[0m\u001b[0;34m:\u001b[0m\u001b[0;34m\u001b[0m\u001b[0;34m\u001b[0m\u001b[0m\n\u001b[0;32m--> 161\u001b[0;31m             \u001b[0mself\u001b[0m\u001b[0;34m.\u001b[0m\u001b[0m_judf_placeholder\u001b[0m \u001b[0;34m=\u001b[0m \u001b[0mself\u001b[0m\u001b[0;34m.\u001b[0m\u001b[0m_create_judf\u001b[0m\u001b[0;34m(\u001b[0m\u001b[0;34m)\u001b[0m\u001b[0;34m\u001b[0m\u001b[0;34m\u001b[0m\u001b[0m\n\u001b[0m\u001b[1;32m    162\u001b[0m         \u001b[0;32mreturn\u001b[0m \u001b[0mself\u001b[0m\u001b[0;34m.\u001b[0m\u001b[0m_judf_placeholder\u001b[0m\u001b[0;34m\u001b[0m\u001b[0;34m\u001b[0m\u001b[0m\n\u001b[1;32m    163\u001b[0m \u001b[0;34m\u001b[0m\u001b[0m\n",
      "\u001b[0;32m/dsvm/tools/spark/current/python/pyspark/sql/udf.py\u001b[0m in \u001b[0;36m_create_judf\u001b[0;34m(self)\u001b[0m\n\u001b[1;32m    168\u001b[0m         \u001b[0msc\u001b[0m \u001b[0;34m=\u001b[0m \u001b[0mspark\u001b[0m\u001b[0;34m.\u001b[0m\u001b[0msparkContext\u001b[0m\u001b[0;34m\u001b[0m\u001b[0;34m\u001b[0m\u001b[0m\n\u001b[1;32m    169\u001b[0m \u001b[0;34m\u001b[0m\u001b[0m\n\u001b[0;32m--> 170\u001b[0;31m         \u001b[0mwrapped_func\u001b[0m \u001b[0;34m=\u001b[0m \u001b[0m_wrap_function\u001b[0m\u001b[0;34m(\u001b[0m\u001b[0msc\u001b[0m\u001b[0;34m,\u001b[0m \u001b[0mself\u001b[0m\u001b[0;34m.\u001b[0m\u001b[0mfunc\u001b[0m\u001b[0;34m,\u001b[0m \u001b[0mself\u001b[0m\u001b[0;34m.\u001b[0m\u001b[0mreturnType\u001b[0m\u001b[0;34m)\u001b[0m\u001b[0;34m\u001b[0m\u001b[0;34m\u001b[0m\u001b[0m\n\u001b[0m\u001b[1;32m    171\u001b[0m         \u001b[0mjdt\u001b[0m \u001b[0;34m=\u001b[0m \u001b[0mspark\u001b[0m\u001b[0;34m.\u001b[0m\u001b[0m_jsparkSession\u001b[0m\u001b[0;34m.\u001b[0m\u001b[0mparseDataType\u001b[0m\u001b[0;34m(\u001b[0m\u001b[0mself\u001b[0m\u001b[0;34m.\u001b[0m\u001b[0mreturnType\u001b[0m\u001b[0;34m.\u001b[0m\u001b[0mjson\u001b[0m\u001b[0;34m(\u001b[0m\u001b[0;34m)\u001b[0m\u001b[0;34m)\u001b[0m\u001b[0;34m\u001b[0m\u001b[0;34m\u001b[0m\u001b[0m\n\u001b[1;32m    172\u001b[0m         judf = sc._jvm.org.apache.spark.sql.execution.python.UserDefinedPythonFunction(\n",
      "\u001b[0;32m/dsvm/tools/spark/current/python/pyspark/sql/udf.py\u001b[0m in \u001b[0;36m_wrap_function\u001b[0;34m(sc, func, returnType)\u001b[0m\n\u001b[1;32m     32\u001b[0m \u001b[0;32mdef\u001b[0m \u001b[0m_wrap_function\u001b[0m\u001b[0;34m(\u001b[0m\u001b[0msc\u001b[0m\u001b[0;34m,\u001b[0m \u001b[0mfunc\u001b[0m\u001b[0;34m,\u001b[0m \u001b[0mreturnType\u001b[0m\u001b[0;34m)\u001b[0m\u001b[0;34m:\u001b[0m\u001b[0;34m\u001b[0m\u001b[0;34m\u001b[0m\u001b[0m\n\u001b[1;32m     33\u001b[0m     \u001b[0mcommand\u001b[0m \u001b[0;34m=\u001b[0m \u001b[0;34m(\u001b[0m\u001b[0mfunc\u001b[0m\u001b[0;34m,\u001b[0m \u001b[0mreturnType\u001b[0m\u001b[0;34m)\u001b[0m\u001b[0;34m\u001b[0m\u001b[0;34m\u001b[0m\u001b[0m\n\u001b[0;32m---> 34\u001b[0;31m     \u001b[0mpickled_command\u001b[0m\u001b[0;34m,\u001b[0m \u001b[0mbroadcast_vars\u001b[0m\u001b[0;34m,\u001b[0m \u001b[0menv\u001b[0m\u001b[0;34m,\u001b[0m \u001b[0mincludes\u001b[0m \u001b[0;34m=\u001b[0m \u001b[0m_prepare_for_python_RDD\u001b[0m\u001b[0;34m(\u001b[0m\u001b[0msc\u001b[0m\u001b[0;34m,\u001b[0m \u001b[0mcommand\u001b[0m\u001b[0;34m)\u001b[0m\u001b[0;34m\u001b[0m\u001b[0;34m\u001b[0m\u001b[0m\n\u001b[0m\u001b[1;32m     35\u001b[0m     return sc._jvm.PythonFunction(bytearray(pickled_command), env, includes, sc.pythonExec,\n\u001b[1;32m     36\u001b[0m                                   sc.pythonVer, broadcast_vars, sc._javaAccumulator)\n",
      "\u001b[0;32m/dsvm/tools/spark/current/python/pyspark/rdd.py\u001b[0m in \u001b[0;36m_prepare_for_python_RDD\u001b[0;34m(sc, command)\u001b[0m\n\u001b[1;32m   2812\u001b[0m     \u001b[0;31m# the serialized command will be compressed by broadcast\u001b[0m\u001b[0;34m\u001b[0m\u001b[0;34m\u001b[0m\u001b[0;34m\u001b[0m\u001b[0m\n\u001b[1;32m   2813\u001b[0m     \u001b[0mser\u001b[0m \u001b[0;34m=\u001b[0m \u001b[0mCloudPickleSerializer\u001b[0m\u001b[0;34m(\u001b[0m\u001b[0;34m)\u001b[0m\u001b[0;34m\u001b[0m\u001b[0;34m\u001b[0m\u001b[0m\n\u001b[0;32m-> 2814\u001b[0;31m     \u001b[0mpickled_command\u001b[0m \u001b[0;34m=\u001b[0m \u001b[0mser\u001b[0m\u001b[0;34m.\u001b[0m\u001b[0mdumps\u001b[0m\u001b[0;34m(\u001b[0m\u001b[0mcommand\u001b[0m\u001b[0;34m)\u001b[0m\u001b[0;34m\u001b[0m\u001b[0;34m\u001b[0m\u001b[0m\n\u001b[0m\u001b[1;32m   2815\u001b[0m     \u001b[0;32mif\u001b[0m \u001b[0mlen\u001b[0m\u001b[0;34m(\u001b[0m\u001b[0mpickled_command\u001b[0m\u001b[0;34m)\u001b[0m \u001b[0;34m>\u001b[0m \u001b[0msc\u001b[0m\u001b[0;34m.\u001b[0m\u001b[0m_jvm\u001b[0m\u001b[0;34m.\u001b[0m\u001b[0mPythonUtils\u001b[0m\u001b[0;34m.\u001b[0m\u001b[0mgetBroadcastThreshold\u001b[0m\u001b[0;34m(\u001b[0m\u001b[0msc\u001b[0m\u001b[0;34m.\u001b[0m\u001b[0m_jsc\u001b[0m\u001b[0;34m)\u001b[0m\u001b[0;34m:\u001b[0m  \u001b[0;31m# Default 1M\u001b[0m\u001b[0;34m\u001b[0m\u001b[0;34m\u001b[0m\u001b[0m\n\u001b[1;32m   2816\u001b[0m         \u001b[0;31m# The broadcast will have same life cycle as created PythonRDD\u001b[0m\u001b[0;34m\u001b[0m\u001b[0;34m\u001b[0m\u001b[0;34m\u001b[0m\u001b[0m\n",
      "\u001b[0;32m/dsvm/tools/spark/current/python/pyspark/serializers.py\u001b[0m in \u001b[0;36mdumps\u001b[0;34m(self, obj)\u001b[0m\n\u001b[1;32m    445\u001b[0m                 \u001b[0mmsg\u001b[0m \u001b[0;34m=\u001b[0m \u001b[0;34m\"Could not serialize object: %s: %s\"\u001b[0m \u001b[0;34m%\u001b[0m \u001b[0;34m(\u001b[0m\u001b[0me\u001b[0m\u001b[0;34m.\u001b[0m\u001b[0m__class__\u001b[0m\u001b[0;34m.\u001b[0m\u001b[0m__name__\u001b[0m\u001b[0;34m,\u001b[0m \u001b[0memsg\u001b[0m\u001b[0;34m)\u001b[0m\u001b[0;34m\u001b[0m\u001b[0;34m\u001b[0m\u001b[0m\n\u001b[1;32m    446\u001b[0m             \u001b[0mprint_exec\u001b[0m\u001b[0;34m(\u001b[0m\u001b[0msys\u001b[0m\u001b[0;34m.\u001b[0m\u001b[0mstderr\u001b[0m\u001b[0;34m)\u001b[0m\u001b[0;34m\u001b[0m\u001b[0;34m\u001b[0m\u001b[0m\n\u001b[0;32m--> 447\u001b[0;31m             \u001b[0;32mraise\u001b[0m \u001b[0mpickle\u001b[0m\u001b[0;34m.\u001b[0m\u001b[0mPicklingError\u001b[0m\u001b[0;34m(\u001b[0m\u001b[0mmsg\u001b[0m\u001b[0;34m)\u001b[0m\u001b[0;34m\u001b[0m\u001b[0;34m\u001b[0m\u001b[0m\n\u001b[0m\u001b[1;32m    448\u001b[0m \u001b[0;34m\u001b[0m\u001b[0m\n\u001b[1;32m    449\u001b[0m \u001b[0;34m\u001b[0m\u001b[0m\n",
      "\u001b[0;31mPicklingError\u001b[0m: Could not serialize object: TypeError: cannot pickle '_thread.RLock' object"
     ]
    }
   ],
   "source": [
    "offers_df_agg = offers_df_agg.withColumn('pred_stats', \n",
    "                                         pred_period_stats_udf(F.col('Offer_ID'), \n",
    "                                                               F.col('pred_start_date'), F.col('pred_end_date')))"
   ]
  },
  {
   "cell_type": "code",
   "execution_count": null,
   "id": "600e6535",
   "metadata": {},
   "outputs": [],
   "source": []
  }
 ],
 "metadata": {
  "kernelspec": {
   "display_name": "Python 3.7 - Spark (local)",
   "language": "python",
   "name": "spark-3-python"
  },
  "language_info": {
   "codemirror_mode": {
    "name": "ipython",
    "version": 3
   },
   "file_extension": ".py",
   "mimetype": "text/x-python",
   "name": "python",
   "nbconvert_exporter": "python",
   "pygments_lexer": "ipython3",
   "version": "3.8.8"
  }
 },
 "nbformat": 4,
 "nbformat_minor": 5
}
